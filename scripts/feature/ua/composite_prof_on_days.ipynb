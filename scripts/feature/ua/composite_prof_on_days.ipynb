{
 "metadata": {
  "name": ""
 },
 "nbformat": 3,
 "nbformat_minor": 0,
 "worksheets": [
  {
   "cells": [
    {
     "cell_type": "code",
     "collapsed": false,
     "input": [
      "import psycopg2\n",
      "ASOS = psycopg2.connect(database='asos', host='mesonet.agron.iastate.edu', user='nobody')\n",
      "cursor = ASOS.cursor()\n",
      "\n",
      "cursor.execute(\"\"\"\n",
      " select distinct date(valid) from alldata where station = 'OMA' \n",
      " and metar ~* 'ZR' and extract(hour from valid + '10 minutes'::interval) between 16 and 21 \n",
      " and tmpf < 36 and tmpf > 15 ORDER by date ASC\n",
      "\"\"\")\n",
      "dates = []\n",
      "for row in cursor:\n",
      "    dates.append( row[0] )\n",
      "    \n",
      "ASOS.close()"
     ],
     "language": "python",
     "metadata": {},
     "outputs": [],
     "prompt_number": 1
    },
    {
     "cell_type": "code",
     "collapsed": false,
     "input": [
      "import datetime\n",
      "dates.append(datetime.date(2013,12,19))"
     ],
     "language": "python",
     "metadata": {},
     "outputs": [],
     "prompt_number": 3
    },
    {
     "cell_type": "code",
     "collapsed": false,
     "input": [
      "import datetime\n",
      "import numpy as np\n",
      "from pyiem.datatypes import temperature\n",
      "import pyiem.meteorology as meteor\n",
      "dbconn = psycopg2.connect(database='postgis', host='iemdb', user='nobody')\n",
      "cursor = dbconn.cursor()\n",
      "\n",
      "hghts = []\n",
      "tmpc = []\n",
      "dwpc = []\n",
      "relh = []\n",
      "ar_hght = []\n",
      "ar_relh = []\n",
      "ar_tmpc = []\n",
      "useddates = []\n",
      "for date in dates:\n",
      "    cursor.execute(\"\"\"\n",
      "    select height, tmpc, dwpc from raob_profile_%s p JOIN raob_flights f on \n",
      "     (p.fid = f.fid) where f.station in ('KOAX','KOMA','KOVN')  and \n",
      "     p.height < 7000 and tmpc >= -100 and dwpc >= -100 and\n",
      "     valid = '%s 00:00+00'::timestamptz  ORDER by height ASC\n",
      "    \"\"\" % (date.year, (date + datetime.timedelta(days=1)).strftime(\"%Y-%m-%d\")))\n",
      "    print date, cursor.rowcount\n",
      "    h = []\n",
      "    t = []\n",
      "    r = []\n",
      "    for row in cursor:\n",
      "        h.append( row[0] )\n",
      "        t.append( row[1] )\n",
      "        hghts.append( row[0] )\n",
      "        tmpc.append( row[1] )\n",
      "        dwpc.append( row[2] )\n",
      "        rh = (meteor.relh( temperature(row[1], 'C'), temperature(row[2], 'C'))).value('%')\n",
      "        relh.append(rh)\n",
      "        r.append(rh)\n",
      "    if len(t) == 0:\n",
      "        continue\n",
      "    ar_relh.append(np.array(r))\n",
      "    ar_hght.append(np.array(h))\n",
      "    ar_tmpc.append(np.array(t))\n",
      "    useddates.append(date)\n",
      "        "
     ],
     "language": "python",
     "metadata": {},
     "outputs": [
      {
       "output_type": "stream",
       "stream": "stdout",
       "text": [
        "1949-02-20 0\n",
        "1951-02-15"
       ]
      },
      {
       "output_type": "stream",
       "stream": "stdout",
       "text": [
        " 0\n",
        "1955-02-18"
       ]
      },
      {
       "output_type": "stream",
       "stream": "stdout",
       "text": [
        " 0\n",
        "1955-03-20"
       ]
      },
      {
       "output_type": "stream",
       "stream": "stdout",
       "text": [
        " 0\n",
        "1956-04-28"
       ]
      },
      {
       "output_type": "stream",
       "stream": "stdout",
       "text": [
        " 0\n",
        "1956-11-22"
       ]
      },
      {
       "output_type": "stream",
       "stream": "stdout",
       "text": [
        " 0\n",
        "1958-02-28"
       ]
      },
      {
       "output_type": "stream",
       "stream": "stdout",
       "text": [
        " 0\n",
        "1959-02-13"
       ]
      },
      {
       "output_type": "stream",
       "stream": "stdout",
       "text": [
        " 0\n",
        "1959-02-22"
       ]
      },
      {
       "output_type": "stream",
       "stream": "stdout",
       "text": [
        " 0\n",
        "1959-12-27"
       ]
      },
      {
       "output_type": "stream",
       "stream": "stdout",
       "text": [
        " 0\n",
        "1960-02-04"
       ]
      },
      {
       "output_type": "stream",
       "stream": "stdout",
       "text": [
        " 15\n",
        "1961-02-17"
       ]
      },
      {
       "output_type": "stream",
       "stream": "stdout",
       "text": [
        " 18\n",
        "1961-03-05"
       ]
      },
      {
       "output_type": "stream",
       "stream": "stdout",
       "text": [
        " 16\n",
        "1961-11-02"
       ]
      },
      {
       "output_type": "stream",
       "stream": "stdout",
       "text": [
        " 18\n",
        "1962-02-08"
       ]
      },
      {
       "output_type": "stream",
       "stream": "stdout",
       "text": [
        " 15\n",
        "1968-12-18"
       ]
      },
      {
       "output_type": "stream",
       "stream": "stdout",
       "text": [
        " 16\n",
        "1973-01-21"
       ]
      },
      {
       "output_type": "stream",
       "stream": "stdout",
       "text": [
        " 18\n",
        "1975-01-31"
       ]
      },
      {
       "output_type": "stream",
       "stream": "stdout",
       "text": [
        " 27\n",
        "1975-03-06"
       ]
      },
      {
       "output_type": "stream",
       "stream": "stdout",
       "text": [
        " 23\n",
        "1975-03-26"
       ]
      },
      {
       "output_type": "stream",
       "stream": "stdout",
       "text": [
        " 20\n",
        "1975-11-29"
       ]
      },
      {
       "output_type": "stream",
       "stream": "stdout",
       "text": [
        " 25\n",
        "1975-12-12"
       ]
      },
      {
       "output_type": "stream",
       "stream": "stdout",
       "text": [
        " 18\n",
        "1979-01-18"
       ]
      },
      {
       "output_type": "stream",
       "stream": "stdout",
       "text": [
        " 25\n",
        "1980-12-06"
       ]
      },
      {
       "output_type": "stream",
       "stream": "stdout",
       "text": [
        " 22\n",
        "1980-12-07"
       ]
      },
      {
       "output_type": "stream",
       "stream": "stdout",
       "text": [
        " 21\n",
        "1982-01-22"
       ]
      },
      {
       "output_type": "stream",
       "stream": "stdout",
       "text": [
        " 24\n",
        "1982-03-02"
       ]
      },
      {
       "output_type": "stream",
       "stream": "stdout",
       "text": [
        " 20\n",
        "1982-11-27"
       ]
      },
      {
       "output_type": "stream",
       "stream": "stdout",
       "text": [
        " 22\n",
        "1982-12-27"
       ]
      },
      {
       "output_type": "stream",
       "stream": "stdout",
       "text": [
        " 23\n",
        "1983-11-12"
       ]
      },
      {
       "output_type": "stream",
       "stream": "stdout",
       "text": [
        " 28\n",
        "1983-11-26"
       ]
      },
      {
       "output_type": "stream",
       "stream": "stdout",
       "text": [
        " 19\n",
        "1984-03-15"
       ]
      },
      {
       "output_type": "stream",
       "stream": "stdout",
       "text": [
        " 29\n",
        "1988-03-08"
       ]
      },
      {
       "output_type": "stream",
       "stream": "stdout",
       "text": [
        " 21\n",
        "1989-01-25"
       ]
      },
      {
       "output_type": "stream",
       "stream": "stdout",
       "text": [
        " 23\n",
        "1989-03-03"
       ]
      },
      {
       "output_type": "stream",
       "stream": "stdout",
       "text": [
        " 24\n",
        "1989-03-14"
       ]
      },
      {
       "output_type": "stream",
       "stream": "stdout",
       "text": [
        " 23\n",
        "1989-12-26"
       ]
      },
      {
       "output_type": "stream",
       "stream": "stdout",
       "text": [
        " 21\n",
        "1990-10-17"
       ]
      },
      {
       "output_type": "stream",
       "stream": "stdout",
       "text": [
        " 19\n",
        "1990-11-27"
       ]
      },
      {
       "output_type": "stream",
       "stream": "stdout",
       "text": [
        " 34\n",
        "1990-12-28"
       ]
      },
      {
       "output_type": "stream",
       "stream": "stdout",
       "text": [
        " 24\n",
        "1991-03-12"
       ]
      },
      {
       "output_type": "stream",
       "stream": "stdout",
       "text": [
        " 28\n",
        "1991-10-31"
       ]
      },
      {
       "output_type": "stream",
       "stream": "stdout",
       "text": [
        " 24\n",
        "1991-11-29"
       ]
      },
      {
       "output_type": "stream",
       "stream": "stdout",
       "text": [
        " 24\n",
        "1991-12-19"
       ]
      },
      {
       "output_type": "stream",
       "stream": "stdout",
       "text": [
        " 33\n",
        "1992-02-14"
       ]
      },
      {
       "output_type": "stream",
       "stream": "stdout",
       "text": [
        " 30\n",
        "1992-12-14"
       ]
      },
      {
       "output_type": "stream",
       "stream": "stdout",
       "text": [
        " 40\n",
        "1992-12-28"
       ]
      },
      {
       "output_type": "stream",
       "stream": "stdout",
       "text": [
        " 33\n",
        "1993-02-08"
       ]
      },
      {
       "output_type": "stream",
       "stream": "stdout",
       "text": [
        " 33\n",
        "1993-02-11"
       ]
      },
      {
       "output_type": "stream",
       "stream": "stdout",
       "text": [
        " 27\n",
        "1993-03-03"
       ]
      },
      {
       "output_type": "stream",
       "stream": "stdout",
       "text": [
        " 35\n",
        "1994-01-26"
       ]
      },
      {
       "output_type": "stream",
       "stream": "stdout",
       "text": [
        " 41\n",
        "1996-01-17"
       ]
      },
      {
       "output_type": "stream",
       "stream": "stdout",
       "text": [
        " 0\n",
        "1996-03-24"
       ]
      },
      {
       "output_type": "stream",
       "stream": "stdout",
       "text": [
        " 39\n",
        "1996-11-14"
       ]
      },
      {
       "output_type": "stream",
       "stream": "stdout",
       "text": [
        " 41\n",
        "1997-12-21"
       ]
      },
      {
       "output_type": "stream",
       "stream": "stdout",
       "text": [
        " 24\n",
        "1998-01-04"
       ]
      },
      {
       "output_type": "stream",
       "stream": "stdout",
       "text": [
        " 35\n",
        "1999-01-22"
       ]
      },
      {
       "output_type": "stream",
       "stream": "stdout",
       "text": [
        " 22\n",
        "2001-02-23"
       ]
      },
      {
       "output_type": "stream",
       "stream": "stdout",
       "text": [
        " 30\n",
        "2001-03-11"
       ]
      },
      {
       "output_type": "stream",
       "stream": "stdout",
       "text": [
        " 19\n",
        "2002-03-08"
       ]
      },
      {
       "output_type": "stream",
       "stream": "stdout",
       "text": [
        " 15\n",
        "2005-03-18"
       ]
      },
      {
       "output_type": "stream",
       "stream": "stdout",
       "text": [
        " 12\n",
        "2007-12-10"
       ]
      },
      {
       "output_type": "stream",
       "stream": "stdout",
       "text": [
        " 39\n",
        "2008-11-10"
       ]
      },
      {
       "output_type": "stream",
       "stream": "stdout",
       "text": [
        " 16\n",
        "2008-12-18"
       ]
      },
      {
       "output_type": "stream",
       "stream": "stdout",
       "text": [
        " 41\n",
        "2009-01-09"
       ]
      },
      {
       "output_type": "stream",
       "stream": "stdout",
       "text": [
        " 18\n",
        "2010-12-15"
       ]
      },
      {
       "output_type": "stream",
       "stream": "stdout",
       "text": [
        " 25\n",
        "2013-12-19"
       ]
      },
      {
       "output_type": "stream",
       "stream": "stdout",
       "text": [
        " 29\n"
       ]
      }
     ],
     "prompt_number": 4
    },
    {
     "cell_type": "code",
     "collapsed": false,
     "input": [
      "import matplotlib.pyplot as plt\n",
      "\n",
      "(fig, ax) = plt.subplots(1,2, sharey=True)\n",
      "\n",
      "#ax[0].scatter(tmpc, hghts, color='r')\n",
      "#ax[0].scatter(dwpc, hghts, color='g')\n",
      "ax[0].set_ylim(300,4000)\n",
      "ax[0].grid(True)\n",
      "ax[0].set_ylabel(\"Height Above Sea Level [m]\")\n",
      "ax[0].set_xlabel(\"Air Temperature $^\\circ$C\")\n",
      "\n",
      "ax[0].set_xlim(-20,10)\n",
      "\n",
      "#ax[1].scatter(relh, hghts)\n",
      "used = 0\n",
      "for (h,t,d) in zip(ar_hght,ar_tmpc, useddates):\n",
      "    maxt = np.max(t)\n",
      "    maxh = h[np.argmax(t)]\n",
      "    if maxt < -3 or maxh < 500:\n",
      "        print maxt, d\n",
      "        continue\n",
      "    if d.year == 2013:\n",
      "        ax[0].plot(t,h, lw=2.5, color='r')\n",
      "        ax[1].scatter(maxt, maxh, marker='s', color='r', s=40, edgecolor='k')        \n",
      "    else:\n",
      "        ax[0].plot(t,h, color='tan')\n",
      "        ax[1].scatter(maxt, maxh)\n",
      "    used += 1\n",
      "plt.suptitle(\"Omaha Temperature Soundings at 00 UTC (6 PM)\\n%s cases (1960-2013) with KOMA Airport ZR Reported 5-9 PM\" % (used,))\n",
      "ax[1].grid(True)\n",
      "ax[1].set_xlabel(\"Air Temperature $^\\circ$C\")\n",
      "ax[1].text(-1,3200,'Height of Warmest Temp')\n",
      "ax[1].text(-1,3000, '19 Dec 2013 6 PM in red', color='r')"
     ],
     "language": "python",
     "metadata": {},
     "outputs": [
      {
       "output_type": "stream",
       "stream": "stdout",
       "text": [
        "-5.4 1975-01-31\n",
        "-3.5 1982-01-22\n",
        "1.1 1983-11-12\n",
        "2.1 1988-03-08\n",
        "-1.1 1989-01-25\n",
        "-1.7 1989-03-14\n",
        "2.2 1990-10-17\n",
        "-7.0 1990-11-27\n",
        "2.8 1991-03-12\n",
        "-0.5"
       ]
      },
      {
       "output_type": "stream",
       "stream": "stdout",
       "text": [
        " 1999-01-22\n",
        "0.0 2005-03-18\n"
       ]
      },
      {
       "metadata": {},
       "output_type": "pyout",
       "prompt_number": 25,
       "text": [
        "<matplotlib.text.Text at 0x92a8690>"
       ]
      },
      {
       "metadata": {},
       "output_type": "display_data",
       "png": "[encoded data removed]",
       "text": [
        "<matplotlib.figure.Figure at 0x92a8610>"
       ]
      }
     ],
     "prompt_number": 25
    },
    {
     "cell_type": "code",
     "collapsed": false,
     "input": [
      "fig.savefig('test.ps')\n",
      "import iemplot\n",
      "iemplot.makefeature('test')"
     ],
     "language": "python",
     "metadata": {},
     "outputs": [],
     "prompt_number": 26
    },
    {
     "cell_type": "code",
     "collapsed": false,
     "input": [],
     "language": "python",
     "metadata": {},
     "outputs": []
    }
   ],
   "metadata": {}
  }
 ]
}