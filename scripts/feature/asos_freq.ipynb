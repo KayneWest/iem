{
 "metadata": {
  "name": "asos_freq"
 }, 
 "nbformat": 2, 
 "worksheets": [
  {
   "cells": [
    {
     "cell_type": "code", 
     "collapsed": false, 
     "input": [
      "import iemdb", 
      "COOP = iemdb.connect('asos', bypass=True)", 
      "ccursor = COOP.cursor()", 
      "ccursor2 = COOP.cursor()", 
      "import network", 
      "nt = network.Table(('IA_ASOS','MO_ASOS','IL_ASOS',", 
      "         'WI_ASOS','MN_ASOS', 'SD_ASOS', 'NE_ASOS', 'KS_ASOS', 'AWOS',", 
      "         'IN_ASOS','KY_ASOS','OH_ASOS','MI_ASOS'))", 
      "", 
      "", 
      "ccursor.execute(\"\"\"", 
      " SELECT distinct date(valid) from alldata where station = 'DSM' and tmpf >= 100", 
      " ORDER by date ASC", 
      "\"\"\")", 
      "stcnts = {}", 
      "sthits = {}", 
      "for row in ccursor:", 
      "    print row", 
      "    ccursor2.execute(\"\"\"", 
      "    SELECT station, max(tmpf) from t%s WHERE valid BETWEEN '%s 00:00' and", 
      "    '%s 23:59' and station in %s GROUP by station", 
      "    \"\"\" % (row[0].year, row[0], row[0], tuple(nt.sts.keys())))", 
      "    for row2 in ccursor2:", 
      "        station = row2[0]", 
      "        if not stcnts.has_key(station):", 
      "            stcnts[station] = 0", 
      "            sthits[station] = 0", 
      "        stcnts[station] += 1", 
      "        if row2[1] >= 100:", 
      "            sthits[station] += 1"
     ], 
     "language": "python", 
     "outputs": [
      {
       "output_type": "stream", 
       "stream": "stdout", 
       "text": [
        "(datetime.date(1933, 6, 5),)", 
        "(datetime.date(1933, 6, 6),)"
       ]
      }, 
      {
       "output_type": "stream", 
       "stream": "stdout", 
       "text": [
        "", 
        "(datetime.date(1933, 6, 10),)"
       ]
      }, 
      {
       "output_type": "stream", 
       "stream": "stdout", 
       "text": [
        "", 
        "(datetime.date(1933, 6, 20),)"
       ]
      }, 
      {
       "output_type": "stream", 
       "stream": "stdout", 
       "text": [
        "", 
        "(datetime.date(1933, 6, 26),)"
       ]
      }, 
      {
       "output_type": "stream", 
       "stream": "stdout", 
       "text": [
        "", 
        "(datetime.date(1933, 6, 30),)"
       ]
      }, 
      {
       "output_type": "stream", 
       "stream": "stdout", 
       "text": [
        "", 
        "(datetime.date(1933, 7, 1),)"
       ]
      }, 
      {
       "output_type": "stream", 
       "stream": "stdout", 
       "text": [
        "", 
        "(datetime.date(1934, 5, 29),)"
       ]
      }, 
      {
       "output_type": "stream", 
       "stream": "stdout", 
       "text": [
        "", 
        "(datetime.date(1934, 5, 30),)"
       ]
      }, 
      {
       "output_type": "stream", 
       "stream": "stdout", 
       "text": [
        "", 
        "(datetime.date(1934, 5, 31),)"
       ]
      }, 
      {
       "output_type": "stream", 
       "stream": "stdout", 
       "text": [
        "", 
        "(datetime.date(1934, 6, 23),)"
       ]
      }, 
      {
       "output_type": "stream", 
       "stream": "stdout", 
       "text": [
        "", 
        "(datetime.date(1934, 6, 26),)"
       ]
      }, 
      {
       "output_type": "stream", 
       "stream": "stdout", 
       "text": [
        "", 
        "(datetime.date(1934, 6, 27),)"
       ]
      }, 
      {
       "output_type": "stream", 
       "stream": "stdout", 
       "text": [
        "", 
        "(datetime.date(1934, 6, 28),)"
       ]
      }, 
      {
       "output_type": "stream", 
       "stream": "stdout", 
       "text": [
        "", 
        "(datetime.date(1934, 7, 4),)"
       ]
      }, 
      {
       "output_type": "stream", 
       "stream": "stdout", 
       "text": [
        "", 
        "(datetime.date(1934, 7, 15),)"
       ]
      }, 
      {
       "output_type": "stream", 
       "stream": "stdout", 
       "text": [
        "", 
        "(datetime.date(1934, 7, 18),)"
       ]
      }, 
      {
       "output_type": "stream", 
       "stream": "stdout", 
       "text": [
        "", 
        "(datetime.date(1934, 7, 19),)"
       ]
      }, 
      {
       "output_type": "stream", 
       "stream": "stdout", 
       "text": [
        "", 
        "(datetime.date(1934, 7, 20),)"
       ]
      }, 
      {
       "output_type": "stream", 
       "stream": "stdout", 
       "text": [
        "", 
        "(datetime.date(1934, 7, 21),)"
       ]
      }, 
      {
       "output_type": "stream", 
       "stream": "stdout", 
       "text": [
        "", 
        "(datetime.date(1934, 7, 22),)"
       ]
      }, 
      {
       "output_type": "stream", 
       "stream": "stdout", 
       "text": [
        "", 
        "(datetime.date(1934, 7, 23),)"
       ]
      }, 
      {
       "output_type": "stream", 
       "stream": "stdout", 
       "text": [
        "", 
        "(datetime.date(1934, 7, 24),)"
       ]
      }, 
      {
       "output_type": "stream", 
       "stream": "stdout", 
       "text": [
        "", 
        "(datetime.date(1934, 7, 25),)"
       ]
      }, 
      {
       "output_type": "stream", 
       "stream": "stdout", 
       "text": [
        "", 
        "(datetime.date(1934, 8, 4),)"
       ]
      }, 
      {
       "output_type": "stream", 
       "stream": "stdout", 
       "text": [
        "", 
        "(datetime.date(1934, 8, 5),)"
       ]
      }, 
      {
       "output_type": "stream", 
       "stream": "stdout", 
       "text": [
        "", 
        "(datetime.date(1934, 8, 8),)"
       ]
      }, 
      {
       "output_type": "stream", 
       "stream": "stdout", 
       "text": [
        "", 
        "(datetime.date(1934, 8, 9),)"
       ]
      }, 
      {
       "output_type": "stream", 
       "stream": "stdout", 
       "text": [
        "", 
        "(datetime.date(1934, 8, 14),)"
       ]
      }, 
      {
       "output_type": "stream", 
       "stream": "stdout", 
       "text": [
        "", 
        "(datetime.date(1936, 6, 26),)"
       ]
      }, 
      {
       "output_type": "stream", 
       "stream": "stdout", 
       "text": [
        "", 
        "(datetime.date(1936, 7, 3),)"
       ]
      }, 
      {
       "output_type": "stream", 
       "stream": "stdout", 
       "text": [
        "", 
        "(datetime.date(1936, 7, 4),)"
       ]
      }, 
      {
       "output_type": "stream", 
       "stream": "stdout", 
       "text": [
        "", 
        "(datetime.date(1936, 7, 5),)"
       ]
      }, 
      {
       "output_type": "stream", 
       "stream": "stdout", 
       "text": [
        "", 
        "(datetime.date(1936, 7, 7),)"
       ]
      }, 
      {
       "output_type": "stream", 
       "stream": "stdout", 
       "text": [
        "", 
        "(datetime.date(1936, 7, 10),)"
       ]
      }, 
      {
       "output_type": "stream", 
       "stream": "stdout", 
       "text": [
        "", 
        "(datetime.date(1936, 7, 11),)"
       ]
      }, 
      {
       "output_type": "stream", 
       "stream": "stdout", 
       "text": [
        "", 
        "(datetime.date(1936, 7, 12),)"
       ]
      }, 
      {
       "output_type": "stream", 
       "stream": "stdout", 
       "text": [
        "", 
        "(datetime.date(1936, 7, 13),)"
       ]
      }, 
      {
       "output_type": "stream", 
       "stream": "stdout", 
       "text": [
        "", 
        "(datetime.date(1936, 7, 14),)"
       ]
      }, 
      {
       "output_type": "stream", 
       "stream": "stdout", 
       "text": [
        "", 
        "(datetime.date(1936, 7, 15),)"
       ]
      }, 
      {
       "output_type": "stream", 
       "stream": "stdout", 
       "text": [
        "", 
        "(datetime.date(1936, 7, 17),)"
       ]
      }, 
      {
       "output_type": "stream", 
       "stream": "stdout", 
       "text": [
        "", 
        "(datetime.date(1936, 7, 25),)"
       ]
      }, 
      {
       "output_type": "stream", 
       "stream": "stdout", 
       "text": [
        "", 
        "(datetime.date(1936, 7, 26),)"
       ]
      }, 
      {
       "output_type": "stream", 
       "stream": "stdout", 
       "text": [
        "", 
        "(datetime.date(1936, 8, 9),)"
       ]
      }, 
      {
       "output_type": "stream", 
       "stream": "stdout", 
       "text": [
        "", 
        "(datetime.date(1936, 8, 14),)"
       ]
      }, 
      {
       "output_type": "stream", 
       "stream": "stdout", 
       "text": [
        "", 
        "(datetime.date(1936, 8, 18),)"
       ]
      }, 
      {
       "output_type": "stream", 
       "stream": "stdout", 
       "text": [
        "", 
        "(datetime.date(1936, 8, 21),)"
       ]
      }, 
      {
       "output_type": "stream", 
       "stream": "stdout", 
       "text": [
        "", 
        "(datetime.date(1936, 8, 24),)"
       ]
      }, 
      {
       "output_type": "stream", 
       "stream": "stdout", 
       "text": [
        "", 
        "(datetime.date(1936, 8, 25),)"
       ]
      }, 
      {
       "output_type": "stream", 
       "stream": "stdout", 
       "text": [
        "", 
        "(datetime.date(1938, 8, 5),)"
       ]
      }, 
      {
       "output_type": "stream", 
       "stream": "stdout", 
       "text": [
        "", 
        "(datetime.date(1939, 7, 12),)"
       ]
      }, 
      {
       "output_type": "stream", 
       "stream": "stdout", 
       "text": [
        "", 
        "(datetime.date(1939, 9, 3),)"
       ]
      }, 
      {
       "output_type": "stream", 
       "stream": "stdout", 
       "text": [
        "", 
        "(datetime.date(1939, 9, 6),)"
       ]
      }, 
      {
       "output_type": "stream", 
       "stream": "stdout", 
       "text": [
        "", 
        "(datetime.date(1939, 9, 7),)"
       ]
      }, 
      {
       "output_type": "stream", 
       "stream": "stdout", 
       "text": [
        "", 
        "(datetime.date(1940, 7, 19),)"
       ]
      }, 
      {
       "output_type": "stream", 
       "stream": "stdout", 
       "text": [
        "", 
        "(datetime.date(1940, 7, 24),)"
       ]
      }, 
      {
       "output_type": "stream", 
       "stream": "stdout", 
       "text": [
        "", 
        "(datetime.date(1940, 7, 25),)"
       ]
      }, 
      {
       "output_type": "stream", 
       "stream": "stdout", 
       "text": [
        "", 
        "(datetime.date(1941, 7, 23),)"
       ]
      }, 
      {
       "output_type": "stream", 
       "stream": "stdout", 
       "text": [
        "", 
        "(datetime.date(1941, 7, 24),)"
       ]
      }, 
      {
       "output_type": "stream", 
       "stream": "stdout", 
       "text": [
        "", 
        "(datetime.date(1947, 7, 29),)"
       ]
      }, 
      {
       "output_type": "stream", 
       "stream": "stdout", 
       "text": [
        "", 
        "(datetime.date(1947, 8, 3),)"
       ]
      }, 
      {
       "output_type": "stream", 
       "stream": "stdout", 
       "text": [
        "", 
        "(datetime.date(1947, 8, 4),)"
       ]
      }, 
      {
       "output_type": "stream", 
       "stream": "stdout", 
       "text": [
        "", 
        "(datetime.date(1947, 8, 9),)"
       ]
      }, 
      {
       "output_type": "stream", 
       "stream": "stdout", 
       "text": [
        "", 
        "(datetime.date(1948, 7, 6),)"
       ]
      }, 
      {
       "output_type": "stream", 
       "stream": "stdout", 
       "text": [
        "", 
        "(datetime.date(1952, 7, 27),)"
       ]
      }, 
      {
       "output_type": "stream", 
       "stream": "stdout", 
       "text": [
        "", 
        "(datetime.date(1954, 7, 6),)"
       ]
      }, 
      {
       "output_type": "stream", 
       "stream": "stdout", 
       "text": [
        "", 
        "(datetime.date(1954, 7, 11),)"
       ]
      }, 
      {
       "output_type": "stream", 
       "stream": "stdout", 
       "text": [
        "", 
        "(datetime.date(1954, 7, 13),)"
       ]
      }, 
      {
       "output_type": "stream", 
       "stream": "stdout", 
       "text": [
        "", 
        "(datetime.date(1955, 7, 27),)"
       ]
      }, 
      {
       "output_type": "stream", 
       "stream": "stdout", 
       "text": [
        "", 
        "(datetime.date(1955, 7, 28),)"
       ]
      }, 
      {
       "output_type": "stream", 
       "stream": "stdout", 
       "text": [
        "", 
        "(datetime.date(1955, 7, 29),)"
       ]
      }, 
      {
       "output_type": "stream", 
       "stream": "stdout", 
       "text": [
        "", 
        "(datetime.date(1955, 7, 30),)"
       ]
      }, 
      {
       "output_type": "stream", 
       "stream": "stdout", 
       "text": [
        "", 
        "(datetime.date(1955, 7, 31),)"
       ]
      }, 
      {
       "output_type": "stream", 
       "stream": "stdout", 
       "text": [
        "", 
        "(datetime.date(1956, 6, 19),)"
       ]
      }, 
      {
       "output_type": "stream", 
       "stream": "stdout", 
       "text": [
        "", 
        "(datetime.date(1956, 7, 26),)"
       ]
      }, 
      {
       "output_type": "stream", 
       "stream": "stdout", 
       "text": [
        "", 
        "(datetime.date(1957, 7, 12),)"
       ]
      }, 
      {
       "output_type": "stream", 
       "stream": "stdout", 
       "text": [
        "", 
        "(datetime.date(1957, 7, 17),)"
       ]
      }, 
      {
       "output_type": "stream", 
       "stream": "stdout", 
       "text": [
        "", 
        "(datetime.date(1964, 8, 2),)"
       ]
      }, 
      {
       "output_type": "stream", 
       "stream": "stdout", 
       "text": [
        "", 
        "(datetime.date(1974, 7, 17),)"
       ]
      }, 
      {
       "output_type": "stream", 
       "stream": "stdout", 
       "text": [
        "", 
        "(datetime.date(1974, 7, 18),)"
       ]
      }, 
      {
       "output_type": "stream", 
       "stream": "stdout", 
       "text": [
        "", 
        "(datetime.date(1974, 7, 19),)"
       ]
      }, 
      {
       "output_type": "stream", 
       "stream": "stdout", 
       "text": [
        "", 
        "(datetime.date(1974, 7, 21),)"
       ]
      }, 
      {
       "output_type": "stream", 
       "stream": "stdout", 
       "text": [
        "", 
        "(datetime.date(1977, 6, 5),)"
       ]
      }, 
      {
       "output_type": "stream", 
       "stream": "stdout", 
       "text": [
        "", 
        "(datetime.date(1977, 6, 10),)"
       ]
      }, 
      {
       "output_type": "stream", 
       "stream": "stdout", 
       "text": [
        "", 
        "(datetime.date(1977, 7, 3),)"
       ]
      }, 
      {
       "output_type": "stream", 
       "stream": "stdout", 
       "text": [
        "", 
        "(datetime.date(1977, 7, 4),)"
       ]
      }, 
      {
       "output_type": "stream", 
       "stream": "stdout", 
       "text": [
        "", 
        "(datetime.date(1977, 7, 5),)"
       ]
      }, 
      {
       "output_type": "stream", 
       "stream": "stdout", 
       "text": [
        "", 
        "(datetime.date(1977, 7, 6),)"
       ]
      }, 
      {
       "output_type": "stream", 
       "stream": "stdout", 
       "text": [
        "", 
        "(datetime.date(1977, 7, 13),)"
       ]
      }, 
      {
       "output_type": "stream", 
       "stream": "stdout", 
       "text": [
        "", 
        "(datetime.date(1977, 7, 14),)"
       ]
      }, 
      {
       "output_type": "stream", 
       "stream": "stdout", 
       "text": [
        "", 
        "(datetime.date(1980, 7, 14),)"
       ]
      }, 
      {
       "output_type": "stream", 
       "stream": "stdout", 
       "text": [
        "", 
        "(datetime.date(1980, 7, 30),)"
       ]
      }, 
      {
       "output_type": "stream", 
       "stream": "stdout", 
       "text": [
        "", 
        "(datetime.date(1983, 7, 19),)"
       ]
      }, 
      {
       "output_type": "stream", 
       "stream": "stdout", 
       "text": [
        "", 
        "(datetime.date(1983, 7, 20),)"
       ]
      }, 
      {
       "output_type": "stream", 
       "stream": "stdout", 
       "text": [
        "", 
        "(datetime.date(1983, 7, 21),)"
       ]
      }, 
      {
       "output_type": "stream", 
       "stream": "stdout", 
       "text": [
        "", 
        "(datetime.date(1983, 7, 22),)"
       ]
      }, 
      {
       "output_type": "stream", 
       "stream": "stdout", 
       "text": [
        "", 
        "(datetime.date(1983, 7, 28),)"
       ]
      }, 
      {
       "output_type": "stream", 
       "stream": "stdout", 
       "text": [
        "", 
        "(datetime.date(1983, 8, 10),)"
       ]
      }, 
      {
       "output_type": "stream", 
       "stream": "stdout", 
       "text": [
        "", 
        "(datetime.date(1983, 8, 16),)"
       ]
      }, 
      {
       "output_type": "stream", 
       "stream": "stdout", 
       "text": [
        "", 
        "(datetime.date(1983, 8, 17),)"
       ]
      }, 
      {
       "output_type": "stream", 
       "stream": "stdout", 
       "text": [
        "", 
        "(datetime.date(1983, 8, 18),)"
       ]
      }, 
      {
       "output_type": "stream", 
       "stream": "stdout", 
       "text": [
        "", 
        "(datetime.date(1983, 8, 19),)"
       ]
      }, 
      {
       "output_type": "stream", 
       "stream": "stdout", 
       "text": [
        "", 
        "(datetime.date(1983, 8, 25),)"
       ]
      }, 
      {
       "output_type": "stream", 
       "stream": "stdout", 
       "text": [
        "", 
        "(datetime.date(1983, 8, 26),)"
       ]
      }, 
      {
       "output_type": "stream", 
       "stream": "stdout", 
       "text": [
        "", 
        "(datetime.date(1984, 7, 9),)"
       ]
      }, 
      {
       "output_type": "stream", 
       "stream": "stdout", 
       "text": [
        "", 
        "(datetime.date(1985, 6, 8),)"
       ]
      }, 
      {
       "output_type": "stream", 
       "stream": "stdout", 
       "text": [
        "", 
        "(datetime.date(1987, 8, 1),)"
       ]
      }, 
      {
       "output_type": "stream", 
       "stream": "stdout", 
       "text": [
        "", 
        "(datetime.date(1988, 6, 20),)"
       ]
      }, 
      {
       "output_type": "stream", 
       "stream": "stdout", 
       "text": [
        "", 
        "(datetime.date(1988, 6, 21),)"
       ]
      }, 
      {
       "output_type": "stream", 
       "stream": "stdout", 
       "text": [
        "", 
        "(datetime.date(1988, 6, 24),)"
       ]
      }, 
      {
       "output_type": "stream", 
       "stream": "stdout", 
       "text": [
        "", 
        "(datetime.date(1988, 7, 31),)"
       ]
      }, 
      {
       "output_type": "stream", 
       "stream": "stdout", 
       "text": [
        "", 
        "(datetime.date(1988, 8, 3),)"
       ]
      }, 
      {
       "output_type": "stream", 
       "stream": "stdout", 
       "text": [
        "", 
        "(datetime.date(1988, 8, 14),)"
       ]
      }, 
      {
       "output_type": "stream", 
       "stream": "stdout", 
       "text": [
        "", 
        "(datetime.date(1988, 8, 15),)"
       ]
      }, 
      {
       "output_type": "stream", 
       "stream": "stdout", 
       "text": [
        "", 
        "(datetime.date(1988, 8, 16),)"
       ]
      }, 
      {
       "output_type": "stream", 
       "stream": "stdout", 
       "text": [
        "", 
        "(datetime.date(1988, 8, 17),)"
       ]
      }, 
      {
       "output_type": "stream", 
       "stream": "stdout", 
       "text": [
        "", 
        "(datetime.date(1995, 7, 12),)"
       ]
      }, 
      {
       "output_type": "stream", 
       "stream": "stdout", 
       "text": [
        "", 
        "(datetime.date(1995, 7, 13),)"
       ]
      }, 
      {
       "output_type": "stream", 
       "stream": "stdout", 
       "text": [
        "", 
        "(datetime.date(1999, 7, 29),)"
       ]
      }, 
      {
       "output_type": "stream", 
       "stream": "stdout", 
       "text": [
        "", 
        "(datetime.date(2003, 8, 25),)"
       ]
      }, 
      {
       "output_type": "stream", 
       "stream": "stdout", 
       "text": [
        "", 
        "(datetime.date(2005, 3, 4),)"
       ]
      }, 
      {
       "output_type": "stream", 
       "stream": "stdout", 
       "text": [
        "", 
        "(datetime.date(2006, 7, 19),)"
       ]
      }, 
      {
       "output_type": "stream", 
       "stream": "stdout", 
       "text": [
        ""
       ]
      }
     ], 
     "prompt_number": 1
    }, 
    {
     "cell_type": "code", 
     "collapsed": false, 
     "input": [
      "vals = []", 
      "lats = []", 
      "lons = []", 
      "for station in sthits.keys():", 
      "    if stcnts[station] < 10 or station in ['HDE','ONL']:", 
      "        continue", 
      "    if nt.sts[station]['network'] == 'NE_ASOS':", 
      "        print station, sthits[station]", 
      "    vals.append( float(sthits[station]) / float(stcnts[station]) * 100.0)", 
      "    lats.append( nt.sts[station]['lat'] )", 
      "    lons.append( nt.sts[station]['lon'] )", 
      "", 
      "import iemplot", 
      "cfg = {'lbTitleString': '%',", 
      "       '_showvalues': True,", 
      "       '_midwest': True,", 
      "       'cnLevelSelectionMode': 'ManualLevels',", 
      "       'cnLevelSpacingF'      : 10.0,", 
      "       'cnMinLevelValF'       : 0.0,", 
      "       'cnMaxLevelValF'       : 100.0,", 
      "       '_valid': 'Some sites have data back to the 1930s',", 
      "       '_title': 'When Des Moines Reports 100F, Frequency of Other Sites as well',", 
      "       '_format': '%.0f'}", 
      "tmpfp = iemplot.simple_contour(lons, lats, vals, cfg)", 
      "iemplot.makefeature(tmpfp)"
     ], 
     "language": "python", 
     "outputs": [
      {
       "output_type": "stream", 
       "stream": "stdout", 
       "text": [
        "SNY 4", 
        "GRI 32", 
        "FNB 22", 
        "LBF 18", 
        "BFF 7", 
        "LNK 42", 
        "IML 7", 
        "VTN 11", 
        "BBW 6", 
        "OMA 95", 
        "BIE 28", 
        "MCK 21", 
        "HSI 19", 
        "OFF 36", 
        "OFK 31", 
        "ANW 9", 
        "OLU 26", 
        "CDR 10", 
        "AIA 4", 
        "ODX 10", 
        "EAR 15"
       ]
      }
     ], 
     "prompt_number": 6
    }, 
    {
     "cell_type": "code", 
     "collapsed": true, 
     "input": [], 
     "language": "python", 
     "outputs": []
    }
   ]
  }
 ]
}