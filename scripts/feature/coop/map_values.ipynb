{
 "metadata": {
  "name": ""
 },
 "nbformat": 3,
 "nbformat_minor": 0,
 "worksheets": [
  {
   "cells": [
    {
     "cell_type": "code",
     "collapsed": false,
     "input": [
      "import psycopg2\n",
      "import network\n",
      "import numpy as np\n",
      "from pyiem.plot import MapPlot\n",
      "nt = network.Table((\"IACLIMATE\"))\n",
      "import matplotlib.cm as cm\n",
      "COOP = psycopg2.connect(database='coop', host='iemdb', user='nobody')\n",
      "cursor = COOP.cursor()\n",
      "\n",
      "cursor.execute(\"\"\"\n",
      "  select station, count(*) from \n",
      "  (SELECT station, year, rank() OVER (PARTITION by year ORDER by min ASC) from \n",
      "  (select station, year, min(sday) from alldata_ia where low < 0 and \n",
      "  month > 6 and \n",
      "  station in (select distinct station from alldata_ia where year = 1900)\n",
      "  GROUP by station, year) as foo) as foo2 \n",
      "  WHERE rank = 1\n",
      "  GROUP by station ORDER by count DESC\n",
      "\"\"\")\n",
      "vals = []\n",
      "lats = []\n",
      "lons = []\n",
      "for row in cursor:\n",
      "    if not nt.sts.has_key(row[0]) or row[0][2] == 'C':\n",
      "        continue\n",
      "    print row\n",
      "    lats.append( nt.sts[row[0]]['lat'])\n",
      "    lons.append( nt.sts[row[0]]['lon'])\n",
      "    vals.append( row[1] )\n"
     ],
     "language": "python",
     "metadata": {},
     "outputs": [
      {
       "output_type": "stream",
       "stream": "stdout",
       "text": [
        "('IA7147', 53L)\n",
        "('IA0133', 36L)\n",
        "('IA4735', 32L)\n",
        "('IA5230', 30L)\n",
        "('IA2110', 30L)\n",
        "('IA5952', 27L)\n",
        "('IA2864', 25L)\n",
        "('IA7979', 24L)\n",
        "('IA0364', 20L)\n",
        "('IA8706', 20L)\n",
        "('IA8806', 19L)\n",
        "('IA6243', 19L)\n",
        "('IA7161', 18L)\n",
        "('IA3584', 17L)\n",
        "('IA2171', 16L)\n",
        "('IA3509', 15L)\n",
        "('IA2203', 14L)\n",
        "('IA4894', 13L)\n",
        "('IA1833', 12L)\n",
        "('IA3473', 9L)\n",
        "('IA0200', 9L)\n",
        "('IA1319', 8L)\n",
        "('IA3290', 8L)\n",
        "('IA5198', 8L)\n",
        "('IA4063', 8L)\n",
        "('IA6327', 7L)\n",
        "('IA1533', 7L)\n",
        "('IA5769', 6L)\n",
        "('IA8266', 6L)\n",
        "('IA0000', 6L)\n",
        "('IA5131', 6L)\n",
        "('IA2789', 5L)\n",
        "('IA8688', 4L)\n",
        "('IA4101', 3L)\n",
        "('IA1635', 3L)\n",
        "('IA2364', 3L)\n",
        "('IA4381', 3L)\n",
        "('IA4389', 2L)\n",
        "('IA8668', 1L)\n"
       ]
      }
     ],
     "prompt_number": 10
    },
    {
     "cell_type": "code",
     "collapsed": false,
     "input": [
      "m = MapPlot(sector='iowa',\n",
      "            title='1893-2013 Years with First Sub 0$^\\circ$F Temp for Iowa',\n",
      "            subtitle='Only sites with long term data shown, ties are equally counted')\n",
      "cmap = cm.get_cmap('Spectral')\n",
      "cmap.set_under('#ffffff')\n",
      "m.contourf(lons, lats, vals, np.arange(0,51,5), cmap=cmap)\n",
      "m.plot_values(lons, lats, vals, '%.0f')\n",
      "m.drawcounties()\n",
      "\n",
      "m.postprocess(filename='test.ps')\n",
      "import iemplot\n",
      "iemplot.makefeature('test')\n"
     ],
     "language": "python",
     "metadata": {},
     "outputs": [],
     "prompt_number": 12
    },
    {
     "cell_type": "code",
     "collapsed": false,
     "input": [],
     "language": "python",
     "metadata": {},
     "outputs": []
    }
   ],
   "metadata": {}
  }
 ]
}