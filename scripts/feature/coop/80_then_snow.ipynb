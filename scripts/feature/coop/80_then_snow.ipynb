{
 "metadata": {
  "name": ""
 },
 "nbformat": 3,
 "nbformat_minor": 0,
 "worksheets": [
  {
   "cells": [
    {
     "cell_type": "code",
     "collapsed": false,
     "input": [
      "import psycopg2\n",
      "COOP = psycopg2.connect(database='asos', host='iemdb', user='nobody')\n",
      "cursor = COOP.cursor()\n",
      "cursor2 = COOP.cursor()\n",
      "\n",
      "# screening\n",
      "cursor.execute(\"\"\"\n",
      "select valid, max from (\n",
      "  select valid, presentwx, max(tmpf) OVER \n",
      "  (ORDER by valid ASC ROWS BETWEEN 129 PRECEDING AND CURRENT ROW) \n",
      "  from alldata where station = 'DSM') as foo \n",
      "  WHERE presentwx ~* 'SN' and max > 70 ORDER by max DESC\n",
      "\"\"\")\n",
      "\n",
      "dates = []\n",
      "for row in cursor:\n",
      "    if row[0].date() in dates:\n",
      "        continue\n",
      "    dates.append( row[0].date() )\n",
      "    \n",
      "    cursor2.execute(\"\"\"\n",
      "    SELECT tmpf, valid from alldata where station = 'DSM' and\n",
      "    valid BETWEEN %s - '36 hours'::interval and %s ORDER by tmpf DESC, valid DESC\n",
      "    \"\"\", (row[0], row[0]))\n",
      "    row2 = cursor2.fetchone()\n",
      "    if row2[0] > 70:\n",
      "        print \"%.0f, %s, %s\" % (row2[0], row2[1].strftime(\"%-d %b %Y %I %p\"), \n",
      "                              row[0].strftime(\"%-d %b %Y %I %p\"))\n"
     ],
     "language": "python",
     "metadata": {},
     "outputs": [
      {
       "output_type": "stream",
       "stream": "stdout",
       "text": [
        "87, 26 Mar 1991 03 PM, 27 Mar 1991 05 PM\n",
        "82, 26 Mar 1991 05 PM, 28 Mar 1991 05 AM"
       ]
      },
      {
       "output_type": "stream",
       "stream": "stdout",
       "text": [
        "\n",
        "86, 17 Apr 1975 06 PM, 18 Apr 1975 07 PM"
       ]
      },
      {
       "output_type": "stream",
       "stream": "stdout",
       "text": [
        "\n",
        "76, 3 Apr 2003 01 PM, 4 Apr 2003 02 PM"
       ]
      },
      {
       "output_type": "stream",
       "stream": "stdout",
       "text": [
        "\n",
        "85, 12 Apr 2014 04 PM, 13 Apr 2014 11 PM"
       ]
      },
      {
       "output_type": "stream",
       "stream": "stdout",
       "text": [
        "\n",
        "85, 12 Apr 2014 04 PM, 14 Apr 2014 12 AM"
       ]
      },
      {
       "output_type": "stream",
       "stream": "stdout",
       "text": [
        "\n",
        "80, 21 Oct 1979 03 PM, 22 Oct 1979 06 PM"
       ]
      },
      {
       "output_type": "stream",
       "stream": "stdout",
       "text": [
        "\n",
        "71, 3 Apr 1968 03 PM, 4 Apr 1968 06 AM"
       ]
      },
      {
       "output_type": "stream",
       "stream": "stdout",
       "text": [
        "\n",
        "74, 5 Apr 1956 04 PM, 6 Apr 1956 02 PM"
       ]
      },
      {
       "output_type": "stream",
       "stream": "stdout",
       "text": [
        "\n",
        "78, 8 Apr 1952 03 PM, 9 Apr 1952 04 PM"
       ]
      },
      {
       "output_type": "stream",
       "stream": "stdout",
       "text": [
        "\n",
        "78, 2 Apr 1982 01 PM, 3 Apr 1982 01 AM"
       ]
      },
      {
       "output_type": "stream",
       "stream": "stdout",
       "text": [
        "\n",
        "76, 26 Mar 1950 02 PM, 27 Mar 1950 04 PM"
       ]
      },
      {
       "output_type": "stream",
       "stream": "stdout",
       "text": [
        "\n",
        "76, 26 Mar 1950 02 PM, 28 Mar 1950 12 AM"
       ]
      },
      {
       "output_type": "stream",
       "stream": "stdout",
       "text": [
        "\n",
        "76, 28 Mar 1962 04 PM, 29 Mar 1962 10 AM"
       ]
      },
      {
       "output_type": "stream",
       "stream": "stdout",
       "text": [
        "\n",
        "76, 2 Apr 1974 04 PM, 4 Apr 1974 01 AM"
       ]
      },
      {
       "output_type": "stream",
       "stream": "stdout",
       "text": [
        "\n",
        "74, 13 Apr 1949 05 PM, 15 Apr 1949 02 AM"
       ]
      },
      {
       "output_type": "stream",
       "stream": "stdout",
       "text": [
        "\n",
        "74, 16 Apr 1989 06 PM, 18 Apr 1989 06 AM"
       ]
      },
      {
       "output_type": "stream",
       "stream": "stdout",
       "text": [
        "\n",
        "74, 13 Apr 1949 05 PM, 14 Apr 1949 03 PM"
       ]
      },
      {
       "output_type": "stream",
       "stream": "stdout",
       "text": [
        "\n",
        "75, 31 Mar 1971 03 PM, 1 Apr 1971 09 AM"
       ]
      },
      {
       "output_type": "stream",
       "stream": "stdout",
       "text": [
        "\n",
        "72, 24 Apr 2006 05 PM, 25 Apr 2006 04 PM"
       ]
      },
      {
       "output_type": "stream",
       "stream": "stdout",
       "text": [
        "\n",
        "73, 16 Oct 1990 05 PM, 18 Oct 1990 12 AM"
       ]
      },
      {
       "output_type": "stream",
       "stream": "stdout",
       "text": [
        "\n",
        "73, 29 Apr 1997 04 PM, 30 Apr 1997 03 PM"
       ]
      },
      {
       "output_type": "stream",
       "stream": "stdout",
       "text": [
        "\n",
        "73, 16 Oct 1990 05 PM, 17 Oct 1990 10 PM"
       ]
      },
      {
       "output_type": "stream",
       "stream": "stdout",
       "text": [
        "\n",
        "72, 29 Feb 1972 03 PM, 1 Mar 1972 09 PM"
       ]
      },
      {
       "output_type": "stream",
       "stream": "stdout",
       "text": [
        "\n",
        "71, 13 Mar 1957 04 PM, 15 Mar 1957 03 AM"
       ]
      },
      {
       "output_type": "stream",
       "stream": "stdout",
       "text": [
        "\n",
        "71, 13 Mar 1957 04 PM, 14 Mar 1957 11 PM"
       ]
      },
      {
       "output_type": "stream",
       "stream": "stdout",
       "text": [
        "\n"
       ]
      }
     ],
     "prompt_number": 11
    },
    {
     "cell_type": "code",
     "collapsed": false,
     "input": [],
     "language": "python",
     "metadata": {},
     "outputs": []
    }
   ],
   "metadata": {}
  }
 ]
}