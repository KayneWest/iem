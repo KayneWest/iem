{
 "metadata": {
  "name": ""
 },
 "nbformat": 3,
 "nbformat_minor": 0,
 "worksheets": [
  {
   "cells": [
    {
     "cell_type": "code",
     "collapsed": false,
     "input": [
      "import iemdb\n",
      "ASOS = iemdb.connect('asos', bypass=True)\n",
      "acursor = ASOS.cursor()\n",
      "\n",
      "hrs = []\n",
      "tmpf = []\n",
      "days = []\n",
      "acursor.execute(\"\"\"SELECT date(valid ) as d, extract(hour  from valid + '10 minutes'::interval) as hr\n",
      "  , min(round(tmpf::numeric,0)) from t2014\n",
      "  where station = 'DSM' and valid > '2014-11-26 23:50' \n",
      "  and valid < '2014-11-27 23:00' GROUP by d, hr ORDER by d, hr ASC\"\"\")\n",
      "for row in acursor:\n",
      "    tmpf.append( float(row[2]) )\n",
      "    hrs.append( row[1] )\n",
      "    days.append( row[0]) \n",
      "\n",
      "print hrs"
     ],
     "language": "python",
     "metadata": {},
     "outputs": [
      {
       "output_type": "stream",
       "stream": "stdout",
       "text": [
        "[0.0, 1.0, 2.0, 3.0, 4.0, 5.0, 6.0, 7.0, 8.0, 9.0, 10.0, 11.0, 12.0, 13.0, 14.0, 15.0, 16.0, 17.0, 18.0, 19.0, 20.0, 21.0, 22.0, 23.0]\n"
       ]
      }
     ],
     "prompt_number": 5
    },
    {
     "cell_type": "code",
     "collapsed": false,
     "input": [
      "import mx.DateTime\n",
      "thursdays =[]\n",
      "for yr in range(1880,2014):\n",
      "  nov1 = mx.DateTime.DateTime(yr, 11, 1)\n",
      "  turkey = nov1 + mx.DateTime.RelativeDateTime(weekday=(mx.DateTime.Thursday,4))\n",
      "  thursdays.append(turkey.strftime(\"%Y-%m-%d\"))"
     ],
     "language": "python",
     "metadata": {},
     "outputs": [],
     "prompt_number": 2
    },
    {
     "cell_type": "code",
     "collapsed": false,
     "input": [
      "COOP = iemdb.connect('coop', bypass=True)\n",
      "ccursor = COOP.cursor()\n",
      "dates = []\n",
      "highs = []\n",
      "for h, t, d in zip(hrs, tmpf, days):\n",
      "    \n",
      "    acursor.execute(\"\"\"SELECT valid, tmpf from alldata WHERE \n",
      "extract(hour from valid + '10 minutes') = %s and station = 'DSM' \n",
      "and round(tmpf::numeric,0) <= %s\n",
      "and valid < '%s' and date(valid) in %s\n",
      "ORDER by valid DESC LIMIT 1\"\"\" % (h, t, d, str(tuple(thursdays))))\n",
      "    row = acursor.fetchone()\n",
      "    if row is None:\n",
      "        dates.append( d )\n",
      "        highs.append( 22 )\n",
      "    else:\n",
      "        dates.append( row[0] )\n",
      "    \n",
      "        ccursor.execute(\"\"\"SELECT high from alldata_ia where station = 'IA2203'\n",
      "    and day = '%s'\"\"\" % (row[0].strftime(\"%Y-%m-%d\"),))\n",
      "        row2 = ccursor.fetchone()\n",
      "        highs.append( row2[0] )\n",
      "        \n",
      "    print h, t, d, dates[-1]\n"
     ],
     "language": "python",
     "metadata": {},
     "outputs": [
      {
       "output_type": "stream",
       "stream": "stdout",
       "text": [
        "0.0 22.0 2014-11-26 2013-11-28 23:54:00-06:00\n",
        "1.0"
       ]
      },
      {
       "output_type": "stream",
       "stream": "stdout",
       "text": [
        " 21.0 2014-11-27 2010-11-25 01:26:00-06:00\n",
        "2.0"
       ]
      },
      {
       "output_type": "stream",
       "stream": "stdout",
       "text": [
        " 20.0 2014-11-27 2002-11-28 01:54:00-06:00\n",
        "3.0"
       ]
      },
      {
       "output_type": "stream",
       "stream": "stdout",
       "text": [
        " 18.0 2014-11-27 2002-11-28 02:54:00-06:00\n",
        "4.0"
       ]
      },
      {
       "output_type": "stream",
       "stream": "stdout",
       "text": [
        " 12.0 2014-11-27 1989-11-23 04:00:00-06:00\n",
        "5.0"
       ]
      },
      {
       "output_type": "stream",
       "stream": "stdout",
       "text": [
        " 11.0 2014-11-27 1989-11-23 05:00:00-06:00\n",
        "6.0"
       ]
      },
      {
       "output_type": "stream",
       "stream": "stdout",
       "text": [
        " 8.0 2014-11-27 2014-11-27\n",
        "7.0"
       ]
      },
      {
       "output_type": "stream",
       "stream": "stdout",
       "text": [
        " 6.0 2014-11-27 2014-11-27\n",
        "8.0"
       ]
      },
      {
       "output_type": "stream",
       "stream": "stdout",
       "text": [
        " 4.0 2014-11-27 2014-11-27\n",
        "9.0"
       ]
      },
      {
       "output_type": "stream",
       "stream": "stdout",
       "text": [
        " 5.0 2014-11-27 1950-11-23 09:00:00-06:00\n",
        "10.0"
       ]
      },
      {
       "output_type": "stream",
       "stream": "stdout",
       "text": [
        " 7.0 2014-11-27 1950-11-23 10:00:00-06:00\n",
        "11.0"
       ]
      },
      {
       "output_type": "stream",
       "stream": "stdout",
       "text": [
        " 8.0 2014-11-27 1950-11-23 11:00:00-06:00\n",
        "12.0"
       ]
      },
      {
       "output_type": "stream",
       "stream": "stdout",
       "text": [
        " 10.0 2014-11-27 1950-11-23 12:00:00-06:00\n",
        "13.0"
       ]
      },
      {
       "output_type": "stream",
       "stream": "stdout",
       "text": [
        " 10.0 2014-11-27 1950-11-23 13:00:00-06:00\n",
        "14.0"
       ]
      },
      {
       "output_type": "stream",
       "stream": "stdout",
       "text": [
        " 14.0 2014-11-27 1950-11-23 14:00:00-06:00\n",
        "15.0"
       ]
      },
      {
       "output_type": "stream",
       "stream": "stdout",
       "text": [
        " 13.0 2014-11-27 1950-11-23 15:00:00-06:00\n",
        "16.0"
       ]
      },
      {
       "output_type": "stream",
       "stream": "stdout",
       "text": [
        " 14.0 2014-11-27 1985-11-28 16:00:00-06:00\n",
        "17.0"
       ]
      },
      {
       "output_type": "stream",
       "stream": "stdout",
       "text": [
        " 14.0 2014-11-27 1985-11-28 17:00:00-06:00\n",
        "18.0"
       ]
      },
      {
       "output_type": "stream",
       "stream": "stdout",
       "text": [
        " 13.0 2014-11-27 1985-11-28 18:00:00-06:00\n",
        "19.0"
       ]
      },
      {
       "output_type": "stream",
       "stream": "stdout",
       "text": [
        " 13.0 2014-11-27 1985-11-28 19:00:00-06:00\n",
        "20.0"
       ]
      },
      {
       "output_type": "stream",
       "stream": "stdout",
       "text": [
        " 14.0 2014-11-27 1993-11-25 20:00:00-06:00\n",
        "21.0"
       ]
      },
      {
       "output_type": "stream",
       "stream": "stdout",
       "text": [
        " 14.0 2014-11-27 1993-11-25 21:00:00-06:00\n",
        "22.0"
       ]
      },
      {
       "output_type": "stream",
       "stream": "stdout",
       "text": [
        " 15.0 2014-11-27 1993-11-25 22:00:00-06:00\n",
        "23.0"
       ]
      },
      {
       "output_type": "stream",
       "stream": "stdout",
       "text": [
        " 15.0 2014-11-27 1993-11-25 23:00:00-06:00\n"
       ]
      }
     ],
     "prompt_number": 7
    },
    {
     "cell_type": "code",
     "collapsed": false,
     "input": [
      "import datetime\n",
      "import matplotlib.pyplot as plt\n",
      "\n",
      "\n",
      "(fig, ax) = plt.subplots(1,1, figsize=(7,9))\n",
      "\n",
      "ax.text(0.5, 0.97, '27 Nov 2014 Des Moines Hourly Temperatures', ha='center', size=16)\n",
      "ax.text(0.5, 0.94, 'Last Thanksgiving date with as cold hourly temperature', ha='center', size=14)\n",
      "\n",
      "ax.text(0.1, 0.90, 'Hour', ha='center')\n",
      "ax.text(0.25, 0.90, 'Temp [F]', ha='center')\n",
      "ax.text(0.5, 0.90, 'Previous Date', ha='center')\n",
      "ax.text(0.8, 0.90, 'High that Date', ha='center')\n",
      "\n",
      "ax.plot([0.,1.], [0.89,0.89])\n",
      "\n",
      "y = 0.865\n",
      "for h, t, d, hi in zip(hrs, tmpf, dates, highs):\n",
      "    ts = datetime.datetime(2000,1,1, h)\n",
      "    color = 'k'\n",
      "    if d.year < 2000:\n",
      "        color = 'r'\n",
      "    ax.text(0.1, y, \"%s\" % (ts.strftime(\"%-I %p\"),), ha='center', color=color)\n",
      "    ax.text(0.25, y, \"%.0f\" % (t,), ha='center', color=color)\n",
      "    if d.year < 2014:\n",
      "        ax.text(0.5, y, \"%s\" % (d.strftime(\"%-d %b %Y\"),), ha='center', color=color)\n",
      "        ax.text(0.8, y, \"%s\" % (hi,), ha='center', color=color)\n",
      "    else:\n",
      "        ax.text(0.5, y, \"---\", ha='center', color=color)\n",
      "        ax.text(0.8, y, \"--\", ha='center', color=color)\n",
      "    if h in (0,6,12,18):\n",
      "        ax.plot([0,1], [y-0.01,y-0.01], color='k')\n",
      "    y -= 0.035\n",
      "\n",
      "ax.set_ylim(-0.2,1)\n",
      "ax.get_xaxis().set_visible(False)\n",
      "ax.get_yaxis().set_visible(False)\n",
      "ax.set_xlim(0,1)\n",
      "ax.axis('off')\n",
      "    \n",
      "fig.savefig('test.ps')\n",
      "import iemplot\n",
      "iemplot.makefeature('test')"
     ],
     "language": "python",
     "metadata": {},
     "outputs": [
      {
       "metadata": {},
       "output_type": "display_data",
       "png": "[encoded data removed]",
       "text": [
        "<matplotlib.figure.Figure at 0x2f20e90>"
       ]
      }
     ],
     "prompt_number": 10
    },
    {
     "cell_type": "code",
     "collapsed": false,
     "input": [],
     "language": "python",
     "metadata": {},
     "outputs": []
    }
   ],
   "metadata": {}
  }
 ]
}