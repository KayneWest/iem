{
 "metadata": {
  "name": ""
 },
 "nbformat": 3,
 "nbformat_minor": 0,
 "worksheets": [
  {
   "cells": [
    {
     "cell_type": "code",
     "collapsed": false,
     "input": [
      "import iemdb\n",
      "ASOS = iemdb.connect('asos', bypass=True)\n",
      "acursor = ASOS.cursor()\n",
      "\n",
      "hrs = []\n",
      "tmpf = []\n",
      "days = []\n",
      "acursor.execute(\"\"\"SELECT date(valid ) as d, extract(hour  from valid + '10 minutes'::interval) as hr\n",
      "  , min(round(tmpf::numeric,0)) from t2014\n",
      "  where station = 'DSM' and valid > '2014-11-11 23:50' \n",
      "  and valid < '2014-11-12 23:00' GROUP by d, hr ORDER by d, hr ASC\"\"\")\n",
      "for row in acursor:\n",
      "    tmpf.append( float(row[2]) )\n",
      "    hrs.append( row[1] )\n",
      "    days.append( row[0]) \n",
      "\n",
      "print hrs"
     ],
     "language": "python",
     "metadata": {},
     "outputs": [
      {
       "output_type": "stream",
       "stream": "stdout",
       "text": [
        "[0.0, 1.0, 2.0, 3.0, 4.0, 5.0, 6.0, 7.0, 8.0, 9.0, 10.0, 11.0, 12.0, 13.0, 14.0, 15.0, 16.0, 17.0, 18.0, 19.0, 20.0, 21.0, 22.0, 23.0]\n"
       ]
      }
     ],
     "prompt_number": 1
    },
    {
     "cell_type": "code",
     "collapsed": false,
     "input": [
      "COOP = iemdb.connect('coop', bypass=True)\n",
      "ccursor = COOP.cursor()\n",
      "dates = []\n",
      "highs = []\n",
      "for h, t, d in zip(hrs, tmpf, days):\n",
      "    \n",
      "    acursor.execute(\"\"\"SELECT valid, tmpf from alldata WHERE \n",
      "extract(hour from valid + '10 minutes') = %s and station = 'DSM' and round(tmpf::numeric,0) <= %s\n",
      "and valid < '%s' \n",
      "and extract(month from valid) = 11 and extract(day from valid) < 16 \n",
      "ORDER by valid DESC LIMIT 1\"\"\" % (h, t, d))\n",
      "    row = acursor.fetchone()\n",
      "    if row is None:\n",
      "        dates.append( d )\n",
      "        highs.append( -6 )\n",
      "    else:\n",
      "        dates.append( row[0] )\n",
      "    \n",
      "        ccursor.execute(\"\"\"SELECT low from alldata_ia where station = 'IA2203'\n",
      "    and day = '%s'\"\"\" % (row[0].strftime(\"%Y-%m-%d\"),))\n",
      "        row2 = ccursor.fetchone()\n",
      "        highs.append( row2[0] )\n",
      "        \n",
      "    print h, t, d, dates[-1]\n"
     ],
     "language": "python",
     "metadata": {},
     "outputs": [
      {
       "output_type": "stream",
       "stream": "stdout",
       "text": [
        "0.0 23.0 2014-11-11 2013-11-12 23:54:00-06:00\n",
        "1.0"
       ]
      },
      {
       "output_type": "stream",
       "stream": "stdout",
       "text": [
        " 23.0 2014-11-12 2013-11-13 00:54:00-06:00\n",
        "2.0"
       ]
      },
      {
       "output_type": "stream",
       "stream": "stdout",
       "text": [
        " 23.0 2014-11-12 2013-11-13 01:54:00-06:00\n",
        "3.0"
       ]
      },
      {
       "output_type": "stream",
       "stream": "stdout",
       "text": [
        " 22.0 2014-11-12 2013-11-13 02:54:00-06:00\n",
        "4.0"
       ]
      },
      {
       "output_type": "stream",
       "stream": "stdout",
       "text": [
        " 21.0 2014-11-12 2013-11-13 03:54:00-06:00\n",
        "5.0"
       ]
      },
      {
       "output_type": "stream",
       "stream": "stdout",
       "text": [
        " 22.0 2014-11-12 2013-11-13 04:54:00-06:00\n",
        "6.0"
       ]
      },
      {
       "output_type": "stream",
       "stream": "stdout",
       "text": [
        " 22.0 2014-11-12 2013-11-13 05:54:00-06:00\n",
        "7.0"
       ]
      },
      {
       "output_type": "stream",
       "stream": "stdout",
       "text": [
        " 21.0 2014-11-12 2013-11-12 06:54:00-06:00\n",
        "8.0"
       ]
      },
      {
       "output_type": "stream",
       "stream": "stdout",
       "text": [
        " 21.0 2014-11-12 2013-11-12 07:54:00-06:00\n",
        "9.0"
       ]
      },
      {
       "output_type": "stream",
       "stream": "stdout",
       "text": [
        " 19.0 2014-11-12 2013-11-12 08:54:00-06:00\n",
        "10.0"
       ]
      },
      {
       "output_type": "stream",
       "stream": "stdout",
       "text": [
        " 18.0 2014-11-12 1995-11-11 10:00:00-06:00\n",
        "11.0"
       ]
      },
      {
       "output_type": "stream",
       "stream": "stdout",
       "text": [
        " 23.0 2014-11-12 2013-11-12 10:54:00-06:00\n",
        "12.0"
       ]
      },
      {
       "output_type": "stream",
       "stream": "stdout",
       "text": [
        " 24.0 2014-11-12 1995-11-11 12:00:00-06:00\n",
        "13.0"
       ]
      },
      {
       "output_type": "stream",
       "stream": "stdout",
       "text": [
        " 24.0 2014-11-12 1995-11-11 13:00:00-06:00\n",
        "14.0"
       ]
      },
      {
       "output_type": "stream",
       "stream": "stdout",
       "text": [
        " 24.0 2014-11-12 1997-11-15 13:54:00-06:00\n",
        "15.0"
       ]
      },
      {
       "output_type": "stream",
       "stream": "stdout",
       "text": [
        " 22.0 2014-11-12 1997-11-15 14:54:00-06:00\n",
        "16.0"
       ]
      },
      {
       "output_type": "stream",
       "stream": "stdout",
       "text": [
        " 23.0 2014-11-12 1991-11-07 16:00:00-06:00\n",
        "17.0"
       ]
      },
      {
       "output_type": "stream",
       "stream": "stdout",
       "text": [
        " 23.0 2014-11-12 1997-11-15 16:54:00-06:00\n",
        "18.0"
       ]
      },
      {
       "output_type": "stream",
       "stream": "stdout",
       "text": [
        " 23.0 2014-11-12 1995-11-11 18:00:00-06:00\n",
        "19.0"
       ]
      },
      {
       "output_type": "stream",
       "stream": "stdout",
       "text": [
        " 21.0 2014-11-12 1995-11-11 19:00:00-06:00\n",
        "20.0"
       ]
      },
      {
       "output_type": "stream",
       "stream": "stdout",
       "text": [
        " 21.0 2014-11-12 1997-11-15 19:54:00-06:00\n",
        "21.0"
       ]
      },
      {
       "output_type": "stream",
       "stream": "stdout",
       "text": [
        " 19.0 2014-11-12 1997-11-15 20:54:00-06:00\n",
        "22.0"
       ]
      },
      {
       "output_type": "stream",
       "stream": "stdout",
       "text": [
        " 20.0 2014-11-12 1997-11-15 21:54:00-06:00\n",
        "23.0"
       ]
      },
      {
       "output_type": "stream",
       "stream": "stdout",
       "text": [
        " 23.0 2014-11-12 2014-11-11 22:54:00-06:00\n"
       ]
      }
     ],
     "prompt_number": 2
    },
    {
     "cell_type": "code",
     "collapsed": false,
     "input": [
      "import datetime\n",
      "import matplotlib.pyplot as plt\n",
      "\n",
      "\n",
      "(fig, ax) = plt.subplots(1,1, figsize=(7,9))\n",
      "\n",
      "ax.text(0.5, 0.97, '12 Nov 2014 Des Moines Hourly Temperatures', ha='center', size=16)\n",
      "ax.text(0.5, 0.94, 'Last 1-15 November date with as cold hourly temperature', ha='center', size=14)\n",
      "\n",
      "ax.text(0.1, 0.90, 'Hour', ha='center')\n",
      "ax.text(0.25, 0.90, 'Temp [F]', ha='center')\n",
      "ax.text(0.5, 0.90, 'Previous Date', ha='center')\n",
      "ax.text(0.8, 0.90, 'Low that Date', ha='center')\n",
      "\n",
      "ax.plot([0.,1.], [0.89,0.89])\n",
      "\n",
      "y = 0.865\n",
      "for h, t, d, hi in zip(hrs, tmpf, dates, highs):\n",
      "    ts = datetime.datetime(2000,1,1, h)\n",
      "    color = 'k'\n",
      "    if d.year < 2000:\n",
      "        color = 'r'\n",
      "    ax.text(0.1, y, \"%s\" % (ts.strftime(\"%-I %p\"),), ha='center', color=color)\n",
      "    ax.text(0.25, y, \"%.0f\" % (t,), ha='center', color=color)\n",
      "    ax.text(0.5, y, \"%s\" % (d.strftime(\"%-d %b %Y\"),), ha='center', color=color)\n",
      "    ax.text(0.8, y, \"%s\" % (hi,), ha='center', color=color)\n",
      "    if h in (0,6,12,18):\n",
      "        ax.plot([0,1], [y-0.01,y-0.01], color='k')\n",
      "    y -= 0.035\n",
      "\n",
      "ax.set_ylim(-0.2,1)\n",
      "ax.get_xaxis().set_visible(False)\n",
      "ax.get_yaxis().set_visible(False)\n",
      "ax.set_xlim(0,1)\n",
      "ax.axis('off')\n",
      "    \n",
      "fig.savefig('test.ps')\n",
      "import iemplot\n",
      "iemplot.makefeature('test')"
     ],
     "language": "python",
     "metadata": {},
     "outputs": [
      {
       "output_type": "stream",
       "stream": "stderr",
       "text": [
        "-c:19: DeprecationWarning: integer argument expected, got float\n",
        "/usr/lib64/python2.6/site-packages/matplotlib/__init__.py:1312: UserWarning:  This call to matplotlib.use() has no effect\n",
        "because the backend has already been chosen;\n",
        "matplotlib.use() must be called *before* pylab, matplotlib.pyplot,\n",
        "or matplotlib.backends is imported for the first time.\n",
        "\n",
        "  warnings.warn(_use_error_msg)\n"
       ]
      },
      {
       "metadata": {},
       "output_type": "display_data",
       "png": "[encoded data removed]",
       "text": [
        "<matplotlib.figure.Figure at 0x2b36250>"
       ]
      }
     ],
     "prompt_number": 3
    },
    {
     "cell_type": "code",
     "collapsed": false,
     "input": [],
     "language": "python",
     "metadata": {},
     "outputs": []
    }
   ],
   "metadata": {}
  }
 ]
}