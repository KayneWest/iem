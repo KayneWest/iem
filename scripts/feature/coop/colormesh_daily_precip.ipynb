{
 "metadata": {
  "name": ""
 },
 "nbformat": 3,
 "nbformat_minor": 0,
 "worksheets": [
  {
   "cells": [
    {
     "cell_type": "code",
     "collapsed": false,
     "input": [
      "import numpy as np\n",
      "import psycopg2\n",
      "COOP = psycopg2.connect(database='coop', host='iemdb', user='nobody')\n",
      "cursor = COOP.cursor()\n",
      "\n",
      "data = np.zeros( (366, (2014-1893)))\n",
      "cursor.execute(\"\"\"SELECT year, extract(doy from day), sum(precip) OVER (Partition by year ORDER by day ASC)\n",
      " from alldata_ia where station = 'IA0200' and day >= '1893-01-01' \"\"\")\n",
      "\n",
      "for row in cursor:\n",
      "    data[ row[1]-1, row[0]-1893 ] = row[2]"
     ],
     "language": "python",
     "metadata": {},
     "outputs": [],
     "prompt_number": 1
    },
    {
     "cell_type": "code",
     "collapsed": false,
     "input": [
      "import matplotlib.pyplot as plt\n",
      "import matplotlib.cm as cm\n",
      "import matplotlib.colors as mpcolors\n",
      "import scipy.stats\n",
      "\n",
      "(fig, ax) = plt.subplots(1,1)\n",
      "\n",
      "y = np.arange(1,367.1)\n",
      "x = np.arange(1893,2014.1)\n",
      "\n",
      "yearly = np.tile(  np.max(data,0), [366,1])\n",
      "cmap = cm.get_cmap('BrBG')\n",
      "norm = mpcolors.BoundaryNorm(np.arange(0,101,20), 256)\n",
      "\n",
      "accum = data / yearly * 100.0\n",
      "res = ax.pcolormesh(x,y,accum, cmap=cmap, norm=norm)\n",
      "fig.colorbar(res, label='% of yearly total')\n",
      "\n",
      "slopes = []\n",
      "for level in [20,40,60,80]:\n",
      "    doys = []\n",
      "    for i in range(120):\n",
      "        doys.append( np.digitize([level,], accum[:-2,i] )[0] )\n",
      "    h_slope, intercept, h_r_value, p_value, std_err = scipy.stats.linregress(np.arange(1893,2013), \n",
      "                                                                             doys)\n",
      "    ax.plot(np.arange(1893,2013), h_slope * np.arange(1893,2013) + intercept, color='yellow', lw=3)\n",
      "    ax.plot(np.arange(1893,2013), h_slope * np.arange(1893,2013) + intercept, color='k', lw=1.)\n",
      "    slopes.append( h_slope * 100.0)\n",
      "\n",
      "ax.set_yticks( (1,32,60,91,121,152,182,213,244,274,305,335,365) )\n",
      "ax.set_yticklabels( ('Jan','Feb','Mar','Apr','May','Jun','Jul','Aug','Sep','Oct','Nov','Dec') )\n",
      "\n",
      "ax.set_title(\"1893-2012 Ames Yearly Normalized Precip Accumulation\\nSlopes (d/100y): 20%%: %.1f, 40%%: %.1f, 60%%: %.1f, 80%%: %.1f \" % (\n",
      "                                                            slopes[0] , slopes[1], slopes[2], slopes[3]))\n",
      "    \n",
      "ax.set_xlim(1893,2013)\n",
      "ax.set_ylim(1,366)\n",
      "ax.grid(True)\n",
      "    \n",
      "fig.savefig('131115.png')\n"
     ],
     "language": "python",
     "metadata": {},
     "outputs": [],
     "prompt_number": 2
    },
    {
     "cell_type": "code",
     "collapsed": false,
     "input": [],
     "language": "python",
     "metadata": {},
     "outputs": []
    }
   ],
   "metadata": {}
  }
 ]
}