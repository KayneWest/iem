{
 "metadata": {
  "name": ""
 },
 "nbformat": 3,
 "nbformat_minor": 0,
 "worksheets": [
  {
   "cells": [
    {
     "cell_type": "code",
     "collapsed": false,
     "input": [
      "import numpy as np\n",
      "import psycopg2\n",
      "COOP = psycopg2.connect(database='coop', user='nobody', host='iemdb')\n",
      "cursor = COOP.cursor()\n",
      "\n",
      "data = np.zeros( (2013-1893, 374), 'f')\n",
      "snowd = np.zeros( (2013-1893, 374), 'f')\n",
      "\n",
      "cursor.execute(\"\"\"SELECT extract(doy from day), year, (high+low)/2., snowd from alldata_ia\n",
      " WHERE station = 'IA2203' and day >= '1893-01-01' and year < 2013\"\"\")\n",
      "for row in cursor:\n",
      "    snowd[ row[1] -1893, row[0] - 1 ] = row[3]\n",
      "    data[ row[1] -1893, row[0] - 1 ] = row[2]"
     ],
     "language": "python",
     "metadata": {},
     "outputs": [],
     "prompt_number": 3
    },
    {
     "cell_type": "code",
     "collapsed": false,
     "input": [
      "data[:-1,365:] = data[1:,0:9]\n",
      "snowd[:-1,365:] = snowd[1:,0:9]"
     ],
     "language": "python",
     "metadata": {},
     "outputs": [],
     "prompt_number": 12
    },
    {
     "cell_type": "code",
     "collapsed": false,
     "input": [
      "climate = np.average(data,0)"
     ],
     "language": "python",
     "metadata": {},
     "outputs": [],
     "prompt_number": 13
    },
    {
     "cell_type": "code",
     "collapsed": false,
     "input": [
      "print climate[-10:]"
     ],
     "language": "python",
     "metadata": {},
     "outputs": [
      {
       "output_type": "stream",
       "stream": "stdout",
       "text": [
        "[ 24.125       22.65833282  22.46249962  20.85416603  21.17916679\n",
        "  21.19583321  21.52083397  20.44583321  21.69166756  21.55833244]\n"
       ]
      }
     ],
     "prompt_number": 14
    },
    {
     "cell_type": "code",
     "collapsed": false,
     "input": [
      "sevenday = (data[:,1:367] + data[:,2:368] + data[:,3:369] + data[:,4:370] + data[:,5:371] + data[:,6:372] + data[:,7:373] ) / 7.0 \n",
      "\n",
      "ws_tot = np.zeros( (366), 'f')\n",
      "ws_cnts = np.zeros( (366), 'f')\n",
      "wos_tot = np.zeros( (366), 'f')\n",
      "wos_cnts = np.zeros( (366), 'f')\n",
      "\n",
      "for yr in range(1893,2013):\n",
      "    for dy in range(0,366):\n",
      "        if snowd[yr-1893,dy] >= 0.1:\n",
      "            ws_cnts[dy] += 1\n",
      "            ws_tot[dy] += sevenday[yr-1893,dy]\n",
      "        else:\n",
      "            wos_cnts[dy] += 1\n",
      "            wos_tot[dy] += sevenday[yr-1893,dy]\n"
     ],
     "language": "python",
     "metadata": {},
     "outputs": [],
     "prompt_number": 27
    },
    {
     "cell_type": "code",
     "collapsed": false,
     "input": [
      "import matplotlib.pyplot as plt\n",
      "\n",
      "(fig, ax) = plt.subplots(1,1)\n",
      "\n",
      "ax.bar(np.arange(366), (ws_tot / ws_cnts) - (wos_tot / wos_cnts), fc='b', ec='b')\n",
      "ax.bar(np.arange(366,732), (ws_tot / ws_cnts) - (wos_tot / wos_cnts), fc='b', ec='b')\n",
      "ax.set_xlim(320,420)\n",
      "ax.set_xticks([335,366,397,425])\n",
      "ax.set_xticklabels(['1 Dec', '1 Jan', '1 Feb', '1 Mar'])\n",
      "ax.set_ylabel(\"Temperature Difference $^\\circ$F\")\n",
      "ax.set_title(\"1893-2012 Des Moines Next Seven Day Temp Difference\\nbetween day with snowcover and without\")\n",
      "ax.grid(True)\n",
      "ax.set_ylim(-10,10)"
     ],
     "language": "python",
     "metadata": {},
     "outputs": [
      {
       "metadata": {},
       "output_type": "pyout",
       "prompt_number": 39,
       "text": [
        "(-10, 10)"
       ]
      },
      {
       "metadata": {},
       "output_type": "display_data",
       "png": "[encoded data removed]",
       "text": [
        "<matplotlib.figure.Figure at 0x8c5b1d0>"
       ]
      }
     ],
     "prompt_number": 39
    },
    {
     "cell_type": "code",
     "collapsed": false,
     "input": [
      "fig.savefig('test.ps')\n",
      "import iemplot\n",
      "iemplot.makefeature('test')"
     ],
     "language": "python",
     "metadata": {},
     "outputs": [],
     "prompt_number": 41
    },
    {
     "cell_type": "code",
     "collapsed": false,
     "input": [],
     "language": "python",
     "metadata": {},
     "outputs": []
    }
   ],
   "metadata": {}
  }
 ]
}