{
 "metadata": {
  "name": ""
 },
 "nbformat": 3,
 "nbformat_minor": 0,
 "worksheets": [
  {
   "cells": [
    {
     "cell_type": "code",
     "collapsed": false,
     "input": [
      "%pylab inline\n",
      "import psycopg2\n",
      "import network\n",
      "import pandas as pd\n",
      "ASOS = psycopg2.connect(database='asos', user='nobody',host='iemdb')\n",
      "acursor = ASOS.cursor()\n",
      "\n",
      "MESOSITE = psycopg2.connect(database='mesosite', user='nobody', host='iemdb')\n",
      "mcursor = MESOSITE.cursor()\n",
      "\n",
      "networks = ['AWOS',]\n",
      "mcursor.execute(\"\"\"SELECT distinct network from stations where country = 'US' and \n",
      " network ~* 'ASOS'\"\"\")\n",
      "for row in mcursor:\n",
      "    networks.append( row[0] )\n",
      "\n",
      "nt = network.Table(('IA_ASOS','MO_ASOS','IL_ASOS', 'ND_ASOS', 'AWOS',\n",
      "          'WI_ASOS','MN_ASOS', 'SD_ASOS', 'NE_ASOS', 'KS_ASOS',\n",
      "          'IN_ASOS','KY_ASOS','OH_ASOS','MI_ASOS'))\n",
      "#nt = network.Table(('IA_ASOS', 'AWOS'))\n",
      "#nt = network.Table(networks)\n",
      "rows = []\n",
      "for sid in nt.sts.keys():\n",
      "    if nt.sts[sid]['archive_begin'] is None or nt.sts[sid]['archive_begin'].year > 1973:\n",
      "        continue\n",
      "\n",
      "    # Figure out what our archive coverage is, 41 years would be perfect\n",
      "    acursor.execute(\"\"\"\n",
      "    select yr from \n",
      "        (SELECT substring(d, 1, 4) as yr, count(*) from \n",
      "            (select distinct to_char(valid, 'YYYYmmddHH24') as d from alldata \n",
      "            where station = %s and valid > '1973-01-01') as foo \n",
      "        GROUP by yr) as foo2 \n",
      "    WHERE count > (365. * 24 * .9)\n",
      "    \"\"\", (sid,) )\n",
      "    if acursor.rowcount < 37:\n",
      "        print 'Skipping %s, due to only have %s/41 years of data' % (sid, acursor.rowcount)\n",
      "        continue\n",
      "        \n",
      "    # Compute climatology, 41 years\n",
      "    acursor.execute(\"\"\"\n",
      " select sum(valid - lag) from \n",
      " (select valid, lag(valid) OVER (ORDER by valid ASC), tmpf from alldata \n",
      " where station = %s and valid < '2013-09-01' and valid > '1972-09-01') as foo \n",
      " WHERE tmpf < -0.49 \n",
      "    \"\"\", (sid,))\n",
      "    row = acursor.fetchone()\n",
      "    if row[0] is None:\n",
      "        continue\n",
      "    climate = ((row[0].days * 86400. + row[0].seconds) / 86400.0) / 41.0\n",
      "        \n",
      "    acursor.execute(\"\"\"\n",
      " select sum(valid - lag) from \n",
      " (select valid, lag(valid) OVER (ORDER by valid ASC), tmpf from alldata \n",
      " where station = %s and valid > '2013-09-01') as foo \n",
      " WHERE tmpf < -0.49 \n",
      "    \"\"\", (sid,))\n",
      "    \n",
      "    row = acursor.fetchone()\n",
      "    if row[0] is None:\n",
      "        delta = 0\n",
      "    else:\n",
      "        delta = (row[0].days * 86400. + row[0].seconds) / 86400.0\n",
      "    rows.append( dict(sid=sid, lat=nt.sts[sid]['lat'], lon=nt.sts[sid]['lon'], val=delta,\n",
      "                      climate=climate, network=nt.sts[sid]['network']))\n",
      "    print sid, delta, climate\n",
      "\n",
      "df = pd.DataFrame(rows)"
     ],
     "language": "python",
     "metadata": {},
     "outputs": [
      {
       "output_type": "stream",
       "stream": "stdout",
       "text": [
        "Populating the interactive namespace from numpy and matplotlib\n",
        "SPI"
       ]
      },
      {
       "output_type": "stream",
       "stream": "stdout",
       "text": [
        " 4.19861111111 1.8002201897\n",
        "BWG"
       ]
      },
      {
       "output_type": "stream",
       "stream": "stdout",
       "text": [
        " 0 0.256876693767\n",
        "Skipping IXD, due to only have 15/41 years of data"
       ]
      },
      {
       "output_type": "stream",
       "stream": "stdout",
       "text": [
        "\n",
        "LAN"
       ]
      },
      {
       "output_type": "stream",
       "stream": "stdout",
       "text": [
        " 3.05625 1.92344173442\n",
        "LAF"
       ]
      },
      {
       "output_type": "stream",
       "stream": "stdout",
       "text": [
        " 5.38333333333 1.82494918699\n",
        "FFO"
       ]
      },
      {
       "output_type": "stream",
       "stream": "stdout",
       "text": [
        " 3.71041666667 0.904776422764\n",
        "Skipping SNY, due to only have 29/41 years of data"
       ]
      },
      {
       "output_type": "stream",
       "stream": "stdout",
       "text": [
        "\n",
        "Skipping BEH, due to only have 15/41 years of data"
       ]
      },
      {
       "output_type": "stream",
       "stream": "stdout",
       "text": [
        "\n",
        "Skipping GUS, due to only have 27/41 years of data"
       ]
      },
      {
       "output_type": "stream",
       "stream": "stdout",
       "text": [
        "\n",
        "Skipping PAH, due to only have 33/41 years of data"
       ]
      },
      {
       "output_type": "stream",
       "stream": "stdout",
       "text": [
        "\n",
        "Skipping CMX, due to only have 29/41 years of data"
       ]
      },
      {
       "output_type": "stream",
       "stream": "stdout",
       "text": [
        "\n",
        "DTW"
       ]
      },
      {
       "output_type": "stream",
       "stream": "stdout",
       "text": [
        " 3.74444444444 0.968495934959\n",
        "EVV"
       ]
      },
      {
       "output_type": "stream",
       "stream": "stdout",
       "text": [
        " 0.719444444444 0.543326558266\n",
        "HUF"
       ]
      },
      {
       "output_type": "stream",
       "stream": "stdout",
       "text": [
        " 3.86666666667 1.55741869919\n",
        "LSE"
       ]
      },
      {
       "output_type": "stream",
       "stream": "stdout",
       "text": [
        " 15.9243055556 7.43589092141\n",
        "Skipping HUT, due to only have 17/41 years of data"
       ]
      },
      {
       "output_type": "stream",
       "stream": "stdout",
       "text": [
        "\n",
        "GCK"
       ]
      },
      {
       "output_type": "stream",
       "stream": "stdout",
       "text": [
        " 0.666666666667 1.27162940379\n",
        "GRR"
       ]
      },
      {
       "output_type": "stream",
       "stream": "stdout",
       "text": [
        " 1.18611111111 0.964380081301\n",
        "Skipping BLM, due to only have 18/41 years of data"
       ]
      },
      {
       "output_type": "stream",
       "stream": "stdout",
       "text": [
        "\n",
        "DSM"
       ]
      },
      {
       "output_type": "stream",
       "stream": "stdout",
       "text": [
        " 5.83333333333 4.18704268293\n",
        "GRB"
       ]
      },
      {
       "output_type": "stream",
       "stream": "stdout",
       "text": [
        " 15.0034722222 6.55684281843\n",
        "Skipping FTK, due to only have 31/41 years of data"
       ]
      },
      {
       "output_type": "stream",
       "stream": "stdout",
       "text": [
        "\n",
        "GRI"
       ]
      },
      {
       "output_type": "stream",
       "stream": "stdout",
       "text": [
        " 2.66666666667 3.42786246612\n",
        "Skipping RWF, due to only have 34/41 years of data"
       ]
      },
      {
       "output_type": "stream",
       "stream": "stdout",
       "text": [
        "\n",
        "INL"
       ]
      },
      {
       "output_type": "stream",
       "stream": "stdout",
       "text": [
        " 44.9708333333 28.1993394309\n",
        "IND"
       ]
      },
      {
       "output_type": "stream",
       "stream": "stdout",
       "text": [
        " 3.67708333333 1.40980691057\n",
        "Skipping HLC, due to only have 16/41 years of data"
       ]
      },
      {
       "output_type": "stream",
       "stream": "stdout",
       "text": [
        "\n",
        "Skipping AKR, due to only have 12/41 years of data"
       ]
      },
      {
       "output_type": "stream",
       "stream": "stdout",
       "text": [
        "\n",
        "GLD"
       ]
      },
      {
       "output_type": "stream",
       "stream": "stdout",
       "text": [
        " 2.41666666667 1.84073509485\n",
        "MKC"
       ]
      },
      {
       "output_type": "stream",
       "stream": "stdout",
       "text": [
        " 0.458333333333 0.721798780488\n",
        "CMH"
       ]
      },
      {
       "output_type": "stream",
       "stream": "stdout",
       "text": [
        " 2.06875 0.761974932249\n",
        "Skipping IWD, due to only have 17/41 years of data"
       ]
      },
      {
       "output_type": "stream",
       "stream": "stdout",
       "text": [
        "\n",
        "Skipping JEF, due to only have 15/41 years of data"
       ]
      },
      {
       "output_type": "stream",
       "stream": "stdout",
       "text": [
        "\n",
        "AUW"
       ]
      },
      {
       "output_type": "stream",
       "stream": "stdout",
       "text": [
        " 23.9444444444 10.1098069106\n",
        "ALO"
       ]
      },
      {
       "output_type": "stream",
       "stream": "stdout",
       "text": [
        " 16.55 8.17098577236\n",
        "ORD"
       ]
      },
      {
       "output_type": "stream",
       "stream": "stdout",
       "text": [
        " 6.47152777778 2.39398712737\n",
        "TOP"
       ]
      },
      {
       "output_type": "stream",
       "stream": "stdout",
       "text": [
        " 0.916666666667 1.3404302168\n",
        "CAK"
       ]
      },
      {
       "output_type": "stream",
       "stream": "stdout",
       "text": [
        " 2.64861111111 0.958841463415\n",
        "CVG"
       ]
      },
      {
       "output_type": "stream",
       "stream": "stdout",
       "text": [
        " 2.60625 0.811195799458\n",
        "Skipping OFF, due to only have 35/41 years of data"
       ]
      },
      {
       "output_type": "stream",
       "stream": "stdout",
       "text": [
        "\n",
        "Skipping BAK, due to only have 0/41 years of data"
       ]
      },
      {
       "output_type": "stream",
       "stream": "stdout",
       "text": [
        "\n",
        "Skipping CAD, due to only have 17/41 years of data"
       ]
      },
      {
       "output_type": "stream",
       "stream": "stdout",
       "text": [
        "\n",
        "Skipping ONL, due to only have 11/41 years of data"
       ]
      },
      {
       "output_type": "stream",
       "stream": "stdout",
       "text": [
        "\n",
        "Skipping HIB, due to only have 21/41 years of data"
       ]
      },
      {
       "output_type": "stream",
       "stream": "stdout",
       "text": [
        "\n",
        "Skipping STC, due to only have 31/41 years of data"
       ]
      },
      {
       "output_type": "stream",
       "stream": "stdout",
       "text": [
        "\n",
        "STL"
       ]
      },
      {
       "output_type": "stream",
       "stream": "stdout",
       "text": [
        " 1.125 0.627879403794\n",
        "Skipping STJ, due to only have 18/41 years of data"
       ]
      },
      {
       "output_type": "stream",
       "stream": "stdout",
       "text": [
        "\n",
        "Skipping ABR, due to only have 35/41 years of data"
       ]
      },
      {
       "output_type": "stream",
       "stream": "stdout",
       "text": [
        "\n",
        "SBN"
       ]
      },
      {
       "output_type": "stream",
       "stream": "stdout",
       "text": [
        " 5.77569444444 1.44251355014\n",
        "Skipping JXN, due to only have 33/41 years of data"
       ]
      },
      {
       "output_type": "stream",
       "stream": "stdout",
       "text": [
        "\n",
        "RSL"
       ]
      },
      {
       "output_type": "stream",
       "stream": "stdout",
       "text": [
        " 0.867361111111 1.6074695122\n",
        "RST"
       ]
      },
      {
       "output_type": "stream",
       "stream": "stdout",
       "text": [
        " 21.8479166667 11.6563685637\n",
        "Skipping ACB, due to only have 22/41 years of data"
       ]
      },
      {
       "output_type": "stream",
       "stream": "stdout",
       "text": [
        "\n",
        "Skipping MIB, due to only have 33/41 years of data"
       ]
      },
      {
       "output_type": "stream",
       "stream": "stdout",
       "text": [
        "\n",
        "Skipping MIE, due to only have 13/41 years of data"
       ]
      },
      {
       "output_type": "stream",
       "stream": "stdout",
       "text": [
        "\n",
        "Skipping LNN, due to only have 0/41 years of data"
       ]
      },
      {
       "output_type": "stream",
       "stream": "stdout",
       "text": [
        "\n",
        "RAP"
       ]
      },
      {
       "output_type": "stream",
       "stream": "stdout",
       "text": [
        " 10.0111111111 6.0219004065\n",
        "LBF"
       ]
      },
      {
       "output_type": "stream",
       "stream": "stdout",
       "text": [
        " 4.6625 3.98575542005\n",
        "Skipping SAW, due to only have 34/41 years of data"
       ]
      },
      {
       "output_type": "stream",
       "stream": "stdout",
       "text": [
        "\n",
        "Skipping LBL, due to only have 19/41 years of data"
       ]
      },
      {
       "output_type": "stream",
       "stream": "stdout",
       "text": [
        "\n",
        "BFF"
       ]
      },
      {
       "output_type": "stream",
       "stream": "stdout",
       "text": [
        " 6.79513888889 4.10155826558\n",
        "Skipping VIH, due to only have 24/41 years of data"
       ]
      },
      {
       "output_type": "stream",
       "stream": "stdout",
       "text": [
        "\n",
        "Skipping RHI, due to only have 14/41 years of data"
       ]
      },
      {
       "output_type": "stream",
       "stream": "stdout",
       "text": [
        "\n",
        "LNK"
       ]
      },
      {
       "output_type": "stream",
       "stream": "stdout",
       "text": [
        " 3.98333333333 3.51905487805\n",
        "APN"
       ]
      },
      {
       "output_type": "stream",
       "stream": "stdout",
       "text": [
        " 7.71944444444 3.38331639566\n",
        "Skipping DBQ, due to only have 31/41 years of data"
       ]
      },
      {
       "output_type": "stream",
       "stream": "stdout",
       "text": [
        "\n",
        "Skipping HDE, due to only have 10/41 years of data"
       ]
      },
      {
       "output_type": "stream",
       "stream": "stdout",
       "text": [
        "\n",
        "Skipping SZL, due to only have 34/41 years of data"
       ]
      },
      {
       "output_type": "stream",
       "stream": "stdout",
       "text": [
        "\n",
        "Skipping OJC, due to only have 16/41 years of data"
       ]
      },
      {
       "output_type": "stream",
       "stream": "stdout",
       "text": [
        "\n",
        "CEY"
       ]
      },
      {
       "output_type": "stream",
       "stream": "stdout",
       "text": [
        " 0 0.249983062331\n",
        "DLH"
       ]
      },
      {
       "output_type": "stream",
       "stream": "stdout",
       "text": [
        " 33.6451388889 16.9985264228\n",
        "RFD"
       ]
      },
      {
       "output_type": "stream",
       "stream": "stdout",
       "text": [
        " 12.5034722222 4.58036924119\n",
        "Skipping PHP, due to only have 14/41 years of data"
       ]
      },
      {
       "output_type": "stream",
       "stream": "stdout",
       "text": [
        "\n",
        "Skipping TBN, due to only have 7/41 years of data"
       ]
      },
      {
       "output_type": "stream",
       "stream": "stdout",
       "text": [
        "\n",
        "Skipping BTL, due to only have 23/41 years of data"
       ]
      },
      {
       "output_type": "stream",
       "stream": "stdout",
       "text": [
        "\n",
        "Skipping CZD, due to only have 12/41 years of data"
       ]
      },
      {
       "output_type": "stream",
       "stream": "stdout",
       "text": [
        "\n",
        "Skipping HTL, due to only have 32/41 years of data"
       ]
      },
      {
       "output_type": "stream",
       "stream": "stdout",
       "text": [
        "\n",
        "Skipping FLV, due to only have 36/41 years of data"
       ]
      },
      {
       "output_type": "stream",
       "stream": "stdout",
       "text": [
        "\n",
        "ISN"
       ]
      },
      {
       "output_type": "stream",
       "stream": "stdout",
       "text": [
        " 25.9979166667 19.5202743902\n",
        "LUK"
       ]
      },
      {
       "output_type": "stream",
       "stream": "stdout",
       "text": [
        " 2.10347222222 0.512364498645\n",
        "Skipping ATY, due to only have 25/41 years of data"
       ]
      },
      {
       "output_type": "stream",
       "stream": "stdout",
       "text": [
        "\n",
        "Skipping LNR, due to only have 12/41 years of data"
       ]
      },
      {
       "output_type": "stream",
       "stream": "stdout",
       "text": [
        "\n",
        "Skipping JKL, due to only have 33/41 years of data"
       ]
      },
      {
       "output_type": "stream",
       "stream": "stdout",
       "text": [
        "\n",
        "CLE"
       ]
      },
      {
       "output_type": "stream",
       "stream": "stdout",
       "text": [
        " 2.20833333333 0.769275067751\n",
        "Skipping FRI, due to only have 25/41 years of data"
       ]
      },
      {
       "output_type": "stream",
       "stream": "stdout",
       "text": [
        "\n",
        "Skipping FRM, due to only have 20/41 years of data"
       ]
      },
      {
       "output_type": "stream",
       "stream": "stdout",
       "text": [
        "\n",
        "Skipping VTN, due to only have 34/41 years of data"
       ]
      },
      {
       "output_type": "stream",
       "stream": "stdout",
       "text": [
        "\n",
        "Skipping IMT, due to only have 14/41 years of data"
       ]
      },
      {
       "output_type": "stream",
       "stream": "stdout",
       "text": [
        "\n",
        "Skipping BBW, due to only have 13/41 years of data"
       ]
      },
      {
       "output_type": "stream",
       "stream": "stdout",
       "text": [
        "\n",
        "Skipping UNO, due to only have 16/41 years of data"
       ]
      },
      {
       "output_type": "stream",
       "stream": "stdout",
       "text": [
        "\n",
        "OMA"
       ]
      },
      {
       "output_type": "stream",
       "stream": "stdout",
       "text": [
        " 3.47986111111 3.54867886179\n",
        "Skipping YKN, due to only have 20/41 years of data"
       ]
      },
      {
       "output_type": "stream",
       "stream": "stdout",
       "text": [
        "\n",
        "ICT"
       ]
      },
      {
       "output_type": "stream",
       "stream": "stdout",
       "text": [
        " 0.166666666667 0.630182926829\n",
        "BIS"
       ]
      },
      {
       "output_type": "stream",
       "stream": "stdout",
       "text": [
        " 24.3333333333 16.6929200542\n",
        "MLI"
       ]
      },
      {
       "output_type": "stream",
       "stream": "stdout",
       "text": [
        " 9.44027777778 3.40157520325\n",
        "Skipping IML, due to only have 9/41 years of data"
       ]
      },
      {
       "output_type": "stream",
       "stream": "stdout",
       "text": [
        "\n",
        "SLN"
       ]
      },
      {
       "output_type": "stream",
       "stream": "stdout",
       "text": [
        " 0.541666666667 1.15094850949\n",
        "Skipping SLO, due to only have 12/41 years of data"
       ]
      },
      {
       "output_type": "stream",
       "stream": "stdout",
       "text": [
        "\n",
        "Skipping CWA, due to only have 14/41 years of data"
       ]
      },
      {
       "output_type": "stream",
       "stream": "stdout",
       "text": [
        "\n",
        "Skipping MCK, due to only have 12/41 years of data"
       ]
      },
      {
       "output_type": "stream",
       "stream": "stdout",
       "text": [
        "\n",
        "Skipping OTM, due to only have 36/41 years of data"
       ]
      },
      {
       "output_type": "stream",
       "stream": "stdout",
       "text": [
        "\n",
        "Skipping OTG, due to only have 18/41 years of data"
       ]
      },
      {
       "output_type": "stream",
       "stream": "stdout",
       "text": [
        "\n",
        "GFK"
       ]
      },
      {
       "output_type": "stream",
       "stream": "stdout",
       "text": [
        " 43.6048611111 25.3944275068\n",
        "MCW"
       ]
      },
      {
       "output_type": "stream",
       "stream": "stdout",
       "text": [
        " 19.6388888889 10.1246273713\n",
        "Skipping AXN, due to only have 9/41 years of data"
       ]
      },
      {
       "output_type": "stream",
       "stream": "stdout",
       "text": [
        "\n",
        "Skipping HSI, due to only have 13/41 years of data"
       ]
      },
      {
       "output_type": "stream",
       "stream": "stdout",
       "text": [
        "\n",
        "Skipping OFK, due to only have 36/41 years of data"
       ]
      },
      {
       "output_type": "stream",
       "stream": "stdout",
       "text": [
        "\n",
        "Skipping BNW, due to only have 14/41 years of data"
       ]
      },
      {
       "output_type": "stream",
       "stream": "stdout",
       "text": [
        "\n",
        "IAB"
       ]
      },
      {
       "output_type": "stream",
       "stream": "stdout",
       "text": [
        " 0 0.399305555556\n",
        "Skipping OIN, due to only have 12/41 years of data"
       ]
      },
      {
       "output_type": "stream",
       "stream": "stdout",
       "text": [
        "\n",
        "Skipping SYF, due to only have 31/41 years of data"
       ]
      },
      {
       "output_type": "stream",
       "stream": "stdout",
       "text": [
        "\n",
        "Skipping PHG, due to only have 12/41 years of data"
       ]
      },
      {
       "output_type": "stream",
       "stream": "stdout",
       "text": [
        "\n",
        "Skipping LXN, due to only have 11/41 years of data"
       ]
      },
      {
       "output_type": "stream",
       "stream": "stdout",
       "text": [
        "\n",
        "Skipping EMP, due to only have 20/41 years of data"
       ]
      },
      {
       "output_type": "stream",
       "stream": "stdout",
       "text": [
        "\n",
        "Skipping GSH, due to only have 16/41 years of data"
       ]
      },
      {
       "output_type": "stream",
       "stream": "stdout",
       "text": [
        "\n",
        "FDY"
       ]
      },
      {
       "output_type": "stream",
       "stream": "stdout",
       "text": [
        " 5.70625 1.4183096206\n",
        "MFD"
       ]
      },
      {
       "output_type": "stream",
       "stream": "stdout",
       "text": [
        " 3.69236111111 1.12037601626\n",
        "FNT"
       ]
      },
      {
       "output_type": "stream",
       "stream": "stdout",
       "text": [
        " 3.92708333333 1.60667344173\n",
        "Skipping MHK, due to only have 15/41 years of data"
       ]
      },
      {
       "output_type": "stream",
       "stream": "stdout",
       "text": [
        "\n",
        "Skipping MHE, due to only have 20/41 years of data"
       ]
      },
      {
       "output_type": "stream",
       "stream": "stdout",
       "text": [
        "\n",
        "Skipping FOE, due to only have 30/41 years of data"
       ]
      },
      {
       "output_type": "stream",
       "stream": "stdout",
       "text": [
        "\n",
        "DDC"
       ]
      },
      {
       "output_type": "stream",
       "stream": "stdout",
       "text": [
        " 0.75 0.90814701897\n",
        "MOT"
       ]
      },
      {
       "output_type": "stream",
       "stream": "stdout",
       "text": [
        " 35.6347222222 18.8546070461\n",
        "Skipping ANW, due to only have 16/41 years of data"
       ]
      },
      {
       "output_type": "stream",
       "stream": "stdout",
       "text": [
        "\n",
        "JLN"
       ]
      },
      {
       "output_type": "stream",
       "stream": "stdout",
       "text": [
        " 0.458333333333 0.497848915989\n",
        "LCK"
       ]
      },
      {
       "output_type": "stream",
       "stream": "stdout",
       "text": [
        " 2.16666666667 0.68343495935\n",
        "Skipping DVL, due to only have 19/41 years of data"
       ]
      },
      {
       "output_type": "stream",
       "stream": "stdout",
       "text": [
        "\n",
        "Skipping ILN, due to only have 14/41 years of data"
       ]
      },
      {
       "output_type": "stream",
       "stream": "stdout",
       "text": [
        "\n",
        "Skipping IKW, due to only have 35/41 years of data"
       ]
      },
      {
       "output_type": "stream",
       "stream": "stdout",
       "text": [
        "\n",
        "Skipping AZO, due to only have 21/41 years of data"
       ]
      },
      {
       "output_type": "stream",
       "stream": "stdout",
       "text": [
        "\n",
        "Skipping OLU, due to only have 19/41 years of data"
       ]
      },
      {
       "output_type": "stream",
       "stream": "stdout",
       "text": [
        "\n",
        "Skipping TVF, due to only have 21/41 years of data"
       ]
      },
      {
       "output_type": "stream",
       "stream": "stdout",
       "text": [
        "\n",
        "TVC"
       ]
      },
      {
       "output_type": "stream",
       "stream": "stdout",
       "text": [
        " 1.59930555556 1.45370934959\n",
        "TOL"
       ]
      },
      {
       "output_type": "stream",
       "stream": "stdout",
       "text": [
        " 5.71805555556 1.48873644986\n",
        "Skipping BJI, due to only have 21/41 years of data"
       ]
      },
      {
       "output_type": "stream",
       "stream": "stdout",
       "text": [
        "\n",
        "Skipping TDZ, due to only have 15/41 years of data"
       ]
      },
      {
       "output_type": "stream",
       "stream": "stdout",
       "text": [
        "\n",
        "Skipping CDR, due to only have 20/41 years of data"
       ]
      },
      {
       "output_type": "stream",
       "stream": "stdout",
       "text": [
        "\n",
        "Skipping CBK, due to only have 31/41 years of data"
       ]
      },
      {
       "output_type": "stream",
       "stream": "stdout",
       "text": [
        "\n",
        "MKG"
       ]
      },
      {
       "output_type": "stream",
       "stream": "stdout",
       "text": [
        " 0.411111111111 0.52391598916\n",
        "Skipping CGF, due to only have 0/41 years of data"
       ]
      },
      {
       "output_type": "stream",
       "stream": "stdout",
       "text": [
        "\n",
        "MKE"
       ]
      },
      {
       "output_type": "stream",
       "stream": "stdout",
       "text": [
        " 6.125 2.54466463415\n",
        "Skipping DIK, due to only have 33/41 years of data"
       ]
      },
      {
       "output_type": "stream",
       "stream": "stdout",
       "text": [
        "\n",
        "Skipping AIO, due to only have 13/41 years of data"
       ]
      },
      {
       "output_type": "stream",
       "stream": "stdout",
       "text": [
        "\n",
        "Skipping MKT, due to only have 18/41 years of data"
       ]
      },
      {
       "output_type": "stream",
       "stream": "stdout",
       "text": [
        "\n",
        "ANJ"
       ]
      },
      {
       "output_type": "stream",
       "stream": "stdout",
       "text": [
        " 14.3333333333 7.71194105691\n",
        "LOU"
       ]
      },
      {
       "output_type": "stream",
       "stream": "stdout",
       "text": [
        " 0.611111111111 0.265633468835\n",
        "Skipping LOZ, due to only have 30/41 years of data"
       ]
      },
      {
       "output_type": "stream",
       "stream": "stdout",
       "text": [
        "\n",
        "Skipping AIA, due to only have 16/41 years of data"
       ]
      },
      {
       "output_type": "stream",
       "stream": "stdout",
       "text": [
        "\n",
        "Skipping RCA, due to only have 35/41 years of data"
       ]
      },
      {
       "output_type": "stream",
       "stream": "stdout",
       "text": [
        "\n",
        "Skipping MBL, due to only have 19/41 years of data"
       ]
      },
      {
       "output_type": "stream",
       "stream": "stdout",
       "text": [
        "\n",
        "FAR"
       ]
      },
      {
       "output_type": "stream",
       "stream": "stdout",
       "text": [
        " 36.3604166667 21.2475948509\n",
        "Skipping OWB, due to only have 7/41 years of data"
       ]
      },
      {
       "output_type": "stream",
       "stream": "stdout",
       "text": [
        "\n",
        "Skipping PLN, due to only have 35/41 years of data"
       ]
      },
      {
       "output_type": "stream",
       "stream": "stdout",
       "text": [
        "\n",
        "MBS"
       ]
      },
      {
       "output_type": "stream",
       "stream": "stdout",
       "text": [
        " 2.27361111111 1.34146341463\n",
        "Skipping MTW, due to only have 18/41 years of data"
       ]
      },
      {
       "output_type": "stream",
       "stream": "stdout",
       "text": [
        "\n",
        "Skipping IRK, due to only have 14/41 years of data"
       ]
      },
      {
       "output_type": "stream",
       "stream": "stdout",
       "text": [
        "\n",
        "MTC"
       ]
      },
      {
       "output_type": "stream",
       "stream": "stdout",
       "text": [
        " 3.81736111111 0.53287601626\n",
        "SDF"
       ]
      },
      {
       "output_type": "stream",
       "stream": "stdout",
       "text": [
        " 0.5 0.289735772358\n",
        "Skipping BIE, due to only have 15/41 years of data"
       ]
      },
      {
       "output_type": "stream",
       "stream": "stdout",
       "text": [
        "\n",
        "Skipping Y22, due to only have 12/41 years of data"
       ]
      },
      {
       "output_type": "stream",
       "stream": "stdout",
       "text": [
        "\n",
        "Skipping IOW, due to only have 17/41 years of data"
       ]
      },
      {
       "output_type": "stream",
       "stream": "stdout",
       "text": [
        "\n",
        "PIA"
       ]
      },
      {
       "output_type": "stream",
       "stream": "stdout",
       "text": [
        " 5.43125 2.62750677507\n",
        "UIN"
       ]
      },
      {
       "output_type": "stream",
       "stream": "stdout",
       "text": [
        " 4.73194444444 2.01148373984\n",
        "PIR"
       ]
      },
      {
       "output_type": "stream",
       "stream": "stdout",
       "text": [
        " 13.1875 8.17359417344\n",
        "FWA"
       ]
      },
      {
       "output_type": "stream",
       "stream": "stdout",
       "text": [
        " 6.35347222222 1.98880420054\n",
        "Skipping JVL, due to only have 10/41 years of data"
       ]
      },
      {
       "output_type": "stream",
       "stream": "stdout",
       "text": [
        "\n",
        "SGF"
       ]
      },
      {
       "output_type": "stream",
       "stream": "stdout",
       "text": [
        " 0.791666666667 0.664583333333\n",
        "DET"
       ]
      },
      {
       "output_type": "stream",
       "stream": "stdout",
       "text": [
        " 1.54305555556 0.428861788618\n",
        "Skipping CNU, due to only have 23/41 years of data"
       ]
      },
      {
       "output_type": "stream",
       "stream": "stdout",
       "text": [
        "\n",
        "Skipping PTK, due to only have 14/41 years of data"
       ]
      },
      {
       "output_type": "stream",
       "stream": "stdout",
       "text": [
        "\n",
        "Skipping JMS, due to only have 33/41 years of data"
       ]
      },
      {
       "output_type": "stream",
       "stream": "stdout",
       "text": [
        "\n",
        "Skipping OSU, due to only have 15/41 years of data"
       ]
      },
      {
       "output_type": "stream",
       "stream": "stdout",
       "text": [
        "\n",
        "Skipping OSH, due to only have 16/41 years of data"
       ]
      },
      {
       "output_type": "stream",
       "stream": "stdout",
       "text": [
        "\n",
        "Skipping MNM, due to only have 19/41 years of data"
       ]
      },
      {
       "output_type": "stream",
       "stream": "stdout",
       "text": [
        "\n",
        "Skipping OSC, due to only have 34/41 years of data"
       ]
      },
      {
       "output_type": "stream",
       "stream": "stdout",
       "text": [
        "\n",
        "Skipping BMG, due to only have 11/41 years of data"
       ]
      },
      {
       "output_type": "stream",
       "stream": "stdout",
       "text": [
        "\n",
        "FSD"
       ]
      },
      {
       "output_type": "stream",
       "stream": "stdout",
       "text": [
        " 17.0368055556 9.71824186992\n",
        "Skipping VOK, due to only have 6/41 years of data"
       ]
      },
      {
       "output_type": "stream",
       "stream": "stdout",
       "text": [
        "\n",
        "Skipping ESC, due to only have 19/41 years of data"
       ]
      },
      {
       "output_type": "stream",
       "stream": "stdout",
       "text": [
        "\n",
        "Skipping SUS, due to only have 32/41 years of data"
       ]
      },
      {
       "output_type": "stream",
       "stream": "stdout",
       "text": [
        "\n",
        "SUX"
       ]
      },
      {
       "output_type": "stream",
       "stream": "stdout",
       "text": [
        " 9.11458333333 6.18946476965\n",
        "Skipping BKL, due to only have 15/41 years of data"
       ]
      },
      {
       "output_type": "stream",
       "stream": "stdout",
       "text": [
        "\n",
        "ZZV"
       ]
      },
      {
       "output_type": "stream",
       "stream": "stdout",
       "text": [
        " 2.81041666667 0.937923441734\n",
        "CNK"
       ]
      },
      {
       "output_type": "stream",
       "stream": "stdout",
       "text": [
        " 1.08333333333 1.62948848238\n",
        "Skipping BKX, due to only have 19/41 years of data"
       ]
      },
      {
       "output_type": "stream",
       "stream": "stdout",
       "text": [
        "\n",
        "Skipping RDR, due to only have 36/41 years of data"
       ]
      },
      {
       "output_type": "stream",
       "stream": "stdout",
       "text": [
        "\n",
        "Skipping NRN, due to only have 12/41 years of data"
       ]
      },
      {
       "output_type": "stream",
       "stream": "stdout",
       "text": [
        "\n",
        "Skipping MWC, due to only have 6/41 years of data"
       ]
      },
      {
       "output_type": "stream",
       "stream": "stdout",
       "text": [
        "\n",
        "MCI"
       ]
      },
      {
       "output_type": "stream",
       "stream": "stdout",
       "text": [
        " 1.5 1.46539634146\n",
        "Skipping LEM, due to only have 12/41 years of data"
       ]
      },
      {
       "output_type": "stream",
       "stream": "stdout",
       "text": [
        "\n",
        "BRL"
       ]
      },
      {
       "output_type": "stream",
       "stream": "stdout",
       "text": [
        " 6.39861111111 2.9066395664\n",
        "LEX"
       ]
      },
      {
       "output_type": "stream",
       "stream": "stdout",
       "text": [
        " 1.12708333333 0.422713414634\n",
        "Skipping BRD, due to only have 9/41 years of data"
       ]
      },
      {
       "output_type": "stream",
       "stream": "stdout",
       "text": [
        "\n",
        "CID"
       ]
      },
      {
       "output_type": "stream",
       "stream": "stdout",
       "text": [
        " 14.6222222222 5.87339092141\n",
        "YNG"
       ]
      },
      {
       "output_type": "stream",
       "stream": "stdout",
       "text": [
        " 2.84861111111 0.956690379404\n",
        "MSP"
       ]
      },
      {
       "output_type": "stream",
       "stream": "stdout",
       "text": [
        " 20.6069444444 9.70868902439\n",
        "MSN"
       ]
      },
      {
       "output_type": "stream",
       "stream": "stdout",
       "text": [
        " 11.8256944444 5.52569444444\n",
        "Skipping LWD, due to only have 15/41 years of data"
       ]
      },
      {
       "output_type": "stream",
       "stream": "stdout",
       "text": [
        "\n",
        "Skipping SGH, due to only have 6/41 years of data"
       ]
      },
      {
       "output_type": "stream",
       "stream": "stdout",
       "text": [
        "\n",
        "Skipping EAR, due to only have 14/41 years of data"
       ]
      },
      {
       "output_type": "stream",
       "stream": "stdout",
       "text": [
        "\n",
        "EAU"
       ]
      },
      {
       "output_type": "stream",
       "stream": "stdout",
       "text": [
        " 24.2347222222 11.6760840108\n",
        "DAY"
       ]
      },
      {
       "output_type": "stream",
       "stream": "stdout",
       "text": [
        " 3.66666666667 1.14085365854\n",
        "HON"
       ]
      },
      {
       "output_type": "stream",
       "stream": "stdout",
       "text": [
        " 17.1340277778 11.1534722222\n",
        "HOP"
       ]
      },
      {
       "output_type": "stream",
       "stream": "stdout",
       "text": [
        " 0 0.200626693767\n",
        "Skipping YIP, due to only have 36/41 years of data"
       ]
      },
      {
       "output_type": "stream",
       "stream": "stdout",
       "text": [
        "\n"
       ]
      }
     ],
     "prompt_number": 1
    },
    {
     "cell_type": "code",
     "collapsed": false,
     "input": [
      "df['ratio'] = df.val / df.climate"
     ],
     "language": "python",
     "metadata": {},
     "outputs": [],
     "prompt_number": 2
    },
    {
     "cell_type": "code",
     "collapsed": false,
     "input": [
      "df[df.network=='KY_ASOS'].sort(['ratio'])"
     ],
     "language": "python",
     "metadata": {},
     "outputs": [
      {
       "html": [
        "<div style=\"max-height:1000px;max-width:1500px;overflow:auto;\">\n",
        "<table border=\"1\" class=\"dataframe\">\n",
        "  <thead>\n",
        "    <tr style=\"text-align: right;\">\n",
        "      <th></th>\n",
        "      <th>climate</th>\n",
        "      <th>lat</th>\n",
        "      <th>lon</th>\n",
        "      <th>network</th>\n",
        "      <th>sid</th>\n",
        "      <th>val</th>\n",
        "      <th>ratio</th>\n",
        "    </tr>\n",
        "  </thead>\n",
        "  <tbody>\n",
        "    <tr>\n",
        "      <th>1 </th>\n",
        "      <td> 0.256877</td>\n",
        "      <td> 36.96453</td>\n",
        "      <td>-86.41967</td>\n",
        "      <td> KY_ASOS</td>\n",
        "      <td> BWG</td>\n",
        "      <td> 0.000000</td>\n",
        "      <td> 0.000000</td>\n",
        "    </tr>\n",
        "    <tr>\n",
        "      <th>34</th>\n",
        "      <td> 0.249983</td>\n",
        "      <td> 36.66460</td>\n",
        "      <td>-88.37280</td>\n",
        "      <td> KY_ASOS</td>\n",
        "      <td> CEY</td>\n",
        "      <td> 0.000000</td>\n",
        "      <td> 0.000000</td>\n",
        "    </tr>\n",
        "    <tr>\n",
        "      <th>85</th>\n",
        "      <td> 0.200627</td>\n",
        "      <td> 36.66857</td>\n",
        "      <td>-87.49618</td>\n",
        "      <td> KY_ASOS</td>\n",
        "      <td> HOP</td>\n",
        "      <td> 0.000000</td>\n",
        "      <td> 0.000000</td>\n",
        "    </tr>\n",
        "    <tr>\n",
        "      <th>64</th>\n",
        "      <td> 0.289736</td>\n",
        "      <td> 38.17439</td>\n",
        "      <td>-85.73600</td>\n",
        "      <td> KY_ASOS</td>\n",
        "      <td> SDF</td>\n",
        "      <td> 0.500000</td>\n",
        "      <td> 1.725710</td>\n",
        "    </tr>\n",
        "    <tr>\n",
        "      <th>60</th>\n",
        "      <td> 0.265633</td>\n",
        "      <td> 38.22800</td>\n",
        "      <td>-85.66372</td>\n",
        "      <td> KY_ASOS</td>\n",
        "      <td> LOU</td>\n",
        "      <td> 0.611111</td>\n",
        "      <td> 2.300580</td>\n",
        "    </tr>\n",
        "    <tr>\n",
        "      <th>77</th>\n",
        "      <td> 0.422713</td>\n",
        "      <td> 38.04080</td>\n",
        "      <td>-84.60580</td>\n",
        "      <td> KY_ASOS</td>\n",
        "      <td> LEX</td>\n",
        "      <td> 1.127083</td>\n",
        "      <td> 2.666306</td>\n",
        "    </tr>\n",
        "    <tr>\n",
        "      <th>24</th>\n",
        "      <td> 0.811196</td>\n",
        "      <td> 39.04306</td>\n",
        "      <td>-84.67167</td>\n",
        "      <td> KY_ASOS</td>\n",
        "      <td> CVG</td>\n",
        "      <td> 2.606250</td>\n",
        "      <td> 3.212849</td>\n",
        "    </tr>\n",
        "  </tbody>\n",
        "</table>\n",
        "</div>"
       ],
       "metadata": {},
       "output_type": "pyout",
       "prompt_number": 9,
       "text": [
        "     climate       lat       lon  network  sid       val     ratio\n",
        "1   0.256877  36.96453 -86.41967  KY_ASOS  BWG  0.000000  0.000000\n",
        "34  0.249983  36.66460 -88.37280  KY_ASOS  CEY  0.000000  0.000000\n",
        "85  0.200627  36.66857 -87.49618  KY_ASOS  HOP  0.000000  0.000000\n",
        "64  0.289736  38.17439 -85.73600  KY_ASOS  SDF  0.500000  1.725710\n",
        "60  0.265633  38.22800 -85.66372  KY_ASOS  LOU  0.611111  2.300580\n",
        "77  0.422713  38.04080 -84.60580  KY_ASOS  LEX  1.127083  2.666306\n",
        "24  0.811196  39.04306 -84.67167  KY_ASOS  CVG  2.606250  3.212849"
       ]
      }
     ],
     "prompt_number": 9
    },
    {
     "cell_type": "code",
     "collapsed": false,
     "input": [
      "#df = pd.DataFrame(rows)\n",
      "df2 = df[df.ratio<4]\n",
      "\n",
      "from pyiem.plot import MapPlot\n",
      "import numpy as np\n",
      "\n",
      "m = MapPlot(sector='midwest', title=\"Ratio of 2013-2014 Time below 0$^\\circ$F versus 1973-2013 Climatology\",\n",
      "            subtitle=\"based on longterm automated stations hourly METARs, thru 10 PM 27 Feb 2014\")\n",
      "m.contourf(np.array(df2.lon), np.array(df2.lat), np.array(df2.ratio), np.arange(0,5,.5), units='ratio')\n",
      "m.plot_values(df2.lon, df2.lat, df2.val / df2.climate, fmt='%.1f')\n",
      "m.postprocess(filename='test.ps')\n",
      "import iemplot\n",
      "iemplot.makefeature('test')\n",
      "\n"
     ],
     "language": "python",
     "metadata": {},
     "outputs": [
      {
       "metadata": {},
       "output_type": "display_data",
       "png": "[encoded data removed]",
       "text": [
        "<matplotlib.figure.Figure at 0x5748110>"
       ]
      }
     ],
     "prompt_number": 8
    },
    {
     "cell_type": "code",
     "collapsed": false,
     "input": [],
     "language": "python",
     "metadata": {},
     "outputs": []
    }
   ],
   "metadata": {}
  }
 ]
}