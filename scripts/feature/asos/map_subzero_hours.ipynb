{
 "metadata": {
  "name": ""
 },
 "nbformat": 3,
 "nbformat_minor": 0,
 "worksheets": [
  {
   "cells": [
    {
     "cell_type": "code",
     "collapsed": false,
     "input": [
      "%pylab inline\n",
      "import psycopg2\n",
      "import network\n",
      "import pandas as pd\n",
      "ASOS = psycopg2.connect(database='asos', user='nobody',host='iemdb')\n",
      "acursor = ASOS.cursor()\n",
      "\n",
      "MESOSITE = psycopg2.connect(database='mesosite', user='nobody', host='iemdb')\n",
      "mcursor = MESOSITE.cursor()\n",
      "\n",
      "networks = ['AWOS',]\n",
      "mcursor.execute(\"\"\"SELECT distinct network from stations where country = 'US' and \n",
      " network ~* 'ASOS'\"\"\")\n",
      "for row in mcursor:\n",
      "    networks.append( row[0] )\n",
      "\n",
      "nt = network.Table(('IA_ASOS','MO_ASOS','IL_ASOS', 'ND_ASOS', 'AWOS',\n",
      "          'WI_ASOS','MN_ASOS', 'SD_ASOS', 'NE_ASOS', 'KS_ASOS',\n",
      "          'IN_ASOS','KY_ASOS','OH_ASOS','MI_ASOS'))\n",
      "#nt = network.Table(('IA_ASOS', 'AWOS'))\n",
      "#nt = network.Table(networks)\n",
      "rows = []\n",
      "for sid in nt.sts.keys():\n",
      "    if nt.sts[sid]['archive_begin'] is None or nt.sts[sid]['archive_begin'].year > 1973:\n",
      "        continue\n",
      "\n",
      "    # Compute climatology, 41 years\n",
      "    acursor.execute(\"\"\"\n",
      " select sum(valid - lag) from \n",
      " (select valid, lag(valid) OVER (ORDER by valid ASC), tmpf from alldata \n",
      " where station = %s and valid < '2013-09-01' and valid > '1972-09-01') as foo \n",
      " WHERE tmpf < -0.49 \n",
      "    \"\"\", (sid,))\n",
      "    row = acursor.fetchone()\n",
      "    if row[0] is None:\n",
      "        continue\n",
      "    climate = ((row[0].days * 86400. + row[0].seconds) / 86400.0) / 41.0\n",
      "        \n",
      "    acursor.execute(\"\"\"\n",
      " select sum(valid - lag) from \n",
      " (select valid, lag(valid) OVER (ORDER by valid ASC), tmpf from alldata \n",
      " where station = %s and valid > '2013-09-01') as foo \n",
      " WHERE tmpf < -0.49 \n",
      "    \"\"\", (sid,))\n",
      "    \n",
      "    row = acursor.fetchone()\n",
      "    if row[0] is None:\n",
      "        delta = 0\n",
      "    else:\n",
      "        delta = (row[0].days * 86400. + row[0].seconds) / 86400.0\n",
      "    rows.append( dict(sid=sid, lat=nt.sts[sid]['lat'], lon=nt.sts[sid]['lon'], val=delta,\n",
      "                      climate=climate, network=nt.sts[sid]['network']))\n",
      "    print sid, delta, climate\n",
      "\n",
      "df = pd.DataFrame(rows)"
     ],
     "language": "python",
     "metadata": {},
     "outputs": [
      {
       "output_type": "stream",
       "stream": "stdout",
       "text": [
        "Populating the interactive namespace from numpy and matplotlib\n",
        "SPI"
       ]
      },
      {
       "output_type": "stream",
       "stream": "stdout",
       "text": [
        " 4.19861111111 1.8002201897\n",
        "BWG"
       ]
      },
      {
       "output_type": "stream",
       "stream": "stdout",
       "text": [
        " 0 0.256876693767\n",
        "IXD"
       ]
      },
      {
       "output_type": "stream",
       "stream": "stdout",
       "text": [
        " 1.48541666667 0.23560298103\n",
        "LAN"
       ]
      },
      {
       "output_type": "stream",
       "stream": "stdout",
       "text": [
        " 3.05625 1.92344173442\n",
        "LAF"
       ]
      },
      {
       "output_type": "stream",
       "stream": "stdout",
       "text": [
        " 5.38333333333 1.82494918699\n",
        "FFO"
       ]
      },
      {
       "output_type": "stream",
       "stream": "stdout",
       "text": [
        " 3.71041666667 0.904776422764\n",
        "SNY"
       ]
      },
      {
       "output_type": "stream",
       "stream": "stdout",
       "text": [
        " 3.63055555556 2.89903455285\n",
        "BEH"
       ]
      },
      {
       "output_type": "stream",
       "stream": "stdout",
       "text": [
        " 2.56180555556 0.49402100271\n",
        "GUS"
       ]
      },
      {
       "output_type": "stream",
       "stream": "stdout",
       "text": [
        " 7.53472222222 1.79683265583\n",
        "PAH"
       ]
      },
      {
       "output_type": "stream",
       "stream": "stdout",
       "text": [
        " 0 0.428861788618\n",
        "CMX"
       ]
      },
      {
       "output_type": "stream",
       "stream": "stdout",
       "text": [
        " 9.98263888889 4.32069783198\n",
        "DTW"
       ]
      },
      {
       "output_type": "stream",
       "stream": "stdout",
       "text": [
        " 3.74444444444 0.968495934959\n",
        "EVV"
       ]
      },
      {
       "output_type": "stream",
       "stream": "stdout",
       "text": [
        " 0.719444444444 0.543326558266\n",
        "HUF"
       ]
      },
      {
       "output_type": "stream",
       "stream": "stdout",
       "text": [
        " 3.86666666667 1.55741869919\n",
        "LSE"
       ]
      },
      {
       "output_type": "stream",
       "stream": "stdout",
       "text": [
        " 15.3826388889 7.43589092141\n",
        "HUT"
       ]
      },
      {
       "output_type": "stream",
       "stream": "stdout",
       "text": [
        " 0.291666666667 0.696324525745\n",
        "GCK"
       ]
      },
      {
       "output_type": "stream",
       "stream": "stdout",
       "text": [
        " 0.666666666667 1.27162940379\n",
        "GRR"
       ]
      },
      {
       "output_type": "stream",
       "stream": "stdout",
       "text": [
        " 1.18611111111 0.964380081301\n",
        "BLM"
       ]
      },
      {
       "output_type": "stream",
       "stream": "stdout",
       "text": [
        " 0 0.184620596206\n",
        "DSM"
       ]
      },
      {
       "output_type": "stream",
       "stream": "stdout",
       "text": [
        " 5.70833333333 4.18704268293\n",
        "GRB"
       ]
      },
      {
       "output_type": "stream",
       "stream": "stdout",
       "text": [
        " 14.4618055556 6.55684281843\n",
        "FTK"
       ]
      },
      {
       "output_type": "stream",
       "stream": "stdout",
       "text": [
        " 0.611805555556 0.357588075881\n",
        "GRI"
       ]
      },
      {
       "output_type": "stream",
       "stream": "stdout",
       "text": [
        " 2.66666666667 3.42786246612\n",
        "RWF"
       ]
      },
      {
       "output_type": "stream",
       "stream": "stdout",
       "text": [
        " 22.5840277778 11.3269817073\n",
        "INL"
       ]
      },
      {
       "output_type": "stream",
       "stream": "stdout",
       "text": [
        " 44.2805555556 28.1993394309\n",
        "IND"
       ]
      },
      {
       "output_type": "stream",
       "stream": "stdout",
       "text": [
        " 3.67708333333 1.40980691057\n",
        "HLC"
       ]
      },
      {
       "output_type": "stream",
       "stream": "stdout",
       "text": [
        " 1.375 1.69361449864\n",
        "AKR"
       ]
      },
      {
       "output_type": "stream",
       "stream": "stdout",
       "text": [
        " 3.36180555556 0.122764227642\n",
        "GLD"
       ]
      },
      {
       "output_type": "stream",
       "stream": "stdout",
       "text": [
        " 2.41666666667 1.84073509485\n",
        "MKC"
       ]
      },
      {
       "output_type": "stream",
       "stream": "stdout",
       "text": [
        " 0.458333333333 0.721798780488\n",
        "CMH"
       ]
      },
      {
       "output_type": "stream",
       "stream": "stdout",
       "text": [
        " 2.06875 0.761974932249\n",
        "IWD"
       ]
      },
      {
       "output_type": "stream",
       "stream": "stdout",
       "text": [
        " 19.7083333333 11.0905149051\n",
        "JEF"
       ]
      },
      {
       "output_type": "stream",
       "stream": "stdout",
       "text": [
        " 1.96388888889 1.07989498645\n",
        "AUW"
       ]
      },
      {
       "output_type": "stream",
       "stream": "stdout",
       "text": [
        " 23.2777777778 10.1098069106\n",
        "ALO"
       ]
      },
      {
       "output_type": "stream",
       "stream": "stdout",
       "text": [
        " 16.0083333333 8.17098577236\n",
        "ORD"
       ]
      },
      {
       "output_type": "stream",
       "stream": "stdout",
       "text": [
        " 6.47152777778 2.39398712737\n",
        "TOP"
       ]
      },
      {
       "output_type": "stream",
       "stream": "stdout",
       "text": [
        " 0.916666666667 1.3404302168\n",
        "CAK"
       ]
      },
      {
       "output_type": "stream",
       "stream": "stdout",
       "text": [
        " 2.64861111111 0.958841463415\n",
        "CVG"
       ]
      },
      {
       "output_type": "stream",
       "stream": "stdout",
       "text": [
        " 2.60625 0.811195799458\n",
        "OFF"
       ]
      },
      {
       "output_type": "stream",
       "stream": "stdout",
       "text": [
        " 4.68611111111 2.44410569106\n",
        "BAK"
       ]
      },
      {
       "output_type": "stream",
       "stream": "stdout",
       "text": [
        " 5.72361111111 0.0955284552846\n",
        "CAD"
       ]
      },
      {
       "output_type": "stream",
       "stream": "stdout",
       "text": [
        " 3.79791666667 1.56905487805\n",
        "ONL"
       ]
      },
      {
       "output_type": "stream",
       "stream": "stdout",
       "text": [
        " 6.61111111111 2.57000338753\n",
        "HIB"
       ]
      },
      {
       "output_type": "stream",
       "stream": "stdout",
       "text": [
        " 40.0451388889 13.3728827913\n",
        "STC"
       ]
      },
      {
       "output_type": "stream",
       "stream": "stdout",
       "text": [
        " 29.7631944444 15.9856876694\n",
        "STL"
       ]
      },
      {
       "output_type": "stream",
       "stream": "stdout",
       "text": [
        " 1.125 0.627879403794\n",
        "STJ"
       ]
      },
      {
       "output_type": "stream",
       "stream": "stdout",
       "text": [
        " 4.24375 3.12818428184\n",
        "ABR"
       ]
      },
      {
       "output_type": "stream",
       "stream": "stdout",
       "text": [
        " 28.1166666667 14.404149729\n",
        "SBN"
       ]
      },
      {
       "output_type": "stream",
       "stream": "stdout",
       "text": [
        " 5.77569444444 1.44251355014\n",
        "JXN"
       ]
      },
      {
       "output_type": "stream",
       "stream": "stdout",
       "text": [
        " 4.53472222222 1.79530826558\n",
        "RSL"
       ]
      },
      {
       "output_type": "stream",
       "stream": "stdout",
       "text": [
        " 0.716666666667 1.6074695122\n",
        "RST"
       ]
      },
      {
       "output_type": "stream",
       "stream": "stdout",
       "text": [
        " 21.1395833333 11.6563685637\n",
        "ACB"
       ]
      },
      {
       "output_type": "stream",
       "stream": "stdout",
       "text": [
        " 2.54166666667 3.28844850949\n",
        "MIB"
       ]
      },
      {
       "output_type": "stream",
       "stream": "stdout",
       "text": [
        " 37.7777777778 22.5830623306\n",
        "MIE"
       ]
      },
      {
       "output_type": "stream",
       "stream": "stdout",
       "text": [
        " 5.50694444444 0.499830623306\n",
        "LNN"
       ]
      },
      {
       "output_type": "stream",
       "stream": "stdout",
       "text": [
        " 0 0.137178184282\n",
        "RAP"
       ]
      },
      {
       "output_type": "stream",
       "stream": "stdout",
       "text": [
        " 9.76111111111 6.0219004065\n",
        "LBF"
       ]
      },
      {
       "output_type": "stream",
       "stream": "stdout",
       "text": [
        " 4.27430555556 3.98575542005\n",
        "SAW"
       ]
      },
      {
       "output_type": "stream",
       "stream": "stdout",
       "text": [
        " 18.4458333333 7.07030826558\n",
        "LBL"
       ]
      },
      {
       "output_type": "stream",
       "stream": "stdout",
       "text": [
        " 0.0416666666667 0.492547425474\n",
        "BFF"
       ]
      },
      {
       "output_type": "stream",
       "stream": "stdout",
       "text": [
        " 6.29513888889 4.10155826558\n",
        "VIH"
       ]
      },
      {
       "output_type": "stream",
       "stream": "stdout",
       "text": [
        " 1.58333333333 1.04886517615\n",
        "RHI"
       ]
      },
      {
       "output_type": "stream",
       "stream": "stdout",
       "text": [
        " 26.80625 14.3042852304\n",
        "LNK"
       ]
      },
      {
       "output_type": "stream",
       "stream": "stdout",
       "text": [
        " 3.98333333333 3.51905487805\n",
        "APN"
       ]
      },
      {
       "output_type": "stream",
       "stream": "stdout",
       "text": [
        " 7.38611111111 3.38331639566\n",
        "DBQ"
       ]
      },
      {
       "output_type": "stream",
       "stream": "stdout",
       "text": [
        " 16.0805555556 4.91812330623\n",
        "HDE"
       ]
      },
      {
       "output_type": "stream",
       "stream": "stdout",
       "text": [
        " 2.29166666667 1.26056910569\n",
        "SZL"
       ]
      },
      {
       "output_type": "stream",
       "stream": "stdout",
       "text": [
        " 1.91666666667 1.04713753388\n",
        "OJC"
       ]
      },
      {
       "output_type": "stream",
       "stream": "stdout",
       "text": [
        " 1.08333333333 0.347747289973\n",
        "CEY"
       ]
      },
      {
       "output_type": "stream",
       "stream": "stdout",
       "text": [
        " 0 0.249983062331\n",
        "DLH"
       ]
      },
      {
       "output_type": "stream",
       "stream": "stdout",
       "text": [
        " 33.0201388889 16.9985264228\n",
        "RFD"
       ]
      },
      {
       "output_type": "stream",
       "stream": "stdout",
       "text": [
        " 12.2534722222 4.58036924119\n",
        "PHP"
       ]
      },
      {
       "output_type": "stream",
       "stream": "stdout",
       "text": [
        " 11.8430555556 6.39950880759\n",
        "TBN"
       ]
      },
      {
       "output_type": "stream",
       "stream": "stdout",
       "text": [
        " 1.08888888889 0.745867208672\n",
        "BTL"
       ]
      },
      {
       "output_type": "stream",
       "stream": "stdout",
       "text": [
        " 3.31736111111 0.991192411924\n",
        "CZD"
       ]
      },
      {
       "output_type": "stream",
       "stream": "stdout",
       "text": [
        " 0 0.516277100271\n",
        "HTL"
       ]
      },
      {
       "output_type": "stream",
       "stream": "stdout",
       "text": [
        " 5.55 3.43104674797\n",
        "FLV"
       ]
      },
      {
       "output_type": "stream",
       "stream": "stdout",
       "text": [
        " 0 1.43495934959\n",
        "ISN"
       ]
      },
      {
       "output_type": "stream",
       "stream": "stdout",
       "text": [
        " 25.6229166667 19.5202743902\n",
        "LUK"
       ]
      },
      {
       "output_type": "stream",
       "stream": "stdout",
       "text": [
        " 2.10347222222 0.512364498645\n",
        "ATY"
       ]
      },
      {
       "output_type": "stream",
       "stream": "stdout",
       "text": [
        " 28.0770833333 15.3005081301\n",
        "LNR"
       ]
      },
      {
       "output_type": "stream",
       "stream": "stdout",
       "text": [
        " 15.0826388889 11.5529979675\n",
        "JKL"
       ]
      },
      {
       "output_type": "stream",
       "stream": "stdout",
       "text": [
        " 0.961111111111 0.248390921409\n",
        "CLE"
       ]
      },
      {
       "output_type": "stream",
       "stream": "stdout",
       "text": [
        " 2.20833333333 0.769275067751\n",
        "FRI"
       ]
      },
      {
       "output_type": "stream",
       "stream": "stdout",
       "text": [
        " 1.08333333333 1.14612127371\n",
        "FRM"
       ]
      },
      {
       "output_type": "stream",
       "stream": "stdout",
       "text": [
        " 15.5694444444 11.679403794\n",
        "VTN"
       ]
      },
      {
       "output_type": "stream",
       "stream": "stdout",
       "text": [
        " 8.00208333333 6.40088075881\n",
        "IMT"
       ]
      },
      {
       "output_type": "stream",
       "stream": "stdout",
       "text": [
        " 20.3375 7.37686314363\n",
        "BBW"
       ]
      },
      {
       "output_type": "stream",
       "stream": "stdout",
       "text": [
        " 4.91111111111 4.6935298103\n",
        "UNO"
       ]
      },
      {
       "output_type": "stream",
       "stream": "stdout",
       "text": [
        " 0.666666666667 0.206300813008\n",
        "OMA"
       ]
      },
      {
       "output_type": "stream",
       "stream": "stdout",
       "text": [
        " 3.47986111111 3.54867886179\n",
        "YKN"
       ]
      },
      {
       "output_type": "stream",
       "stream": "stdout",
       "text": [
        " 8.38888888889 7.53370596206\n",
        "ICT"
       ]
      },
      {
       "output_type": "stream",
       "stream": "stdout",
       "text": [
        " 0.166666666667 0.630182926829\n",
        "BIS"
       ]
      },
      {
       "output_type": "stream",
       "stream": "stdout",
       "text": [
        " 23.9583333333 16.6929200542\n",
        "MLI"
       ]
      },
      {
       "output_type": "stream",
       "stream": "stdout",
       "text": [
        " 9.23194444444 3.40157520325\n",
        "IML"
       ]
      },
      {
       "output_type": "stream",
       "stream": "stdout",
       "text": [
        " 3.40763888889 1.78257113821\n",
        "SLN"
       ]
      },
      {
       "output_type": "stream",
       "stream": "stdout",
       "text": [
        " 0.519444444444 1.15094850949\n",
        "SLO"
       ]
      },
      {
       "output_type": "stream",
       "stream": "stdout",
       "text": [
        " 1.63888888889 0.0189701897019\n",
        "CWA"
       ]
      },
      {
       "output_type": "stream",
       "stream": "stdout",
       "text": [
        " 20.4909722222 9.94339430894\n",
        "MCK"
       ]
      },
      {
       "output_type": "stream",
       "stream": "stdout",
       "text": [
        " 2.88958333333 2.36734417344\n",
        "OTM"
       ]
      },
      {
       "output_type": "stream",
       "stream": "stdout",
       "text": [
        " 7.54166666667 3.67029132791\n",
        "OTG"
       ]
      },
      {
       "output_type": "stream",
       "stream": "stdout",
       "text": [
        " 17.2083333333 11.585653794\n",
        "GFK"
       ]
      },
      {
       "output_type": "stream",
       "stream": "stdout",
       "text": [
        " 43.1881944444 25.3944275068\n",
        "MCW"
       ]
      },
      {
       "output_type": "stream",
       "stream": "stdout",
       "text": [
        " 18.8472222222 10.1246273713\n",
        "AXN"
       ]
      },
      {
       "output_type": "stream",
       "stream": "stdout",
       "text": [
        " 33.9715277778 3.83799119241\n",
        "HSI"
       ]
      },
      {
       "output_type": "stream",
       "stream": "stdout",
       "text": [
        " 2.69027777778 2.70923102981\n",
        "OFK"
       ]
      },
      {
       "output_type": "stream",
       "stream": "stdout",
       "text": [
        " 6.36041666667 5.43990514905\n",
        "BNW"
       ]
      },
      {
       "output_type": "stream",
       "stream": "stdout",
       "text": [
        " 6.1875 3.82164634146\n",
        "IAB"
       ]
      },
      {
       "output_type": "stream",
       "stream": "stdout",
       "text": [
        " 0 0.399305555556\n",
        "OIN"
       ]
      },
      {
       "output_type": "stream",
       "stream": "stdout",
       "text": [
        " 0 2.42064701897\n",
        "SYF"
       ]
      },
      {
       "output_type": "stream",
       "stream": "stdout",
       "text": [
        " 2.22222222222 1.64295392954\n",
        "PHG"
       ]
      },
      {
       "output_type": "stream",
       "stream": "stdout",
       "text": [
        " 0 1.63008130081\n",
        "LXN"
       ]
      },
      {
       "output_type": "stream",
       "stream": "stdout",
       "text": [
        " 3.46180555556 0.596426151762\n",
        "EMP"
       ]
      },
      {
       "output_type": "stream",
       "stream": "stdout",
       "text": [
        " 0.875 1.03958333333\n",
        "GSH"
       ]
      },
      {
       "output_type": "stream",
       "stream": "stdout",
       "text": [
        " 6.20347222222 0.54945799458\n",
        "FDY"
       ]
      },
      {
       "output_type": "stream",
       "stream": "stdout",
       "text": [
        " 5.70625 1.4183096206\n",
        "MFD"
       ]
      },
      {
       "output_type": "stream",
       "stream": "stdout",
       "text": [
        " 3.69236111111 1.12037601626\n",
        "FNT"
       ]
      },
      {
       "output_type": "stream",
       "stream": "stdout",
       "text": [
        " 3.92708333333 1.60667344173\n",
        "MHK"
       ]
      },
      {
       "output_type": "stream",
       "stream": "stdout",
       "text": [
        " 0.763194444444 1.93028455285\n",
        "MHE"
       ]
      },
      {
       "output_type": "stream",
       "stream": "stdout",
       "text": [
        " 12.8333333333 7.91427845528\n",
        "FOE"
       ]
      },
      {
       "output_type": "stream",
       "stream": "stdout",
       "text": [
        " 1.125 0.970748644986\n",
        "DDC"
       ]
      },
      {
       "output_type": "stream",
       "stream": "stdout",
       "text": [
        " 0.75 0.90814701897\n",
        "MOT"
       ]
      },
      {
       "output_type": "stream",
       "stream": "stdout",
       "text": [
        " 35.3430555556 18.8546070461\n",
        "ANW"
       ]
      },
      {
       "output_type": "stream",
       "stream": "stdout",
       "text": [
        " 6.31944444444 5.42798102981\n",
        "JLN"
       ]
      },
      {
       "output_type": "stream",
       "stream": "stdout",
       "text": [
        " 0.458333333333 0.497848915989\n",
        "LCK"
       ]
      },
      {
       "output_type": "stream",
       "stream": "stdout",
       "text": [
        " 2.16666666667 0.0447323848238\n",
        "DVL"
       ]
      },
      {
       "output_type": "stream",
       "stream": "stdout",
       "text": [
        " 40.2083333333 24.5092649051\n",
        "ILN"
       ]
      },
      {
       "output_type": "stream",
       "stream": "stdout",
       "text": [
        " 2.58333333333 0.157926829268\n",
        "IKW"
       ]
      },
      {
       "output_type": "stream",
       "stream": "stdout",
       "text": [
        " 4.13194444444 1.26141598916\n",
        "AZO"
       ]
      },
      {
       "output_type": "stream",
       "stream": "stdout",
       "text": [
        " 3.39097222222 0.646646341463\n",
        "OLU"
       ]
      },
      {
       "output_type": "stream",
       "stream": "stdout",
       "text": [
        " 3.94444444444 4.73492547425\n",
        "TVF"
       ]
      },
      {
       "output_type": "stream",
       "stream": "stdout",
       "text": [
        " 43.4305555556 27.0439701897\n",
        "TVC"
       ]
      },
      {
       "output_type": "stream",
       "stream": "stdout",
       "text": [
        " 1.56319444444 1.45370934959\n",
        "TOL"
       ]
      },
      {
       "output_type": "stream",
       "stream": "stdout",
       "text": [
        " 5.71805555556 1.48873644986\n",
        "BJI"
       ]
      },
      {
       "output_type": "stream",
       "stream": "stdout",
       "text": [
        " 43.9125 23.3092987805\n",
        "TDZ"
       ]
      },
      {
       "output_type": "stream",
       "stream": "stdout",
       "text": [
        " 4.64722222222 0.208841463415\n",
        "CDR"
       ]
      },
      {
       "output_type": "stream",
       "stream": "stdout",
       "text": [
        " 8.40833333333 5.87022357724\n",
        "CBK"
       ]
      },
      {
       "output_type": "stream",
       "stream": "stdout",
       "text": [
        " 1.47222222222 1.63956639566\n",
        "MKG"
       ]
      },
      {
       "output_type": "stream",
       "stream": "stdout",
       "text": [
        " 0.411111111111 0.52391598916\n",
        "CGF"
       ]
      },
      {
       "output_type": "stream",
       "stream": "stdout",
       "text": [
        " 1.5 0.160467479675\n",
        "MKE"
       ]
      },
      {
       "output_type": "stream",
       "stream": "stdout",
       "text": [
        " 6.125 2.54466463415\n",
        "DIK"
       ]
      },
      {
       "output_type": "stream",
       "stream": "stdout",
       "text": [
        " 20.5201388889 14.3173272358\n",
        "AIO"
       ]
      },
      {
       "output_type": "stream",
       "stream": "stdout",
       "text": [
        " 7.75694444444 1.77415311653\n",
        "MKT"
       ]
      },
      {
       "output_type": "stream",
       "stream": "stdout",
       "text": [
        " 18.5972222222 11.3594342818\n",
        "ANJ"
       ]
      },
      {
       "output_type": "stream",
       "stream": "stdout",
       "text": [
        " 13.9583333333 7.71194105691\n",
        "LOU"
       ]
      },
      {
       "output_type": "stream",
       "stream": "stdout",
       "text": [
        " 0.611111111111 0.265633468835\n",
        "LOZ"
       ]
      },
      {
       "output_type": "stream",
       "stream": "stdout",
       "text": [
        " 0.427777777778 0.363973577236\n",
        "AIA"
       ]
      },
      {
       "output_type": "stream",
       "stream": "stdout",
       "text": [
        " 7.47986111111 5.79149728997\n",
        "RCA"
       ]
      },
      {
       "output_type": "stream",
       "stream": "stdout",
       "text": [
        " 8.79027777778 5.25699525745\n",
        "MBL"
       ]
      },
      {
       "output_type": "stream",
       "stream": "stdout",
       "text": [
        " 0.569444444444 2.10967140921\n",
        "FAR"
       ]
      },
      {
       "output_type": "stream",
       "stream": "stdout",
       "text": [
        " 35.8604166667 21.2475948509\n",
        "OWB"
       ]
      },
      {
       "output_type": "stream",
       "stream": "stdout",
       "text": [
        " 0.825 0.0754234417344\n",
        "PLN"
       ]
      },
      {
       "output_type": "stream",
       "stream": "stdout",
       "text": [
        " 9.49652777778 5.60636856369\n",
        "MBS"
       ]
      },
      {
       "output_type": "stream",
       "stream": "stdout",
       "text": [
        " 2.27361111111 1.34146341463\n",
        "MTW"
       ]
      },
      {
       "output_type": "stream",
       "stream": "stdout",
       "text": [
        " 9.46458333333 3.25885840108\n",
        "IRK"
       ]
      },
      {
       "output_type": "stream",
       "stream": "stdout",
       "text": [
        " 4.84444444444 2.70237127371\n",
        "MTC"
       ]
      },
      {
       "output_type": "stream",
       "stream": "stdout",
       "text": [
        " 3.81736111111 0.53287601626\n",
        "SDF"
       ]
      },
      {
       "output_type": "stream",
       "stream": "stdout",
       "text": [
        " 0.5 0.289735772358\n",
        "BIE"
       ]
      },
      {
       "output_type": "stream",
       "stream": "stdout",
       "text": [
        " 2.82986111111 2.90824864499\n",
        "Y22"
       ]
      },
      {
       "output_type": "stream",
       "stream": "stdout",
       "text": [
        " 0 9.34451219512\n",
        "IOW"
       ]
      },
      {
       "output_type": "stream",
       "stream": "stdout",
       "text": [
        " 10.3055555556 1.12437330623\n",
        "PIA"
       ]
      },
      {
       "output_type": "stream",
       "stream": "stdout",
       "text": [
        " 5.43125 2.62750677507\n",
        "UIN"
       ]
      },
      {
       "output_type": "stream",
       "stream": "stdout",
       "text": [
        " 4.73194444444 2.01148373984\n",
        "PIR"
       ]
      },
      {
       "output_type": "stream",
       "stream": "stdout",
       "text": [
        " 12.6458333333 8.17359417344\n",
        "FWA"
       ]
      },
      {
       "output_type": "stream",
       "stream": "stdout",
       "text": [
        " 6.35347222222 1.98880420054\n",
        "JVL"
       ]
      },
      {
       "output_type": "stream",
       "stream": "stdout",
       "text": [
        " 9.34722222222 2.61614159892\n",
        "SGF"
       ]
      },
      {
       "output_type": "stream",
       "stream": "stdout",
       "text": [
        " 0.791666666667 0.664583333333\n",
        "DET"
       ]
      },
      {
       "output_type": "stream",
       "stream": "stdout",
       "text": [
        " 1.54305555556 0.428861788618\n",
        "CNU"
       ]
      },
      {
       "output_type": "stream",
       "stream": "stdout",
       "text": [
        " 0.541666666667 0.815921409214\n",
        "PTK"
       ]
      },
      {
       "output_type": "stream",
       "stream": "stdout",
       "text": [
        " 4.06388888889 0.798458672087\n",
        "JMS"
       ]
      },
      {
       "output_type": "stream",
       "stream": "stdout",
       "text": [
        " 34.5138888889 19.8571138211\n",
        "OSU"
       ]
      },
      {
       "output_type": "stream",
       "stream": "stdout",
       "text": [
        " 3.45208333333 0.414549457995\n",
        "OSH"
       ]
      },
      {
       "output_type": "stream",
       "stream": "stdout",
       "text": [
        " 13.1291666667 5.22921747967\n",
        "MNM"
       ]
      },
      {
       "output_type": "stream",
       "stream": "stdout",
       "text": [
        " 11.9027777778 4.12572831978\n",
        "OSC"
       ]
      },
      {
       "output_type": "stream",
       "stream": "stdout",
       "text": [
        " 6.05486111111 1.57718495935\n",
        "BMG"
       ]
      },
      {
       "output_type": "stream",
       "stream": "stdout",
       "text": [
        " 3.14583333333 0.483587398374\n",
        "FSD"
       ]
      },
      {
       "output_type": "stream",
       "stream": "stdout",
       "text": [
        " 16.4534722222 9.71824186992\n",
        "VOK"
       ]
      },
      {
       "output_type": "stream",
       "stream": "stdout",
       "text": [
        " 17.0208333333 8.77240853659\n",
        "ESC"
       ]
      },
      {
       "output_type": "stream",
       "stream": "stdout",
       "text": [
        " 13.1666666667 5.05775745257\n",
        "SUS"
       ]
      },
      {
       "output_type": "stream",
       "stream": "stdout",
       "text": [
        " 2.25 0.296002710027\n",
        "SUX"
       ]
      },
      {
       "output_type": "stream",
       "stream": "stdout",
       "text": [
        " 9.07291666667 6.18946476965\n",
        "BKL"
       ]
      },
      {
       "output_type": "stream",
       "stream": "stdout",
       "text": [
        " 1.47916666667 0.271714092141\n",
        "ZZV"
       ]
      },
      {
       "output_type": "stream",
       "stream": "stdout",
       "text": [
        " 2.81041666667 0.937923441734\n",
        "CNK"
       ]
      },
      {
       "output_type": "stream",
       "stream": "stdout",
       "text": [
        " 1.08333333333 1.62948848238\n",
        "BKX"
       ]
      },
      {
       "output_type": "stream",
       "stream": "stdout",
       "text": [
        " 0 10.9066734417\n",
        "RDR"
       ]
      },
      {
       "output_type": "stream",
       "stream": "stdout",
       "text": [
        " 41.8125 35.3695799458\n",
        "NRN"
       ]
      },
      {
       "output_type": "stream",
       "stream": "stdout",
       "text": [
        " 0 1.63008130081\n",
        "MWC"
       ]
      },
      {
       "output_type": "stream",
       "stream": "stdout",
       "text": [
        " 5.99305555556 2.35005081301\n",
        "MCI"
       ]
      },
      {
       "output_type": "stream",
       "stream": "stdout",
       "text": [
        " 1.5 1.46539634146\n",
        "LEM"
       ]
      },
      {
       "output_type": "stream",
       "stream": "stdout",
       "text": [
        " 0 9.34451219512\n",
        "BRL"
       ]
      },
      {
       "output_type": "stream",
       "stream": "stdout",
       "text": [
        " 6.39861111111 2.9066395664\n",
        "LEX"
       ]
      },
      {
       "output_type": "stream",
       "stream": "stdout",
       "text": [
        " 1.12708333333 0.422713414634\n",
        "BRD"
       ]
      },
      {
       "output_type": "stream",
       "stream": "stdout",
       "text": [
        " 28.5854166667 3.21668360434\n",
        "CID"
       ]
      },
      {
       "output_type": "stream",
       "stream": "stdout",
       "text": [
        " 14.3305555556 5.87339092141\n",
        "YNG"
       ]
      },
      {
       "output_type": "stream",
       "stream": "stdout",
       "text": [
        " 2.84861111111 0.956690379404\n",
        "MSP"
       ]
      },
      {
       "output_type": "stream",
       "stream": "stdout",
       "text": [
        " 20.0652777778 9.70868902439\n",
        "MSN"
       ]
      },
      {
       "output_type": "stream",
       "stream": "stdout",
       "text": [
        " 11.5340277778 5.52569444444\n",
        "LWD"
       ]
      },
      {
       "output_type": "stream",
       "stream": "stdout",
       "text": [
        " 6.22638888889 2.75221883469\n",
        "SGH"
       ]
      },
      {
       "output_type": "stream",
       "stream": "stdout",
       "text": [
        " 4.57361111111 3.79898373984\n",
        "EAR"
       ]
      },
      {
       "output_type": "stream",
       "stream": "stdout",
       "text": [
        " 2.33333333333 3.49537601626\n",
        "EAU"
       ]
      },
      {
       "output_type": "stream",
       "stream": "stdout",
       "text": [
        " 23.6097222222 11.6760840108\n",
        "DAY"
       ]
      },
      {
       "output_type": "stream",
       "stream": "stdout",
       "text": [
        " 3.66666666667 1.14085365854\n",
        "HON"
       ]
      },
      {
       "output_type": "stream",
       "stream": "stdout",
       "text": [
        " 16.5923611111 11.1534722222\n",
        "HOP"
       ]
      },
      {
       "output_type": "stream",
       "stream": "stdout",
       "text": [
        " 0 0.200626693767\n",
        "YIP"
       ]
      },
      {
       "output_type": "stream",
       "stream": "stdout",
       "text": [
        " 3.78611111111 0.666954607046\n"
       ]
      }
     ],
     "prompt_number": 5
    },
    {
     "cell_type": "code",
     "collapsed": false,
     "input": [
      "df[df.network=='SD_ASOS']"
     ],
     "language": "python",
     "metadata": {},
     "outputs": [
      {
       "html": [
        "<div style=\"max-height:1000px;max-width:1500px;overflow:auto;\">\n",
        "<table border=\"1\" class=\"dataframe\">\n",
        "  <thead>\n",
        "    <tr style=\"text-align: right;\">\n",
        "      <th></th>\n",
        "      <th>climate</th>\n",
        "      <th>lat</th>\n",
        "      <th>lon</th>\n",
        "      <th>network</th>\n",
        "      <th>sid</th>\n",
        "      <th>val</th>\n",
        "    </tr>\n",
        "  </thead>\n",
        "  <tbody>\n",
        "    <tr>\n",
        "      <th>47 </th>\n",
        "      <td> 14.404150</td>\n",
        "      <td> 45.45000</td>\n",
        "      <td> -98.42000</td>\n",
        "      <td> SD_ASOS</td>\n",
        "      <td> ABR</td>\n",
        "      <td> 28.116667</td>\n",
        "    </tr>\n",
        "    <tr>\n",
        "      <th>56 </th>\n",
        "      <td>  6.021900</td>\n",
        "      <td> 44.04533</td>\n",
        "      <td>-103.05736</td>\n",
        "      <td> SD_ASOS</td>\n",
        "      <td> RAP</td>\n",
        "      <td>  9.761111</td>\n",
        "    </tr>\n",
        "    <tr>\n",
        "      <th>72 </th>\n",
        "      <td>  6.399509</td>\n",
        "      <td> 44.05000</td>\n",
        "      <td>-101.60000</td>\n",
        "      <td> SD_ASOS</td>\n",
        "      <td> PHP</td>\n",
        "      <td> 11.843056</td>\n",
        "    </tr>\n",
        "    <tr>\n",
        "      <th>80 </th>\n",
        "      <td> 15.300508</td>\n",
        "      <td> 44.91397</td>\n",
        "      <td> -97.15472</td>\n",
        "      <td> SD_ASOS</td>\n",
        "      <td> ATY</td>\n",
        "      <td> 28.077083</td>\n",
        "    </tr>\n",
        "    <tr>\n",
        "      <th>91 </th>\n",
        "      <td>  7.533706</td>\n",
        "      <td> 42.91669</td>\n",
        "      <td> -97.38594</td>\n",
        "      <td> SD_ASOS</td>\n",
        "      <td> YKN</td>\n",
        "      <td>  8.388889</td>\n",
        "    </tr>\n",
        "    <tr>\n",
        "      <th>119</th>\n",
        "      <td>  7.914278</td>\n",
        "      <td> 43.77483</td>\n",
        "      <td> -98.03861</td>\n",
        "      <td> SD_ASOS</td>\n",
        "      <td> MHE</td>\n",
        "      <td> 12.833333</td>\n",
        "    </tr>\n",
        "    <tr>\n",
        "      <th>148</th>\n",
        "      <td>  5.256995</td>\n",
        "      <td> 44.14509</td>\n",
        "      <td>-103.10357</td>\n",
        "      <td> SD_ASOS</td>\n",
        "      <td> RCA</td>\n",
        "      <td>  8.790278</td>\n",
        "    </tr>\n",
        "    <tr>\n",
        "      <th>159</th>\n",
        "      <td>  9.344512</td>\n",
        "      <td> 45.91666</td>\n",
        "      <td>-102.16666</td>\n",
        "      <td> SD_ASOS</td>\n",
        "      <td> Y22</td>\n",
        "      <td>  0.000000</td>\n",
        "    </tr>\n",
        "    <tr>\n",
        "      <th>163</th>\n",
        "      <td>  8.173594</td>\n",
        "      <td> 44.38269</td>\n",
        "      <td>-100.28597</td>\n",
        "      <td> SD_ASOS</td>\n",
        "      <td> PIR</td>\n",
        "      <td> 12.645833</td>\n",
        "    </tr>\n",
        "    <tr>\n",
        "      <th>176</th>\n",
        "      <td>  9.718242</td>\n",
        "      <td> 43.57694</td>\n",
        "      <td> -96.75361</td>\n",
        "      <td> SD_ASOS</td>\n",
        "      <td> FSD</td>\n",
        "      <td> 16.453472</td>\n",
        "    </tr>\n",
        "    <tr>\n",
        "      <th>184</th>\n",
        "      <td> 10.906673</td>\n",
        "      <td> 44.30483</td>\n",
        "      <td> -96.81694</td>\n",
        "      <td> SD_ASOS</td>\n",
        "      <td> BKX</td>\n",
        "      <td>  0.000000</td>\n",
        "    </tr>\n",
        "    <tr>\n",
        "      <th>189</th>\n",
        "      <td>  9.344512</td>\n",
        "      <td> 45.91870</td>\n",
        "      <td>-102.10618</td>\n",
        "      <td> SD_ASOS</td>\n",
        "      <td> LEM</td>\n",
        "      <td>  0.000000</td>\n",
        "    </tr>\n",
        "    <tr>\n",
        "      <th>202</th>\n",
        "      <td> 11.153472</td>\n",
        "      <td> 44.38519</td>\n",
        "      <td> -98.22856</td>\n",
        "      <td> SD_ASOS</td>\n",
        "      <td> HON</td>\n",
        "      <td> 16.592361</td>\n",
        "    </tr>\n",
        "  </tbody>\n",
        "</table>\n",
        "</div>"
       ],
       "metadata": {},
       "output_type": "pyout",
       "prompt_number": 8,
       "text": [
        "       climate       lat        lon  network  sid        val\n",
        "47   14.404150  45.45000  -98.42000  SD_ASOS  ABR  28.116667\n",
        "56    6.021900  44.04533 -103.05736  SD_ASOS  RAP   9.761111\n",
        "72    6.399509  44.05000 -101.60000  SD_ASOS  PHP  11.843056\n",
        "80   15.300508  44.91397  -97.15472  SD_ASOS  ATY  28.077083\n",
        "91    7.533706  42.91669  -97.38594  SD_ASOS  YKN   8.388889\n",
        "119   7.914278  43.77483  -98.03861  SD_ASOS  MHE  12.833333\n",
        "148   5.256995  44.14509 -103.10357  SD_ASOS  RCA   8.790278\n",
        "159   9.344512  45.91666 -102.16666  SD_ASOS  Y22   0.000000\n",
        "163   8.173594  44.38269 -100.28597  SD_ASOS  PIR  12.645833\n",
        "176   9.718242  43.57694  -96.75361  SD_ASOS  FSD  16.453472\n",
        "184  10.906673  44.30483  -96.81694  SD_ASOS  BKX   0.000000\n",
        "189   9.344512  45.91870 -102.10618  SD_ASOS  LEM   0.000000\n",
        "202  11.153472  44.38519  -98.22856  SD_ASOS  HON  16.592361"
       ]
      }
     ],
     "prompt_number": 8
    },
    {
     "cell_type": "code",
     "collapsed": false,
     "input": [
      "#df = pd.DataFrame(rows)\n",
      "#df2 = df\n",
      "df2 = df[(df.sid!='BKX')&(df.sid!='LEM')&(df.sid!='Y22')]\n",
      "from pyiem.plot import MapPlot\n",
      "import numpy as np\n",
      "\n",
      "m = MapPlot(sector='midwest', title=\"Time (expressed in 24 hour days) below 0$^\\circ$F \",\n",
      "            subtitle=\"based on automated stations hourly METARs, thru 8 AM 26 Feb 2014\")\n",
      "m.contourf(np.array(df2.lon), np.array(df2.lat), np.array(df2.val), np.arange(0,51,5), units='days')\n",
      "m.plot_values(df2.lon, df2.lat, df2.val, fmt='%.1f')\n",
      "m.postprocess(filename='test.png')\n",
      "\n"
     ],
     "language": "python",
     "metadata": {},
     "outputs": [
      {
       "metadata": {},
       "output_type": "display_data",
       "png": "[encoded data removed]",
       "text": [
        "<matplotlib.figure.Figure at 0x4938050>"
       ]
      }
     ],
     "prompt_number": 14
    },
    {
     "cell_type": "code",
     "collapsed": false,
     "input": [],
     "language": "python",
     "metadata": {},
     "outputs": []
    }
   ],
   "metadata": {}
  }
 ]
}