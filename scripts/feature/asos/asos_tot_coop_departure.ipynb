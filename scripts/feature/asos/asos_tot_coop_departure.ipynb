{
 "metadata": {
  "name": ""
 },
 "nbformat": 3,
 "nbformat_minor": 0,
 "worksheets": [
  {
   "cells": [
    {
     "cell_type": "code",
     "collapsed": false,
     "input": [
      "import psycopg2\n",
      "\n",
      "from pyiem import network\n",
      "\n",
      "nt = network.Table(('IA_ASOS','MO_ASOS','IL_ASOS', 'ND_ASOS', 'AWOS',\n",
      "          'WI_ASOS','MN_ASOS', 'SD_ASOS', 'NE_ASOS', 'KS_ASOS',\n",
      "          'IN_ASOS','KY_ASOS','OH_ASOS','MI_ASOS'))\n"
     ],
     "language": "python",
     "metadata": {},
     "outputs": [],
     "prompt_number": 1
    },
    {
     "cell_type": "code",
     "collapsed": false,
     "input": [
      "COOPDB = psycopg2.connect(database='coop', host='iemdb', user='nobody')\n",
      "IEMDB = psycopg2.connect(database='iem', host='iemdb', user='nobody')\n",
      "cursor = IEMDB.cursor()\n",
      "ccursor = COOPDB.cursor()\n",
      "\n",
      "cursor.execute(\"\"\"SELECT id, sum(case when max_tmpf >= 89.5 then 1 else 0 end)\n",
      "  from summary_2014 s JOIN stations t on (t.iemid = s.iemid) WHERE\n",
      "  t.network in ('IA_ASOS','MO_ASOS','IL_ASOS', 'ND_ASOS', 'AWOS',\n",
      "          'WI_ASOS','MN_ASOS', 'SD_ASOS', 'NE_ASOS', 'KS_ASOS',\n",
      "          'IN_ASOS','KY_ASOS','OH_ASOS','MI_ASOS') and max_tmpf < 120 GROUP by id\"\"\")\n",
      "lats = []\n",
      "lons = []\n",
      "vals = []\n",
      "for row in cursor:\n",
      "    if not nt.sts.has_key(row[0]):\n",
      "        continue\n",
      "    climatesite = nt.sts[row[0]]['climate_site']\n",
      "    ccursor.execute(\"\"\"SELECT avg(sum) from (\n",
      "    SELECT year, sum(case when high > 89 then 1 else 0 end) from \n",
      "    alldata_\"\"\"+climatesite[:2]+\"\"\" where station = %s and year > 1950 and year < 2014\n",
      "    and sday < '0725'\n",
      "    GROUP by year) as foo\"\"\", (climatesite,) )\n",
      "    row2 = ccursor.fetchone()\n",
      "    print row[0], nt.sts[row[0]]['network'], row[1], row2[0]\n",
      "    lons.append( nt.sts[row[0]]['lon'] )\n",
      "    lats.append( nt.sts[row[0]]['lat'] )\n",
      "    vals.append( row[1] - row2[0] )\n",
      "    "
     ],
     "language": "python",
     "metadata": {},
     "outputs": [
      {
       "output_type": "stream",
       "stream": "stdout",
       "text": [
        "HOP KY_ASOS 12 23.6984126984126984\n",
        "PEX"
       ]
      },
      {
       "output_type": "stream",
       "stream": "stdout",
       "text": [
        " MN_ASOS 0 6.4603174603174603\n",
        "RDR"
       ]
      },
      {
       "output_type": "stream",
       "stream": "stdout",
       "text": [
        " ND_ASOS 3 5.6666666666666667\n",
        "TOB"
       ]
      },
      {
       "output_type": "stream",
       "stream": "stdout",
       "text": [
        " MN_ASOS 0 7.6825396825396825\n",
        "SGF"
       ]
      },
      {
       "output_type": "stream",
       "stream": "stdout",
       "text": [
        " MO_ASOS 11 19.0158730158730159\n",
        "SZL"
       ]
      },
      {
       "output_type": "stream",
       "stream": "stdout",
       "text": [
        " MO_ASOS 7 17.3015873015873016\n",
        "VES"
       ]
      },
      {
       "output_type": "stream",
       "stream": "stdout",
       "text": [
        " OH_ASOS 1 7.6825396825396825\n",
        "CBF"
       ]
      },
      {
       "output_type": "stream",
       "stream": "stdout",
       "text": [
        " AWOS 7 18.6666666666666667\n",
        "CAD"
       ]
      },
      {
       "output_type": "stream",
       "stream": "stdout",
       "text": [
        " MI_ASOS 0 2.3174603174603175\n",
        "S32"
       ]
      },
      {
       "output_type": "stream",
       "stream": "stdout",
       "text": [
        " ND_ASOS 1 5.9682539682539683\n",
        "RRT"
       ]
      },
      {
       "output_type": "stream",
       "stream": "stdout",
       "text": [
        " MN_ASOS 0 2.1269841269841270\n",
        "RNP"
       ]
      },
      {
       "output_type": "stream",
       "stream": "stdout",
       "text": [
        " MI_ASOS 0 5.1587301587301587\n",
        "DNS"
       ]
      },
      {
       "output_type": "stream",
       "stream": "stdout",
       "text": [
        " AWOS 3 9.0793650793650794\n",
        "CID"
       ]
      },
      {
       "output_type": "stream",
       "stream": "stdout",
       "text": [
        " IA_ASOS 0 10.0476190476190476\n",
        "D25"
       ]
      },
      {
       "output_type": "stream",
       "stream": "stdout",
       "text": [
        " WI_ASOS 0 1.3174603174603175\n",
        "FTK"
       ]
      },
      {
       "output_type": "stream",
       "stream": "stdout",
       "text": [
        " KY_ASOS 10 13.2222222222222222\n",
        "TDZ"
       ]
      },
      {
       "output_type": "stream",
       "stream": "stdout",
       "text": [
        " OH_ASOS 5 10.9365079365079365\n",
        "OFK"
       ]
      },
      {
       "output_type": "stream",
       "stream": "stdout",
       "text": [
        " NE_ASOS 5 17.4444444444444444\n",
        "BJJ"
       ]
      },
      {
       "output_type": "stream",
       "stream": "stdout",
       "text": [
        " OH_ASOS 2 3.6666666666666667\n",
        "TTF"
       ]
      },
      {
       "output_type": "stream",
       "stream": "stdout",
       "text": [
        " MI_ASOS 3 7.2698412698412698\n",
        "RZT"
       ]
      },
      {
       "output_type": "stream",
       "stream": "stdout",
       "text": [
        " OH_ASOS 2 11.8730158730158730\n",
        "BWG"
       ]
      },
      {
       "output_type": "stream",
       "stream": "stdout",
       "text": [
        " KY_ASOS 21 14.2698412698412698\n",
        "AID"
       ]
      },
      {
       "output_type": "stream",
       "stream": "stdout",
       "text": [
        " IN_ASOS 0 6.5873015873015873\n",
        "ATW"
       ]
      },
      {
       "output_type": "stream",
       "stream": "stdout",
       "text": [
        " WI_ASOS 1 4.5555555555555556\n",
        "DEC"
       ]
      },
      {
       "output_type": "stream",
       "stream": "stdout",
       "text": [
        " IL_ASOS 4 18.8095238095238095\n",
        "CDR"
       ]
      },
      {
       "output_type": "stream",
       "stream": "stdout",
       "text": [
        " NE_ASOS 17 19.2539682539682540\n",
        "HNB"
       ]
      },
      {
       "output_type": "stream",
       "stream": "stdout",
       "text": [
        " IN_ASOS 10 12.4920634920634921\n",
        "CNU"
       ]
      },
      {
       "output_type": "stream",
       "stream": "stdout",
       "text": [
        " KS_ASOS 12 23.2063492063492063\n",
        "BVN"
       ]
      },
      {
       "output_type": "stream",
       "stream": "stdout",
       "text": [
        " NE_ASOS 3 14.5873015873015873\n",
        "AUM"
       ]
      },
      {
       "output_type": "stream",
       "stream": "stdout",
       "text": [
        " MN_ASOS 0 5.8571428571428571\n",
        "PIA"
       ]
      },
      {
       "output_type": "stream",
       "stream": "stdout",
       "text": [
        " IL_ASOS 9 12.5238095238095238\n",
        "IIB"
       ]
      },
      {
       "output_type": "stream",
       "stream": "stdout",
       "text": [
        " AWOS 1 7.9841269841269841\n",
        "OWB"
       ]
      },
      {
       "output_type": "stream",
       "stream": "stdout",
       "text": [
        " KY_ASOS 14 16.7301587301587302\n",
        "Y70"
       ]
      },
      {
       "output_type": "stream",
       "stream": "stdout",
       "text": [
        " MI_ASOS 0 7.0317460317460317\n",
        "D55"
       ]
      },
      {
       "output_type": "stream",
       "stream": "stdout",
       "text": [
        " ND_ASOS 3 2.4444444444444444\n",
        "EAR"
       ]
      },
      {
       "output_type": "stream",
       "stream": "stdout",
       "text": [
        " NE_ASOS 17 19.3650793650793651\n",
        "FWC"
       ]
      },
      {
       "output_type": "stream",
       "stream": "stdout",
       "text": [
        " IL_ASOS 6 20.0158730158730159\n",
        "STE"
       ]
      },
      {
       "output_type": "stream",
       "stream": "stdout",
       "text": [
        " WI_ASOS 0 3.7301587301587302\n",
        "TBN"
       ]
      },
      {
       "output_type": "stream",
       "stream": "stdout",
       "text": [
        " MO_ASOS 9 20.3809523809523810\n",
        "CQM"
       ]
      },
      {
       "output_type": "stream",
       "stream": "stdout",
       "text": [
        " MN_ASOS 1 2.7142857142857143\n",
        "RST"
       ]
      },
      {
       "output_type": "stream",
       "stream": "stdout",
       "text": [
        " MN_ASOS 0 4.6507936507936508\n",
        "CWA"
       ]
      },
      {
       "output_type": "stream",
       "stream": "stdout",
       "text": [
        " WI_ASOS 3 2.1904761904761905\n",
        "FNT"
       ]
      },
      {
       "output_type": "stream",
       "stream": "stdout",
       "text": [
        " MI_ASOS 1 5.3650793650793651\n",
        "96D"
       ]
      },
      {
       "output_type": "stream",
       "stream": "stdout",
       "text": [
        " ND_ASOS 4 4.0634920634920635\n",
        "EHR"
       ]
      },
      {
       "output_type": "stream",
       "stream": "stdout",
       "text": [
        " KY_ASOS 17 20.0317460317460317\n",
        "06D"
       ]
      },
      {
       "output_type": "stream",
       "stream": "stdout",
       "text": [
        " ND_ASOS 1 2.4126984126984127\n",
        "ORD"
       ]
      },
      {
       "output_type": "stream",
       "stream": "stdout",
       "text": [
        " IL_ASOS 3 12.8571428571428571\n",
        "RZL"
       ]
      },
      {
       "output_type": "stream",
       "stream": "stdout",
       "text": [
        " IN_ASOS 3 9.7460317460317460\n",
        "FCM"
       ]
      },
      {
       "output_type": "stream",
       "stream": "stdout",
       "text": [
        " MN_ASOS 3 6.1269841269841270\n",
        "WLD"
       ]
      },
      {
       "output_type": "stream",
       "stream": "stdout",
       "text": [
        " KS_ASOS 26 28.2380952380952381\n",
        "ONZ"
       ]
      },
      {
       "output_type": "stream",
       "stream": "stdout",
       "text": [
        " MI_ASOS 1 7.2698412698412698\n",
        "LUK"
       ]
      },
      {
       "output_type": "stream",
       "stream": "stdout",
       "text": [
        " OH_ASOS 6 6.4126984126984127\n",
        "VVV"
       ]
      },
      {
       "output_type": "stream",
       "stream": "stdout",
       "text": [
        " MN_ASOS 3 6.3650793650793651\n",
        "BDH"
       ]
      },
      {
       "output_type": "stream",
       "stream": "stdout",
       "text": [
        " MN_ASOS 3 6.4126984126984127\n",
        "DRM"
       ]
      },
      {
       "output_type": "stream",
       "stream": "stdout",
       "text": [
        " MI_ASOS 0 0.93650793650793650794\n",
        "ICR"
       ]
      },
      {
       "output_type": "stream",
       "stream": "stdout",
       "text": [
        " SD_ASOS 11 21.6825396825396825\n",
        "MWO"
       ]
      },
      {
       "output_type": "stream",
       "stream": "stdout",
       "text": [
        " OH_ASOS 9 6.7936507936507937\n",
        "INL"
       ]
      },
      {
       "output_type": "stream",
       "stream": "stdout",
       "text": [
        " MN_ASOS 1 2.2063492063492063\n",
        "EOK"
       ]
      },
      {
       "output_type": "stream",
       "stream": "stdout",
       "text": [
        " AWOS 3 15.6190476190476190\n",
        "BBW"
       ]
      },
      {
       "output_type": "stream",
       "stream": "stdout",
       "text": [
        " NE_ASOS 13 15.6349206349206349\n",
        "OSU"
       ]
      },
      {
       "output_type": "stream",
       "stream": "stdout",
       "text": [
        " OH_ASOS 4 10.5079365079365079\n",
        "PHD"
       ]
      },
      {
       "output_type": "stream",
       "stream": "stdout",
       "text": [
        " OH_ASOS 1 4.0158730158730159\n",
        "BMI"
       ]
      },
      {
       "output_type": "stream",
       "stream": "stdout",
       "text": [
        " IL_ASOS 3 11.6666666666666667\n",
        "LWA"
       ]
      },
      {
       "output_type": "stream",
       "stream": "stdout",
       "text": [
        " MI_ASOS 0 1.8412698412698413\n",
        "I39"
       ]
      },
      {
       "output_type": "stream",
       "stream": "stdout",
       "text": [
        " KY_ASOS 13 11.1269841269841270\n",
        "SME"
       ]
      },
      {
       "output_type": "stream",
       "stream": "stdout",
       "text": [
        " KY_ASOS 7 9.8412698412698413\n",
        "BBB"
       ]
      },
      {
       "output_type": "stream",
       "stream": "stdout",
       "text": [
        " MN_ASOS 2 8.7142857142857143\n",
        "HTL"
       ]
      },
      {
       "output_type": "stream",
       "stream": "stdout",
       "text": [
        " MI_ASOS 0 4.9523809523809524\n",
        "APN"
       ]
      },
      {
       "output_type": "stream",
       "stream": "stdout",
       "text": [
        " MI_ASOS 0 4.4761904761904762\n",
        "SNY"
       ]
      },
      {
       "output_type": "stream",
       "stream": "stdout",
       "text": [
        " NE_ASOS 15 17.3650793650793651\n",
        "LNR"
       ]
      },
      {
       "output_type": "stream",
       "stream": "stdout",
       "text": [
        " WI_ASOS 4 8.1746031746031746\n",
        "MIW"
       ]
      },
      {
       "output_type": "stream",
       "stream": "stdout",
       "text": [
        " IA_ASOS 1 9.6507936507936508\n",
        "HHG"
       ]
      },
      {
       "output_type": "stream",
       "stream": "stdout",
       "text": [
        " IN_ASOS 0 9.7619047619047619\n",
        "MDH"
       ]
      },
      {
       "output_type": "stream",
       "stream": "stdout",
       "text": [
        " IL_ASOS 13 22.9365079365079365\n",
        "Y19"
       ]
      },
      {
       "output_type": "stream",
       "stream": "stdout",
       "text": [
        " ND_ASOS 3 7.6825396825396825\n",
        "C75"
       ]
      },
      {
       "output_type": "stream",
       "stream": "stdout",
       "text": [
        " IL_ASOS 1 10.5396825396825397\n",
        "ILL"
       ]
      },
      {
       "output_type": "stream",
       "stream": "stdout",
       "text": [
        " MN_ASOS 0 6.4126984126984127\n",
        "RSV"
       ]
      },
      {
       "output_type": "stream",
       "stream": "stdout",
       "text": [
        " IL_ASOS 19 22.0158730158730159\n",
        "MJQ"
       ]
      },
      {
       "output_type": "stream",
       "stream": "stdout",
       "text": [
        " MN_ASOS 0 11.1746031746031746\n",
        "DLZ"
       ]
      },
      {
       "output_type": "stream",
       "stream": "stdout",
       "text": [
        " OH_ASOS 2 5.9682539682539683\n",
        "VYS"
       ]
      },
      {
       "output_type": "stream",
       "stream": "stdout",
       "text": [
        " IL_ASOS 4 13.3333333333333333\n",
        "ABR"
       ]
      },
      {
       "output_type": "stream",
       "stream": "stdout",
       "text": [
        " SD_ASOS 2 9.9682539682539683\n",
        "P58"
       ]
      },
      {
       "output_type": "stream",
       "stream": "stdout",
       "text": [
        " MI_ASOS 0 2.6190476190476190\n",
        "CWI"
       ]
      },
      {
       "output_type": "stream",
       "stream": "stdout",
       "text": [
        " AWOS 1 10.8571428571428571\n",
        "HCO"
       ]
      },
      {
       "output_type": "stream",
       "stream": "stdout",
       "text": [
        " MN_ASOS 4 4.2539682539682540\n",
        "DPA"
       ]
      },
      {
       "output_type": "stream",
       "stream": "stdout",
       "text": [
        " IL_ASOS 2 8.4761904761904762\n",
        "AHQ"
       ]
      },
      {
       "output_type": "stream",
       "stream": "stdout",
       "text": [
        " NE_ASOS 9 21.4285714285714286\n",
        "AXN"
       ]
      },
      {
       "output_type": "stream",
       "stream": "stdout",
       "text": [
        " MN_ASOS 1 4.5555555555555556\n",
        "OKK"
       ]
      },
      {
       "output_type": "stream",
       "stream": "stdout",
       "text": [
        " IN_ASOS 7 10.0317460317460317\n",
        "IAB"
       ]
      },
      {
       "output_type": "stream",
       "stream": "stdout",
       "text": [
        " KS_ASOS 23 31.5555555555555556\n",
        "BPP"
       ]
      },
      {
       "output_type": "stream",
       "stream": "stdout",
       "text": [
        " ND_ASOS 0 8.5238095238095238\n",
        "MQJ"
       ]
      },
      {
       "output_type": "stream",
       "stream": "stdout",
       "text": [
        " IN_ASOS 3 11.3650793650793651\n",
        "HNR"
       ]
      },
      {
       "output_type": "stream",
       "stream": "stdout",
       "text": [
        " AWOS 5 12.8571428571428571\n",
        "DVK"
       ]
      },
      {
       "output_type": "stream",
       "stream": "stdout",
       "text": [
        " KY_ASOS 11 11.9047619047619048\n",
        "POV"
       ]
      },
      {
       "output_type": "stream",
       "stream": "stdout",
       "text": [
        " OH_ASOS 0 2.6666666666666667\n",
        "HFJ"
       ]
      },
      {
       "output_type": "stream",
       "stream": "stdout",
       "text": [
        " MO_ASOS 6 17.0317460317460317\n",
        "4I7"
       ]
      },
      {
       "output_type": "stream",
       "stream": "stdout",
       "text": [
        " IN_ASOS 0 13.3333333333333333\n",
        "Y63"
       ]
      },
      {
       "output_type": "stream",
       "stream": "stdout",
       "text": [
        " MN_ASOS 0 6.0793650793650794\n",
        "ACB"
       ]
      },
      {
       "output_type": "stream",
       "stream": "stdout",
       "text": [
        " MI_ASOS 2 4.5396825396825397\n",
        "BLV"
       ]
      },
      {
       "output_type": "stream",
       "stream": "stdout",
       "text": [
        " IL_ASOS 10 23.0317460317460317\n",
        "CIU"
       ]
      },
      {
       "output_type": "stream",
       "stream": "stdout",
       "text": [
        " MI_ASOS 0 0.71428571428571428571\n",
        "PZQ"
       ]
      },
      {
       "output_type": "stream",
       "stream": "stdout",
       "text": [
        " MI_ASOS 0 5.1428571428571429\n",
        "MTO"
       ]
      },
      {
       "output_type": "stream",
       "stream": "stdout",
       "text": [
        " IL_ASOS 0 14.9206349206349206\n",
        "D60"
       ]
      },
      {
       "output_type": "stream",
       "stream": "stdout",
       "text": [
        " ND_ASOS 0 5.9047619047619048\n",
        "RZN"
       ]
      },
      {
       "output_type": "stream",
       "stream": "stdout",
       "text": [
        " WI_ASOS 1 3.1428571428571429\n",
        "IKV"
       ]
      },
      {
       "output_type": "stream",
       "stream": "stdout",
       "text": [
        " AWOS 3 11.5079365079365079\n",
        "SJX"
       ]
      },
      {
       "output_type": "stream",
       "stream": "stdout",
       "text": [
        " MI_ASOS 0 0.19047619047619047619\n",
        "FDY"
       ]
      },
      {
       "output_type": "stream",
       "stream": "stdout",
       "text": [
        " OH_ASOS 3 8.3174603174603175\n",
        "RHI"
       ]
      },
      {
       "output_type": "stream",
       "stream": "stdout",
       "text": [
        " WI_ASOS 0 2.1587301587301587\n",
        "MDW"
       ]
      },
      {
       "output_type": "stream",
       "stream": "stdout",
       "text": [
        " IL_ASOS 7 12.8571428571428571\n",
        "CMH"
       ]
      },
      {
       "output_type": "stream",
       "stream": "stdout",
       "text": [
        " OH_ASOS 7 10.3968253968253968\n",
        "DAY"
       ]
      },
      {
       "output_type": "stream",
       "stream": "stdout",
       "text": [
        " OH_ASOS 3 6.6666666666666667\n",
        "P59"
       ]
      },
      {
       "output_type": "stream",
       "stream": "stdout",
       "text": [
        " MI_ASOS 0 1.2698412698412698\n",
        "SAR"
       ]
      },
      {
       "output_type": "stream",
       "stream": "stdout",
       "text": [
        " IL_ASOS 6 17.1587301587301587\n",
        "HZX"
       ]
      },
      {
       "output_type": "stream",
       "stream": "stdout",
       "text": [
        " MN_ASOS 0 2.2222222222222222\n",
        "CMX"
       ]
      },
      {
       "output_type": "stream",
       "stream": "stdout",
       "text": [
        " MI_ASOS 0 1.2698412698412698\n",
        "CVG"
       ]
      },
      {
       "output_type": "stream",
       "stream": "stdout",
       "text": [
        " KY_ASOS 3 12.8888888888888889\n",
        "ILN"
       ]
      },
      {
       "output_type": "stream",
       "stream": "stdout",
       "text": [
        " OH_ASOS 2 8.1904761904761905\n",
        "ADC"
       ]
      },
      {
       "output_type": "stream",
       "stream": "stdout",
       "text": [
        " MN_ASOS 1 3.0317460317460317\n",
        "TVC"
       ]
      },
      {
       "output_type": "stream",
       "stream": "stdout",
       "text": [
        " MI_ASOS 2 3.8571428571428571\n",
        "ALN"
       ]
      },
      {
       "output_type": "stream",
       "stream": "stdout",
       "text": [
        " IL_ASOS 8 16.0317460317460317\n",
        "GPZ"
       ]
      },
      {
       "output_type": "stream",
       "stream": "stdout",
       "text": [
        " MN_ASOS 1 2.7142857142857143\n",
        "FWA"
       ]
      },
      {
       "output_type": "stream",
       "stream": "stdout",
       "text": [
        " IN_ASOS 2 9.7619047619047619\n",
        "PRG"
       ]
      },
      {
       "output_type": "stream",
       "stream": "stdout",
       "text": [
        " IL_ASOS 1 14.6666666666666667\n",
        "MUT"
       ]
      },
      {
       "output_type": "stream",
       "stream": "stdout",
       "text": [
        " AWOS 7 13.1904761904761905\n",
        "UBE"
       ]
      },
      {
       "output_type": "stream",
       "stream": "stdout",
       "text": [
        " WI_ASOS 0 3.9523809523809524\n",
        "YKN"
       ]
      },
      {
       "output_type": "stream",
       "stream": "stdout",
       "text": [
        " SD_ASOS 4 17.4285714285714286\n",
        "DCY"
       ]
      },
      {
       "output_type": "stream",
       "stream": "stdout",
       "text": [
        " IN_ASOS 4 18.0634920634920635\n",
        "AIO"
       ]
      },
      {
       "output_type": "stream",
       "stream": "stdout",
       "text": [
        " AWOS 4 13.0793650793650794\n",
        "DVL"
       ]
      },
      {
       "output_type": "stream",
       "stream": "stdout",
       "text": [
        " ND_ASOS 1 4.3492063492063492\n",
        "PPQ"
       ]
      },
      {
       "output_type": "stream",
       "stream": "stdout",
       "text": [
        " IL_ASOS 5 14.1269841269841270\n",
        "MTW"
       ]
      },
      {
       "output_type": "stream",
       "stream": "stdout",
       "text": [
        " WI_ASOS 1 2.6984126984126984\n",
        "29G"
       ]
      },
      {
       "output_type": "stream",
       "stream": "stdout",
       "text": [
        " OH_ASOS 0 2.6666666666666667\n",
        "MTC"
       ]
      },
      {
       "output_type": "stream",
       "stream": "stdout",
       "text": [
        " MI_ASOS 2 6.2063492063492063\n",
        "ANW"
       ]
      },
      {
       "output_type": "stream",
       "stream": "stdout",
       "text": [
        " NE_ASOS 7 15.7460317460317460\n",
        "UKL"
       ]
      },
      {
       "output_type": "stream",
       "stream": "stdout",
       "text": [
        " KS_ASOS 0 20.0793650793650794\n",
        "ASW"
       ]
      },
      {
       "output_type": "stream",
       "stream": "stdout",
       "text": [
        " IN_ASOS 1 7.3333333333333333\n",
        "HZE"
       ]
      },
      {
       "output_type": "stream",
       "stream": "stdout",
       "text": [
        " ND_ASOS 4 5.7301587301587302\n",
        "IND"
       ]
      },
      {
       "output_type": "stream",
       "stream": "stdout",
       "text": [
        " IN_ASOS 0 9.9365079365079365\n",
        "MWC"
       ]
      },
      {
       "output_type": "stream",
       "stream": "stdout",
       "text": [
        " WI_ASOS 1 9.6825396825396825\n",
        "IKW"
       ]
      },
      {
       "output_type": "stream",
       "stream": "stdout",
       "text": [
        " MI_ASOS 0 4.8253968253968254\n",
        "DMO"
       ]
      },
      {
       "output_type": "stream",
       "stream": "stdout",
       "text": [
        " MO_ASOS 16 19.3650793650793651\n",
        "IRS"
       ]
      },
      {
       "output_type": "stream",
       "stream": "stdout",
       "text": [
        " MI_ASOS 0 9.2063492063492063\n",
        "OOA"
       ]
      },
      {
       "output_type": "stream",
       "stream": "stdout",
       "text": [
        " AWOS 3 12.6190476190476190\n",
        "LBL"
       ]
      },
      {
       "output_type": "stream",
       "stream": "stdout",
       "text": [
        " KS_ASOS 49 44.3809523809523810\n",
        "MCW"
       ]
      },
      {
       "output_type": "stream",
       "stream": "stdout",
       "text": [
        " IA_ASOS 0 8.2063492063492063\n",
        "CDJ"
       ]
      },
      {
       "output_type": "stream",
       "stream": "stdout",
       "text": [
        " MO_ASOS 9 17.6984126984126984\n",
        "DSM"
       ]
      },
      {
       "output_type": "stream",
       "stream": "stdout",
       "text": [
        " IA_ASOS 7 12.8253968253968254\n",
        "CMI"
       ]
      },
      {
       "output_type": "stream",
       "stream": "stdout",
       "text": [
        " IL_ASOS 9 13.5396825396825397\n",
        "RAC"
       ]
      },
      {
       "output_type": "stream",
       "stream": "stdout",
       "text": [
        " WI_ASOS 0 5.4285714285714286\n",
        "MLE"
       ]
      },
      {
       "output_type": "stream",
       "stream": "stdout",
       "text": [
        " NE_ASOS 7 18.9047619047619048\n",
        "CMY"
       ]
      },
      {
       "output_type": "stream",
       "stream": "stdout",
       "text": [
        " WI_ASOS 1 7.5714285714285714\n",
        "MGC"
       ]
      },
      {
       "output_type": "stream",
       "stream": "stdout",
       "text": [
        " IN_ASOS 0 8.8730158730158730\n",
        "46D"
       ]
      },
      {
       "output_type": "stream",
       "stream": "stdout",
       "text": [
        " ND_ASOS 3 4.6507936507936508\n",
        "DVP"
       ]
      },
      {
       "output_type": "stream",
       "stream": "stdout",
       "text": [
        " MN_ASOS 0 10.0952380952380952\n",
        "GNA"
       ]
      },
      {
       "output_type": "stream",
       "stream": "stdout",
       "text": [
        " MN_ASOS 0 0.22222222222222222222\n",
        "GHW"
       ]
      },
      {
       "output_type": "stream",
       "stream": "stdout",
       "text": [
        " MN_ASOS 1 5.9682539682539683\n",
        "MRT"
       ]
      },
      {
       "output_type": "stream",
       "stream": "stdout",
       "text": [
        " OH_ASOS 2 8.7777777777777778\n",
        "N60"
       ]
      },
      {
       "output_type": "stream",
       "stream": "stdout",
       "text": [
        " ND_ASOS 2 5.7301587301587302\n",
        "CSQ"
       ]
      },
      {
       "output_type": "stream",
       "stream": "stdout",
       "text": [
        " AWOS 3 11.6825396825396825\n",
        "AXA"
       ]
      },
      {
       "output_type": "stream",
       "stream": "stdout",
       "text": [
        " AWOS 1 9.5555555555555556\n",
        "FSW"
       ]
      },
      {
       "output_type": "stream",
       "stream": "stdout",
       "text": [
        " AWOS 11 12.6031746031746032\n",
        "FFX"
       ]
      },
      {
       "output_type": "stream",
       "stream": "stdout",
       "text": [
        " MI_ASOS 0 4.0476190476190476\n",
        "FOZ"
       ]
      },
      {
       "output_type": "stream",
       "stream": "stdout",
       "text": [
        " MN_ASOS 0 3.2539682539682540\n",
        "LXT"
       ]
      },
      {
       "output_type": "stream",
       "stream": "stdout",
       "text": [
        " MO_ASOS 9 19.8571428571428571\n",
        "EKQ"
       ]
      },
      {
       "output_type": "stream",
       "stream": "stdout",
       "text": [
        " KY_ASOS 23 11.2539682539682540\n",
        "BFW"
       ]
      },
      {
       "output_type": "stream",
       "stream": "stdout",
       "text": [
        " MN_ASOS 0 0.66666666666666666667\n",
        "RNH"
       ]
      },
      {
       "output_type": "stream",
       "stream": "stdout",
       "text": [
        " WI_ASOS 0 3.5079365079365079\n",
        "LRJ"
       ]
      },
      {
       "output_type": "stream",
       "stream": "stdout",
       "text": [
        " AWOS 4 15.9047619047619048\n",
        "MXO"
       ]
      },
      {
       "output_type": "stream",
       "stream": "stdout",
       "text": [
        " AWOS 1 8.3809523809523810\n",
        "MCK"
       ]
      },
      {
       "output_type": "stream",
       "stream": "stdout",
       "text": [
        " NE_ASOS 22 27.3015873015873016\n",
        "SYF"
       ]
      },
      {
       "output_type": "stream",
       "stream": "stdout",
       "text": [
        " KS_ASOS 21 30.1746031746031746\n",
        "CPS"
       ]
      },
      {
       "output_type": "stream",
       "stream": "stdout",
       "text": [
        " IL_ASOS 17 20.0158730158730159\n",
        "UNI"
       ]
      },
      {
       "output_type": "stream",
       "stream": "stdout",
       "text": [
        " OH_ASOS 3 7.8571428571428571\n",
        "C29"
       ]
      },
      {
       "output_type": "stream",
       "stream": "stdout",
       "text": [
        " WI_ASOS 1 7.1746031746031746\n",
        "C09"
       ]
      },
      {
       "output_type": "stream",
       "stream": "stdout",
       "text": [
        " IL_ASOS 7 10.8253968253968254\n",
        "HZY"
       ]
      },
      {
       "output_type": "stream",
       "stream": "stdout",
       "text": [
        " OH_ASOS 0 3.2539682539682540\n",
        "GOV"
       ]
      },
      {
       "output_type": "stream",
       "stream": "stdout",
       "text": [
        " MI_ASOS 0 4.4603174603174603\n",
        "VWU"
       ]
      },
      {
       "output_type": "stream",
       "stream": "stdout",
       "text": [
        " MN_ASOS 2 2.0476190476190476\n",
        "OCQ"
       ]
      },
      {
       "output_type": "stream",
       "stream": "stdout",
       "text": [
        " WI_ASOS 1 3.6984126984126984\n",
        "STC"
       ]
      },
      {
       "output_type": "stream",
       "stream": "stdout",
       "text": [
        " MN_ASOS 2 5.6984126984126984\n",
        "ASX"
       ]
      },
      {
       "output_type": "stream",
       "stream": "stdout",
       "text": [
        " WI_ASOS 0 1.3174603174603175\n",
        "DDC"
       ]
      },
      {
       "output_type": "stream",
       "stream": "stdout",
       "text": [
        " KS_ASOS 36 34.3809523809523810\n",
        "ENL"
       ]
      },
      {
       "output_type": "stream",
       "stream": "stdout",
       "text": [
        " IL_ASOS 30 16.1428571428571429\n",
        "PRO"
       ]
      },
      {
       "output_type": "stream",
       "stream": "stdout",
       "text": [
        " AWOS 3 10.7460317460317460\n",
        "CGI"
       ]
      },
      {
       "output_type": "stream",
       "stream": "stdout",
       "text": [
        " MO_ASOS 12 31.1587301587301587\n",
        "BKX"
       ]
      },
      {
       "output_type": "stream",
       "stream": "stdout",
       "text": [
        " SD_ASOS 0 6.4126984126984127\n",
        "IOB"
       ]
      },
      {
       "output_type": "stream",
       "stream": "stdout",
       "text": [
        " KY_ASOS 5 9.1111111111111111\n",
        "LCG"
       ]
      },
      {
       "output_type": "stream",
       "stream": "stdout",
       "text": [
        " NE_ASOS 2 15.7460317460317460\n",
        "ERY"
       ]
      },
      {
       "output_type": "stream",
       "stream": "stdout",
       "text": [
        " MI_ASOS 0 0.19047619047619047619\n",
        "SJS"
       ]
      },
      {
       "output_type": "stream",
       "stream": "stdout",
       "text": [
        " KY_ASOS 3 14.2063492063492063\n",
        "FGX"
       ]
      },
      {
       "output_type": "stream",
       "stream": "stdout",
       "text": [
        " KY_ASOS 9 9.8095238095238095\n",
        "GSH"
       ]
      },
      {
       "output_type": "stream",
       "stream": "stdout",
       "text": [
        " IN_ASOS 1 8.2698412698412698\n",
        "JXN"
       ]
      },
      {
       "output_type": "stream",
       "stream": "stdout",
       "text": [
        " MI_ASOS 0 6.1904761904761905\n",
        "IWD"
       ]
      },
      {
       "output_type": "stream",
       "stream": "stdout",
       "text": [
        " MI_ASOS 0 1.6507936507936508\n",
        "IFA"
       ]
      },
      {
       "output_type": "stream",
       "stream": "stdout",
       "text": [
        " AWOS 0 9.2698412698412698\n",
        "FNB"
       ]
      },
      {
       "output_type": "stream",
       "stream": "stdout",
       "text": [
        " NE_ASOS 13 22.9047619047619048\n",
        "Y23"
       ]
      },
      {
       "output_type": "stream",
       "stream": "stdout",
       "text": [
        " WI_ASOS 0 3.2539682539682540\n",
        "D39"
       ]
      },
      {
       "output_type": "stream",
       "stream": "stdout",
       "text": [
        " MN_ASOS 1 6.4603174603174603\n",
        "ISQ"
       ]
      },
      {
       "output_type": "stream",
       "stream": "stdout",
       "text": [
        " MI_ASOS 0 0.41269841269841269841\n",
        "M25"
       ]
      },
      {
       "output_type": "stream",
       "stream": "stdout",
       "text": [
        " KY_ASOS 10 23.3333333333333333\n",
        "PPO"
       ]
      },
      {
       "output_type": "stream",
       "stream": "stdout",
       "text": [
        " IN_ASOS 0 8.8730158730158730\n",
        "ORB"
       ]
      },
      {
       "output_type": "stream",
       "stream": "stdout",
       "text": [
        " MN_ASOS 1 2.2063492063492063\n",
        "BJI"
       ]
      },
      {
       "output_type": "stream",
       "stream": "stdout",
       "text": [
        " MN_ASOS 0 2.6984126984126984\n",
        "I35"
       ]
      },
      {
       "output_type": "stream",
       "stream": "stdout",
       "text": [
        " KY_ASOS 3 9.0793650793650794\n",
        "BLM"
       ]
      },
      {
       "output_type": "stream",
       "stream": "stdout",
       "text": [
        " MO_ASOS 0 23.0793650793650794\n",
        "8D3"
       ]
      },
      {
       "output_type": "stream",
       "stream": "stdout",
       "text": [
        " SD_ASOS 1 8.7301587301587302\n",
        "ULM"
       ]
      },
      {
       "output_type": "stream",
       "stream": "stdout",
       "text": [
        " MN_ASOS 2 9.7777777777777778\n",
        "GRR"
       ]
      },
      {
       "output_type": "stream",
       "stream": "stdout",
       "text": [
        " MI_ASOS 0 6.3809523809523810\n",
        "EBS"
       ]
      },
      {
       "output_type": "stream",
       "stream": "stdout",
       "text": [
        " AWOS 1 9.2539682539682540\n",
        "MIC"
       ]
      },
      {
       "output_type": "stream",
       "stream": "stdout",
       "text": [
        " MN_ASOS 1 8.5079365079365079\n",
        "SPW"
       ]
      },
      {
       "output_type": "stream",
       "stream": "stdout",
       "text": [
        " IA_ASOS 1 10.6507936507936508\n",
        "ROS"
       ]
      },
      {
       "output_type": "stream",
       "stream": "stdout",
       "text": [
        " MN_ASOS 0 4.3968253968253968\n",
        "SQI"
       ]
      },
      {
       "output_type": "stream",
       "stream": "stdout",
       "text": [
        " IL_ASOS 8 11.8412698412698413\n",
        "FSE"
       ]
      },
      {
       "output_type": "stream",
       "stream": "stdout",
       "text": [
        " MN_ASOS 3 2.6666666666666667\n",
        "1II"
       ]
      },
      {
       "output_type": "stream",
       "stream": "stdout",
       "text": [
        " IN_ASOS 4 9.4285714285714286\n",
        "SAZ"
       ]
      },
      {
       "output_type": "stream",
       "stream": "stdout",
       "text": [
        " MN_ASOS 1 5.6031746031746032\n",
        "JKL"
       ]
      },
      {
       "output_type": "stream",
       "stream": "stdout",
       "text": [
        " KY_ASOS 7 9.4444444444444444\n",
        "FFM"
       ]
      },
      {
       "output_type": "stream",
       "stream": "stdout",
       "text": [
        " MN_ASOS 3 3.1269841269841270\n",
        "IKK"
       ]
      },
      {
       "output_type": "stream",
       "stream": "stdout",
       "text": [
        " IL_ASOS 2 8.4761904761904762\n",
        "IEN"
       ]
      },
      {
       "output_type": "stream",
       "stream": "stdout",
       "text": [
        " SD_ASOS 8 20.4761904761904762\n",
        "AJG"
       ]
      },
      {
       "output_type": "stream",
       "stream": "stdout",
       "text": [
        " IL_ASOS 20 20.9682539682539683\n",
        "EZS"
       ]
      },
      {
       "output_type": "stream",
       "stream": "stdout",
       "text": [
        " WI_ASOS 1 5.9206349206349206\n",
        "BAC"
       ]
      },
      {
       "output_type": "stream",
       "stream": "stdout",
       "text": [
        " ND_ASOS 2 5.7460317460317460\n",
        "CCY"
       ]
      },
      {
       "output_type": "stream",
       "stream": "stdout",
       "text": [
        " AWOS 0 8.1111111111111111\n",
        "CIN"
       ]
      },
      {
       "output_type": "stream",
       "stream": "stdout",
       "text": [
        " AWOS 2 13.0634920634920635\n",
        "HEI"
       ]
      },
      {
       "output_type": "stream",
       "stream": "stdout",
       "text": [
        " ND_ASOS 2 7.0317460317460317\n",
        "VOK"
       ]
      },
      {
       "output_type": "stream",
       "stream": "stdout",
       "text": [
        " WI_ASOS 0 7.9047619047619048\n",
        "SBM"
       ]
      },
      {
       "output_type": "stream",
       "stream": "stdout",
       "text": [
        " WI_ASOS 1 5.0158730158730159\n",
        "ANJ"
       ]
      },
      {
       "output_type": "stream",
       "stream": "stdout",
       "text": [
        " MI_ASOS 0 0.71428571428571428571\n",
        "EAU"
       ]
      },
      {
       "output_type": "stream",
       "stream": "stdout",
       "text": [
        " WI_ASOS 1 7.0476190476190476\n",
        "DIK"
       ]
      },
      {
       "output_type": "stream",
       "stream": "stdout",
       "text": [
        " ND_ASOS 2 8.3650793650793651\n",
        "STP"
       ]
      },
      {
       "output_type": "stream",
       "stream": "stdout",
       "text": [
        " MN_ASOS 0 8.5079365079365079\n",
        "RCX"
       ]
      },
      {
       "output_type": "stream",
       "stream": "stdout",
       "text": [
        " WI_ASOS 0 2.0952380952380952\n",
        "MBL"
       ]
      },
      {
       "output_type": "stream",
       "stream": "stdout",
       "text": [
        " MI_ASOS 0 2.2857142857142857\n",
        "5M9"
       ]
      },
      {
       "output_type": "stream",
       "stream": "stdout",
       "text": [
        " KY_ASOS 3 25.1746031746031746\n",
        "FXY"
       ]
      },
      {
       "output_type": "stream",
       "stream": "stdout",
       "text": [
        " AWOS 0 7.6666666666666667\n",
        "SDA"
       ]
      },
      {
       "output_type": "stream",
       "stream": "stdout",
       "text": [
        " AWOS 10 20.5079365079365079\n",
        "FEP"
       ]
      },
      {
       "output_type": "stream",
       "stream": "stdout",
       "text": [
        " IL_ASOS 0 8.3333333333333333\n",
        "SLB"
       ]
      },
      {
       "output_type": "stream",
       "stream": "stdout",
       "text": [
        " AWOS 2 7.9047619047619048\n",
        "JYG"
       ]
      },
      {
       "output_type": "stream",
       "stream": "stdout",
       "text": [
        " MN_ASOS 2 9.8253968253968254\n",
        "TIP"
       ]
      },
      {
       "output_type": "stream",
       "stream": "stdout",
       "text": [
        " IL_ASOS 11 17.5555555555555556\n",
        "PDC"
       ]
      },
      {
       "output_type": "stream",
       "stream": "stdout",
       "text": [
        " WI_ASOS 1 11.3015873015873016\n",
        "P75"
       ]
      },
      {
       "output_type": "stream",
       "stream": "stdout",
       "text": [
        " MI_ASOS 0 0.41269841269841269841\n",
        "GWR"
       ]
      },
      {
       "output_type": "stream",
       "stream": "stdout",
       "text": [
        " ND_ASOS 5 8.1111111111111111\n",
        "AIZ"
       ]
      },
      {
       "output_type": "stream",
       "stream": "stdout",
       "text": [
        " MO_ASOS 17 22.0793650793650794\n",
        "PIR"
       ]
      },
      {
       "output_type": "stream",
       "stream": "stdout",
       "text": [
        " SD_ASOS 7 18.6984126984126984\n",
        "GAF"
       ]
      },
      {
       "output_type": "stream",
       "stream": "stdout",
       "text": [
        " ND_ASOS 3 6.9841269841269841\n",
        "HUF"
       ]
      },
      {
       "output_type": "stream",
       "stream": "stdout",
       "text": [
        " IN_ASOS 4 9.5714285714285714\n",
        "LWV"
       ]
      },
      {
       "output_type": "stream",
       "stream": "stdout",
       "text": [
        " IL_ASOS 9 22.0158730158730159\n",
        "OLU"
       ]
      },
      {
       "output_type": "stream",
       "stream": "stdout",
       "text": [
        " NE_ASOS 8 20.5714285714285714\n",
        "DYT"
       ]
      },
      {
       "output_type": "stream",
       "stream": "stdout",
       "text": [
        " MN_ASOS 1 0.93650793650793650794\n",
        "P28"
       ]
      },
      {
       "output_type": "stream",
       "stream": "stdout",
       "text": [
        " KS_ASOS 41 35.7301587301587302\n",
        "TNU"
       ]
      },
      {
       "output_type": "stream",
       "stream": "stdout",
       "text": [
        " AWOS 1 12.8253968253968254\n",
        "ADU"
       ]
      },
      {
       "output_type": "stream",
       "stream": "stdout",
       "text": [
        " AWOS 9 12.3174603174603175\n",
        "PNM"
       ]
      },
      {
       "output_type": "stream",
       "stream": "stdout",
       "text": [
        " MN_ASOS 2 4.6984126984126984\n",
        "PKD"
       ]
      },
      {
       "output_type": "stream",
       "stream": "stdout",
       "text": [
        " MN_ASOS 1 2.9841269841269841\n",
        "S25"
       ]
      },
      {
       "output_type": "stream",
       "stream": "stdout",
       "text": [
        " ND_ASOS 3 9.4285714285714286\n",
        "CLI"
       ]
      },
      {
       "output_type": "stream",
       "stream": "stdout",
       "text": [
        " WI_ASOS 1 5.0634920634920635\n",
        "TZR"
       ]
      },
      {
       "output_type": "stream",
       "stream": "stdout",
       "text": [
        " OH_ASOS 3 8.8571428571428571\n",
        "CKC"
       ]
      },
      {
       "output_type": "stream",
       "stream": "stdout",
       "text": [
        " MN_ASOS 0 0.22222222222222222222\n",
        "2D5"
       ]
      },
      {
       "output_type": "stream",
       "stream": "stdout",
       "text": [
        " ND_ASOS 0 8.3333333333333333\n",
        "OSC"
       ]
      },
      {
       "output_type": "stream",
       "stream": "stdout",
       "text": [
        " MI_ASOS 2 3.3333333333333333\n",
        "SLH"
       ]
      },
      {
       "output_type": "stream",
       "stream": "stdout",
       "text": [
        " MI_ASOS 0 1.9206349206349206\n",
        "MCX"
       ]
      },
      {
       "output_type": "stream",
       "stream": "stdout",
       "text": [
        " IN_ASOS 1 13.1111111111111111\n",
        "SUE"
       ]
      },
      {
       "output_type": "stream",
       "stream": "stdout",
       "text": [
        " WI_ASOS 1 1.9047619047619048\n",
        "EMP"
       ]
      },
      {
       "output_type": "stream",
       "stream": "stdout",
       "text": [
        " KS_ASOS 9 20.9682539682539683\n",
        "FKS"
       ]
      },
      {
       "output_type": "stream",
       "stream": "stdout",
       "text": [
        " MI_ASOS 0 0.65079365079365079365\n",
        "IBM"
       ]
      },
      {
       "output_type": "stream",
       "stream": "stdout",
       "text": [
        " NE_ASOS 9 16.3650793650793651\n",
        "LHQ"
       ]
      },
      {
       "output_type": "stream",
       "stream": "stdout",
       "text": [
        " OH_ASOS 4 5.3015873015873016\n",
        "5H4"
       ]
      },
      {
       "output_type": "stream",
       "stream": "stdout",
       "text": [
        " ND_ASOS 1 5.9682539682539683\n",
        "RQB"
       ]
      },
      {
       "output_type": "stream",
       "stream": "stdout",
       "text": [
        " MI_ASOS 0 5.0000000000000000\n",
        "PCW"
       ]
      },
      {
       "output_type": "stream",
       "stream": "stdout",
       "text": [
        " OH_ASOS 9 7.2063492063492063\n",
        "SET"
       ]
      },
      {
       "output_type": "stream",
       "stream": "stdout",
       "text": [
        " MO_ASOS 10 21.5873015873015873\n",
        "AMN"
       ]
      },
      {
       "output_type": "stream",
       "stream": "stdout",
       "text": [
        " MI_ASOS 0 7.7936507936507937\n",
        "UNO"
       ]
      },
      {
       "output_type": "stream",
       "stream": "stdout",
       "text": [
        " MO_ASOS 4 20.1111111111111111\n",
        "RMY"
       ]
      },
      {
       "output_type": "stream",
       "stream": "stdout",
       "text": [
        " MI_ASOS 0 4.6190476190476190\n",
        "LWD"
       ]
      },
      {
       "output_type": "stream",
       "stream": "stdout",
       "text": [
        " IA_ASOS 5 12.8730158730158730\n",
        "SAW"
       ]
      },
      {
       "output_type": "stream",
       "stream": "stdout",
       "text": [
        " MI_ASOS 0 2.2222222222222222\n",
        "SFD"
       ]
      },
      {
       "output_type": "stream",
       "stream": "stdout",
       "text": [
        " SD_ASOS 2 21.6825396825396825\n",
        "GDB"
       ]
      },
      {
       "output_type": "stream",
       "stream": "stdout",
       "text": [
        " MN_ASOS 1 9.5873015873015873\n",
        "EST"
       ]
      },
      {
       "output_type": "stream",
       "stream": "stdout",
       "text": [
        " IA_ASOS 1 8.0952380952380952\n",
        "TOL"
       ]
      },
      {
       "output_type": "stream",
       "stream": "stdout",
       "text": [
        " OH_ASOS 3 9.9841269841269841\n",
        "MQB"
       ]
      },
      {
       "output_type": "stream",
       "stream": "stdout",
       "text": [
        " IL_ASOS 3 11.8888888888888889\n",
        "ENW"
       ]
      },
      {
       "output_type": "stream",
       "stream": "stdout",
       "text": [
        " WI_ASOS 0 4.4126984126984127\n",
        "GFK"
       ]
      },
      {
       "output_type": "stream",
       "stream": "stdout",
       "text": [
        " ND_ASOS 4 5.6666666666666667\n",
        "PHN"
       ]
      },
      {
       "output_type": "stream",
       "stream": "stdout",
       "text": [
        " MI_ASOS 0 7.1746031746031746\n",
        "BIE"
       ]
      },
      {
       "output_type": "stream",
       "stream": "stdout",
       "text": [
        " NE_ASOS 13 18.2380952380952381\n",
        "GYY"
       ]
      },
      {
       "output_type": "stream",
       "stream": "stdout",
       "text": [
        " IN_ASOS 4 8.8730158730158730\n",
        "2I0"
       ]
      },
      {
       "output_type": "stream",
       "stream": "stdout",
       "text": [
        " KY_ASOS 15 25.1746031746031746\n",
        "JKJ"
       ]
      },
      {
       "output_type": "stream",
       "stream": "stdout",
       "text": [
        " MN_ASOS 4 6.4444444444444444\n",
        "BTA"
       ]
      },
      {
       "output_type": "stream",
       "stream": "stdout",
       "text": [
        " NE_ASOS 6 18.9047619047619048\n",
        "CAV"
       ]
      },
      {
       "output_type": "stream",
       "stream": "stdout",
       "text": [
        " AWOS 3 9.6190476190476190\n",
        "PTT"
       ]
      },
      {
       "output_type": "stream",
       "stream": "stdout",
       "text": [
        " KS_ASOS 31 35.7301587301587302\n",
        "ODX"
       ]
      },
      {
       "output_type": "stream",
       "stream": "stdout",
       "text": [
        " NE_ASOS 8 14.9206349206349206\n",
        "CDD"
       ]
      },
      {
       "output_type": "stream",
       "stream": "stdout",
       "text": [
        " MN_ASOS 1 2.2063492063492063\n",
        "BIS"
       ]
      },
      {
       "output_type": "stream",
       "stream": "stdout",
       "text": [
        " ND_ASOS 5 9.4126984126984127\n",
        "MVN"
       ]
      },
      {
       "output_type": "stream",
       "stream": "stdout",
       "text": [
        " IL_ASOS 15 17.9841269841269841\n",
        "OXV"
       ]
      },
      {
       "output_type": "stream",
       "stream": "stdout",
       "text": [
        " AWOS 4 13.0793650793650794\n",
        "MSP"
       ]
      },
      {
       "output_type": "stream",
       "stream": "stdout",
       "text": [
        " MN_ASOS 2 5.5714285714285714\n",
        "K22"
       ]
      },
      {
       "output_type": "stream",
       "stream": "stdout",
       "text": [
        " KY_ASOS 0 14.2063492063492063\n",
        "20U"
       ]
      },
      {
       "output_type": "stream",
       "stream": "stdout",
       "text": [
        " ND_ASOS 0 8.1904761904761905\n",
        "MWM"
       ]
      },
      {
       "output_type": "stream",
       "stream": "stdout",
       "text": [
        " MN_ASOS 1 11.1746031746031746\n",
        "ARV"
       ]
      },
      {
       "output_type": "stream",
       "stream": "stdout",
       "text": [
        " WI_ASOS 1 1.7619047619047619\n",
        "RAP"
       ]
      },
      {
       "output_type": "stream",
       "stream": "stdout",
       "text": [
        " SD_ASOS 5 10.9841269841269841\n",
        "MLI"
       ]
      },
      {
       "output_type": "stream",
       "stream": "stdout",
       "text": [
        " IL_ASOS 1 13.4126984126984127\n",
        "AMW"
       ]
      },
      {
       "output_type": "stream",
       "stream": "stdout",
       "text": [
        " IA_ASOS 1 9.6666666666666667\n",
        "HAO"
       ]
      },
      {
       "output_type": "stream",
       "stream": "stdout",
       "text": [
        " OH_ASOS 7 6.7936507936507937\n",
        "JYM"
       ]
      },
      {
       "output_type": "stream",
       "stream": "stdout",
       "text": [
        " MI_ASOS 1 5.4126984126984127\n",
        "DUH"
       ]
      },
      {
       "output_type": "stream",
       "stream": "stdout",
       "text": [
        " MI_ASOS 4 8.7936507936507937\n",
        "EGV"
       ]
      },
      {
       "output_type": "stream",
       "stream": "stdout",
       "text": [
        " WI_ASOS 0 1.1904761904761905\n",
        "MZH"
       ]
      },
      {
       "output_type": "stream",
       "stream": "stdout",
       "text": [
        " MN_ASOS 1 3.0952380952380952\n",
        "HYR"
       ]
      },
      {
       "output_type": "stream",
       "stream": "stdout",
       "text": [
        " WI_ASOS 0 2.6190476190476190\n",
        "ALO"
       ]
      },
      {
       "output_type": "stream",
       "stream": "stdout",
       "text": [
        " IA_ASOS 1 9.4761904761904762\n",
        "ADG"
       ]
      },
      {
       "output_type": "stream",
       "stream": "stdout",
       "text": [
        " MI_ASOS 2 8.7936507936507937\n",
        "EHA"
       ]
      },
      {
       "output_type": "stream",
       "stream": "stdout",
       "text": [
        " KS_ASOS 36 40.3174603174603175\n",
        "FGN"
       ]
      },
      {
       "output_type": "stream",
       "stream": "stdout",
       "text": [
        " MN_ASOS 0 2.1269841269841270\n",
        "C35"
       ]
      },
      {
       "output_type": "stream",
       "stream": "stdout",
       "text": [
        " WI_ASOS 1 5.2539682539682540\n",
        "1H2"
       ]
      },
      {
       "output_type": "stream",
       "stream": "stdout",
       "text": [
        " IL_ASOS 8 19.0634920634920635\n",
        "GEZ"
       ]
      },
      {
       "output_type": "stream",
       "stream": "stdout",
       "text": [
        " IN_ASOS 5 11.6349206349206349\n",
        "AUW"
       ]
      },
      {
       "output_type": "stream",
       "stream": "stdout",
       "text": [
        " WI_ASOS 0 2.5873015873015873\n",
        "CVX"
       ]
      },
      {
       "output_type": "stream",
       "stream": "stdout",
       "text": [
        " MI_ASOS 1 1.1587301587301587\n",
        "GYL"
       ]
      },
      {
       "output_type": "stream",
       "stream": "stdout",
       "text": [
        " MN_ASOS 2 9.7142857142857143\n",
        "BWP"
       ]
      },
      {
       "output_type": "stream",
       "stream": "stdout",
       "text": [
        " ND_ASOS 4 8.6507936507936508\n",
        "MRJ"
       ]
      },
      {
       "output_type": "stream",
       "stream": "stdout",
       "text": [
        " WI_ASOS 1 4.1904761904761905\n",
        "EVV"
       ]
      },
      {
       "output_type": "stream",
       "stream": "stdout",
       "text": [
        " IN_ASOS 13 22.7142857142857143\n",
        "LBF"
       ]
      },
      {
       "output_type": "stream",
       "stream": "stdout",
       "text": [
        " NE_ASOS 11 18.1904761904761905\n",
        "GGI"
       ]
      },
      {
       "output_type": "stream",
       "stream": "stdout",
       "text": [
        " AWOS 0 8.3809523809523810\n",
        "TAZ"
       ]
      },
      {
       "output_type": "stream",
       "stream": "stdout",
       "text": [
        " IL_ASOS 0 15.6507936507936508\n",
        "MWA"
       ]
      },
      {
       "output_type": "stream",
       "stream": "stdout",
       "text": [
        " IL_ASOS 13 22.9365079365079365\n",
        "RDK"
       ]
      },
      {
       "output_type": "stream",
       "stream": "stdout",
       "text": [
        " AWOS 8 19.1587301587301587\n",
        "PBH"
       ]
      },
      {
       "output_type": "stream",
       "stream": "stdout",
       "text": [
        " WI_ASOS 0 1.1269841269841270\n",
        "DEH"
       ]
      },
      {
       "output_type": "stream",
       "stream": "stdout",
       "text": [
        " AWOS 0 7.2857142857142857\n",
        "IGQ"
       ]
      },
      {
       "ename": "KeyboardInterrupt",
       "evalue": "",
       "output_type": "pyerr",
       "traceback": [
        "\u001b[1;31m---------------------------------------------------------------------------\u001b[0m\n\u001b[1;31mKeyboardInterrupt\u001b[0m                         Traceback (most recent call last)",
        "\u001b[1;32m<ipython-input-8-538af2170286>\u001b[0m in \u001b[0;36m<module>\u001b[1;34m()\u001b[0m\n\u001b[0;32m     20\u001b[0m     \u001b[0malldata_\u001b[0m\u001b[1;34m\"\"\"+climatesite[:2]+\"\"\"\u001b[0m \u001b[0mwhere\u001b[0m \u001b[0mstation\u001b[0m \u001b[1;33m=\u001b[0m \u001b[1;33m%\u001b[0m\u001b[0ms\u001b[0m \u001b[1;32mand\u001b[0m \u001b[0myear\u001b[0m \u001b[1;33m>\u001b[0m \u001b[1;36m1950\u001b[0m \u001b[1;32mand\u001b[0m \u001b[0myear\u001b[0m \u001b[1;33m<\u001b[0m \u001b[1;36m2014\u001b[0m\u001b[1;33m\u001b[0m\u001b[0m\n\u001b[0;32m     21\u001b[0m     \u001b[1;32mand\u001b[0m \u001b[0msday\u001b[0m \u001b[1;33m<\u001b[0m \u001b[1;34m'0725'\u001b[0m\u001b[1;33m\u001b[0m\u001b[0m\n\u001b[1;32m---> 22\u001b[1;33m     GROUP by year) as foo\"\"\", (climatesite,) )\n\u001b[0m\u001b[0;32m     23\u001b[0m     \u001b[0mrow2\u001b[0m \u001b[1;33m=\u001b[0m \u001b[0mccursor\u001b[0m\u001b[1;33m.\u001b[0m\u001b[0mfetchone\u001b[0m\u001b[1;33m(\u001b[0m\u001b[1;33m)\u001b[0m\u001b[1;33m\u001b[0m\u001b[0m\n\u001b[0;32m     24\u001b[0m     \u001b[1;32mprint\u001b[0m \u001b[0mrow\u001b[0m\u001b[1;33m[\u001b[0m\u001b[1;36m0\u001b[0m\u001b[1;33m]\u001b[0m\u001b[1;33m,\u001b[0m \u001b[0mnt\u001b[0m\u001b[1;33m.\u001b[0m\u001b[0msts\u001b[0m\u001b[1;33m[\u001b[0m\u001b[0mrow\u001b[0m\u001b[1;33m[\u001b[0m\u001b[1;36m0\u001b[0m\u001b[1;33m]\u001b[0m\u001b[1;33m]\u001b[0m\u001b[1;33m[\u001b[0m\u001b[1;34m'network'\u001b[0m\u001b[1;33m]\u001b[0m\u001b[1;33m,\u001b[0m \u001b[0mrow\u001b[0m\u001b[1;33m[\u001b[0m\u001b[1;36m1\u001b[0m\u001b[1;33m]\u001b[0m\u001b[1;33m,\u001b[0m \u001b[0mrow2\u001b[0m\u001b[1;33m[\u001b[0m\u001b[1;36m0\u001b[0m\u001b[1;33m]\u001b[0m\u001b[1;33m\u001b[0m\u001b[0m\n",
        "\u001b[1;32m<string>\u001b[0m in \u001b[0;36m__new__\u001b[1;34m(_cls, name, type_code, display_size, internal_size, precision, scale, null_ok)\u001b[0m\n",
        "\u001b[1;31mKeyboardInterrupt\u001b[0m: "
       ]
      },
      {
       "output_type": "stream",
       "stream": "stdout",
       "text": [
        " IL_ASOS 2 10.1269841269841270\n"
       ]
      },
      {
       "output_type": "stream",
       "stream": "stderr",
       "text": [
        "ERROR: An unexpected error occurred while tokenizing input\n",
        "The following traceback may be corrupted or invalid\n",
        "The error message is: ('EOF in multi-line string', (1, 25))\n",
        "\n"
       ]
      }
     ],
     "prompt_number": 8
    },
    {
     "cell_type": "code",
     "collapsed": false,
     "input": [
      "lons = []\n",
      "lats = []\n",
      "vals = []\n",
      "for line in open('/tmp/a.txt'):\n",
      "    tokens = line.split()\n",
      "    lons.append( float(nt.sts[tokens[0]]['lon']) )\n",
      "    lats.append( float(nt.sts[tokens[0]]['lat']) )\n",
      "    vals.append( float(tokens[2]) - float(tokens[3]) )"
     ],
     "language": "python",
     "metadata": {},
     "outputs": [],
     "prompt_number": 2
    },
    {
     "cell_type": "code",
     "collapsed": false,
     "input": [
      "from pyiem.plot import MapPlot\n",
      "import matplotlib.cm as cm\n",
      "cmap = cm.get_cmap('RdBu_r')\n",
      "cmap.set_under('black')\n",
      "cmap.set_over('white')\n",
      "m = MapPlot(sector='midwest', title=\"1 Jan - 24 Jul 2014 Departure Number of 90$^\\circ$F Days\",\n",
      "            subtitle='vs 1951-2013 Average number of days to date')\n",
      "m.contourf(lons, lats, vals, range(-20,20,4) , cmap=cmap, label='days')\n",
      "#m.plot_values(lons, lats, vals, '%.0f')\n",
      "m.postprocess(filename='test.ps')"
     ],
     "language": "python",
     "metadata": {},
     "outputs": [
      {
       "output_type": "stream",
       "stream": "stderr",
       "text": [
        "/usr/lib64/python2.6/site-packages/matplotlib/image.py:1313: DeprecationWarning: tostring() is deprecated. Please call tobytes() instead.\n",
        "  x_str = im.tostring('raw', im.mode)\n"
       ]
      },
      {
       "metadata": {},
       "output_type": "display_data",
       "png": "[encoded data removed]",
       "text": [
        "<matplotlib.figure.Figure at 0x41b2410>"
       ]
      }
     ],
     "prompt_number": 3
    },
    {
     "cell_type": "code",
     "collapsed": false,
     "input": [
      "import iemplot\n",
      "iemplot.makefeature('test')"
     ],
     "language": "python",
     "metadata": {},
     "outputs": [
      {
       "output_type": "stream",
       "stream": "stderr",
       "text": [
        "/usr/lib64/python2.6/site-packages/matplotlib/__init__.py:1155: UserWarning:  This call to matplotlib.use() has no effect\n",
        "because the backend has already been chosen;\n",
        "matplotlib.use() must be called *before* pylab, matplotlib.pyplot,\n",
        "or matplotlib.backends is imported for the first time.\n",
        "\n",
        "  warnings.warn(_use_error_msg)\n"
       ]
      }
     ],
     "prompt_number": 4
    },
    {
     "cell_type": "code",
     "collapsed": false,
     "input": [],
     "language": "python",
     "metadata": {},
     "outputs": []
    }
   ],
   "metadata": {}
  }
 ]
}