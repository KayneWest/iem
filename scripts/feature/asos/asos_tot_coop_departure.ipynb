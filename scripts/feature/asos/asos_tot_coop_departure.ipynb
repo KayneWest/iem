{
 "metadata": {
  "name": ""
 },
 "nbformat": 3,
 "nbformat_minor": 0,
 "worksheets": [
  {
   "cells": [
    {
     "cell_type": "code",
     "collapsed": false,
     "input": [
      "import psycopg2\n",
      "\n",
      "from pyiem import network\n",
      "\n",
      "nt = network.Table(('IA_ASOS','MO_ASOS','IL_ASOS', 'ND_ASOS', 'AWOS',\n",
      "          'WI_ASOS','MN_ASOS', 'SD_ASOS', 'NE_ASOS', 'KS_ASOS',\n",
      "          'IN_ASOS','KY_ASOS','OH_ASOS','MI_ASOS'))\n"
     ],
     "language": "python",
     "metadata": {},
     "outputs": [],
     "prompt_number": 3
    },
    {
     "cell_type": "code",
     "collapsed": false,
     "input": [
      "COOPDB = psycopg2.connect(database='coop', host='iemdb', user='nobody')\n",
      "IEMDB = psycopg2.connect(database='iem', host='iemdb', user='nobody')\n",
      "cursor = IEMDB.cursor()\n",
      "ccursor = COOPDB.cursor()\n",
      "\n",
      "cursor.execute(\"\"\"SELECT id, sum(case when max_tmpf >= 89.5 then 1 else 0 end)\n",
      "  from summary_2014 s JOIN stations t on (t.iemid = s.iemid) WHERE\n",
      "  t.network in ('IA_ASOS','MO_ASOS','IL_ASOS', 'ND_ASOS', 'AWOS',\n",
      "          'WI_ASOS','MN_ASOS', 'SD_ASOS', 'NE_ASOS', 'KS_ASOS',\n",
      "          'IN_ASOS','KY_ASOS','OH_ASOS','MI_ASOS') and max_tmpf < 120 GROUP by id\"\"\")\n",
      "lats = []\n",
      "lons = []\n",
      "vals = []\n",
      "for row in cursor:\n",
      "    if not nt.sts.has_key(row[0]):\n",
      "        continue\n",
      "    climatesite = nt.sts[row[0]]['climate_site']\n",
      "    ccursor.execute(\"\"\"SELECT avg(sum) from (\n",
      "    SELECT year, sum(case when high > 89 then 1 else 0 end) from \n",
      "    alldata_\"\"\"+climatesite[:2]+\"\"\" where station = %s and year > 1950 and year < 2014\n",
      "    and sday < '0820'\n",
      "    GROUP by year) as foo\"\"\", (climatesite,) )\n",
      "    row2 = ccursor.fetchone()\n",
      "    print row[0], nt.sts[row[0]]['network'], row[1], row2[0]\n",
      "    lons.append( nt.sts[row[0]]['lon'] )\n",
      "    lats.append( nt.sts[row[0]]['lat'] )\n",
      "    vals.append( row[1] - row2[0] )\n",
      "    "
     ],
     "language": "python",
     "metadata": {},
     "outputs": [
      {
       "output_type": "stream",
       "stream": "stdout",
       "text": [
        "HOP KY_ASOS 21 36.8095238095238095\n",
        "PEX"
       ]
      },
      {
       "output_type": "stream",
       "stream": "stdout",
       "text": [
        " MN_ASOS 0 9.5238095238095238\n",
        "RDR"
       ]
      },
      {
       "output_type": "stream",
       "stream": "stdout",
       "text": [
        " ND_ASOS 3 9.3968253968253968\n",
        "TOB"
       ]
      },
      {
       "output_type": "stream",
       "stream": "stdout",
       "text": [
        " MN_ASOS 0 11.0158730158730159\n",
        "SGF"
       ]
      },
      {
       "output_type": "stream",
       "stream": "stdout",
       "text": [
        " MO_ASOS 22 32.2380952380952381\n",
        "SZL"
       ]
      },
      {
       "output_type": "stream",
       "stream": "stdout",
       "text": [
        " MO_ASOS 9 28.3333333333333333\n",
        "VES"
       ]
      },
      {
       "output_type": "stream",
       "stream": "stdout",
       "text": [
        " OH_ASOS 1 11.0000000000000000\n",
        "CBF"
       ]
      },
      {
       "output_type": "stream",
       "stream": "stdout",
       "text": [
        " AWOS 9 27.2698412698412698\n",
        "CAD"
       ]
      },
      {
       "output_type": "stream",
       "stream": "stdout",
       "text": [
        " MI_ASOS 0 3.2380952380952381\n",
        "S32"
       ]
      },
      {
       "output_type": "stream",
       "stream": "stdout",
       "text": [
        " ND_ASOS 1 10.3809523809523810\n",
        "RRT"
       ]
      },
      {
       "output_type": "stream",
       "stream": "stdout",
       "text": [
        " MN_ASOS 0 3.3809523809523810\n",
        "RNP"
       ]
      },
      {
       "output_type": "stream",
       "stream": "stdout",
       "text": [
        " MI_ASOS 0 6.7619047619047619\n",
        "DNS"
       ]
      },
      {
       "output_type": "stream",
       "stream": "stdout",
       "text": [
        " AWOS 3 13.2698412698412698\n",
        "CID"
       ]
      },
      {
       "output_type": "stream",
       "stream": "stdout",
       "text": [
        " IA_ASOS 0 14.6825396825396825\n",
        "D25"
       ]
      },
      {
       "output_type": "stream",
       "stream": "stdout",
       "text": [
        " WI_ASOS 0 1.8253968253968254\n",
        "FTK"
       ]
      },
      {
       "output_type": "stream",
       "stream": "stdout",
       "text": [
        " KY_ASOS 11 21.8730158730158730\n",
        "TDZ"
       ]
      },
      {
       "output_type": "stream",
       "stream": "stdout",
       "text": [
        " OH_ASOS 5 14.3492063492063492\n",
        "OFK"
       ]
      },
      {
       "output_type": "stream",
       "stream": "stdout",
       "text": [
        " NE_ASOS 8 25.3015873015873016\n",
        "BJJ"
       ]
      },
      {
       "output_type": "stream",
       "stream": "stdout",
       "text": [
        " OH_ASOS 2 5.1904761904761905\n",
        "TTF"
       ]
      },
      {
       "output_type": "stream",
       "stream": "stdout",
       "text": [
        " MI_ASOS 3 9.7619047619047619\n",
        "RZT"
       ]
      },
      {
       "output_type": "stream",
       "stream": "stdout",
       "text": [
        " OH_ASOS 2 17.3968253968253968\n",
        "BWG"
       ]
      },
      {
       "output_type": "stream",
       "stream": "stdout",
       "text": [
        " KY_ASOS 31 23.2222222222222222\n",
        "AID"
       ]
      },
      {
       "output_type": "stream",
       "stream": "stdout",
       "text": [
        " IN_ASOS 1 9.2698412698412698\n",
        "ATW"
       ]
      },
      {
       "output_type": "stream",
       "stream": "stdout",
       "text": [
        " WI_ASOS 1 6.2857142857142857\n",
        "DEC"
       ]
      },
      {
       "output_type": "stream",
       "stream": "stdout",
       "text": [
        " IL_ASOS 4 26.3968253968253968\n",
        "CDR"
       ]
      },
      {
       "output_type": "stream",
       "stream": "stdout",
       "text": [
        " NE_ASOS 31 32.4761904761904762\n",
        "HNB"
       ]
      },
      {
       "output_type": "stream",
       "stream": "stdout",
       "text": [
        " IN_ASOS 11 19.0793650793650794\n",
        "CNU"
       ]
      },
      {
       "output_type": "stream",
       "stream": "stdout",
       "text": [
        " KS_ASOS 26 38.1904761904761905\n",
        "BVN"
       ]
      },
      {
       "output_type": "stream",
       "stream": "stdout",
       "text": [
        " NE_ASOS 3 22.0158730158730159\n",
        "AUM"
       ]
      },
      {
       "output_type": "stream",
       "stream": "stdout",
       "text": [
        " MN_ASOS 0 8.0476190476190476\n",
        "PIA"
       ]
      },
      {
       "output_type": "stream",
       "stream": "stdout",
       "text": [
        " IL_ASOS 9 17.8888888888888889\n",
        "IIB"
       ]
      },
      {
       "output_type": "stream",
       "stream": "stdout",
       "text": [
        " AWOS 1 11.2063492063492063\n",
        "OWB"
       ]
      },
      {
       "output_type": "stream",
       "stream": "stdout",
       "text": [
        " KY_ASOS 17 26.5396825396825397\n",
        "Y70"
       ]
      },
      {
       "output_type": "stream",
       "stream": "stdout",
       "text": [
        " MI_ASOS 0 9.6984126984126984\n",
        "D55"
       ]
      },
      {
       "output_type": "stream",
       "stream": "stdout",
       "text": [
        " ND_ASOS 3 4.7301587301587302\n",
        "EAR"
       ]
      },
      {
       "output_type": "stream",
       "stream": "stdout",
       "text": [
        " NE_ASOS 25 29.2222222222222222\n",
        "FWC"
       ]
      },
      {
       "output_type": "stream",
       "stream": "stdout",
       "text": [
        " IL_ASOS 8 29.5714285714285714\n",
        "STE"
       ]
      },
      {
       "output_type": "stream",
       "stream": "stdout",
       "text": [
        " WI_ASOS 0 5.1904761904761905\n",
        "TBN"
       ]
      },
      {
       "output_type": "stream",
       "stream": "stdout",
       "text": [
        " MO_ASOS 15 33.5714285714285714\n",
        "CQM"
       ]
      },
      {
       "output_type": "stream",
       "stream": "stdout",
       "text": [
        " MN_ASOS 1 4.1111111111111111\n",
        "RST"
       ]
      },
      {
       "output_type": "stream",
       "stream": "stdout",
       "text": [
        " MN_ASOS 0 6.3809523809523810\n",
        "CWA"
       ]
      },
      {
       "output_type": "stream",
       "stream": "stdout",
       "text": [
        " WI_ASOS 5 3.1587301587301587\n",
        "FNT"
       ]
      },
      {
       "output_type": "stream",
       "stream": "stdout",
       "text": [
        " MI_ASOS 1 6.9365079365079365\n",
        "96D"
       ]
      },
      {
       "output_type": "stream",
       "stream": "stdout",
       "text": [
        " ND_ASOS 4 6.9523809523809524\n",
        "EHR"
       ]
      },
      {
       "output_type": "stream",
       "stream": "stdout",
       "text": [
        " KY_ASOS 21 30.7777777777777778\n",
        "06D"
       ]
      },
      {
       "output_type": "stream",
       "stream": "stdout",
       "text": [
        " ND_ASOS 1 4.5079365079365079\n",
        "ORD"
       ]
      },
      {
       "output_type": "stream",
       "stream": "stdout",
       "text": [
        " IL_ASOS 3 17.4126984126984127\n",
        "RZL"
       ]
      },
      {
       "output_type": "stream",
       "stream": "stdout",
       "text": [
        " IN_ASOS 3 13.2380952380952381\n",
        "FCM"
       ]
      },
      {
       "output_type": "stream",
       "stream": "stdout",
       "text": [
        " MN_ASOS 3 8.3809523809523810\n",
        "WLD"
       ]
      },
      {
       "output_type": "stream",
       "stream": "stdout",
       "text": [
        " KS_ASOS 42 45.3650793650793651\n",
        "ONZ"
       ]
      },
      {
       "output_type": "stream",
       "stream": "stdout",
       "text": [
        " MI_ASOS 1 9.7619047619047619\n",
        "LUK"
       ]
      },
      {
       "output_type": "stream",
       "stream": "stdout",
       "text": [
        " OH_ASOS 7 9.7460317460317460\n",
        "VVV"
       ]
      },
      {
       "output_type": "stream",
       "stream": "stdout",
       "text": [
        " MN_ASOS 3 9.9682539682539683\n",
        "BDH"
       ]
      },
      {
       "output_type": "stream",
       "stream": "stdout",
       "text": [
        " MN_ASOS 3 9.1587301587301587\n",
        "DRM"
       ]
      },
      {
       "output_type": "stream",
       "stream": "stdout",
       "text": [
        " MI_ASOS 0 1.3809523809523810\n",
        "ICR"
       ]
      },
      {
       "output_type": "stream",
       "stream": "stdout",
       "text": [
        " SD_ASOS 19 34.4126984126984127\n",
        "MWO"
       ]
      },
      {
       "output_type": "stream",
       "stream": "stdout",
       "text": [
        " OH_ASOS 13 10.0793650793650794\n",
        "INL"
       ]
      },
      {
       "output_type": "stream",
       "stream": "stdout",
       "text": [
        " MN_ASOS 1 3.2698412698412698\n",
        "EOK"
       ]
      },
      {
       "output_type": "stream",
       "stream": "stdout",
       "text": [
        " AWOS 3 23.0317460317460317\n",
        "BBW"
       ]
      },
      {
       "output_type": "stream",
       "stream": "stdout",
       "text": [
        " NE_ASOS 21 24.3650793650793651\n",
        "OSU"
       ]
      },
      {
       "output_type": "stream",
       "stream": "stdout",
       "text": [
        " OH_ASOS 4 14.8095238095238095\n",
        "PHD"
       ]
      },
      {
       "output_type": "stream",
       "stream": "stdout",
       "text": [
        " OH_ASOS 1 6.0634920634920635\n",
        "BMI"
       ]
      },
      {
       "output_type": "stream",
       "stream": "stdout",
       "text": [
        " IL_ASOS 3 16.4126984126984127\n",
        "LWA"
       ]
      },
      {
       "output_type": "stream",
       "stream": "stdout",
       "text": [
        " MI_ASOS 0 2.5396825396825397\n",
        "I39"
       ]
      },
      {
       "output_type": "stream",
       "stream": "stdout",
       "text": [
        " KY_ASOS 13 18.7142857142857143\n",
        "SME"
       ]
      },
      {
       "output_type": "stream",
       "stream": "stdout",
       "text": [
        " KY_ASOS 7 16.5555555555555556\n",
        "BBB"
       ]
      },
      {
       "output_type": "stream",
       "stream": "stdout",
       "text": [
        " MN_ASOS 2 12.6507936507936508\n",
        "HTL"
       ]
      },
      {
       "output_type": "stream",
       "stream": "stdout",
       "text": [
        " MI_ASOS 0 6.3809523809523810\n",
        "APN"
       ]
      },
      {
       "output_type": "stream",
       "stream": "stdout",
       "text": [
        " MI_ASOS 0 5.7777777777777778\n",
        "SNY"
       ]
      },
      {
       "output_type": "stream",
       "stream": "stdout",
       "text": [
        " NE_ASOS 33 27.4603174603174603\n",
        "LNR"
       ]
      },
      {
       "output_type": "stream",
       "stream": "stdout",
       "text": [
        " WI_ASOS 6 11.6349206349206349\n",
        "MIW"
       ]
      },
      {
       "output_type": "stream",
       "stream": "stdout",
       "text": [
        " IA_ASOS 1 14.1587301587301587\n",
        "HHG"
       ]
      },
      {
       "output_type": "stream",
       "stream": "stdout",
       "text": [
        " IN_ASOS 0 13.0158730158730159\n",
        "MDH"
       ]
      },
      {
       "output_type": "stream",
       "stream": "stdout",
       "text": [
        " IL_ASOS 16 34.7936507936507937\n",
        "Y19"
       ]
      },
      {
       "output_type": "stream",
       "stream": "stdout",
       "text": [
        " ND_ASOS 3 13.9365079365079365\n",
        "C75"
       ]
      },
      {
       "output_type": "stream",
       "stream": "stdout",
       "text": [
        " IL_ASOS 1 14.8730158730158730\n",
        "ILL"
       ]
      },
      {
       "output_type": "stream",
       "stream": "stdout",
       "text": [
        " MN_ASOS 0 9.1587301587301587\n",
        "RSV"
       ]
      },
      {
       "output_type": "stream",
       "stream": "stdout",
       "text": [
        " IL_ASOS 20 31.8412698412698413\n",
        "MJQ"
       ]
      },
      {
       "output_type": "stream",
       "stream": "stdout",
       "text": [
        " MN_ASOS 0 15.4444444444444444\n",
        "ABR"
       ]
      },
      {
       "output_type": "stream",
       "stream": "stdout",
       "text": [
        " SD_ASOS 2 16.5396825396825397\n",
        "P58"
       ]
      },
      {
       "output_type": "stream",
       "stream": "stdout",
       "text": [
        " MI_ASOS 0 3.5714285714285714\n",
        "CWI"
       ]
      },
      {
       "output_type": "stream",
       "stream": "stdout",
       "text": [
        " AWOS 1 15.1746031746031746\n",
        "HCO"
       ]
      },
      {
       "output_type": "stream",
       "stream": "stdout",
       "text": [
        " MN_ASOS 4 7.2539682539682540\n",
        "DPA"
       ]
      },
      {
       "output_type": "stream",
       "stream": "stdout",
       "text": [
        " IL_ASOS 2 11.4761904761904762\n",
        "AHQ"
       ]
      },
      {
       "output_type": "stream",
       "stream": "stdout",
       "text": [
        " NE_ASOS 10 30.8571428571428571\n",
        "AXN"
       ]
      },
      {
       "output_type": "stream",
       "stream": "stdout",
       "text": [
        " MN_ASOS 1 7.0952380952380952\n",
        "OKK"
       ]
      },
      {
       "output_type": "stream",
       "stream": "stdout",
       "text": [
        " IN_ASOS 7 13.8095238095238095\n",
        "IAB"
       ]
      },
      {
       "output_type": "stream",
       "stream": "stdout",
       "text": [
        " KS_ASOS 38 48.4285714285714286\n",
        "BPP"
       ]
      },
      {
       "output_type": "stream",
       "stream": "stdout",
       "text": [
        " ND_ASOS 0 16.1269841269841270\n",
        "MQJ"
       ]
      },
      {
       "output_type": "stream",
       "stream": "stdout",
       "text": [
        " IN_ASOS 3 16.3968253968253968\n",
        "HNR"
       ]
      },
      {
       "output_type": "stream",
       "stream": "stdout",
       "text": [
        " AWOS 5 18.7936507936507937\n",
        "DVK"
       ]
      },
      {
       "output_type": "stream",
       "stream": "stdout",
       "text": [
        " KY_ASOS 11 19.7777777777777778\n",
        "POV"
       ]
      },
      {
       "output_type": "stream",
       "stream": "stdout",
       "text": [
        " OH_ASOS 0 3.8571428571428571\n",
        "HFJ"
       ]
      },
      {
       "output_type": "stream",
       "stream": "stdout",
       "text": [
        " MO_ASOS 15 30.5555555555555556\n",
        "4I7"
       ]
      },
      {
       "output_type": "stream",
       "stream": "stdout",
       "text": [
        " IN_ASOS 0 19.6190476190476190\n",
        "Y63"
       ]
      },
      {
       "output_type": "stream",
       "stream": "stdout",
       "text": [
        " MN_ASOS 0 8.9682539682539683\n",
        "ACB"
       ]
      },
      {
       "output_type": "stream",
       "stream": "stdout",
       "text": [
        " MI_ASOS 2 6.2222222222222222\n",
        "BLV"
       ]
      },
      {
       "output_type": "stream",
       "stream": "stdout",
       "text": [
        " IL_ASOS 13 33.9841269841269841\n",
        "CIU"
       ]
      },
      {
       "output_type": "stream",
       "stream": "stdout",
       "text": [
        " MI_ASOS 0 1.0476190476190476\n",
        "PZQ"
       ]
      },
      {
       "output_type": "stream",
       "stream": "stdout",
       "text": [
        " MI_ASOS 0 6.9047619047619048\n",
        "MTO"
       ]
      },
      {
       "output_type": "stream",
       "stream": "stdout",
       "text": [
        " IL_ASOS 0 21.3968253968253968\n",
        "D60"
       ]
      },
      {
       "output_type": "stream",
       "stream": "stdout",
       "text": [
        " ND_ASOS 2 11.6825396825396825\n",
        "RZN"
       ]
      },
      {
       "output_type": "stream",
       "stream": "stdout",
       "text": [
        " WI_ASOS 1 5.1587301587301587\n",
        "IKV"
       ]
      },
      {
       "output_type": "stream",
       "stream": "stdout",
       "text": [
        " AWOS 3 17.0317460317460317\n",
        "SJX"
       ]
      },
      {
       "output_type": "stream",
       "stream": "stdout",
       "text": [
        " MI_ASOS 0 0.31746031746031746032\n",
        "FDY"
       ]
      },
      {
       "output_type": "stream",
       "stream": "stdout",
       "text": [
        " OH_ASOS 3 11.3968253968253968\n",
        "RHI"
       ]
      },
      {
       "output_type": "stream",
       "stream": "stdout",
       "text": [
        " WI_ASOS 0 3.0952380952380952\n",
        "MDW"
       ]
      },
      {
       "output_type": "stream",
       "stream": "stdout",
       "text": [
        " IL_ASOS 7 17.4126984126984127\n",
        "CMH"
       ]
      },
      {
       "output_type": "stream",
       "stream": "stdout",
       "text": [
        " OH_ASOS 8 15.0158730158730159\n",
        "DAY"
       ]
      },
      {
       "output_type": "stream",
       "stream": "stdout",
       "text": [
        " OH_ASOS 4 9.8253968253968254\n",
        "P59"
       ]
      },
      {
       "output_type": "stream",
       "stream": "stdout",
       "text": [
        " MI_ASOS 0 1.7460317460317460\n",
        "SAR"
       ]
      },
      {
       "output_type": "stream",
       "stream": "stdout",
       "text": [
        " IL_ASOS 8 25.9047619047619048\n",
        "HZX"
       ]
      },
      {
       "output_type": "stream",
       "stream": "stdout",
       "text": [
        " MN_ASOS 0 3.4603174603174603\n",
        "CMX"
       ]
      },
      {
       "output_type": "stream",
       "stream": "stdout",
       "text": [
        " MI_ASOS 0 1.7460317460317460\n",
        "CVG"
       ]
      },
      {
       "output_type": "stream",
       "stream": "stdout",
       "text": [
        " KY_ASOS 3 20.1269841269841270\n",
        "ILN"
       ]
      },
      {
       "output_type": "stream",
       "stream": "stdout",
       "text": [
        " OH_ASOS 2 12.3492063492063492\n",
        "ADC"
       ]
      },
      {
       "output_type": "stream",
       "stream": "stdout",
       "text": [
        " MN_ASOS 1 5.1746031746031746\n",
        "TVC"
       ]
      },
      {
       "output_type": "stream",
       "stream": "stdout",
       "text": [
        " MI_ASOS 2 5.3015873015873016\n",
        "ALN"
       ]
      },
      {
       "output_type": "stream",
       "stream": "stdout",
       "text": [
        " IL_ASOS 9 24.0952380952380952\n",
        "GPZ"
       ]
      },
      {
       "output_type": "stream",
       "stream": "stdout",
       "text": [
        " MN_ASOS 1 4.1111111111111111\n",
        "FWA"
       ]
      },
      {
       "output_type": "stream",
       "stream": "stdout",
       "text": [
        " IN_ASOS 2 13.0158730158730159\n",
        "PRG"
       ]
      },
      {
       "output_type": "stream",
       "stream": "stdout",
       "text": [
        " IL_ASOS 1 21.0793650793650794\n",
        "MUT"
       ]
      },
      {
       "output_type": "stream",
       "stream": "stdout",
       "text": [
        " AWOS 7 18.8253968253968254\n",
        "UBE"
       ]
      },
      {
       "output_type": "stream",
       "stream": "stdout",
       "text": [
        " WI_ASOS 0 5.8571428571428571\n",
        "YKN"
       ]
      },
      {
       "output_type": "stream",
       "stream": "stdout",
       "text": [
        " SD_ASOS 4 25.7619047619047619\n",
        "DCY"
       ]
      },
      {
       "output_type": "stream",
       "stream": "stdout",
       "text": [
        " IN_ASOS 4 26.3809523809523810\n",
        "AIO"
       ]
      },
      {
       "output_type": "stream",
       "stream": "stdout",
       "text": [
        " AWOS 4 18.8095238095238095\n",
        "DVL"
       ]
      },
      {
       "output_type": "stream",
       "stream": "stdout",
       "text": [
        " ND_ASOS 1 7.8095238095238095\n",
        "PPQ"
       ]
      },
      {
       "output_type": "stream",
       "stream": "stdout",
       "text": [
        " IL_ASOS 5 21.3492063492063492\n",
        "MTW"
       ]
      },
      {
       "output_type": "stream",
       "stream": "stdout",
       "text": [
        " WI_ASOS 1 3.7619047619047619\n",
        "29G"
       ]
      },
      {
       "output_type": "stream",
       "stream": "stdout",
       "text": [
        " OH_ASOS 0 3.8571428571428571\n",
        "MTC"
       ]
      },
      {
       "output_type": "stream",
       "stream": "stdout",
       "text": [
        " MI_ASOS 2 8.1269841269841270\n",
        "ANW"
       ]
      },
      {
       "output_type": "stream",
       "stream": "stdout",
       "text": [
        " NE_ASOS 8 25.1428571428571429\n",
        "UKL"
       ]
      },
      {
       "output_type": "stream",
       "stream": "stdout",
       "text": [
        " KS_ASOS 0 34.0476190476190476\n",
        "ASW"
       ]
      },
      {
       "output_type": "stream",
       "stream": "stdout",
       "text": [
        " IN_ASOS 1 9.9206349206349206\n",
        "HZE"
       ]
      },
      {
       "output_type": "stream",
       "stream": "stdout",
       "text": [
        " ND_ASOS 4 10.8412698412698413\n",
        "IND"
       ]
      },
      {
       "output_type": "stream",
       "stream": "stdout",
       "text": [
        " IN_ASOS 0 14.5238095238095238\n",
        "MWC"
       ]
      },
      {
       "output_type": "stream",
       "stream": "stdout",
       "text": [
        " WI_ASOS 1 13.3015873015873016\n",
        "IKW"
       ]
      },
      {
       "output_type": "stream",
       "stream": "stdout",
       "text": [
        " MI_ASOS 0 6.3809523809523810\n",
        "DMO"
       ]
      },
      {
       "output_type": "stream",
       "stream": "stdout",
       "text": [
        " MO_ASOS 20 31.8412698412698413\n",
        "IRS"
       ]
      },
      {
       "output_type": "stream",
       "stream": "stdout",
       "text": [
        " MI_ASOS 0 12.0476190476190476\n",
        "OOA"
       ]
      },
      {
       "output_type": "stream",
       "stream": "stdout",
       "text": [
        " AWOS 3 18.7936507936507937\n",
        "LBL"
       ]
      },
      {
       "output_type": "stream",
       "stream": "stdout",
       "text": [
        " KS_ASOS 67 64.2222222222222222\n",
        "MCW"
       ]
      },
      {
       "output_type": "stream",
       "stream": "stdout",
       "text": [
        " IA_ASOS 0 11.5714285714285714\n",
        "CDJ"
       ]
      },
      {
       "output_type": "stream",
       "stream": "stdout",
       "text": [
        " MO_ASOS 11 27.5396825396825397\n",
        "DSM"
       ]
      },
      {
       "output_type": "stream",
       "stream": "stdout",
       "text": [
        " IA_ASOS 7 19.2222222222222222\n",
        "CMI"
       ]
      },
      {
       "output_type": "stream",
       "stream": "stdout",
       "text": [
        " IL_ASOS 9 18.3174603174603175\n",
        "RAC"
       ]
      },
      {
       "output_type": "stream",
       "stream": "stdout",
       "text": [
        " WI_ASOS 0 7.3968253968253968\n",
        "MLE"
       ]
      },
      {
       "output_type": "stream",
       "stream": "stdout",
       "text": [
        " NE_ASOS 9 27.4285714285714286\n",
        "CMY"
       ]
      },
      {
       "output_type": "stream",
       "stream": "stdout",
       "text": [
        " WI_ASOS 1 11.0158730158730159\n",
        "MGC"
       ]
      },
      {
       "output_type": "stream",
       "stream": "stdout",
       "text": [
        " IN_ASOS 0 11.9206349206349206\n",
        "46D"
       ]
      },
      {
       "output_type": "stream",
       "stream": "stdout",
       "text": [
        " ND_ASOS 3 8.6507936507936508\n",
        "DVP"
       ]
      },
      {
       "output_type": "stream",
       "stream": "stdout",
       "text": [
        " MN_ASOS 0 14.6031746031746032\n",
        "GNA"
       ]
      },
      {
       "output_type": "stream",
       "stream": "stdout",
       "text": [
        " MN_ASOS 0 0.36507936507936507937\n",
        "GHW"
       ]
      },
      {
       "output_type": "stream",
       "stream": "stdout",
       "text": [
        " MN_ASOS 1 9.4126984126984127\n",
        "MRT"
       ]
      },
      {
       "output_type": "stream",
       "stream": "stdout",
       "text": [
        " OH_ASOS 2 12.1746031746031746\n",
        "N60"
       ]
      },
      {
       "output_type": "stream",
       "stream": "stdout",
       "text": [
        " ND_ASOS 2 10.8412698412698413\n",
        "CSQ"
       ]
      },
      {
       "output_type": "stream",
       "stream": "stdout",
       "text": [
        " AWOS 3 18.1269841269841270\n",
        "AXA"
       ]
      },
      {
       "output_type": "stream",
       "stream": "stdout",
       "text": [
        " AWOS 1 13.1111111111111111\n",
        "FSW"
       ]
      },
      {
       "output_type": "stream",
       "stream": "stdout",
       "text": [
        " AWOS 11 19.0158730158730159\n",
        "FFX"
       ]
      },
      {
       "output_type": "stream",
       "stream": "stdout",
       "text": [
        " MI_ASOS 0 5.6825396825396825\n",
        "FOZ"
       ]
      },
      {
       "output_type": "stream",
       "stream": "stdout",
       "text": [
        " MN_ASOS 0 4.7301587301587302\n",
        "LXT"
       ]
      },
      {
       "output_type": "stream",
       "stream": "stdout",
       "text": [
        " MO_ASOS 15 33.0000000000000000\n",
        "EKQ"
       ]
      },
      {
       "output_type": "stream",
       "stream": "stdout",
       "text": [
        " KY_ASOS 24 19.0952380952380952\n",
        "BFW"
       ]
      },
      {
       "output_type": "stream",
       "stream": "stdout",
       "text": [
        " MN_ASOS 0 1.2857142857142857\n",
        "RNH"
       ]
      },
      {
       "output_type": "stream",
       "stream": "stdout",
       "text": [
        " WI_ASOS 0 5.4444444444444444\n",
        "LRJ"
       ]
      },
      {
       "output_type": "stream",
       "stream": "stdout",
       "text": [
        " AWOS 4 22.3333333333333333\n",
        "MXO"
       ]
      },
      {
       "output_type": "stream",
       "stream": "stdout",
       "text": [
        " AWOS 1 12.2698412698412698\n",
        "MCK"
       ]
      },
      {
       "output_type": "stream",
       "stream": "stdout",
       "text": [
        " NE_ASOS 41 40.7777777777777778\n",
        "SYF"
       ]
      },
      {
       "output_type": "stream",
       "stream": "stdout",
       "text": [
        " KS_ASOS 37 45.6031746031746032\n",
        "CPS"
       ]
      },
      {
       "output_type": "stream",
       "stream": "stdout",
       "text": [
        " IL_ASOS 23 30.0952380952380952\n",
        "UNI"
       ]
      },
      {
       "output_type": "stream",
       "stream": "stdout",
       "text": [
        " OH_ASOS 3 11.8095238095238095\n",
        "C29"
       ]
      },
      {
       "output_type": "stream",
       "stream": "stdout",
       "text": [
        " WI_ASOS 1 9.9523809523809524\n",
        "C09"
       ]
      },
      {
       "output_type": "stream",
       "stream": "stdout",
       "text": [
        " IL_ASOS 7 14.2222222222222222\n",
        "HZY"
       ]
      },
      {
       "output_type": "stream",
       "stream": "stdout",
       "text": [
        " OH_ASOS 0 4.6349206349206349\n",
        "GOV"
       ]
      },
      {
       "output_type": "stream",
       "stream": "stdout",
       "text": [
        " MI_ASOS 0 5.8095238095238095\n",
        "VWU"
       ]
      },
      {
       "output_type": "stream",
       "stream": "stdout",
       "text": [
        " MN_ASOS 2 3.3333333333333333\n",
        "OCQ"
       ]
      },
      {
       "output_type": "stream",
       "stream": "stdout",
       "text": [
        " WI_ASOS 1 5.2063492063492063\n",
        "STC"
       ]
      },
      {
       "output_type": "stream",
       "stream": "stdout",
       "text": [
        " MN_ASOS 2 8.5238095238095238\n",
        "ASX"
       ]
      },
      {
       "output_type": "stream",
       "stream": "stdout",
       "text": [
        " WI_ASOS 0 2.2222222222222222\n",
        "DDC"
       ]
      },
      {
       "output_type": "stream",
       "stream": "stdout",
       "text": [
        " KS_ASOS 51 51.3333333333333333\n",
        "ENL"
       ]
      },
      {
       "output_type": "stream",
       "stream": "stdout",
       "text": [
        " IL_ASOS 46 24.1428571428571429\n",
        "PRO"
       ]
      },
      {
       "output_type": "stream",
       "stream": "stdout",
       "text": [
        " AWOS 3 15.5714285714285714\n",
        "CGI"
       ]
      },
      {
       "output_type": "stream",
       "stream": "stdout",
       "text": [
        " MO_ASOS 15 45.7142857142857143\n",
        "BKX"
       ]
      },
      {
       "output_type": "stream",
       "stream": "stdout",
       "text": [
        " SD_ASOS 0 10.1428571428571429\n",
        "IOB"
       ]
      },
      {
       "output_type": "stream",
       "stream": "stdout",
       "text": [
        " KY_ASOS 5 15.0952380952380952\n",
        "LCG"
       ]
      },
      {
       "output_type": "stream",
       "stream": "stdout",
       "text": [
        " NE_ASOS 3 23.1111111111111111\n",
        "ERY"
       ]
      },
      {
       "output_type": "stream",
       "stream": "stdout",
       "text": [
        " MI_ASOS 0 0.31746031746031746032\n",
        "SJS"
       ]
      },
      {
       "output_type": "stream",
       "stream": "stdout",
       "text": [
        " KY_ASOS 3 21.4761904761904762\n",
        "FGX"
       ]
      },
      {
       "output_type": "stream",
       "stream": "stdout",
       "text": [
        " KY_ASOS 9 15.9682539682539683\n",
        "GSH"
       ]
      },
      {
       "output_type": "stream",
       "stream": "stdout",
       "text": [
        " IN_ASOS 2 10.9682539682539683\n",
        "JXN"
       ]
      },
      {
       "output_type": "stream",
       "stream": "stdout",
       "text": [
        " MI_ASOS 0 8.4444444444444444\n",
        "IWD"
       ]
      },
      {
       "output_type": "stream",
       "stream": "stdout",
       "text": [
        " MI_ASOS 0 2.2539682539682540\n",
        "IFA"
       ]
      },
      {
       "output_type": "stream",
       "stream": "stdout",
       "text": [
        " AWOS 0 13.1587301587301587\n",
        "FNB"
       ]
      },
      {
       "output_type": "stream",
       "stream": "stdout",
       "text": [
        " NE_ASOS 17 33.5873015873015873\n",
        "Y23"
       ]
      },
      {
       "output_type": "stream",
       "stream": "stdout",
       "text": [
        " WI_ASOS 0 4.9523809523809524\n",
        "D39"
       ]
      },
      {
       "output_type": "stream",
       "stream": "stdout",
       "text": [
        " MN_ASOS 1 9.5238095238095238\n",
        "ISQ"
       ]
      },
      {
       "output_type": "stream",
       "stream": "stdout",
       "text": [
        " MI_ASOS 0 0.58730158730158730159\n",
        "M25"
       ]
      },
      {
       "output_type": "stream",
       "stream": "stdout",
       "text": [
        " KY_ASOS 15 35.9841269841269841\n",
        "PPO"
       ]
      },
      {
       "output_type": "stream",
       "stream": "stdout",
       "text": [
        " IN_ASOS 0 11.9206349206349206\n",
        "ORB"
       ]
      },
      {
       "output_type": "stream",
       "stream": "stdout",
       "text": [
        " MN_ASOS 1 3.2698412698412698\n",
        "BJI"
       ]
      },
      {
       "output_type": "stream",
       "stream": "stdout",
       "text": [
        " MN_ASOS 0 4.5555555555555556\n",
        "I35"
       ]
      },
      {
       "output_type": "stream",
       "stream": "stdout",
       "text": [
        " KY_ASOS 3 15.3174603174603175\n",
        "BLM"
       ]
      },
      {
       "output_type": "stream",
       "stream": "stdout",
       "text": [
        " MO_ASOS 0 35.2380952380952381\n",
        "8D3"
       ]
      },
      {
       "output_type": "stream",
       "stream": "stdout",
       "text": [
        " SD_ASOS 1 14.2063492063492063\n",
        "ULM"
       ]
      },
      {
       "output_type": "stream",
       "stream": "stdout",
       "text": [
        " MN_ASOS 2 13.7777777777777778\n",
        "GRR"
       ]
      },
      {
       "output_type": "stream",
       "stream": "stdout",
       "text": [
        " MI_ASOS 0 8.3809523809523810\n",
        "EBS"
       ]
      },
      {
       "output_type": "stream",
       "stream": "stdout",
       "text": [
        " AWOS 1 13.2222222222222222\n",
        "MIC"
       ]
      },
      {
       "output_type": "stream",
       "stream": "stdout",
       "text": [
        " MN_ASOS 1 12.0634920634920635\n",
        "SPW"
       ]
      },
      {
       "output_type": "stream",
       "stream": "stdout",
       "text": [
        " IA_ASOS 1 15.1111111111111111\n",
        "Y49"
       ]
      },
      {
       "output_type": "stream",
       "stream": "stdout",
       "text": [
        " MN_ASOS 0 4.5555555555555556\n",
        "ROS"
       ]
      },
      {
       "output_type": "stream",
       "stream": "stdout",
       "text": [
        " MN_ASOS 0 6.5555555555555556\n",
        "SQI"
       ]
      },
      {
       "output_type": "stream",
       "stream": "stdout",
       "text": [
        " IL_ASOS 8 16.3492063492063492\n",
        "FSE"
       ]
      },
      {
       "output_type": "stream",
       "stream": "stdout",
       "text": [
        " MN_ASOS 3 5.1746031746031746\n",
        "1II"
       ]
      },
      {
       "output_type": "stream",
       "stream": "stdout",
       "text": [
        " IN_ASOS 4 13.8412698412698413\n",
        "SAZ"
       ]
      },
      {
       "output_type": "stream",
       "stream": "stdout",
       "text": [
        " MN_ASOS 1 8.7142857142857143\n",
        "JKL"
       ]
      },
      {
       "output_type": "stream",
       "stream": "stdout",
       "text": [
        " KY_ASOS 7 15.5555555555555556\n",
        "FFM"
       ]
      },
      {
       "output_type": "stream",
       "stream": "stdout",
       "text": [
        " MN_ASOS 3 5.3015873015873016\n",
        "IKK"
       ]
      },
      {
       "output_type": "stream",
       "stream": "stdout",
       "text": [
        " IL_ASOS 2 11.3968253968253968\n",
        "IEN"
       ]
      },
      {
       "output_type": "stream",
       "stream": "stdout",
       "text": [
        " SD_ASOS 13 34.8888888888888889\n",
        "AJG"
       ]
      },
      {
       "output_type": "stream",
       "stream": "stdout",
       "text": [
        " IL_ASOS 22 30.4285714285714286\n",
        "EZS"
       ]
      },
      {
       "output_type": "stream",
       "stream": "stdout",
       "text": [
        " WI_ASOS 1 8.0158730158730159\n",
        "BAC"
       ]
      },
      {
       "output_type": "stream",
       "stream": "stdout",
       "text": [
        " ND_ASOS 2 9.7777777777777778\n",
        "CCY"
       ]
      },
      {
       "output_type": "stream",
       "stream": "stdout",
       "text": [
        " AWOS 0 11.4920634920634921\n",
        "CIN"
       ]
      },
      {
       "output_type": "stream",
       "stream": "stdout",
       "text": [
        " AWOS 2 18.7460317460317460\n",
        "HEI"
       ]
      },
      {
       "output_type": "stream",
       "stream": "stdout",
       "text": [
        " ND_ASOS 5 13.7619047619047619\n",
        "VOK"
       ]
      },
      {
       "output_type": "stream",
       "stream": "stdout",
       "text": [
        " WI_ASOS 0 10.8888888888888889\n",
        "SBM"
       ]
      },
      {
       "output_type": "stream",
       "stream": "stdout",
       "text": [
        " WI_ASOS 1 6.8095238095238095\n",
        "ANJ"
       ]
      },
      {
       "output_type": "stream",
       "stream": "stdout",
       "text": [
        " MI_ASOS 0 1.0476190476190476\n",
        "EAU"
       ]
      },
      {
       "output_type": "stream",
       "stream": "stdout",
       "text": [
        " WI_ASOS 1 9.8095238095238095\n",
        "DIK"
       ]
      },
      {
       "output_type": "stream",
       "stream": "stdout",
       "text": [
        " ND_ASOS 3 15.8571428571428571\n",
        "STP"
       ]
      },
      {
       "output_type": "stream",
       "stream": "stdout",
       "text": [
        " MN_ASOS 0 12.0634920634920635\n",
        "RCX"
       ]
      },
      {
       "output_type": "stream",
       "stream": "stdout",
       "text": [
        " WI_ASOS 0 3.0158730158730159\n",
        "MBL"
       ]
      },
      {
       "output_type": "stream",
       "stream": "stdout",
       "text": [
        " MI_ASOS 0 3.3492063492063492\n",
        "5M9"
       ]
      },
      {
       "output_type": "stream",
       "stream": "stdout",
       "text": [
        " KY_ASOS 6 38.2222222222222222\n",
        "FXY"
       ]
      },
      {
       "output_type": "stream",
       "stream": "stdout",
       "text": [
        " AWOS 0 10.8095238095238095\n",
        "SDA"
       ]
      },
      {
       "output_type": "stream",
       "stream": "stdout",
       "text": [
        " AWOS 11 29.9682539682539683\n",
        "FEP"
       ]
      },
      {
       "output_type": "stream",
       "stream": "stdout",
       "text": [
        " IL_ASOS 0 11.4920634920634921\n",
        "SLB"
       ]
      },
      {
       "output_type": "stream",
       "stream": "stdout",
       "text": [
        " AWOS 2 11.2857142857142857\n",
        "JYG"
       ]
      },
      {
       "output_type": "stream",
       "stream": "stdout",
       "text": [
        " MN_ASOS 5 13.3809523809523810\n",
        "TIP"
       ]
      },
      {
       "output_type": "stream",
       "stream": "stdout",
       "text": [
        " IL_ASOS 11 23.7619047619047619\n",
        "PDC"
       ]
      },
      {
       "output_type": "stream",
       "stream": "stdout",
       "text": [
        " WI_ASOS 1 16.5079365079365079\n",
        "P75"
       ]
      },
      {
       "output_type": "stream",
       "stream": "stdout",
       "text": [
        " MI_ASOS 0 0.58730158730158730159\n",
        "GWR"
       ]
      },
      {
       "output_type": "stream",
       "stream": "stdout",
       "text": [
        " ND_ASOS 5 13.3015873015873016\n",
        "AIZ"
       ]
      },
      {
       "output_type": "stream",
       "stream": "stdout",
       "text": [
        " MO_ASOS 26 35.9365079365079365\n",
        "PIR"
       ]
      },
      {
       "output_type": "stream",
       "stream": "stdout",
       "text": [
        " SD_ASOS 10 30.9365079365079365\n",
        "GAF"
       ]
      },
      {
       "output_type": "stream",
       "stream": "stdout",
       "text": [
        " ND_ASOS 3 11.6190476190476190\n",
        "HUF"
       ]
      },
      {
       "output_type": "stream",
       "stream": "stdout",
       "text": [
        " IN_ASOS 4 14.4444444444444444\n",
        "LWV"
       ]
      },
      {
       "output_type": "stream",
       "stream": "stdout",
       "text": [
        " IL_ASOS 10 31.8412698412698413\n",
        "OLU"
       ]
      },
      {
       "output_type": "stream",
       "stream": "stdout",
       "text": [
        " NE_ASOS 10 29.3174603174603175\n",
        "DYT"
       ]
      },
      {
       "output_type": "stream",
       "stream": "stdout",
       "text": [
        " MN_ASOS 1 1.6349206349206349\n",
        "P28"
       ]
      },
      {
       "output_type": "stream",
       "stream": "stdout",
       "text": [
        " KS_ASOS 57 54.0634920634920635\n",
        "TNU"
       ]
      },
      {
       "output_type": "stream",
       "stream": "stdout",
       "text": [
        " AWOS 1 18.8412698412698413\n",
        "ADU"
       ]
      },
      {
       "output_type": "stream",
       "stream": "stdout",
       "text": [
        " AWOS 9 18.2698412698412698\n",
        "PNM"
       ]
      },
      {
       "output_type": "stream",
       "stream": "stdout",
       "text": [
        " MN_ASOS 2 7.0158730158730159\n",
        "PKD"
       ]
      },
      {
       "output_type": "stream",
       "stream": "stdout",
       "text": [
        " MN_ASOS 1 4.8888888888888889\n",
        "S25"
       ]
      },
      {
       "output_type": "stream",
       "stream": "stdout",
       "text": [
        " ND_ASOS 7 17.1269841269841270\n",
        "CLI"
       ]
      },
      {
       "output_type": "stream",
       "stream": "stdout",
       "text": [
        " WI_ASOS 1 7.1904761904761905\n",
        "TZR"
       ]
      },
      {
       "output_type": "stream",
       "stream": "stdout",
       "text": [
        " OH_ASOS 3 12.5555555555555556\n",
        "CKC"
       ]
      },
      {
       "output_type": "stream",
       "stream": "stdout",
       "text": [
        " MN_ASOS 0 0.36507936507936507937\n",
        "2D5"
       ]
      },
      {
       "output_type": "stream",
       "stream": "stdout",
       "text": [
        " ND_ASOS 0 13.5714285714285714\n",
        "OSC"
       ]
      },
      {
       "output_type": "stream",
       "stream": "stdout",
       "text": [
        " MI_ASOS 2 4.5079365079365079\n",
        "SLH"
       ]
      },
      {
       "output_type": "stream",
       "stream": "stdout",
       "text": [
        " MI_ASOS 0 2.7301587301587302\n",
        "MCX"
       ]
      },
      {
       "output_type": "stream",
       "stream": "stdout",
       "text": [
        " IN_ASOS 1 17.6507936507936508\n",
        "SUE"
       ]
      },
      {
       "output_type": "stream",
       "stream": "stdout",
       "text": [
        " WI_ASOS 1 2.8571428571428571\n",
        "EMP"
       ]
      },
      {
       "output_type": "stream",
       "stream": "stdout",
       "text": [
        " KS_ASOS 24 35.2380952380952381\n",
        "FKS"
       ]
      },
      {
       "output_type": "stream",
       "stream": "stdout",
       "text": [
        " MI_ASOS 0 1.1111111111111111\n",
        "IBM"
       ]
      },
      {
       "output_type": "stream",
       "stream": "stdout",
       "text": [
        " NE_ASOS 13 25.3333333333333333\n",
        "LHQ"
       ]
      },
      {
       "output_type": "stream",
       "stream": "stdout",
       "text": [
        " OH_ASOS 4 7.5714285714285714\n",
        "5H4"
       ]
      },
      {
       "output_type": "stream",
       "stream": "stdout",
       "text": [
        " ND_ASOS 1 10.6825396825396825\n",
        "RQB"
       ]
      },
      {
       "output_type": "stream",
       "stream": "stdout",
       "text": [
        " MI_ASOS 0 6.6507936507936508\n",
        "PCW"
       ]
      },
      {
       "output_type": "stream",
       "stream": "stdout",
       "text": [
        " OH_ASOS 9 9.6666666666666667\n",
        "SET"
       ]
      },
      {
       "output_type": "stream",
       "stream": "stdout",
       "text": [
        " MO_ASOS 13 32.5714285714285714\n",
        "AMN"
       ]
      },
      {
       "output_type": "stream",
       "stream": "stdout",
       "text": [
        " MI_ASOS 0 10.4920634920634921\n",
        "UNO"
       ]
      },
      {
       "output_type": "stream",
       "stream": "stdout",
       "text": [
        " MO_ASOS 9 33.3174603174603175\n",
        "RMY"
       ]
      },
      {
       "output_type": "stream",
       "stream": "stdout",
       "text": [
        " MI_ASOS 0 6.1428571428571429\n",
        "LWD"
       ]
      },
      {
       "output_type": "stream",
       "stream": "stdout",
       "text": [
        " IA_ASOS 5 20.4603174603174603\n",
        "SAW"
       ]
      },
      {
       "output_type": "stream",
       "stream": "stdout",
       "text": [
        " MI_ASOS 0 3.1269841269841270\n",
        "SFD"
       ]
      },
      {
       "output_type": "stream",
       "stream": "stdout",
       "text": [
        " SD_ASOS 2 34.4126984126984127\n",
        "GDB"
       ]
      },
      {
       "output_type": "stream",
       "stream": "stdout",
       "text": [
        " MN_ASOS 1 13.7619047619047619\n",
        "EST"
       ]
      },
      {
       "output_type": "stream",
       "stream": "stdout",
       "text": [
        " IA_ASOS 1 11.4603174603174603\n",
        "TOL"
       ]
      },
      {
       "output_type": "stream",
       "stream": "stdout",
       "text": [
        " OH_ASOS 3 13.2063492063492063\n",
        "MQB"
       ]
      },
      {
       "output_type": "stream",
       "stream": "stdout",
       "text": [
        " IL_ASOS 3 17.5079365079365079\n",
        "ENW"
       ]
      },
      {
       "output_type": "stream",
       "stream": "stdout",
       "text": [
        " WI_ASOS 0 5.9047619047619048\n",
        "GFK"
       ]
      },
      {
       "output_type": "stream",
       "stream": "stdout",
       "text": [
        " ND_ASOS 4 9.3968253968253968\n",
        "PHN"
       ]
      },
      {
       "output_type": "stream",
       "stream": "stdout",
       "text": [
        " MI_ASOS 0 9.6507936507936508\n",
        "BIE"
       ]
      },
      {
       "output_type": "stream",
       "stream": "stdout",
       "text": [
        " NE_ASOS 19 28.1269841269841270\n",
        "GYY"
       ]
      },
      {
       "output_type": "stream",
       "stream": "stdout",
       "text": [
        " IN_ASOS 4 11.9206349206349206\n",
        "2I0"
       ]
      },
      {
       "output_type": "stream",
       "stream": "stdout",
       "text": [
        " KY_ASOS 22 38.2222222222222222\n",
        "JKJ"
       ]
      },
      {
       "output_type": "stream",
       "stream": "stdout",
       "text": [
        " MN_ASOS 4 11.1111111111111111\n",
        "BTA"
       ]
      },
      {
       "output_type": "stream",
       "stream": "stdout",
       "text": [
        " NE_ASOS 7 27.4285714285714286\n",
        "CAV"
       ]
      },
      {
       "output_type": "stream",
       "stream": "stdout",
       "text": [
        " AWOS 3 12.8888888888888889\n",
        "PTT"
       ]
      },
      {
       "output_type": "stream",
       "stream": "stdout",
       "text": [
        " KS_ASOS 44 54.0634920634920635\n",
        "ODX"
       ]
      },
      {
       "output_type": "stream",
       "stream": "stdout",
       "text": [
        " NE_ASOS 12 23.3492063492063492\n",
        "CDD"
       ]
      },
      {
       "output_type": "stream",
       "stream": "stdout",
       "text": [
        " MN_ASOS 1 3.2698412698412698\n",
        "BIS"
       ]
      },
      {
       "output_type": "stream",
       "stream": "stdout",
       "text": [
        " ND_ASOS 7 16.4444444444444444\n",
        "MVN"
       ]
      },
      {
       "output_type": "stream",
       "stream": "stdout",
       "text": [
        " IL_ASOS 19 27.3809523809523810\n",
        "OXV"
       ]
      },
      {
       "output_type": "stream",
       "stream": "stdout",
       "text": [
        " AWOS 4 20.0000000000000000\n",
        "MSP"
       ]
      },
      {
       "output_type": "stream",
       "stream": "stdout",
       "text": [
        " MN_ASOS 2 8.0000000000000000\n",
        "K22"
       ]
      },
      {
       "output_type": "stream",
       "stream": "stdout",
       "text": [
        " KY_ASOS 0 21.4761904761904762\n",
        "20U"
       ]
      },
      {
       "output_type": "stream",
       "stream": "stdout",
       "text": [
        " ND_ASOS 0 15.6825396825396825\n",
        "MWM"
       ]
      },
      {
       "output_type": "stream",
       "stream": "stdout",
       "text": [
        " MN_ASOS 1 15.4444444444444444\n",
        "ARV"
       ]
      },
      {
       "output_type": "stream",
       "stream": "stdout",
       "text": [
        " WI_ASOS 1 2.4761904761904762\n",
        "RAP"
       ]
      },
      {
       "output_type": "stream",
       "stream": "stdout",
       "text": [
        " SD_ASOS 5 19.3015873015873016\n",
        "MLI"
       ]
      },
      {
       "output_type": "stream",
       "stream": "stdout",
       "text": [
        " IL_ASOS 1 18.6666666666666667\n",
        "AMW"
       ]
      },
      {
       "output_type": "stream",
       "stream": "stdout",
       "text": [
        " IA_ASOS 1 13.7619047619047619\n",
        "HAO"
       ]
      },
      {
       "output_type": "stream",
       "stream": "stdout",
       "text": [
        " OH_ASOS 8 10.0793650793650794\n",
        "JYM"
       ]
      },
      {
       "output_type": "stream",
       "stream": "stdout",
       "text": [
        " MI_ASOS 1 7.2222222222222222\n",
        "DUH"
       ]
      },
      {
       "output_type": "stream",
       "stream": "stdout",
       "text": [
        " MI_ASOS 4 11.6984126984126984\n",
        "EGV"
       ]
      },
      {
       "output_type": "stream",
       "stream": "stdout",
       "text": [
        " WI_ASOS 0 1.6349206349206349\n",
        "MZH"
       ]
      },
      {
       "output_type": "stream",
       "stream": "stdout",
       "text": [
        " MN_ASOS 1 5.1269841269841270\n",
        "HYR"
       ]
      },
      {
       "output_type": "stream",
       "stream": "stdout",
       "text": [
        " WI_ASOS 0 4.0317460317460317\n",
        "ALO"
       ]
      },
      {
       "output_type": "stream",
       "stream": "stdout",
       "text": [
        " IA_ASOS 1 13.3015873015873016\n",
        "ADG"
       ]
      },
      {
       "output_type": "stream",
       "stream": "stdout",
       "text": [
        " MI_ASOS 2 11.6984126984126984\n",
        "EHA"
       ]
      },
      {
       "output_type": "stream",
       "stream": "stdout",
       "text": [
        " KS_ASOS 50 58.2380952380952381\n",
        "FGN"
       ]
      },
      {
       "output_type": "stream",
       "stream": "stdout",
       "text": [
        " MN_ASOS 0 3.3809523809523810\n",
        "C35"
       ]
      },
      {
       "output_type": "stream",
       "stream": "stdout",
       "text": [
        " WI_ASOS 1 7.5079365079365079\n",
        "1H2"
       ]
      },
      {
       "output_type": "stream",
       "stream": "stdout",
       "text": [
        " IL_ASOS 9 28.0317460317460317\n",
        "GEZ"
       ]
      },
      {
       "output_type": "stream",
       "stream": "stdout",
       "text": [
        " IN_ASOS 5 16.6666666666666667\n",
        "AUW"
       ]
      },
      {
       "output_type": "stream",
       "stream": "stdout",
       "text": [
        " WI_ASOS 0 3.7619047619047619\n",
        "CVX"
       ]
      },
      {
       "output_type": "stream",
       "stream": "stdout",
       "text": [
        " MI_ASOS 1 1.6507936507936508\n",
        "GYL"
       ]
      },
      {
       "output_type": "stream",
       "stream": "stdout",
       "text": [
        " MN_ASOS 2 13.3174603174603175\n",
        "BWP"
       ]
      },
      {
       "output_type": "stream",
       "stream": "stdout",
       "text": [
        " ND_ASOS 4 13.7936507936507937\n",
        "MRJ"
       ]
      },
      {
       "output_type": "stream",
       "stream": "stdout",
       "text": [
        " WI_ASOS 1 6.1428571428571429\n",
        "EVV"
       ]
      },
      {
       "output_type": "stream",
       "stream": "stdout",
       "text": [
        " IN_ASOS 17 33.2698412698412698\n",
        "LBF"
       ]
      },
      {
       "output_type": "stream",
       "stream": "stdout",
       "text": [
        " NE_ASOS 23 28.4126984126984127\n",
        "GGI"
       ]
      },
      {
       "output_type": "stream",
       "stream": "stdout",
       "text": [
        " AWOS 0 13.0000000000000000\n",
        "TAZ"
       ]
      },
      {
       "output_type": "stream",
       "stream": "stdout",
       "text": [
        " IL_ASOS 0 22.4761904761904762\n",
        "MWA"
       ]
      },
      {
       "output_type": "stream",
       "stream": "stdout",
       "text": [
        " IL_ASOS 16 34.7936507936507937\n",
        "RDK"
       ]
      },
      {
       "output_type": "stream",
       "stream": "stdout",
       "text": [
        " AWOS 9 28.3968253968253968\n",
        "PBH"
       ]
      },
      {
       "output_type": "stream",
       "stream": "stdout",
       "text": [
        " WI_ASOS 0 1.6507936507936508\n",
        "DEH"
       ]
      },
      {
       "output_type": "stream",
       "stream": "stdout",
       "text": [
        " AWOS 0 10.6031746031746032\n",
        "IGQ"
       ]
      },
      {
       "output_type": "stream",
       "stream": "stdout",
       "text": [
        " IL_ASOS 2 13.6825396825396825\n",
        "ICT"
       ]
      },
      {
       "output_type": "stream",
       "stream": "stdout",
       "text": [
        " KS_ASOS 48 48.4285714285714286\n",
        "MIB"
       ]
      },
      {
       "output_type": "stream",
       "stream": "stdout",
       "text": [
        " ND_ASOS 2 10.6666666666666667\n",
        "FYG"
       ]
      },
      {
       "output_type": "stream",
       "stream": "stdout",
       "text": [
        " MO_ASOS 17 25.4603174603174603\n",
        "OJC"
       ]
      },
      {
       "output_type": "stream",
       "stream": "stdout",
       "text": [
        " KS_ASOS 10 34.1428571428571429\n",
        "BKL"
       ]
      },
      {
       "output_type": "stream",
       "stream": "stdout",
       "text": [
        " OH_ASOS 1 8.8730158730158730\n",
        "TEW"
       ]
      },
      {
       "output_type": "stream",
       "stream": "stdout",
       "text": [
        " MI_ASOS 0 7.4444444444444444\n",
        "M30"
       ]
      },
      {
       "output_type": "stream",
       "stream": "stdout",
       "text": [
        " IL_ASOS 19 34.6031746031746032\n",
        "4I3"
       ]
      },
      {
       "output_type": "stream",
       "stream": "stdout",
       "text": [
        " OH_ASOS 1 8.3015873015873016\n",
        "DTL"
       ]
      },
      {
       "output_type": "stream",
       "stream": "stdout",
       "text": [
        " MN_ASOS 1 5.5714285714285714\n",
        "LXL"
       ]
      },
      {
       "output_type": "stream",
       "stream": "stdout",
       "text": [
        " MN_ASOS 1 10.3333333333333333\n",
        "D50"
       ]
      },
      {
       "output_type": "stream",
       "stream": "stdout",
       "text": [
        " ND_ASOS 0 13.7301587301587302\n",
        "CGF"
       ]
      },
      {
       "output_type": "stream",
       "stream": "stdout",
       "text": [
        " OH_ASOS 3 4.0000000000000000\n",
        "DFI"
       ]
      },
      {
       "output_type": "stream",
       "stream": "stdout",
       "text": [
        " OH_ASOS 3 14.7301587301587302\n",
        "SGH"
       ]
      },
      {
       "output_type": "stream",
       "stream": "stdout",
       "text": [
        " OH_ASOS 3 12.4761904761904762\n",
        "LDM"
       ]
      },
      {
       "output_type": "stream",
       "stream": "stdout",
       "text": [
        " MI_ASOS 0 3.2857142857142857\n",
        "ZZV"
       ]
      },
      {
       "output_type": "stream",
       "stream": "stdout",
       "text": [
        " OH_ASOS 0 9.8571428571428571\n",
        "MKE"
       ]
      },
      {
       "output_type": "stream",
       "stream": "stdout",
       "text": [
        " WI_ASOS 0 5.9047619047619048\n",
        "BRL"
       ]
      },
      {
       "output_type": "stream",
       "stream": "stdout",
       "text": [
        " IA_ASOS 0 17.9682539682539683\n",
        "OVS"
       ]
      },
      {
       "output_type": "stream",
       "stream": "stdout",
       "text": [
        " WI_ASOS 4 11.6349206349206349\n",
        "EFT"
       ]
      },
      {
       "output_type": "stream",
       "stream": "stdout",
       "text": [
        " WI_ASOS 1 8.3492063492063492\n",
        "AXV"
       ]
      },
      {
       "output_type": "stream",
       "stream": "stdout",
       "text": [
        " OH_ASOS 2 9.3333333333333333\n",
        "FSD"
       ]
      },
      {
       "output_type": "stream",
       "stream": "stdout",
       "text": [
        " SD_ASOS 3 17.3968253968253968\n",
        "MFI"
       ]
      },
      {
       "output_type": "stream",
       "stream": "stdout",
       "text": [
        " WI_ASOS 0 5.0476190476190476\n",
        "HSI"
       ]
      },
      {
       "output_type": "stream",
       "stream": "stdout",
       "text": [
        " NE_ASOS 18 32.6507936507936508\n",
        "ONL"
       ]
      },
      {
       "output_type": "stream",
       "stream": "stdout",
       "text": [
        " NE_ASOS 8 27.8888888888888889\n",
        "ANE"
       ]
      },
      {
       "output_type": "stream",
       "stream": "stdout",
       "text": [
        " MN_ASOS 2 12.0634920634920635\n",
        "MNN"
       ]
      },
      {
       "output_type": "stream",
       "stream": "stdout",
       "text": [
        " OH_ASOS 1 13.6349206349206349\n",
        "LOT"
       ]
      },
      {
       "output_type": "stream",
       "stream": "stdout",
       "text": [
        " IL_ASOS 1 13.5873015873015873\n",
        "LYV"
       ]
      },
      {
       "output_type": "stream",
       "stream": "stdout",
       "text": [
        " MN_ASOS 4 13.6666666666666667\n",
        "MZZ"
       ]
      },
      {
       "output_type": "stream",
       "stream": "stdout",
       "text": [
        " IN_ASOS 0 13.3174603174603175\n",
        "H21"
       ]
      },
      {
       "output_type": "stream",
       "stream": "stdout",
       "text": [
        " MO_ASOS 19 35.9365079365079365\n",
        "PWK"
       ]
      },
      {
       "output_type": "stream",
       "stream": "stdout",
       "text": [
        " IL_ASOS 2 13.7777777777777778\n",
        "IJX"
       ]
      },
      {
       "output_type": "stream",
       "stream": "stdout",
       "text": [
        " IL_ASOS 11 22.4285714285714286\n",
        "JLN"
       ]
      },
      {
       "output_type": "stream",
       "stream": "stdout",
       "text": [
        " MO_ASOS 24 33.8571428571428571\n",
        "AIG"
       ]
      },
      {
       "output_type": "stream",
       "stream": "stdout",
       "text": [
        " WI_ASOS 0 2.6984126984126984\n",
        "MBS"
       ]
      },
      {
       "output_type": "stream",
       "stream": "stdout",
       "text": [
        " MI_ASOS 1 6.3809523809523810\n",
        "D07"
       ]
      },
      {
       "output_type": "stream",
       "stream": "stdout",
       "text": [
        " SD_ASOS 6 25.3492063492063492\n",
        "BTL"
       ]
      },
      {
       "output_type": "stream",
       "stream": "stdout",
       "text": [
        " MI_ASOS 0 8.4603174603174603\n",
        "CKN"
       ]
      },
      {
       "output_type": "stream",
       "stream": "stdout",
       "text": [
        " MN_ASOS 5 8.1746031746031746\n",
        "LAF"
       ]
      },
      {
       "output_type": "stream",
       "stream": "stdout",
       "text": [
        " IN_ASOS 0 13.2380952380952381\n",
        "EQA"
       ]
      },
      {
       "output_type": "stream",
       "stream": "stdout",
       "text": [
        " KS_ASOS 23 42.5714285714285714\n",
        "TWM"
       ]
      },
      {
       "output_type": "stream",
       "stream": "stdout",
       "text": [
        " MN_ASOS 0 1.2857142857142857\n",
        "CFS"
       ]
      },
      {
       "output_type": "stream",
       "stream": "stdout",
       "text": [
        " MI_ASOS 5 10.8730158730158730\n",
        "SLO"
       ]
      },
      {
       "output_type": "stream",
       "stream": "stdout",
       "text": [
        " IL_ASOS 15 30.3650793650793651\n",
        "PPF"
       ]
      },
      {
       "output_type": "stream",
       "stream": "stdout",
       "text": [
        " KS_ASOS 29 44.3968253968253968\n",
        "MOT"
       ]
      },
      {
       "output_type": "stream",
       "stream": "stdout",
       "text": [
        " ND_ASOS 3 10.6666666666666667\n",
        "PWC"
       ]
      },
      {
       "output_type": "stream",
       "stream": "stdout",
       "text": [
        " MN_ASOS 0 6.3492063492063492\n",
        "AFK"
       ]
      },
      {
       "output_type": "stream",
       "stream": "stdout",
       "text": [
        " NE_ASOS 9 26.7460317460317460\n",
        "JEF"
       ]
      },
      {
       "output_type": "stream",
       "stream": "stdout",
       "text": [
        " MO_ASOS 16 35.1428571428571429\n",
        "AAA"
       ]
      },
      {
       "output_type": "stream",
       "stream": "stdout",
       "text": [
        " IL_ASOS 13 22.8412698412698413\n",
        "OTM"
       ]
      },
      {
       "output_type": "stream",
       "stream": "stdout",
       "text": [
        " IA_ASOS 1 18.7936507936507937\n",
        "DLL"
       ]
      },
      {
       "output_type": "stream",
       "stream": "stdout",
       "text": [
        " WI_ASOS 1 9.9523809523809524\n",
        "TVF"
       ]
      },
      {
       "output_type": "stream",
       "stream": "stdout",
       "text": [
        " MN_ASOS 2 6.4285714285714286\n",
        "AWG"
       ]
      },
      {
       "output_type": "stream",
       "stream": "stdout",
       "text": [
        " AWOS 6 21.4285714285714286\n",
        "ROX"
       ]
      },
      {
       "output_type": "stream",
       "stream": "stdout",
       "text": [
        " MN_ASOS 0 3.3809523809523810\n",
        "I75"
       ]
      },
      {
       "output_type": "stream",
       "stream": "stdout",
       "text": [
        " AWOS 6 19.3809523809523810\n",
        "SHL"
       ]
      },
      {
       "output_type": "stream",
       "stream": "stdout",
       "text": [
        " AWOS 2 13.9841269841269841\n",
        "OZW"
       ]
      },
      {
       "output_type": "stream",
       "stream": "stdout",
       "text": [
        " MI_ASOS 0 6.4126984126984127\n",
        "XVG"
       ]
      },
      {
       "output_type": "stream",
       "stream": "stdout",
       "text": [
        " MN_ASOS 0 3.3650793650793651\n",
        "IOW"
       ]
      },
      {
       "output_type": "stream",
       "stream": "stdout",
       "text": [
        " IA_ASOS 1 21.2698412698412698\n",
        "Y51"
       ]
      },
      {
       "output_type": "stream",
       "stream": "stdout",
       "text": [
        " WI_ASOS 0 5.4920634920634921\n",
        "STL"
       ]
      },
      {
       "output_type": "stream",
       "stream": "stdout",
       "text": [
        " MO_ASOS 23 32.5714285714285714\n",
        "P61"
       ]
      },
      {
       "output_type": "stream",
       "stream": "stdout",
       "text": [
        " MN_ASOS 0 0.36507936507936507937\n",
        "SLN"
       ]
      },
      {
       "output_type": "stream",
       "stream": "stdout",
       "text": [
        " KS_ASOS 51 39.5873015873015873\n",
        "RSL"
       ]
      },
      {
       "output_type": "stream",
       "stream": "stdout",
       "text": [
        " KS_ASOS 47 45.4126984126984127\n",
        "HAE"
       ]
      },
      {
       "output_type": "stream",
       "stream": "stdout",
       "text": [
        " MO_ASOS 15 23.0952380952380952\n",
        "SFY"
       ]
      },
      {
       "output_type": "stream",
       "stream": "stdout",
       "text": [
        " IL_ASOS 2 13.0317460317460317\n",
        "MGN"
       ]
      },
      {
       "output_type": "stream",
       "stream": "stdout",
       "text": [
        " MI_ASOS 1 2.2539682539682540\n",
        "MHK"
       ]
      },
      {
       "output_type": "stream",
       "stream": "stdout",
       "text": [
        " KS_ASOS 41 43.7619047619047619\n",
        "LOU"
       ]
      },
      {
       "output_type": "stream",
       "stream": "stdout",
       "text": [
        " KY_ASOS 20 28.2063492063492063\n",
        "9D7"
       ]
      },
      {
       "output_type": "stream",
       "stream": "stdout",
       "text": [
        " ND_ASOS 1 6.6031746031746032\n",
        "JMR"
       ]
      },
      {
       "output_type": "stream",
       "stream": "stdout",
       "text": [
        " MN_ASOS 0 7.7142857142857143\n",
        "MCI"
       ]
      },
      {
       "output_type": "stream",
       "stream": "stdout",
       "text": [
        " MO_ASOS 11 29.7936507936507937\n",
        "MSN"
       ]
      },
      {
       "output_type": "stream",
       "stream": "stdout",
       "text": [
        " WI_ASOS 1 9.9523809523809524\n",
        "CUL"
       ]
      },
      {
       "output_type": "stream",
       "stream": "stdout",
       "text": [
        " IL_ASOS 17 29.5714285714285714\n",
        "CUT"
       ]
      },
      {
       "output_type": "stream",
       "stream": "stdout",
       "text": [
        " SD_ASOS 2 6.7460317460317460\n",
        "ATY"
       ]
      },
      {
       "output_type": "stream",
       "stream": "stdout",
       "text": [
        " SD_ASOS 1 11.3492063492063492\n",
        "FKA"
       ]
      },
      {
       "output_type": "stream",
       "stream": "stdout",
       "text": [
        " MN_ASOS 0 8.8888888888888889\n",
        "DVN"
       ]
      },
      {
       "output_type": "stream",
       "stream": "stdout",
       "text": [
        " IA_ASOS 2 14.0793650793650794\n",
        "I69"
       ]
      },
      {
       "output_type": "stream",
       "stream": "stdout",
       "text": [
        " OH_ASOS 10 9.7460317460317460\n",
        "GLY"
       ]
      },
      {
       "output_type": "stream",
       "stream": "stdout",
       "text": [
        " MO_ASOS 21 34.4126984126984127\n",
        "SPF"
       ]
      },
      {
       "output_type": "stream",
       "stream": "stdout",
       "text": [
        " SD_ASOS 5 19.2857142857142857\n",
        "GBD"
       ]
      },
      {
       "output_type": "stream",
       "stream": "stdout",
       "text": [
        " KS_ASOS 49 55.2698412698412698\n",
        "LWC"
       ]
      },
      {
       "output_type": "stream",
       "stream": "stdout",
       "text": [
        " KS_ASOS 29 37.7936507936507937\n",
        "CGX"
       ]
      },
      {
       "output_type": "stream",
       "stream": "stdout",
       "text": [
        " IL_ASOS 0 17.4126984126984127\n",
        "04W"
       ]
      },
      {
       "output_type": "stream",
       "stream": "stdout",
       "text": [
        " MN_ASOS 1 5.1428571428571429\n",
        "TIF"
       ]
      },
      {
       "output_type": "stream",
       "stream": "stdout",
       "text": [
        " NE_ASOS 24 27.3968253968253968\n",
        "JVL"
       ]
      },
      {
       "output_type": "stream",
       "stream": "stdout",
       "text": [
        " WI_ASOS 3 12.8730158730158730\n",
        "ARR"
       ]
      },
      {
       "output_type": "stream",
       "stream": "stdout",
       "text": [
        " IL_ASOS 5 13.5873015873015873\n",
        "PMV"
       ]
      },
      {
       "output_type": "stream",
       "stream": "stdout",
       "text": [
        " NE_ASOS 10 25.9365079365079365\n",
        "DKB"
       ]
      },
      {
       "output_type": "stream",
       "stream": "stdout",
       "text": [
        " IL_ASOS 0 14.8571428571428571\n",
        "IDP"
       ]
      },
      {
       "output_type": "stream",
       "stream": "stdout",
       "text": [
        " KS_ASOS 23 43.2698412698412698\n",
        "SUX"
       ]
      },
      {
       "output_type": "stream",
       "stream": "stdout",
       "text": [
        " IA_ASOS 5 21.9206349206349206\n",
        "ACQ"
       ]
      },
      {
       "output_type": "stream",
       "stream": "stdout",
       "text": [
        " MN_ASOS 0 9.1269841269841270\n",
        "DTW"
       ]
      },
      {
       "output_type": "stream",
       "stream": "stdout",
       "text": [
        " MI_ASOS 2 9.7619047619047619\n",
        "PCZ"
       ]
      },
      {
       "output_type": "stream",
       "stream": "stdout",
       "text": [
        " WI_ASOS 2 9.7142857142857143\n",
        "FOE"
       ]
      },
      {
       "output_type": "stream",
       "stream": "stdout",
       "text": [
        " KS_ASOS 27 35.2380952380952381\n",
        "OSH"
       ]
      },
      {
       "output_type": "stream",
       "stream": "stdout",
       "text": [
        " WI_ASOS 1 6.9841269841269841\n",
        "SUW"
       ]
      },
      {
       "output_type": "stream",
       "stream": "stdout",
       "text": [
        " WI_ASOS 1 7.6507936507936508\n",
        "MOP"
       ]
      },
      {
       "output_type": "stream",
       "stream": "stdout",
       "text": [
        " MI_ASOS 0 8.2063492063492063\n",
        "CKP"
       ]
      },
      {
       "output_type": "stream",
       "stream": "stdout",
       "text": [
        " AWOS 0 16.8888888888888889\n",
        "LXN"
       ]
      },
      {
       "output_type": "stream",
       "stream": "stdout",
       "text": [
        " NE_ASOS 25 32.6190476190476190\n",
        "MOX"
       ]
      },
      {
       "output_type": "stream",
       "stream": "stdout",
       "text": [
        " MN_ASOS 1 8.9682539682539683\n",
        "FPK"
       ]
      },
      {
       "output_type": "stream",
       "stream": "stdout",
       "text": [
        " MI_ASOS 0 8.7301587301587302\n",
        "Y50"
       ]
      },
      {
       "output_type": "stream",
       "stream": "stdout",
       "text": [
        " WI_ASOS 2 8.2380952380952381\n",
        "HCD"
       ]
      },
      {
       "output_type": "stream",
       "stream": "stdout",
       "text": [
        " MN_ASOS 1 11.4444444444444444\n",
        "UNU"
       ]
      },
      {
       "output_type": "stream",
       "stream": "stdout",
       "text": [
        " WI_ASOS 0 8.4761904761904762\n",
        "SYM"
       ]
      },
      {
       "output_type": "stream",
       "stream": "stdout",
       "text": [
        " KY_ASOS 8 24.6507936507936508\n",
        "GBG"
       ]
      },
      {
       "output_type": "stream",
       "stream": "stdout",
       "text": [
        " IL_ASOS 3 15.9682539682539683\n",
        "HON"
       ]
      },
      {
       "output_type": "stream",
       "stream": "stdout",
       "text": [
        " SD_ASOS 6 21.6349206349206349\n",
        "PHP"
       ]
      },
      {
       "output_type": "stream",
       "stream": "stdout",
       "text": [
        " SD_ASOS 23 34.7460317460317460\n",
        "MGY"
       ]
      },
      {
       "output_type": "stream",
       "stream": "stdout",
       "text": [
        " OH_ASOS 2 16.1746031746031746\n",
        "BFF"
       ]
      },
      {
       "output_type": "stream",
       "stream": "stdout",
       "text": [
        " NE_ASOS 41 33.7301587301587302\n",
        "DNV"
       ]
      },
      {
       "output_type": "stream",
       "stream": "stdout",
       "text": [
        " IL_ASOS 3 19.9523809523809524\n",
        "LNL"
       ]
      },
      {
       "output_type": "stream",
       "stream": "stdout",
       "text": [
        " WI_ASOS 0 1.1587301587301587\n",
        "9V9"
       ]
      },
      {
       "output_type": "stream",
       "stream": "stdout",
       "text": [
        " SD_ASOS 8 29.2063492063492063\n",
        "HIB"
       ]
      },
      {
       "output_type": "stream",
       "stream": "stdout",
       "text": [
        " MN_ASOS 1 4.1111111111111111\n",
        "3LF"
       ]
      },
      {
       "output_type": "stream",
       "stream": "stdout",
       "text": [
        " IL_ASOS 3 23.1746031746031746\n",
        "MCD"
       ]
      },
      {
       "output_type": "stream",
       "stream": "stdout",
       "text": [
        " MI_ASOS 0 2.7301587301587302\n",
        "IXD"
       ]
      },
      {
       "output_type": "stream",
       "stream": "stdout",
       "text": [
        " KS_ASOS 19 34.1428571428571429\n",
        "HUT"
       ]
      },
      {
       "output_type": "stream",
       "stream": "stdout",
       "text": [
        " KS_ASOS 55 45.6825396825396825\n",
        "7L2"
       ]
      },
      {
       "output_type": "stream",
       "stream": "stdout",
       "text": [
        " ND_ASOS 4 10.3174603174603175\n",
        "14Y"
       ]
      },
      {
       "output_type": "stream",
       "stream": "stdout",
       "text": [
        " MN_ASOS 0 8.7142857142857143\n",
        "21D"
       ]
      },
      {
       "output_type": "stream",
       "stream": "stdout",
       "text": [
        " MN_ASOS 0 8.0000000000000000\n",
        "VPZ"
       ]
      },
      {
       "output_type": "stream",
       "stream": "stdout",
       "text": [
        " IN_ASOS 2 11.9206349206349206\n",
        "EDJ"
       ]
      },
      {
       "output_type": "stream",
       "stream": "stdout",
       "text": [
        " OH_ASOS 2 7.9206349206349206\n",
        "AKR"
       ]
      },
      {
       "output_type": "stream",
       "stream": "stdout",
       "text": [
        " OH_ASOS 2 6.8412698412698413\n",
        "OXI"
       ]
      },
      {
       "output_type": "stream",
       "stream": "stdout",
       "text": [
        " IN_ASOS 59 11.9206349206349206\n",
        "RFD"
       ]
      },
      {
       "output_type": "stream",
       "stream": "stdout",
       "text": [
        " IL_ASOS 2 12.0793650793650794\n",
        "P53"
       ]
      },
      {
       "output_type": "stream",
       "stream": "stdout",
       "text": [
        " MI_ASOS 0 2.2539682539682540\n",
        "GWB"
       ]
      },
      {
       "output_type": "stream",
       "stream": "stdout",
       "text": [
        " IN_ASOS 2 7.1428571428571429\n",
        "OTG"
       ]
      },
      {
       "output_type": "stream",
       "stream": "stdout",
       "text": [
        " MN_ASOS 3 15.4444444444444444\n",
        "PTK"
       ]
      },
      {
       "output_type": "stream",
       "stream": "stdout",
       "text": [
        " MI_ASOS 0 8.6507936507936508\n",
        "OEB"
       ]
      },
      {
       "output_type": "stream",
       "stream": "stdout",
       "text": [
        " MI_ASOS 1 7.5396825396825397\n",
        "OLY"
       ]
      },
      {
       "output_type": "stream",
       "stream": "stdout",
       "text": [
        " IL_ASOS 3 28.9841269841269841\n",
        "BAK"
       ]
      },
      {
       "output_type": "stream",
       "stream": "stdout",
       "text": [
        " IN_ASOS 3 13.8412698412698413\n",
        "GLD"
       ]
      },
      {
       "output_type": "stream",
       "stream": "stdout",
       "text": [
        " KS_ASOS 33 39.7936507936507937\n",
        "RWF"
       ]
      },
      {
       "output_type": "stream",
       "stream": "stdout",
       "text": [
        " MN_ASOS 3 10.3015873015873016\n",
        "LVN"
       ]
      },
      {
       "output_type": "stream",
       "stream": "stdout",
       "text": [
        " MN_ASOS 0 9.6031746031746032\n",
        "JMS"
       ]
      },
      {
       "output_type": "stream",
       "stream": "stdout",
       "text": [
        " ND_ASOS 2 12.3492063492063492\n",
        "OLZ"
       ]
      },
      {
       "output_type": "stream",
       "stream": "stdout",
       "text": [
        " AWOS 1 8.1269841269841270\n",
        "DLH"
       ]
      },
      {
       "output_type": "stream",
       "stream": "stdout",
       "text": [
        " MN_ASOS 0 1.6349206349206349\n",
        "LUM"
       ]
      },
      {
       "output_type": "stream",
       "stream": "stdout",
       "text": [
        " WI_ASOS 0 5.3174603174603175\n",
        "GGP"
       ]
      },
      {
       "output_type": "stream",
       "stream": "stdout",
       "text": [
        " IN_ASOS 0 10.4603174603174603\n",
        "YNG"
       ]
      },
      {
       "output_type": "stream",
       "stream": "stdout",
       "text": [
        " OH_ASOS 0 5.6031746031746032\n",
        "UNR"
       ]
      },
      {
       "output_type": "stream",
       "stream": "stdout",
       "text": [
        " SD_ASOS 7 19.3015873015873016\n",
        "SYN"
       ]
      },
      {
       "output_type": "stream",
       "stream": "stdout",
       "text": [
        " MN_ASOS 0 9.6031746031746032\n",
        "ORC"
       ]
      },
      {
       "output_type": "stream",
       "stream": "stdout",
       "text": [
        " AWOS 6 22.3333333333333333\n",
        "MHE"
       ]
      },
      {
       "output_type": "stream",
       "stream": "stdout",
       "text": [
        " SD_ASOS 5 23.9523809523809524\n",
        "MDZ"
       ]
      },
      {
       "output_type": "stream",
       "stream": "stdout",
       "text": [
        " WI_ASOS 0 2.3015873015873016\n",
        "TVK"
       ]
      },
      {
       "output_type": "stream",
       "stream": "stdout",
       "text": [
        " AWOS 2 18.2698412698412698\n",
        "UGN"
       ]
      },
      {
       "output_type": "stream",
       "stream": "stdout",
       "text": [
        " IL_ASOS 0 13.7777777777777778\n",
        "FET"
       ]
      },
      {
       "output_type": "stream",
       "stream": "stdout",
       "text": [
        " NE_ASOS 10 30.8571428571428571\n",
        "RRL"
       ]
      },
      {
       "output_type": "stream",
       "stream": "stdout",
       "text": [
        " WI_ASOS 0 3.7619047619047619\n",
        "LNK"
       ]
      },
      {
       "output_type": "stream",
       "stream": "stdout",
       "text": [
        " NE_ASOS 26 27.1587301587301587\n",
        "OWA"
       ]
      },
      {
       "output_type": "stream",
       "stream": "stdout",
       "text": [
        " MN_ASOS 4 10.9841269841269841\n",
        "TKV"
       ]
      },
      {
       "output_type": "stream",
       "stream": "stdout",
       "text": [
        " WI_ASOS 0 1.4285714285714286\n",
        "GRI"
       ]
      },
      {
       "output_type": "stream",
       "stream": "stdout",
       "text": [
        " NE_ASOS 19 30.3809523809523810\n",
        "EVM"
       ]
      },
      {
       "output_type": "stream",
       "stream": "stdout",
       "text": [
        " MN_ASOS 2 1.6349206349206349\n",
        "BIV"
       ]
      },
      {
       "output_type": "stream",
       "stream": "stdout",
       "text": [
        " MI_ASOS 2 8.7142857142857143\n",
        "HDE"
       ]
      },
      {
       "output_type": "stream",
       "stream": "stdout",
       "text": [
        " NE_ASOS 23 31.3333333333333333\n",
        "RCR"
       ]
      },
      {
       "output_type": "stream",
       "stream": "stdout",
       "text": [
        " IN_ASOS 8 12.8730158730158730\n",
        "ISN"
       ]
      },
      {
       "output_type": "stream",
       "stream": "stdout",
       "text": [
        " ND_ASOS 12 17.0476190476190476\n",
        "PEA"
       ]
      },
      {
       "output_type": "stream",
       "stream": "stdout",
       "text": [
        " AWOS 5 20.0000000000000000\n",
        "LEX"
       ]
      },
      {
       "output_type": "stream",
       "stream": "stdout",
       "text": [
        " KY_ASOS 12 17.3492063492063492\n",
        "FFL"
       ]
      },
      {
       "output_type": "stream",
       "stream": "stdout",
       "text": [
        " AWOS 4 23.1587301587301587\n",
        "RPJ"
       ]
      },
      {
       "output_type": "stream",
       "stream": "stdout",
       "text": [
        " IL_ASOS 5 10.4285714285714286\n",
        "RCA"
       ]
      },
      {
       "output_type": "stream",
       "stream": "stdout",
       "text": [
        " SD_ASOS 6 19.3015873015873016\n",
        "GLR"
       ]
      },
      {
       "output_type": "stream",
       "stream": "stdout",
       "text": [
        " MI_ASOS 1 3.9365079365079365\n",
        "HLC"
       ]
      },
      {
       "output_type": "stream",
       "stream": "stdout",
       "text": [
        " KS_ASOS 52 42.7142857142857143\n",
        "TOP"
       ]
      },
      {
       "output_type": "stream",
       "stream": "stdout",
       "text": [
        " KS_ASOS 31 35.2380952380952381\n",
        "HSB"
       ]
      },
      {
       "output_type": "stream",
       "stream": "stdout",
       "text": [
        " IL_ASOS 13 41.1904761904761905\n",
        "AZO"
       ]
      },
      {
       "output_type": "stream",
       "stream": "stdout",
       "text": [
        " MI_ASOS 0 12.4920634920634921\n",
        "3N8"
       ]
      },
      {
       "output_type": "stream",
       "stream": "stdout",
       "text": [
        " MN_ASOS 0 5.1746031746031746\n",
        "IRK"
       ]
      },
      {
       "output_type": "stream",
       "stream": "stdout",
       "text": [
        " MO_ASOS 7 19.4285714285714286\n",
        "BNW"
       ]
      },
      {
       "output_type": "stream",
       "stream": "stdout",
       "text": [
        " AWOS 1 17.3650793650793651\n",
        "GPH"
       ]
      },
      {
       "output_type": "stream",
       "stream": "stdout",
       "text": [
        " MO_ASOS 12 25.3650793650793651\n",
        "2WX"
       ]
      },
      {
       "output_type": "stream",
       "stream": "stdout",
       "text": [
        " SD_ASOS 13 18.4920634920634921\n",
        "FWB"
       ]
      },
      {
       "output_type": "stream",
       "stream": "stdout",
       "text": [
        " MO_ASOS 22 33.2222222222222222\n",
        "ARB"
       ]
      },
      {
       "output_type": "stream",
       "stream": "stdout",
       "text": [
        " MI_ASOS 2 9.8095238095238095\n",
        "LSE"
       ]
      },
      {
       "output_type": "stream",
       "stream": "stdout",
       "text": [
        " WI_ASOS 3 14.0634920634920635\n",
        "TKC"
       ]
      },
      {
       "output_type": "stream",
       "stream": "stdout",
       "text": [
        " MN_ASOS 0 14.6031746031746032\n",
        "FFT"
       ]
      },
      {
       "output_type": "stream",
       "stream": "stdout",
       "text": [
        " KY_ASOS 7 17.3492063492063492\n",
        "GLW"
       ]
      },
      {
       "output_type": "stream",
       "stream": "stdout",
       "text": [
        " KY_ASOS 65 27.2857142857142857\n",
        "ANQ"
       ]
      },
      {
       "output_type": "stream",
       "stream": "stdout",
       "text": [
        " IN_ASOS 2 7.1428571428571429\n",
        "BDE"
       ]
      },
      {
       "output_type": "stream",
       "stream": "stdout",
       "text": [
        " MN_ASOS 1 3.3809523809523810\n",
        "CNC"
       ]
      },
      {
       "output_type": "stream",
       "stream": "stdout",
       "text": [
        " AWOS 4 19.0634920634920635\n",
        "HJH"
       ]
      },
      {
       "output_type": "stream",
       "stream": "stdout",
       "text": [
        " NE_ASOS 25 35.3015873015873016\n",
        "D57"
       ]
      },
      {
       "output_type": "stream",
       "stream": "stdout",
       "text": [
        " ND_ASOS 2 15.7301587301587302\n",
        "1A6"
       ]
      },
      {
       "output_type": "stream",
       "stream": "stdout",
       "text": [
        " KY_ASOS 6 15.3174603174603175\n",
        "RPD"
       ]
      },
      {
       "output_type": "stream",
       "stream": "stdout",
       "text": [
        " WI_ASOS 0 4.9523809523809524\n",
        "FRI"
       ]
      },
      {
       "output_type": "stream",
       "stream": "stdout",
       "text": [
        " KS_ASOS 35 43.7619047619047619\n",
        "GUS"
       ]
      },
      {
       "output_type": "stream",
       "stream": "stdout",
       "text": [
        " IN_ASOS 1 13.8095238095238095\n",
        "EYE"
       ]
      },
      {
       "output_type": "stream",
       "stream": "stdout",
       "text": [
        " IN_ASOS 0 14.5238095238095238\n",
        "CNB"
       ]
      },
      {
       "output_type": "stream",
       "stream": "stdout",
       "text": [
        " MN_ASOS 2 19.1428571428571429\n",
        "MKT"
       ]
      },
      {
       "output_type": "stream",
       "stream": "stdout",
       "text": [
        " MN_ASOS 2 13.0476190476190476\n",
        "MFD"
       ]
      },
      {
       "output_type": "stream",
       "stream": "stdout",
       "text": [
        " OH_ASOS 0 5.3174603174603175\n",
        "ETH"
       ]
      },
      {
       "output_type": "stream",
       "stream": "stdout",
       "text": [
        " MN_ASOS 5 16.3174603174603175\n",
        "PNT"
       ]
      },
      {
       "output_type": "stream",
       "stream": "stdout",
       "text": [
        " IL_ASOS 10 16.5555555555555556\n",
        "BEH"
       ]
      },
      {
       "output_type": "stream",
       "stream": "stdout",
       "text": [
        " MI_ASOS 0 10.7619047619047619\n",
        "BCK"
       ]
      },
      {
       "output_type": "stream",
       "stream": "stdout",
       "text": [
        " WI_ASOS 2 11.0158730158730159\n",
        "OEO"
       ]
      },
      {
       "output_type": "stream",
       "stream": "stdout",
       "text": [
        " WI_ASOS 0 10.0317460317460317\n",
        "BUU"
       ]
      },
      {
       "output_type": "stream",
       "stream": "stdout",
       "text": [
        " WI_ASOS 0 8.8095238095238095\n",
        "PVB"
       ]
      },
      {
       "output_type": "stream",
       "stream": "stdout",
       "text": [
        " WI_ASOS 1 9.6349206349206349\n",
        "OGA"
       ]
      },
      {
       "output_type": "stream",
       "stream": "stdout",
       "text": [
        " NE_ASOS 26 35.4920634920634921\n",
        "MDS"
       ]
      },
      {
       "output_type": "stream",
       "stream": "stdout",
       "text": [
        " SD_ASOS 0 11.8412698412698413\n",
        "MKC"
       ]
      },
      {
       "output_type": "stream",
       "stream": "stdout",
       "text": [
        " MO_ASOS 25 35.0317460317460317\n",
        "TQE"
       ]
      },
      {
       "output_type": "stream",
       "stream": "stdout",
       "text": [
        " NE_ASOS 13 28.5396825396825397\n",
        "IML"
       ]
      },
      {
       "output_type": "stream",
       "stream": "stdout",
       "text": [
        " NE_ASOS 35 36.8571428571428571\n",
        "CBK"
       ]
      },
      {
       "output_type": "stream",
       "stream": "stdout",
       "text": [
        " KS_ASOS 36 41.4603174603174603\n",
        "GCK"
       ]
      },
      {
       "output_type": "stream",
       "stream": "stdout",
       "text": [
        " KS_ASOS 50 50.4761904761904762\n",
        "RUG"
       ]
      },
      {
       "output_type": "stream",
       "stream": "stdout",
       "text": [
        " ND_ASOS 1 10.9682539682539683\n",
        "ONA"
       ]
      },
      {
       "output_type": "stream",
       "stream": "stdout",
       "text": [
        " MN_ASOS 3 8.6825396825396825\n",
        "ELO"
       ]
      },
      {
       "output_type": "stream",
       "stream": "stdout",
       "text": [
        " MN_ASOS 1 1.3492063492063492\n",
        "FSK"
       ]
      },
      {
       "output_type": "stream",
       "stream": "stdout",
       "text": [
        " KS_ASOS 0 47.3015873015873016\n",
        "OFF"
       ]
      },
      {
       "output_type": "stream",
       "stream": "stdout",
       "text": [
        " NE_ASOS 9 25.9365079365079365\n",
        "DBQ"
       ]
      },
      {
       "output_type": "stream",
       "stream": "stdout",
       "text": [
        " IA_ASOS 0 12.7619047619047619\n",
        "BMG"
       ]
      },
      {
       "output_type": "stream",
       "stream": "stdout",
       "text": [
        " IN_ASOS 3 17.6984126984126984\n",
        "CFV"
       ]
      },
      {
       "output_type": "stream",
       "stream": "stdout",
       "text": [
        " KS_ASOS 29 44.3968253968253968\n",
        "MIE"
       ]
      },
      {
       "output_type": "stream",
       "stream": "stdout",
       "text": [
        " IN_ASOS 2 9.2698412698412698\n",
        "COU"
       ]
      },
      {
       "output_type": "stream",
       "stream": "stdout",
       "text": [
        " MO_ASOS 12 27.5238095238095238\n",
        "STJ"
       ]
      },
      {
       "output_type": "stream",
       "stream": "stdout",
       "text": [
        " MO_ASOS 12 25.9523809523809524\n",
        "VIH"
       ]
      },
      {
       "output_type": "stream",
       "stream": "stdout",
       "text": [
        " MO_ASOS 14 31.5079365079365079\n",
        "MPZ"
       ]
      },
      {
       "output_type": "stream",
       "stream": "stdout",
       "text": [
        " AWOS 6 17.9206349206349206\n",
        "FFO"
       ]
      },
      {
       "output_type": "stream",
       "stream": "stdout",
       "text": [
        " OH_ASOS 5 9.3174603174603175\n",
        "CNK"
       ]
      },
      {
       "output_type": "stream",
       "stream": "stdout",
       "text": [
        " KS_ASOS 32 40.3492063492063492\n",
        "CFE"
       ]
      },
      {
       "output_type": "stream",
       "stream": "stdout",
       "text": [
        " MN_ASOS 1 9.3174603174603175\n",
        "DWU"
       ]
      },
      {
       "output_type": "stream",
       "stream": "stdout",
       "text": [
        " KY_ASOS 0 26.9206349206349206\n",
        "LCK"
       ]
      },
      {
       "output_type": "stream",
       "stream": "stdout",
       "text": [
        " OH_ASOS 6 12.5555555555555556\n",
        "JOT"
       ]
      },
      {
       "output_type": "stream",
       "stream": "stdout",
       "text": [
        " IL_ASOS 1 13.5873015873015873\n",
        "FAM"
       ]
      },
      {
       "output_type": "stream",
       "stream": "stdout",
       "text": [
        " MO_ASOS 17 29.3650793650793651\n",
        "MYZ"
       ]
      },
      {
       "output_type": "stream",
       "stream": "stdout",
       "text": [
        " KS_ASOS 25 36.9365079365079365\n",
        "EWK"
       ]
      },
      {
       "output_type": "stream",
       "stream": "stdout",
       "text": [
        " KS_ASOS 43 49.5079365079365079\n",
        "AOH"
       ]
      },
      {
       "output_type": "stream",
       "stream": "stdout",
       "text": [
        " OH_ASOS 2 13.0634920634920635\n",
        "ETB"
       ]
      },
      {
       "output_type": "stream",
       "stream": "stdout",
       "text": [
        " WI_ASOS 0 6.6984126984126984\n",
        "SGS"
       ]
      },
      {
       "output_type": "stream",
       "stream": "stdout",
       "text": [
        " MN_ASOS 1 12.0634920634920635\n",
        "ICL"
       ]
      },
      {
       "output_type": "stream",
       "stream": "stdout",
       "text": [
        " AWOS 9 23.0476190476190476\n",
        "RGK"
       ]
      },
      {
       "output_type": "stream",
       "stream": "stdout",
       "text": [
        " MN_ASOS 5 6.9682539682539683\n",
        "IMT"
       ]
      },
      {
       "output_type": "stream",
       "stream": "stdout",
       "text": [
        " MI_ASOS 0 4.8571428571428571\n",
        "DXX"
       ]
      },
      {
       "output_type": "stream",
       "stream": "stdout",
       "text": [
        " MN_ASOS 6 18.3174603174603175\n",
        "HAI"
       ]
      },
      {
       "output_type": "stream",
       "stream": "stdout",
       "text": [
        " MI_ASOS 0 12.0476190476190476\n",
        "MVE"
       ]
      },
      {
       "output_type": "stream",
       "stream": "stdout",
       "text": [
        " MN_ASOS 11 13.7619047619047619\n",
        "RYV"
       ]
      },
      {
       "output_type": "stream",
       "stream": "stdout",
       "text": [
        " WI_ASOS 1 10.2539682539682540\n",
        "FOD"
       ]
      },
      {
       "output_type": "stream",
       "stream": "stdout",
       "text": [
        " AWOS 2 15.0158730158730159\n",
        "TYQ"
       ]
      },
      {
       "output_type": "stream",
       "stream": "stdout",
       "text": [
        " IN_ASOS 2 16.9206349206349206\n",
        "CAK"
       ]
      },
      {
       "output_type": "stream",
       "stream": "stdout",
       "text": [
        " OH_ASOS 3 6.8412698412698413\n",
        "FAR"
       ]
      },
      {
       "output_type": "stream",
       "stream": "stdout",
       "text": [
        " ND_ASOS 6 10.7936507936507937\n",
        "JYR"
       ]
      },
      {
       "output_type": "stream",
       "stream": "stdout",
       "text": [
        " NE_ASOS 13 27.0634920634920635\n",
        "HYS"
       ]
      },
      {
       "output_type": "stream",
       "stream": "stdout",
       "text": [
        " KS_ASOS 46 47.3015873015873016\n",
        "AAO"
       ]
      },
      {
       "output_type": "stream",
       "stream": "stdout",
       "text": [
        " KS_ASOS 37 48.4285714285714286\n",
        "SUS"
       ]
      },
      {
       "output_type": "stream",
       "stream": "stdout",
       "text": [
        " MO_ASOS 18 26.4603174603174603\n",
        "CEY"
       ]
      },
      {
       "output_type": "stream",
       "stream": "stdout",
       "text": [
        " KY_ASOS 19 35.9841269841269841\n",
        "OMA"
       ]
      },
      {
       "output_type": "stream",
       "stream": "stdout",
       "text": [
        " NE_ASOS 15 27.4285714285714286\n",
        "OVL"
       ]
      },
      {
       "output_type": "stream",
       "stream": "stdout",
       "text": [
        " MN_ASOS 2 9.1587301587301587\n",
        "FLD"
       ]
      },
      {
       "output_type": "stream",
       "stream": "stdout",
       "text": [
        " WI_ASOS 1 5.3809523809523810\n",
        "UIN"
       ]
      },
      {
       "output_type": "stream",
       "stream": "stdout",
       "text": [
        " IL_ASOS 3 20.9206349206349206\n",
        "EKM"
       ]
      },
      {
       "output_type": "stream",
       "stream": "stdout",
       "text": [
        " IN_ASOS 2 10.9682539682539683\n",
        "08D"
       ]
      },
      {
       "output_type": "stream",
       "stream": "stdout",
       "text": [
        " ND_ASOS 1 9.3333333333333333\n",
        "RCM"
       ]
      },
      {
       "output_type": "stream",
       "stream": "stdout",
       "text": [
        " MO_ASOS 5 33.2539682539682540\n",
        "SDF"
       ]
      },
      {
       "output_type": "stream",
       "stream": "stdout",
       "text": [
        " KY_ASOS 22 20.2063492063492063\n",
        "AIA"
       ]
      },
      {
       "output_type": "stream",
       "stream": "stdout",
       "text": [
        " NE_ASOS 25 26.9523809523809524\n",
        "POF"
       ]
      },
      {
       "output_type": "stream",
       "stream": "stdout",
       "text": [
        " MO_ASOS 17 43.6031746031746032\n",
        "HYX"
       ]
      },
      {
       "output_type": "stream",
       "stream": "stdout",
       "text": [
        " MI_ASOS 0 5.0952380952380952\n",
        "VLL"
       ]
      },
      {
       "output_type": "stream",
       "stream": "stdout",
       "text": [
        " MI_ASOS 1 8.6507936507936508\n",
        "FOA"
       ]
      },
      {
       "output_type": "stream",
       "stream": "stdout",
       "text": [
        " IL_ASOS 7 29.5714285714285714\n",
        "ISW"
       ]
      },
      {
       "output_type": "stream",
       "stream": "stdout",
       "text": [
        " WI_ASOS 1 4.7142857142857143\n",
        "BRD"
       ]
      },
      {
       "output_type": "stream",
       "stream": "stdout",
       "text": [
        " MN_ASOS 1 5.8730158730158730\n",
        "AQP"
       ]
      },
      {
       "output_type": "stream",
       "stream": "stdout",
       "text": [
        " MN_ASOS 6 14.4761904761904762\n",
        "YIP"
       ]
      },
      {
       "output_type": "stream",
       "stream": "stdout",
       "text": [
        " MI_ASOS 11 9.8095238095238095\n",
        "SPI"
       ]
      },
      {
       "output_type": "stream",
       "stream": "stdout",
       "text": [
        " IL_ASOS 8 23.2222222222222222\n",
        "ESC"
       ]
      },
      {
       "output_type": "stream",
       "stream": "stdout",
       "text": [
        " MI_ASOS 1 2.2539682539682540\n",
        "VTI"
       ]
      },
      {
       "output_type": "stream",
       "stream": "stdout",
       "text": [
        " AWOS 7 14.9365079365079365\n",
        "LAN"
       ]
      },
      {
       "output_type": "stream",
       "stream": "stdout",
       "text": [
        " MI_ASOS 0 8.0158730158730159\n",
        "LOZ"
       ]
      },
      {
       "output_type": "stream",
       "stream": "stdout",
       "text": [
        " KY_ASOS 10 25.5873015873015873\n",
        "MNM"
       ]
      },
      {
       "output_type": "stream",
       "stream": "stdout",
       "text": [
        " MI_ASOS 1 4.8571428571428571\n",
        "BAX"
       ]
      },
      {
       "output_type": "stream",
       "stream": "stdout",
       "text": [
        " MI_ASOS 0 5.9047619047619048\n",
        "MKG"
       ]
      },
      {
       "output_type": "stream",
       "stream": "stdout",
       "text": [
        " MI_ASOS 0 2.8253968253968254\n",
        "PQN"
       ]
      },
      {
       "output_type": "stream",
       "stream": "stdout",
       "text": [
        " MN_ASOS 0 13.6666666666666667\n",
        "FBL"
       ]
      },
      {
       "output_type": "stream",
       "stream": "stdout",
       "text": [
        " MN_ASOS 7 10.9841269841269841\n",
        "PAH"
       ]
      },
      {
       "output_type": "stream",
       "stream": "stdout",
       "text": [
        " KY_ASOS 30 35.9841269841269841\n",
        "LPR"
       ]
      },
      {
       "output_type": "stream",
       "stream": "stdout",
       "text": [
        " OH_ASOS 8 12.0634920634920635\n",
        "UES"
       ]
      },
      {
       "output_type": "stream",
       "stream": "stdout",
       "text": [
        " WI_ASOS 0 9.2698412698412698\n",
        "CBG"
       ]
      },
      {
       "output_type": "stream",
       "stream": "stdout",
       "text": [
        " MN_ASOS 3 6.5555555555555556\n",
        "MML"
       ]
      },
      {
       "output_type": "stream",
       "stream": "stdout",
       "text": [
        " MN_ASOS 3 14.4920634920634921\n",
        "9MN"
       ]
      },
      {
       "output_type": "stream",
       "stream": "stdout",
       "text": [
        " MN_ASOS 0 6.3809523809523810\n",
        "PLN"
       ]
      },
      {
       "output_type": "stream",
       "stream": "stdout",
       "text": [
        " MI_ASOS 1 3.8095238095238095\n",
        "LJF"
       ]
      },
      {
       "output_type": "stream",
       "stream": "stdout",
       "text": [
        " MN_ASOS 1 11.4444444444444444\n",
        "SBN"
       ]
      },
      {
       "output_type": "stream",
       "stream": "stdout",
       "text": [
        " IN_ASOS 2 10.7460317460317460\n",
        "VER"
       ]
      },
      {
       "output_type": "stream",
       "stream": "stdout",
       "text": [
        " MO_ASOS 134 30.9365079365079365\n",
        "VTN"
       ]
      },
      {
       "output_type": "stream",
       "stream": "stdout",
       "text": [
        " NE_ASOS 20 30.0952380952380952\n",
        "GRB"
       ]
      },
      {
       "output_type": "stream",
       "stream": "stdout",
       "text": [
        " WI_ASOS 1 5.3492063492063492\n",
        "CLE"
       ]
      },
      {
       "output_type": "stream",
       "stream": "stdout",
       "text": [
        " OH_ASOS 3 8.8730158730158730\n",
        "EFC"
       ]
      },
      {
       "output_type": "stream",
       "stream": "stdout",
       "text": [
        " SD_ASOS 0 27.4920634920634921\n",
        "MGG"
       ]
      },
      {
       "output_type": "stream",
       "stream": "stdout",
       "text": [
        " MN_ASOS 1 9.3174603174603175\n",
        "AUH"
       ]
      },
      {
       "output_type": "stream",
       "stream": "stdout",
       "text": [
        " NE_ASOS 11 30.4761904761904762\n",
        "D95"
       ]
      },
      {
       "output_type": "stream",
       "stream": "stdout",
       "text": [
        " MI_ASOS 0 8.3492063492063492\n",
        "CIR"
       ]
      },
      {
       "output_type": "stream",
       "stream": "stdout",
       "text": [
        " IL_ASOS 33 37.7301587301587302\n",
        "2C8"
       ]
      },
      {
       "output_type": "stream",
       "stream": "stdout",
       "text": [
        " ND_ASOS 3 6.9523809523809524\n",
        "AIT"
       ]
      },
      {
       "output_type": "stream",
       "stream": "stdout",
       "text": [
        " MN_ASOS 1 4.0634920634920635\n",
        "VTA"
       ]
      },
      {
       "output_type": "stream",
       "stream": "stdout",
       "text": [
        " OH_ASOS 2 7.5714285714285714\n",
        "DET"
       ]
      },
      {
       "output_type": "stream",
       "stream": "stdout",
       "text": [
        " MI_ASOS 4 10.6031746031746032\n",
        "COQ"
       ]
      },
      {
       "output_type": "stream",
       "stream": "stdout",
       "text": [
        " MN_ASOS 0 4.5555555555555556\n",
        "USE"
       ]
      },
      {
       "output_type": "stream",
       "stream": "stdout",
       "text": [
        " OH_ASOS 4 11.2222222222222222\n",
        "PTS"
       ]
      },
      {
       "output_type": "stream",
       "stream": "stdout",
       "text": [
        " KS_ASOS 26 39.3492063492063492\n",
        "FRM"
       ]
      },
      {
       "output_type": "stream",
       "stream": "stdout",
       "text": [
        " MN_ASOS 1 11.3333333333333333\n",
        "MBG"
       ]
      },
      {
       "output_type": "stream",
       "stream": "stdout",
       "text": [
        " SD_ASOS 3 18.7142857142857143\n",
        "BBG"
       ]
      },
      {
       "output_type": "stream",
       "stream": "stdout",
       "text": [
        " MO_ASOS 41 44.0952380952380952\n",
        "AEL"
       ]
      },
      {
       "output_type": "stream",
       "stream": "stdout",
       "text": [
        " MN_ASOS 0 10.3492063492063492\n",
        "DLZ"
       ]
      },
      {
       "output_type": "stream",
       "stream": "stdout",
       "text": [
        " OH_ASOS 2 8.2380952380952381\n",
        "VYS"
       ]
      },
      {
       "output_type": "stream",
       "stream": "stdout",
       "text": [
        " IL_ASOS 4 18.4126984126984127\n"
       ]
      }
     ],
     "prompt_number": 4
    },
    {
     "cell_type": "code",
     "collapsed": false,
     "input": [
      "lons = []\n",
      "lats = []\n",
      "vals = []\n",
      "labels = []\n",
      "for line in open('/tmp/a.txt'):\n",
      "    tokens = line.split()\n",
      "    lons.append( float(nt.sts[tokens[0]]['lon']) )\n",
      "    lats.append( float(nt.sts[tokens[0]]['lat']) )\n",
      "    vals.append( float(tokens[2]) - float(tokens[3]) )\n",
      "    labels.append( \"%s\\n%.0f\" % (tokens[2], float(tokens[2]) - float(tokens[3])))"
     ],
     "language": "python",
     "metadata": {},
     "outputs": [],
     "prompt_number": 9
    },
    {
     "cell_type": "code",
     "collapsed": false,
     "input": [
      "from pyiem.plot import MapPlot\n",
      "import matplotlib.cm as cm\n",
      "cmap = cm.get_cmap('RdBu_r')\n",
      "cmap.set_under('black')\n",
      "cmap.set_over('white')\n",
      "m = MapPlot(sector='iowa', title=\"1 Jan - 19 Aug 2014 Days over and Departure of 90$^\\circ$F Days\",\n",
      "            subtitle='vs 1951-2013 Average number of days to date', axisbg='white')\n",
      "#m.contourf(lons, lats, vals, range(-20,20,4) , cmap=cmap, label='days')\n",
      "m.plot_values(lons, lats, labels, '%s')\n",
      "m.postprocess(filename='test.ps')"
     ],
     "language": "python",
     "metadata": {},
     "outputs": [
      {
       "metadata": {},
       "output_type": "display_data",
       "png": "[encoded data removed]",
       "text": [
        "<matplotlib.figure.Figure at 0x4d10350>"
       ]
      }
     ],
     "prompt_number": 12
    },
    {
     "cell_type": "code",
     "collapsed": false,
     "input": [
      "import iemplot\n",
      "iemplot.makefeature('test')"
     ],
     "language": "python",
     "metadata": {},
     "outputs": [
      {
       "output_type": "stream",
       "stream": "stderr",
       "text": [
        "/usr/lib64/python2.6/site-packages/matplotlib/__init__.py:1155: UserWarning:  This call to matplotlib.use() has no effect\n",
        "because the backend has already been chosen;\n",
        "matplotlib.use() must be called *before* pylab, matplotlib.pyplot,\n",
        "or matplotlib.backends is imported for the first time.\n",
        "\n",
        "  warnings.warn(_use_error_msg)\n"
       ]
      }
     ],
     "prompt_number": 13
    },
    {
     "cell_type": "code",
     "collapsed": false,
     "input": [],
     "language": "python",
     "metadata": {},
     "outputs": []
    }
   ],
   "metadata": {}
  }
 ]
}