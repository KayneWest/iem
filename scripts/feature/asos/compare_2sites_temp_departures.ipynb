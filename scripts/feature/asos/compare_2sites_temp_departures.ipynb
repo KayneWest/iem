{
 "metadata": {
  "name": ""
 },
 "nbformat": 3,
 "nbformat_minor": 0,
 "worksheets": [
  {
   "cells": [
    {
     "cell_type": "code",
     "collapsed": false,
     "input": [
      "import psycopg2\n",
      "import matplotlib.pyplot as plt\n",
      "import pandas as pd"
     ],
     "language": "python",
     "metadata": {},
     "outputs": [],
     "prompt_number": 21
    },
    {
     "cell_type": "code",
     "collapsed": false,
     "input": [
      "ASOS = psycopg2.connect(database='asos', host='iemdb', user='nobody')\n",
      "acursor = ASOS.cursor()\n",
      "COOP = psycopg2.connect(database='coop', host='iemdb', user='nobody')\n",
      "ccursor = COOP.cursor()\n",
      "\n",
      "climo = {}\n",
      "ccursor.execute(\"\"\"\n",
      " WITH panc as (\n",
      " SELECT valid as day, high from ncdc_climate71 where station = 'AK6496'),\n",
      " dsm as (\n",
      " SELECT valid as day, high from ncdc_climate71 where station = 'IA2203')\n",
      " SELECT p.day, d.high, p.high from panc p JOIN dsm d on (d.day = p.day)\n",
      "\"\"\")\n",
      "for row in ccursor:\n",
      "    climo[row[0].strftime(\"%m%d\")] = {'dsm': row[1], 'panc': row[2]}\n",
      "\n",
      "acursor.execute(\"\"\"\n",
      " WITH panc as (\n",
      "  SELECT date(valid) as d, max(tmpf) from alldata where station = 'PAOM' and tmpf is not null\n",
      "  GROUP by d\n",
      " ), dsm as (\n",
      "  SELECT date(valid) as d, max(tmpf) from alldata where station = 'DSM' and tmpf is not null\n",
      "  GROUP by d \n",
      " )\n",
      " \n",
      " SELECT dsm.d, dsm.max, panc.max from dsm JOIN panc on (dsm.d = panc.d)\n",
      "\"\"\")\n",
      "\n",
      "obs = []\n",
      "for row in acursor:\n",
      "    if row[0].month == 2 and row[0].day == 29:\n",
      "        continue\n",
      "    obs.append( dict(valid=row[0], month=row[0].month,\n",
      "                     dsm= row[1] - climo[row[0].strftime(\"%m%d\")]['dsm'], \n",
      "                     panc= row[2] - climo[row[0].strftime(\"%m%d\")]['panc']))\n",
      "\n",
      "df = pd.DataFrame(obs)\n",
      "\n"
     ],
     "language": "python",
     "metadata": {},
     "outputs": [],
     "prompt_number": 24
    },
    {
     "cell_type": "code",
     "collapsed": false,
     "input": [
      "sample = df\n",
      "\n",
      "(fig, ax) = plt.subplots(1,1)\n",
      "\n",
      "a = ax.hist2d(sample['dsm'], sample['panc'], bins=50, cmin=1)\n",
      "ax.grid(True)\n",
      "ax.axhline(0,lw=2, color='k')\n",
      "ax.axvline(0,lw=2, color='k')\n"
     ],
     "language": "python",
     "metadata": {},
     "outputs": [
      {
       "metadata": {},
       "output_type": "pyout",
       "prompt_number": 27,
       "text": [
        "<matplotlib.lines.Line2D at 0x41e1c50>"
       ]
      },
      {
       "metadata": {},
       "output_type": "display_data",
       "png": "[encoded data removed]",
       "text": [
        "<matplotlib.figure.Figure at 0x42e7050>"
       ]
      }
     ],
     "prompt_number": 27
    },
    {
     "cell_type": "code",
     "collapsed": false,
     "input": [],
     "language": "python",
     "metadata": {},
     "outputs": []
    }
   ],
   "metadata": {}
  }
 ]
}