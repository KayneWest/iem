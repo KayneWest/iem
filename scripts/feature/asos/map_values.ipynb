{
 "metadata": {
  "name": ""
 },
 "nbformat": 3,
 "nbformat_minor": 0,
 "worksheets": [
  {
   "cells": [
    {
     "cell_type": "code",
     "collapsed": false,
     "input": [
      "import psycopg2\n",
      "import network\n",
      "import pandas as pd\n",
      "\n",
      "\n",
      "MESOSITE = psycopg2.connect(database='mesosite', user='nobody', host='iemdb')\n",
      "mcursor = MESOSITE.cursor()\n",
      "\n",
      "networks = ['AWOS',]\n",
      "mcursor.execute(\"\"\"SELECT distinct network from stations where country = 'US' and \n",
      " network ~* 'ASOS' and length(id) < 4\"\"\")\n",
      "for row in mcursor:\n",
      "    networks.append( row[0] )\n",
      "\n",
      "nt = network.Table(networks)"
     ],
     "language": "python",
     "metadata": {},
     "outputs": [],
     "prompt_number": 1
    },
    {
     "cell_type": "code",
     "collapsed": false,
     "input": [
      "ASOS = psycopg2.connect(database='asos', user='nobody',host='iemdb')\n",
      "acursor = ASOS.cursor()\n",
      "acursor.execute(\"\"\"\n",
      "  select station, sum(d), sum(case when e > 3600 then 1 else 0 end) as s, count(*) from (select station, \n",
      "  abs(mslp - lag(mslp) OVER (PARTITION by station ORDER by valid ASC)) as d,\n",
      "  extract(epoch from valid - lag(valid) OVER (PARTITION by station ORDER by valid ASC)) as e from t2014 \n",
      "  where mslp > 0 ORDER by valid ASC) as foo GROUP by station ORDER by s DESC\n",
      "\"\"\")\n",
      "lats = []\n",
      "lons = []\n",
      "vals = []\n",
      "for row in acursor:\n",
      "    if not nt.sts.has_key(row[0]) or row[2] > 10 or row[1] < 600 or row[1] > 2000:\n",
      "        continue\n",
      "    if nt.sts[row[0]]['network'] == 'ME_ASOS':\n",
      "              print row\n",
      "    vals.append( row[1] )\n",
      "    lats.append( nt.sts[row[0]]['lat'] )\n",
      "    lons.append( nt.sts[row[0]]['lon'] )"
     ],
     "language": "python",
     "metadata": {},
     "outputs": [
      {
       "output_type": "stream",
       "stream": "stdout",
       "text": [
        "('CAR', 1614.5999999999999, 8L, 2514L)\n",
        "('MLT', 1656.7, 8L, 2517L)\n",
        "('PWM', 1652.0999999999999, 7L, 2514L)\n",
        "('BGR', 1717.2, 5L, 2518L)\n",
        "('IWI', 1687.2, 5L, 2516L)\n",
        "('IZG', 1618.0999999999999, 5L, 2518L)\n",
        "('HUL', 1676.3, 5L, 2513L)\n",
        "('GNR', 1597.2, 5L, 2498L)\n",
        "('AUG', 1659.2, 4L, 2518L)\n"
       ]
      }
     ],
     "prompt_number": 22
    },
    {
     "cell_type": "code",
     "collapsed": false,
     "input": [
      "\n",
      "from pyiem.plot import MapPlot\n",
      "import numpy as np\n",
      "\n",
      "m = MapPlot(sector='conus',\n",
      "            title='1 Jan - 16 Apr 2014 Total Change in Mean Sea Level Pressure',\n",
      "            subtitle='based on automated station data, units are total millibars of change')\n",
      "\n",
      "m.contourf(lons, lats, vals, np.arange(750,2051,100), units='total change in mb')\n",
      "m.postprocess(filename='test.ps')\n",
      "m.close()\n",
      "#m.plot_values(lons, lats, vals, '%.1f')"
     ],
     "language": "python",
     "metadata": {},
     "outputs": [],
     "prompt_number": 36
    },
    {
     "cell_type": "code",
     "collapsed": false,
     "input": [
      "\n",
      "import iemplot\n",
      "iemplot.makefeature('test')\n"
     ],
     "language": "python",
     "metadata": {},
     "outputs": [],
     "prompt_number": 37
    },
    {
     "cell_type": "code",
     "collapsed": false,
     "input": [],
     "language": "python",
     "metadata": {},
     "outputs": []
    }
   ],
   "metadata": {}
  }
 ]
}