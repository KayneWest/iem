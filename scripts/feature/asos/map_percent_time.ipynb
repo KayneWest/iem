{
 "metadata": {
  "name": ""
 },
 "nbformat": 3,
 "nbformat_minor": 0,
 "worksheets": [
  {
   "cells": [
    {
     "cell_type": "code",
     "collapsed": false,
     "input": [
      "%pylab inline\n",
      "import psycopg2\n",
      "import network\n",
      "import pandas as pd\n",
      "import datetime\n",
      "\n",
      "sts = datetime.datetime(2013,12,1)\n",
      "ets = datetime.datetime(2014,2,26,8)\n",
      "total = (ets - sts).days * 86400. + (ets - sts).seconds\n",
      "ASOS = psycopg2.connect(database='asos', user='nobody',host='iemdb')\n",
      "acursor = ASOS.cursor()\n",
      "\n",
      "MESOSITE = psycopg2.connect(database='mesosite', user='nobody', host='iemdb')\n",
      "mcursor = MESOSITE.cursor()\n",
      "\n",
      "networks = ['AWOS',]\n",
      "mcursor.execute(\"\"\"SELECT distinct network from stations where country = 'US' and \n",
      " network ~* 'ASOS'\"\"\")\n",
      "for row in mcursor:\n",
      "    networks.append( row[0] )\n",
      "\n",
      "#nt = network.Table(('IA_ASOS','MO_ASOS','IL_ASOS', 'ND_ASOS', 'AWOS',\n",
      "#          'WI_ASOS','MN_ASOS', 'SD_ASOS', 'NE_ASOS', 'KS_ASOS',\n",
      "#          'IN_ASOS','KY_ASOS','OH_ASOS','MI_ASOS'))\n",
      "nt = network.Table(networks)\n",
      "rows = []\n",
      "for sid in nt.sts.keys():\n",
      "    if nt.sts[sid]['archive_begin'] is None or nt.sts[sid]['archive_begin'].year > 1973:\n",
      "        continue\n",
      "        \n",
      "    # Figure out what our archive coverage is, 41 years would be perfect\n",
      "    acursor.execute(\"\"\"\n",
      "    select yr from \n",
      "        (SELECT substring(d, 1, 4) as yr, count(*) from \n",
      "            (select distinct to_char(valid, 'YYYYmmddHH24') as d from alldata \n",
      "            where station = %s and valid > '1973-01-01') as foo \n",
      "        GROUP by yr) as foo2 \n",
      "    WHERE count > (365. * 24 * .9)\n",
      "    \"\"\", (sid,) )\n",
      "    if acursor.rowcount < 37:\n",
      "        print 'Skipping %s, due to only have %s/41 years of data' % (sid, acursor.rowcount)\n",
      "        continue\n",
      "        \n",
      "    acursor.execute(\"\"\"\n",
      " select sum(valid - lag) from \n",
      " (select valid, lag(valid) OVER (ORDER by valid ASC), tmpf from alldata \n",
      " where station = %s and valid > '2013-12-01') as foo \n",
      " WHERE tmpf < 31.5 \n",
      "    \"\"\", (sid,))\n",
      "    \n",
      "    row = acursor.fetchone()\n",
      "    if row[0] is None:\n",
      "        continue\n",
      "    delta = row[0].days * 86400. + row[0].seconds\n",
      "    rows.append( dict(sid=sid, lat=nt.sts[sid]['lat'], lon=nt.sts[sid]['lon'], val=delta/total*100.0))\n",
      "    print sid, delta / total * 100., row[0]\n",
      "\n",
      "df = pd.DataFrame(rows)"
     ],
     "language": "python",
     "metadata": {},
     "outputs": [
      {
       "output_type": "stream",
       "stream": "stdout",
       "text": [
        "Populating the interactive namespace from numpy and matplotlib\n",
        "AGC"
       ]
      },
      {
       "output_type": "stream",
       "stream": "stdout",
       "text": [
        " 56.6444020356 49 days, 11:16:00\n",
        "NYC"
       ]
      },
      {
       "output_type": "stream",
       "stream": "stdout",
       "text": [
        " 44.2549300254 38 days, 15:35:00\n",
        "AGS"
       ]
      },
      {
       "output_type": "stream",
       "stream": "stdout",
       "text": [
        " 14.6970419847 12 days, 20:03:00\n",
        "NYG"
       ]
      },
      {
       "output_type": "stream",
       "stream": "stdout",
       "text": [
        " 31.6563295165 27 days, 15:31:00\n",
        "PKB"
       ]
      },
      {
       "output_type": "stream",
       "stream": "stdout",
       "text": [
        " 34.4895038168 30 days, 2:54:00\n",
        "SPS"
       ]
      },
      {
       "output_type": "stream",
       "stream": "stdout",
       "text": [
        " 31.4400445293 27 days, 10:59:00\n",
        "SPI"
       ]
      },
      {
       "output_type": "stream",
       "stream": "stdout",
       "text": [
        " 69.3805661578 60 days, 14:13:00\n",
        "BWD"
       ]
      },
      {
       "output_type": "stream",
       "stream": "stdout",
       "text": [
        " 25.1908396947 22 days, 0:00:00\n",
        "BWG"
       ]
      },
      {
       "output_type": "stream",
       "stream": "stdout",
       "text": [
        " 41.588740458 36 days, 7:42:00\n",
        "BWI"
       ]
      },
      {
       "output_type": "stream",
       "stream": "stdout",
       "text": [
        " 43.6840012723 38 days, 3:37:00\n",
        "PADK"
       ]
      },
      {
       "output_type": "stream",
       "stream": "stdout",
       "text": [
        " 23.2347328244 20 days, 7:00:00\n",
        "PADL"
       ]
      },
      {
       "output_type": "stream",
       "stream": "stdout",
       "text": [
        " 56.3414440204 49 days, 4:55:00\n",
        "IXD"
       ]
      },
      {
       "output_type": "stream",
       "stream": "stdout",
       "text": [
        " 62.5254452926 54 days, 14:32:00\n",
        "PADQ"
       ]
      },
      {
       "output_type": "stream",
       "stream": "stdout",
       "text": [
        " 33.7961195929 29 days, 12:22:00\n",
        "PADU"
       ]
      },
      {
       "output_type": "stream",
       "stream": "stdout",
       "text": [
        " 13.9662849873 12 days, 4:44:00\n",
        "BYH"
       ]
      },
      {
       "output_type": "stream",
       "stream": "stdout",
       "text": [
        " 49.2938931298 43 days, 1:12:00\n",
        "BYI"
       ]
      },
      {
       "output_type": "stream",
       "stream": "stdout",
       "text": [
        " 52.1986323155 45 days, 14:05:00\n",
        "PQI"
       ]
      },
      {
       "output_type": "stream",
       "stream": "stdout",
       "text": [
        " 85.4802798982 74 days, 15:40:00\n",
        "SNS"
       ]
      },
      {
       "output_type": "stream",
       "stream": "stdout",
       "text": [
        " 0.763358778626 16:00:00\n",
        "MAF"
       ]
      },
      {
       "output_type": "stream",
       "stream": "stdout",
       "text": [
        " 21.735846056 18 days, 23:35:00\n",
        "MAI"
       ]
      },
      {
       "output_type": "stream",
       "stream": "stdout",
       "text": [
        " 5.89694656489 5 days, 3:36:00\n",
        "BEH"
       ]
      },
      {
       "output_type": "stream",
       "stream": "stdout",
       "text": [
        " 78.5130407125 68 days, 13:38:00\n",
        "BED"
       ]
      },
      {
       "output_type": "stream",
       "stream": "stdout",
       "text": [
        " 64.4569020356 56 days, 7:01:00\n",
        "BJI"
       ]
      },
      {
       "output_type": "stream",
       "stream": "stdout",
       "text": [
        " 97.391062341 85 days, 1:19:00\n",
        "EVV"
       ]
      },
      {
       "output_type": "stream",
       "stream": "stdout",
       "text": [
        " 50.2003816794 43 days, 20:12:00\n",
        "EVW"
       ]
      },
      {
       "output_type": "stream",
       "stream": "stdout",
       "text": [
        " 78.8334923664 68 days, 20:21:00\n",
        "LSF"
       ]
      },
      {
       "output_type": "stream",
       "stream": "stdout",
       "text": [
        " 16.2269402036 14 days, 4:07:00\n",
        "LSE"
       ]
      },
      {
       "output_type": "stream",
       "stream": "stdout",
       "text": [
        " 88.4907760814 77 days, 6:46:00\n",
        "LSV"
       ]
      },
      {
       "output_type": "stream",
       "stream": "stdout",
       "text": [
        " 2.86180025445 2 days, 11:59:00\n",
        "TTN"
       ]
      },
      {
       "output_type": "stream",
       "stream": "stdout",
       "text": [
        " 52.2686068702 45 days, 15:33:00\n",
        "TTD"
       ]
      },
      {
       "output_type": "stream",
       "stream": "stdout",
       "text": [
        " 14.258110687 12 days, 10:51:00\n",
        "GRR"
       ]
      },
      {
       "output_type": "stream",
       "stream": "stdout",
       "text": [
        " 80.5224236641 70 days, 7:45:00\n",
        "GRF"
       ]
      },
      {
       "output_type": "stream",
       "stream": "stdout",
       "text": [
        " 18.2665394402 15 days, 22:52:00\n",
        "GRB"
       ]
      },
      {
       "output_type": "stream",
       "stream": "stdout",
       "text": [
        " 90.5518447837 79 days, 1:58:00\n",
        "GRK"
       ]
      },
      {
       "output_type": "stream",
       "stream": "stdout",
       "text": [
        " 15.4969783715 13 days, 12:49:00\n",
        "GRI"
       ]
      },
      {
       "output_type": "stream",
       "stream": "stdout",
       "text": [
        " 66.6277035623 58 days, 4:31:00\n",
        "NOG"
       ]
      },
      {
       "output_type": "stream",
       "stream": "stdout",
       "text": [
        " 0.888199745547 18:37:00\n",
        "HLR"
       ]
      },
      {
       "output_type": "stream",
       "stream": "stdout",
       "text": [
        " 10.1423346056 8 days, 20:35:00\n",
        "HLN"
       ]
      },
      {
       "output_type": "stream",
       "stream": "stdout",
       "text": [
        " 58.2569974555 50 days, 21:04:00\n",
        "HLG"
       ]
      },
      {
       "output_type": "stream",
       "stream": "stdout",
       "text": [
        " 59.7129452926 52 days, 3:35:00\n",
        "HLC"
       ]
      },
      {
       "output_type": "stream",
       "stream": "stdout",
       "text": [
        " 58.7635178117 51 days, 7:41:00\n",
        "VBG"
       ]
      },
      {
       "output_type": "stream",
       "stream": "stdout",
       "text": [
        " 0.477099236641 10:00:00\n",
        "CTY"
       ]
      },
      {
       "output_type": "stream",
       "stream": "stdout",
       "text": [
        " 3.38740458015 2 days, 23:00:00\n",
        "MKG"
       ]
      },
      {
       "output_type": "stream",
       "stream": "stdout",
       "text": [
        " 80.2958015267 70 days, 3:00:00\n",
        "CTB"
       ]
      },
      {
       "output_type": "stream",
       "stream": "stdout",
       "text": [
        " 60.2377544529 52 days, 14:35:00\n",
        "79J"
       ]
      },
      {
       "output_type": "stream",
       "stream": "stdout",
       "text": [
        " 6.22853053435 5 days, 10:33:00\n",
        "SPA"
       ]
      },
      {
       "output_type": "stream",
       "stream": "stdout",
       "text": [
        " 11.227735369 9 days, 19:20:00\n",
        "EDE"
       ]
      },
      {
       "output_type": "stream",
       "stream": "stdout",
       "text": [
        " 14.9650127226 13 days, 1:40:00\n",
        "LMT"
       ]
      },
      {
       "output_type": "stream",
       "stream": "stdout",
       "text": [
        " 52.1071882952 45 days, 12:10:00\n",
        "EDW"
       ]
      },
      {
       "output_type": "stream",
       "stream": "stdout",
       "text": [
        " 15.1479007634 13 days, 5:30:00\n",
        "ORH"
       ]
      },
      {
       "output_type": "stream",
       "stream": "stdout",
       "text": [
        " 68.6657124682 59 days, 23:14:00\n",
        "ORF"
       ]
      },
      {
       "output_type": "stream",
       "stream": "stdout",
       "text": [
        " 17.4880725191 15 days, 6:33:00\n",
        "ORD"
       ]
      },
      {
       "output_type": "stream",
       "stream": "stdout",
       "text": [
        " 78.5822201018 68 days, 15:05:00\n",
        "DPG"
       ]
      },
      {
       "output_type": "stream",
       "stream": "stdout",
       "text": [
        " 77.3361959288 67 days, 12:58:00\n",
        "FHU"
       ]
      },
      {
       "output_type": "stream",
       "stream": "stdout",
       "text": [
        " 1.09653307888 22:59:00\n",
        "UKI"
       ]
      },
      {
       "output_type": "stream",
       "stream": "stdout",
       "text": [
        " 13.1679389313 11 days, 12:00:00\n",
        "ONO"
       ]
      },
      {
       "output_type": "stream",
       "stream": "stdout",
       "text": [
        " 70.3395356234 61 days, 10:19:00\n",
        "ONL"
       ]
      },
      {
       "output_type": "stream",
       "stream": "stdout",
       "text": [
        " 70.3721374046 61 days, 11:00:00\n",
        "ONM"
       ]
      },
      {
       "output_type": "stream",
       "stream": "stdout",
       "text": [
        " 24.0776081425 21 days, 0:40:00\n",
        "ONP"
       ]
      },
      {
       "output_type": "stream",
       "stream": "stdout",
       "text": [
        " 6.50445292621 5 days, 16:20:00\n",
        "PNS"
       ]
      },
      {
       "output_type": "stream",
       "stream": "stdout",
       "text": [
        " 4.55788804071 3 days, 23:32:00\n",
        "PNC"
       ]
      },
      {
       "output_type": "stream",
       "stream": "stdout",
       "text": [
        " 47.1222964377 41 days, 3:41:00\n",
        "PNE"
       ]
      },
      {
       "output_type": "stream",
       "stream": "stdout",
       "text": [
        " 45.6583969466 39 days, 21:00:00\n",
        "PAKN"
       ]
      },
      {
       "output_type": "stream",
       "stream": "stdout",
       "text": [
        " 47.2853053435 41 days, 7:06:00\n",
        "PAKT"
       ]
      },
      {
       "output_type": "stream",
       "stream": "stdout",
       "text": [
        " 24.0815839695 21 days, 0:45:00\n",
        "PRC"
       ]
      },
      {
       "output_type": "stream",
       "stream": "stdout",
       "text": [
        " 23.4732824427 20 days, 12:00:00\n",
        "PRB"
       ]
      },
      {
       "output_type": "stream",
       "stream": "stdout",
       "text": [
        " 8.35718829517 7 days, 7:10:00\n",
        "SAC"
       ]
      },
      {
       "output_type": "stream",
       "stream": "stdout",
       "text": [
        " 3.57267811705 3 days, 2:53:00\n",
        "SAF"
       ]
      },
      {
       "output_type": "stream",
       "stream": "stdout",
       "text": [
        " 48.7603371501 42 days, 14:01:00\n",
        "SAD"
       ]
      },
      {
       "output_type": "stream",
       "stream": "stdout",
       "text": [
        " 3.24427480916 2 days, 20:00:00\n",
        "SAW"
       ]
      },
      {
       "output_type": "stream",
       "stream": "stdout",
       "text": [
        " 96.3215648855 84 days, 2:54:00\n",
        "SAV"
       ]
      },
      {
       "output_type": "stream",
       "stream": "stdout",
       "text": [
        " 4.29389312977 3 days, 18:00:00\n",
        "SAT"
       ]
      },
      {
       "output_type": "stream",
       "stream": "stdout",
       "text": [
        " 3.74204834606 3 days, 6:26:00\n",
        "CHA"
       ]
      },
      {
       "output_type": "stream",
       "stream": "stdout",
       "text": [
        " 23.7579516539 20 days, 17:58:00\n",
        "JAX"
       ]
      },
      {
       "output_type": "stream",
       "stream": "stdout",
       "text": [
        " 1.71755725191 1 day, 12:00:00\n",
        "CHO"
       ]
      },
      {
       "output_type": "stream",
       "stream": "stdout",
       "text": [
        " 31.7445928753 27 days, 17:22:00\n",
        "JAN"
       ]
      },
      {
       "output_type": "stream",
       "stream": "stdout",
       "text": [
        " 16.1418575064 14 days, 2:20:00\n",
        "CHS"
       ]
      },
      {
       "output_type": "stream",
       "stream": "stdout",
       "text": [
        " 5.09064885496 4 days, 10:42:00\n",
        "MRF"
       ]
      },
      {
       "output_type": "stream",
       "stream": "stdout",
       "text": [
        " 27.0197201018 23 days, 14:20:00\n",
        "JAC"
       ]
      },
      {
       "output_type": "stream",
       "stream": "stdout",
       "text": [
        " 82.5421437659 72 days, 2:05:00\n",
        "MRB"
       ]
      },
      {
       "output_type": "stream",
       "stream": "stdout",
       "text": [
        " 49.9029898219 43 days, 13:58:00\n",
        "MRC"
       ]
      },
      {
       "output_type": "stream",
       "stream": "stdout",
       "text": [
        " 34.3511450382 30 days, 0:00:00\n",
        "APN"
       ]
      },
      {
       "output_type": "stream",
       "stream": "stdout",
       "text": [
        " 90.4429071247 78 days, 23:41:00\n",
        "DBQ"
       ]
      },
      {
       "output_type": "stream",
       "stream": "stdout",
       "text": [
        " 88.9336832061 77 days, 16:03:00\n",
        "APC"
       ]
      },
      {
       "output_type": "stream",
       "stream": "stdout",
       "text": [
        " 7.42525445293 6 days, 11:38:00\n",
        "ISN"
       ]
      },
      {
       "output_type": "stream",
       "stream": "stdout",
       "text": [
        " 84.7328244275 74 days, 0:00:00\n",
        "NPA"
       ]
      },
      {
       "output_type": "stream",
       "stream": "stdout",
       "text": [
        " 5.70769720102 4 days, 23:38:00\n",
        "NLC"
       ]
      },
      {
       "output_type": "stream",
       "stream": "stdout",
       "text": [
        " 4.30502544529 3 days, 18:14:00\n",
        "ATY"
       ]
      },
      {
       "output_type": "stream",
       "stream": "stdout",
       "text": [
        " 91.6165712468 80 days, 0:17:00\n",
        "GCK"
       ]
      },
      {
       "output_type": "stream",
       "stream": "stdout",
       "text": [
        " 58.489980916 51 days, 1:57:00\n",
        "DLH"
       ]
      },
      {
       "output_type": "stream",
       "stream": "stdout",
       "text": [
        " 96.1601463104 83 days, 23:31:00\n",
        "DLN"
       ]
      },
      {
       "output_type": "stream",
       "stream": "stdout",
       "text": [
        " 67.8769083969 59 days, 6:42:00\n",
        "DLS"
       ]
      },
      {
       "output_type": "stream",
       "stream": "stdout",
       "text": [
        " 29.0410305344 25 days, 8:42:00\n",
        "PAYA"
       ]
      },
      {
       "output_type": "stream",
       "stream": "stdout",
       "text": [
        " 52.7528625954 46 days, 1:42:00\n",
        "BTV"
       ]
      },
      {
       "output_type": "stream",
       "stream": "stdout",
       "text": [
        " 75.0628180662 65 days, 13:19:00\n",
        "BTR"
       ]
      },
      {
       "output_type": "stream",
       "stream": "stdout",
       "text": [
        " 8.82633587786 7 days, 17:00:00\n",
        "SSI"
       ]
      },
      {
       "output_type": "stream",
       "stream": "stdout",
       "text": [
        " 1.95610687023 1 day, 17:00:00\n",
        "NUW"
       ]
      },
      {
       "output_type": "stream",
       "stream": "stdout",
       "text": [
        " 8.82633587786 7 days, 17:00:00\n",
        "BTM"
       ]
      },
      {
       "output_type": "stream",
       "stream": "stdout",
       "text": [
        " 74.010019084 64 days, 15:15:00\n",
        "BTL"
       ]
      },
      {
       "output_type": "stream",
       "stream": "stdout",
       "text": [
        " 79.0314885496 69 days, 0:30:00\n",
        "SSC"
       ]
      },
      {
       "output_type": "stream",
       "stream": "stdout",
       "text": [
        " 12.7647900763 11 days, 3:33:00\n",
        "DHN"
       ]
      },
      {
       "output_type": "stream",
       "stream": "stdout",
       "text": [
        " 7.83555979644 6 days, 20:14:00\n",
        "ECG"
       ]
      },
      {
       "output_type": "stream",
       "stream": "stdout",
       "text": [
        " 17.0769720102 14 days, 21:56:00\n",
        "JKL"
       ]
      },
      {
       "output_type": "stream",
       "stream": "stdout",
       "text": [
        " 41.818543257 36 days, 12:31:00\n",
        "LNS"
       ]
      },
      {
       "output_type": "stream",
       "stream": "stdout",
       "text": [
        " 61.3295165394 53 days, 13:28:00\n",
        "LNR"
       ]
      },
      {
       "output_type": "stream",
       "stream": "stdout",
       "text": [
        " 87.2391857506 76 days, 4:32:00\n",
        "RMG"
       ]
      },
      {
       "output_type": "stream",
       "stream": "stdout",
       "text": [
        " 25.6631679389 22 days, 9:54:00\n",
        "LNK"
       ]
      },
      {
       "output_type": "stream",
       "stream": "stdout",
       "text": [
        " 71.5036577608 62 days, 10:43:00\n",
        "LND"
       ]
      },
      {
       "output_type": "stream",
       "stream": "stdout",
       "text": [
        " 72.0348282443 62 days, 21:51:00\n",
        "EUG"
       ]
      },
      {
       "output_type": "stream",
       "stream": "stdout",
       "text": [
        " 18.7611323155 16 days, 9:14:00\n",
        "PAFB"
       ]
      },
      {
       "output_type": "stream",
       "stream": "stdout",
       "text": [
        " 96.8837468193 84 days, 14:41:00\n",
        "BBW"
       ]
      },
      {
       "output_type": "stream",
       "stream": "stdout",
       "text": [
        " 67.0133587786 58 days, 12:36:00\n",
        "TUP"
       ]
      },
      {
       "output_type": "stream",
       "stream": "stdout",
       "text": [
        " 25.143129771 21 days, 23:00:00\n",
        "TUS"
       ]
      },
      {
       "output_type": "stream",
       "stream": "stdout",
       "text": [
        " 0.0477099236641 1:00:00\n",
        "TUL"
       ]
      },
      {
       "output_type": "stream",
       "stream": "stdout",
       "text": [
        " 40.8881997455 35 days, 17:01:00\n",
        "CYS"
       ]
      },
      {
       "output_type": "stream",
       "stream": "stdout",
       "text": [
        " 55.3291984733 48 days, 7:42:00\n",
        "FYV"
       ]
      },
      {
       "output_type": "stream",
       "stream": "stdout",
       "text": [
        " 45.6902035623 39 days, 21:40:00\n",
        "POE"
       ]
      },
      {
       "output_type": "stream",
       "stream": "stdout",
       "text": [
        " 10.8388994911 9 days, 11:11:00\n",
        "POB"
       ]
      },
      {
       "output_type": "stream",
       "stream": "stdout",
       "text": [
        " 18.8263358779 16 days, 10:36:00\n",
        "FKL"
       ]
      },
      {
       "output_type": "stream",
       "stream": "stdout",
       "text": [
        " 73.1711195929 63 days, 21:40:00\n",
        "VCT"
       ]
      },
      {
       "output_type": "stream",
       "stream": "stdout",
       "text": [
        " 1.54580152672 1 day, 8:24:00\n",
        "VCV"
       ]
      },
      {
       "output_type": "stream",
       "stream": "stdout",
       "text": [
        " 5.70928753181 4 days, 23:40:00\n",
        "CWA"
       ]
      },
      {
       "output_type": "stream",
       "stream": "stdout",
       "text": [
        " 93.0510496183 81 days, 6:21:00\n",
        "CWF"
       ]
      },
      {
       "output_type": "stream",
       "stream": "stdout",
       "text": [
        " 6.07029262087 5 days, 7:14:00\n",
        "SNY"
       ]
      },
      {
       "output_type": "stream",
       "stream": "stdout",
       "text": [
        " 39.7932569975 34 days, 18:04:00\n",
        "CKB"
       ]
      },
      {
       "output_type": "stream",
       "stream": "stdout",
       "text": [
        " 52.1938613232 45 days, 13:59:00\n",
        "VLD"
       ]
      },
      {
       "output_type": "stream",
       "stream": "stdout",
       "text": [
        " 2.52624045802 2 days, 4:57:00\n",
        "SLK"
       ]
      },
      {
       "output_type": "stream",
       "stream": "stdout",
       "text": [
        " 85.1979961832 74 days, 9:45:00\n",
        "PAH"
       ]
      },
      {
       "output_type": "stream",
       "stream": "stdout",
       "text": [
        " 46.697678117 40 days, 18:47:00\n",
        "PAM"
       ]
      },
      {
       "output_type": "stream",
       "stream": "stdout",
       "text": [
        " 3.39217557252 2 days, 23:06:00\n",
        "DCA"
       ]
      },
      {
       "output_type": "stream",
       "stream": "stdout",
       "text": [
        " 26.0337150127 22 days, 17:40:00\n",
        "FWA"
       ]
      },
      {
       "output_type": "stream",
       "stream": "stdout",
       "text": [
        " 74.661259542 65 days, 4:54:00\n",
        "AEX"
       ]
      },
      {
       "output_type": "stream",
       "stream": "stdout",
       "text": [
        " 11.645197201 10 days, 4:05:00\n",
        "DMN"
       ]
      },
      {
       "output_type": "stream",
       "stream": "stdout",
       "text": [
        " 18.2729007634 15 days, 23:00:00\n",
        "BUF"
       ]
      },
      {
       "output_type": "stream",
       "stream": "stdout",
       "text": [
        " 71.0965330789 62 days, 2:11:00\n",
        "PAJN"
       ]
      },
      {
       "output_type": "stream",
       "stream": "stdout",
       "text": [
        " 47.0316475827 41 days, 1:47:00\n",
        "INW"
       ]
      },
      {
       "output_type": "stream",
       "stream": "stdout",
       "text": [
        " 40.5240139949 35 days, 9:23:00\n",
        "PFYU"
       ]
      },
      {
       "output_type": "stream",
       "stream": "stdout",
       "text": [
        " 93.3603689567 81 days, 12:50:00\n",
        "PSK"
       ]
      },
      {
       "output_type": "stream",
       "stream": "stdout",
       "text": [
        " 40.542302799 35 days, 9:46:00\n",
        "PSM"
       ]
      },
      {
       "output_type": "stream",
       "stream": "stdout",
       "text": [
        " 63.68956743 55 days, 14:56:00\n",
        "PSC"
       ]
      },
      {
       "output_type": "stream",
       "stream": "stdout",
       "text": [
        " 48.1878180662 42 days, 2:01:00\n",
        "PSF"
       ]
      },
      {
       "output_type": "stream",
       "stream": "stdout",
       "text": [
        " 75.0993956743 65 days, 14:05:00\n",
        "MOT"
       ]
      },
      {
       "output_type": "stream",
       "stream": "stdout",
       "text": [
        " 89.8711832061 78 days, 11:42:00\n",
        "PSX"
       ]
      },
      {
       "output_type": "stream",
       "stream": "stdout",
       "text": [
        " 1.74538804071 1 day, 12:35:00\n",
        "PIA"
       ]
      },
      {
       "output_type": "stream",
       "stream": "stdout",
       "text": [
        " 74.3423982188 64 days, 22:13:00\n",
        "MOB"
       ]
      },
      {
       "output_type": "stream",
       "stream": "stdout",
       "text": [
        " 9.93956743003 8 days, 16:20:00\n",
        "JLN"
       ]
      },
      {
       "output_type": "stream",
       "stream": "stdout",
       "text": [
        " 48.2705152672 42 days, 3:45:00\n",
        "MOD"
       ]
      },
      {
       "output_type": "stream",
       "stream": "stdout",
       "text": [
        " 3.4510178117 3 days, 0:20:00\n",
        "BCE"
       ]
      },
      {
       "output_type": "stream",
       "stream": "stdout",
       "text": [
        " 71.5521628499 62 days, 11:44:00\n",
        "TVF"
       ]
      },
      {
       "output_type": "stream",
       "stream": "stdout",
       "text": [
        " 97.9484732824 85 days, 13:00:00\n",
        "TVC"
       ]
      },
      {
       "output_type": "stream",
       "stream": "stdout",
       "text": [
        " 87.3354007634 76 days, 6:33:00\n",
        "TDZ"
       ]
      },
      {
       "output_type": "stream",
       "stream": "stdout",
       "text": [
        " 72.9747137405 63 days, 17:33:00\n",
        "PTK"
       ]
      },
      {
       "output_type": "stream",
       "stream": "stdout",
       "text": [
        " 80.7585877863 70 days, 12:42:00\n",
        "NMM"
       ]
      },
      {
       "output_type": "stream",
       "stream": "stdout",
       "text": [
        " 18.3691157761 16 days, 1:01:00\n",
        "CVS"
       ]
      },
      {
       "output_type": "stream",
       "stream": "stdout",
       "text": [
        " 34.4569020356 30 days, 2:13:00\n",
        "LOL"
       ]
      },
      {
       "output_type": "stream",
       "stream": "stdout",
       "text": [
        " 55.733937659 48 days, 16:11:00\n",
        "CVO"
       ]
      },
      {
       "output_type": "stream",
       "stream": "stdout",
       "text": [
        " 16.2531806616 14 days, 4:40:00\n",
        "CVH"
       ]
      },
      {
       "output_type": "stream",
       "stream": "stdout",
       "text": [
        " 2.91030534351 2 days, 13:00:00\n",
        "LOU"
       ]
      },
      {
       "output_type": "stream",
       "stream": "stdout",
       "text": [
        " 47.3369910941 41 days, 8:11:00\n",
        "LOZ"
       ]
      },
      {
       "output_type": "stream",
       "stream": "stdout",
       "text": [
        " 36.6992684478 32 days, 1:13:00\n",
        "CVG"
       ]
      },
      {
       "output_type": "stream",
       "stream": "stdout",
       "text": [
        " 55.0723600509 48 days, 2:19:00\n",
        "ELM"
       ]
      },
      {
       "output_type": "stream",
       "stream": "stdout",
       "text": [
        " 69.453721374 60 days, 15:45:00\n",
        "HPN"
       ]
      },
      {
       "output_type": "stream",
       "stream": "stdout",
       "text": [
        " 56.0885814249 48 days, 23:37:00\n",
        "BIE"
       ]
      },
      {
       "output_type": "stream",
       "stream": "stdout",
       "text": [
        " 67.7878498728 59 days, 4:50:00\n",
        "DRT"
       ]
      },
      {
       "output_type": "stream",
       "stream": "stdout",
       "text": [
        " 3.0534351145 2 days, 16:00:00\n",
        "DRO"
       ]
      },
      {
       "output_type": "stream",
       "stream": "stdout",
       "text": [
        " 62.6645992366 54 days, 17:27:00\n",
        "IOW"
       ]
      },
      {
       "output_type": "stream",
       "stream": "stdout",
       "text": [
        " 82.8236323155 72 days, 7:59:00\n",
        "UIL"
       ]
      },
      {
       "output_type": "stream",
       "stream": "stdout",
       "text": [
        " 7.43082061069 6 days, 11:45:00\n",
        "UIN"
       ]
      },
      {
       "output_type": "stream",
       "stream": "stdout",
       "text": [
        " 71.1347010178 62 days, 2:59:00\n",
        "ABY"
       ]
      },
      {
       "output_type": "stream",
       "stream": "stdout",
       "text": [
        " 7.85066793893 6 days, 20:33:00\n",
        "CXY"
       ]
      },
      {
       "output_type": "stream",
       "stream": "stdout",
       "text": [
        " 54.8600508906 47 days, 21:52:00\n",
        "PAIL"
       ]
      },
      {
       "output_type": "stream",
       "stream": "stdout",
       "text": [
        " 51.540235369 45 days, 0:17:00\n",
        "PAIM"
       ]
      },
      {
       "output_type": "stream",
       "stream": "stdout",
       "text": [
        " 96.6118002545 84 days, 8:59:00\n",
        "SCK"
       ]
      },
      {
       "output_type": "stream",
       "stream": "stdout",
       "text": [
        " 4.87436386768 4 days, 6:10:00\n",
        "JMS"
       ]
      },
      {
       "output_type": "stream",
       "stream": "stdout",
       "text": [
        " 93.0367366412 81 days, 6:03:00\n",
        "MNM"
       ]
      },
      {
       "output_type": "stream",
       "stream": "stdout",
       "text": [
        " 90.9192111959 79 days, 9:40:00\n",
        "PBG"
       ]
      },
      {
       "output_type": "stream",
       "stream": "stdout",
       "text": [
        " 78.0605916031 68 days, 4:09:00\n",
        "PBF"
       ]
      },
      {
       "output_type": "stream",
       "stream": "stdout",
       "text": [
        " 27.4109414758 23 days, 22:32:00\n",
        "PBI"
       ]
      },
      {
       "output_type": "stream",
       "stream": "stdout",
       "text": [
        " 0.0954198473282 2:00:00\n",
        "MLS"
       ]
      },
      {
       "output_type": "stream",
       "stream": "stdout",
       "text": [
        " 70.9748727735 61 days, 23:38:00\n",
        "AVP"
       ]
      },
      {
       "output_type": "stream",
       "stream": "stdout",
       "text": [
        " 67.1525127226 58 days, 15:31:00\n",
        "AVL"
       ]
      },
      {
       "output_type": "stream",
       "stream": "stdout",
       "text": [
        " 33.6577608142 29 days, 9:28:00\n",
        "SUN"
       ]
      },
      {
       "output_type": "stream",
       "stream": "stdout",
       "text": [
        " 74.3813613232 64 days, 23:02:00\n",
        "MLU"
       ]
      },
      {
       "output_type": "stream",
       "stream": "stdout",
       "text": [
        " 17.9882315522 15 days, 17:02:00\n",
        "SUU"
       ]
      },
      {
       "output_type": "stream",
       "stream": "stdout",
       "text": [
        " 6.25954198473 5 days, 11:12:00\n",
        "SUS"
       ]
      },
      {
       "output_type": "stream",
       "stream": "stdout",
       "text": [
        " 61.2134223919 53 days, 11:02:00\n",
        "SUX"
       ]
      },
      {
       "output_type": "stream",
       "stream": "stdout",
       "text": [
        " 80.2321882952 70 days, 1:40:00\n",
        "TEB"
       ]
      },
      {
       "output_type": "stream",
       "stream": "stdout",
       "text": [
        " 46.1498091603 40 days, 7:18:00\n",
        "NBC"
       ]
      },
      {
       "output_type": "stream",
       "stream": "stdout",
       "text": [
        " 4.43702290076 3 days, 21:00:00\n",
        "SLC"
       ]
      },
      {
       "output_type": "stream",
       "stream": "stdout",
       "text": [
        " 52.9540394402 46 days, 5:55:00\n",
        "NBG"
       ]
      },
      {
       "output_type": "stream",
       "stream": "stdout",
       "text": [
        " 3.96708015267 3 days, 11:09:00\n",
        "ADM"
       ]
      },
      {
       "output_type": "stream",
       "stream": "stdout",
       "text": [
        " 32.0014312977 27 days, 22:45:00\n",
        "MWC"
       ]
      },
      {
       "output_type": "stream",
       "stream": "stdout",
       "text": [
        " 84.7948473282 74 days, 1:18:00\n",
        "MCI"
       ]
      },
      {
       "output_type": "stream",
       "stream": "stdout",
       "text": [
        " 62.2797391858 54 days, 9:23:00\n",
        "BRL"
       ]
      },
      {
       "output_type": "stream",
       "stream": "stdout",
       "text": [
        " 76.7692430025 67 days, 1:05:00\n",
        "BRD"
       ]
      },
      {
       "output_type": "stream",
       "stream": "stdout",
       "text": [
        " 92.3179071247 80 days, 14:59:00\n",
        "TWF"
       ]
      },
      {
       "output_type": "stream",
       "stream": "stdout",
       "text": [
        " 45.9223918575 40 days, 2:32:00\n",
        "HQM"
       ]
      },
      {
       "output_type": "stream",
       "stream": "stdout",
       "text": [
        " 9.96262722646 8 days, 16:49:00\n",
        "MWH"
       ]
      },
      {
       "output_type": "stream",
       "stream": "stdout",
       "text": [
        " 64.7789440204 56 days, 13:46:00\n",
        "RKS"
       ]
      },
      {
       "output_type": "stream",
       "stream": "stdout",
       "text": [
        " 69.4457697201 60 days, 15:35:00\n",
        "SEA"
       ]
      },
      {
       "output_type": "stream",
       "stream": "stdout",
       "text": [
        " 8.3516221374 7 days, 7:03:00\n",
        "EAR"
       ]
      },
      {
       "output_type": "stream",
       "stream": "stdout",
       "text": [
        " 65.6647582697 57 days, 8:20:00\n",
        "EAU"
       ]
      },
      {
       "output_type": "stream",
       "stream": "stdout",
       "text": [
        " 92.6312022901 80 days, 21:33:00\n",
        "EAT"
       ]
      },
      {
       "output_type": "stream",
       "stream": "stdout",
       "text": [
        " 67.5453244275 58 days, 23:45:00\n",
        "HOB"
       ]
      },
      {
       "output_type": "stream",
       "stream": "stdout",
       "text": [
        " 28.3905852417 24 days, 19:04:00\n",
        "HON"
       ]
      },
      {
       "output_type": "stream",
       "stream": "stdout",
       "text": [
        " 84.3336513995 73 days, 15:38:00\n",
        "ESF"
       ]
      },
      {
       "output_type": "stream",
       "stream": "stdout",
       "text": [
        " 12.0570928753 10 days, 12:43:00\n",
        "HOT"
       ]
      },
      {
       "output_type": "stream",
       "stream": "stdout",
       "text": [
        " 25.6862277354 22 days, 10:23:00\n",
        "HOU"
       ]
      },
      {
       "output_type": "stream",
       "stream": "stdout",
       "text": [
        " 2.39026717557 2 days, 2:06:00\n",
        "ESC"
       ]
      },
      {
       "output_type": "stream",
       "stream": "stdout",
       "text": [
        " 93.0979643766 81 days, 7:20:00\n",
        "HOP"
       ]
      },
      {
       "output_type": "stream",
       "stream": "stdout",
       "text": [
        " 41.4336832061 36 days, 4:27:00\n",
        "KLS"
       ]
      },
      {
       "output_type": "stream",
       "stream": "stdout",
       "text": [
        " 16.7938931298 14 days, 16:00:00\n",
        "SCH"
       ]
      },
      {
       "output_type": "stream",
       "stream": "stdout",
       "text": [
        " 67.4355916031 58 days, 21:27:00\n",
        "YIP"
       ]
      },
      {
       "output_type": "stream",
       "stream": "stdout",
       "text": [
        " 71.8893129771 62 days, 18:48:00\n",
        "GON"
       ]
      },
      {
       "output_type": "stream",
       "stream": "stdout",
       "text": [
        " 48.7126272265 42 days, 13:01:00\n",
        "VAD"
       ]
      },
      {
       "output_type": "stream",
       "stream": "stdout",
       "text": [
        " 3.54802798982 3 days, 2:22:00\n",
        "LHW"
       ]
      },
      {
       "output_type": "stream",
       "stream": "stdout",
       "text": [
        " 5.81663486005 5 days, 1:55:00\n",
        "LHX"
       ]
      },
      {
       "output_type": "stream",
       "stream": "stdout",
       "text": [
        " 57.1851145038 49 days, 22:36:00\n",
        "CMH"
       ]
      },
      {
       "output_type": "stream",
       "stream": "stdout",
       "text": [
        " 59.6135496183 52 days, 1:30:00\n",
        "DSV"
       ]
      },
      {
       "output_type": "stream",
       "stream": "stdout",
       "text": [
        " 67.7313931298 59 days, 3:39:00\n",
        "DSM"
       ]
      },
      {
       "output_type": "stream",
       "stream": "stdout",
       "text": [
        " 76.9751908397 67 days, 5:24:00\n",
        "RWF"
       ]
      },
      {
       "output_type": "stream",
       "stream": "stdout",
       "text": [
        " 89.522105598 78 days, 4:23:00\n",
        "INT"
       ]
      },
      {
       "output_type": "stream",
       "stream": "stdout",
       "text": [
        " 21.9783715013 19 days, 4:40:00\n",
        "RWI"
       ]
      },
      {
       "output_type": "stream",
       "stream": "stdout",
       "text": [
        " 20.5232188295 17 days, 22:10:00\n",
        "RWL"
       ]
      },
      {
       "output_type": "stream",
       "stream": "stdout",
       "text": [
        " 72.352894402 63 days, 4:31:00\n",
        "INS"
       ]
      },
      {
       "output_type": "stream",
       "stream": "stdout",
       "text": [
        " 17.1811386768 15 days, 0:07:00\n",
        "INL"
       ]
      },
      {
       "output_type": "stream",
       "stream": "stdout",
       "text": [
        " 97.6327926209 85 days, 6:23:00\n",
        "OKC"
       ]
      },
      {
       "output_type": "stream",
       "stream": "stdout",
       "text": [
        " 37.274173028 32 days, 13:16:00\n",
        "INK"
       ]
      },
      {
       "output_type": "stream",
       "stream": "stdout",
       "text": [
        " 21.2730597964 18 days, 13:53:00\n",
        "IND"
       ]
      },
      {
       "output_type": "stream",
       "stream": "stdout",
       "text": [
        " 68.7372773537 60 days, 0:44:00\n",
        "GLH"
       ]
      },
      {
       "output_type": "stream",
       "stream": "stdout",
       "text": [
        " 21.7700381679 19 days, 0:18:00\n",
        "AKR"
       ]
      },
      {
       "output_type": "stream",
       "stream": "stdout",
       "text": [
        " 68.5146310433 59 days, 20:04:00\n",
        "GLD"
       ]
      },
      {
       "output_type": "stream",
       "stream": "stdout",
       "text": [
        " 58.3555979644 50 days, 23:08:00\n",
        "CJR"
       ]
      },
      {
       "output_type": "stream",
       "stream": "stdout",
       "text": [
        " 33.3492366412 29 days, 3:00:00\n",
        "AKO"
       ]
      },
      {
       "output_type": "stream",
       "stream": "stdout",
       "text": [
        " 57.6741412214 50 days, 8:51:00\n",
        "GLS"
       ]
      },
      {
       "output_type": "stream",
       "stream": "stdout",
       "text": [
        " 0.477099236641 10:00:00\n",
        "DOV"
       ]
      },
      {
       "output_type": "stream",
       "stream": "stdout",
       "text": [
        " 40.2846692112 35 days, 4:22:00\n",
        "AUG"
       ]
      },
      {
       "output_type": "stream",
       "stream": "stdout",
       "text": [
        " 78.8016857506 68 days, 19:41:00\n",
        "PAHO"
       ]
      },
      {
       "output_type": "stream",
       "stream": "stdout",
       "text": [
        " 49.096692112 42 days, 21:04:00\n",
        "PAHN"
       ]
      },
      {
       "output_type": "stream",
       "stream": "stdout",
       "text": [
        " 62.0666348601 54 days, 4:55:00\n",
        "MMT"
       ]
      },
      {
       "output_type": "stream",
       "stream": "stdout",
       "text": [
        " 13.9018765903 12 days, 3:23:00\n",
        "SBY"
       ]
      },
      {
       "output_type": "stream",
       "stream": "stdout",
       "text": [
        " 27.6987913486 24 days, 4:34:00\n",
        "PUB"
       ]
      },
      {
       "output_type": "stream",
       "stream": "stdout",
       "text": [
        " 54.9984096692 48 days, 0:46:00\n",
        "PUC"
       ]
      },
      {
       "output_type": "stream",
       "stream": "stdout",
       "text": [
        " 60.0063613232 52 days, 9:44:00\n",
        "SBD"
       ]
      },
      {
       "output_type": "stream",
       "stream": "stdout",
       "text": [
        " 1.00349872774 21:02:00\n",
        "PUW"
       ]
      },
      {
       "output_type": "stream",
       "stream": "stdout",
       "text": [
        " 48.7301208651 42 days, 13:23:00\n",
        "SBN"
       ]
      },
      {
       "output_type": "stream",
       "stream": "stdout",
       "text": [
        " 77.322678117 67 days, 12:41:00\n",
        "ERV"
       ]
      },
      {
       "output_type": "stream",
       "stream": "stdout",
       "text": [
        " 18.6704834606 16 days, 7:20:00\n",
        "BAF"
       ]
      },
      {
       "output_type": "stream",
       "stream": "stdout",
       "text": [
        " 67.5230597964 58 days, 23:17:00\n",
        "BAD"
       ]
      },
      {
       "output_type": "stream",
       "stream": "stdout",
       "text": [
        " 15.1900445293 13 days, 6:23:00\n",
        "LCK"
       ]
      },
      {
       "output_type": "stream",
       "stream": "stdout",
       "text": [
        " 56.2340966921 49 days, 2:40:00\n",
        "BAB"
       ]
      },
      {
       "output_type": "stream",
       "stream": "stdout",
       "text": [
        " 4.62945292621 4 days, 1:02:00\n",
        "BAK"
       ]
      },
      {
       "output_type": "stream",
       "stream": "stdout",
       "text": [
        " 66.5911259542 58 days, 3:45:00\n",
        "MPV"
       ]
      },
      {
       "output_type": "stream",
       "stream": "stdout",
       "text": [
        " 80.4055343511 70 days, 5:18:00\n",
        "VPS"
       ]
      },
      {
       "output_type": "stream",
       "stream": "stdout",
       "text": [
        " 5.35225826972 4 days, 16:11:00\n",
        "STC"
       ]
      },
      {
       "output_type": "stream",
       "stream": "stdout",
       "text": [
        " 93.1313613232 81 days, 8:02:00\n",
        "STL"
       ]
      },
      {
       "output_type": "stream",
       "stream": "stdout",
       "text": [
        " 57.1946564885 49 days, 22:48:00\n",
        "BNW"
       ]
      },
      {
       "output_type": "stream",
       "stream": "stdout",
       "text": [
        " 64.8059796438 56 days, 14:20:00\n",
        "STJ"
       ]
      },
      {
       "output_type": "stream",
       "stream": "stdout",
       "text": [
        " 69.0306933842 60 days, 6:53:00\n",
        "STK"
       ]
      },
      {
       "output_type": "stream",
       "stream": "stdout",
       "text": [
        " 62.5636132316 54 days, 15:20:00\n",
        "STS"
       ]
      },
      {
       "output_type": "stream",
       "stream": "stdout",
       "text": [
        " 10.2806933842 8 days, 23:29:00\n",
        "JXN"
       ]
      },
      {
       "output_type": "stream",
       "stream": "stdout",
       "text": [
        " 78.3643447837 68 days, 10:31:00\n",
        "FNT"
       ]
      },
      {
       "output_type": "stream",
       "stream": "stdout",
       "text": [
        " 78.6927480916 68 days, 17:24:00\n",
        "LIC"
       ]
      },
      {
       "output_type": "stream",
       "stream": "stdout",
       "text": [
        " 71.0122455471 62 days, 0:25:00\n",
        "LIT"
       ]
      },
      {
       "output_type": "stream",
       "stream": "stdout",
       "text": [
        " 26.9083969466 23 days, 12:00:00\n",
        "PGV"
       ]
      },
      {
       "output_type": "stream",
       "stream": "stdout",
       "text": [
        " 15.6329516539 13 days, 15:40:00\n",
        "ACK"
       ]
      },
      {
       "output_type": "stream",
       "stream": "stdout",
       "text": [
        " 37.578721374 32 days, 19:39:00\n",
        "HRT"
       ]
      },
      {
       "output_type": "stream",
       "stream": "stdout",
       "text": [
        " 5.35861959288 4 days, 16:19:00\n",
        "TPL"
       ]
      },
      {
       "output_type": "stream",
       "stream": "stdout",
       "text": [
        " 16.762086514 14 days, 15:20:00\n",
        "TPH"
       ]
      },
      {
       "output_type": "stream",
       "stream": "stdout",
       "text": [
        " 40.1176844784 35 days, 0:52:00\n",
        "HRO"
       ]
      },
      {
       "output_type": "stream",
       "stream": "stdout",
       "text": [
        " 44.6763676845 39 days, 0:25:00\n",
        "HDO"
       ]
      },
      {
       "output_type": "stream",
       "stream": "stdout",
       "text": [
        " 5.50174936387 4 days, 19:19:00\n",
        "RHI"
       ]
      },
      {
       "output_type": "stream",
       "stream": "stdout",
       "text": [
        " 95.3872455471 83 days, 7:19:00\n",
        "RTN"
       ]
      },
      {
       "output_type": "stream",
       "stream": "stdout",
       "text": [
        " 54.5332379135 47 days, 15:01:00\n",
        "OJC"
       ]
      },
      {
       "output_type": "stream",
       "stream": "stdout",
       "text": [
        " 61.5990776081 53 days, 19:07:00\n",
        "END"
       ]
      },
      {
       "output_type": "stream",
       "stream": "stdout",
       "text": [
        " 47.2368002545 41 days, 6:05:00\n",
        "ENV"
       ]
      },
      {
       "output_type": "stream",
       "stream": "stdout",
       "text": [
        " 64.5197201018 56 days, 8:20:00\n",
        "RFD"
       ]
      },
      {
       "output_type": "stream",
       "stream": "stdout",
       "text": [
        " 85.2353689567 74 days, 10:32:00\n",
        "NIP"
       ]
      },
      {
       "output_type": "stream",
       "stream": "stdout",
       "text": [
        " 0.381679389313 8:00:00\n",
        "CZZ"
       ]
      },
      {
       "output_type": "stream",
       "stream": "stdout",
       "text": [
        " 2.05152671756 1 day, 19:00:00\n",
        "PAOR"
       ]
      },
      {
       "output_type": "stream",
       "stream": "stdout",
       "text": [
        " 98.9503816794 86 days, 10:00:00\n",
        "PAOT"
       ]
      },
      {
       "output_type": "stream",
       "stream": "stdout",
       "text": [
        " 92.0674300254 80 days, 9:44:00\n",
        "ATL"
       ]
      },
      {
       "output_type": "stream",
       "stream": "stdout",
       "text": [
        " 15.8396946565 13 days, 20:00:00\n",
        "ISP"
       ]
      },
      {
       "output_type": "stream",
       "stream": "stdout",
       "text": [
        " 46.7938931298 40 days, 20:48:00\n",
        "ATT"
       ]
      },
      {
       "output_type": "stream",
       "stream": "stdout",
       "text": [
        " 7.3298346056 6 days, 9:38:00\n",
        "ISO"
       ]
      },
      {
       "output_type": "stream",
       "stream": "stdout",
       "text": [
        " 16.8304707379 14 days, 16:46:00\n",
        "PAOM"
       ]
      },
      {
       "output_type": "stream",
       "stream": "stdout",
       "text": [
        " 86.4631043257 75 days, 12:16:00\n",
        "PVW"
       ]
      },
      {
       "output_type": "stream",
       "stream": "stdout",
       "text": [
        " 38.2951653944 33 days, 10:40:00\n",
        "SEG"
       ]
      },
      {
       "output_type": "stream",
       "stream": "stdout",
       "text": [
        " 66.6356552163 58 days, 4:41:00\n",
        "PVD"
       ]
      },
      {
       "output_type": "stream",
       "stream": "stdout",
       "text": [
        " 53.5742684478 46 days, 18:55:00\n",
        "FDK"
       ]
      },
      {
       "output_type": "stream",
       "stream": "stdout",
       "text": [
        " 46.8026399491 40 days, 20:59:00\n",
        "CLL"
       ]
      },
      {
       "output_type": "stream",
       "stream": "stdout",
       "text": [
        " 9.04580152672 7 days, 21:36:00\n",
        "PDX"
       ]
      },
      {
       "output_type": "stream",
       "stream": "stdout",
       "text": [
        " 16.9115776081 14 days, 18:28:00\n",
        "CLE"
       ]
      },
      {
       "output_type": "stream",
       "stream": "stdout",
       "text": [
        " 65.7220101781 57 days, 9:32:00\n",
        "FRI"
       ]
      },
      {
       "output_type": "stream",
       "stream": "stdout",
       "text": [
        " 61.6825699746 53 days, 20:52:00\n",
        "PDT"
       ]
      },
      {
       "output_type": "stream",
       "stream": "stdout",
       "text": [
        " 48.3373091603 42 days, 5:09:00\n",
        "IML"
       ]
      },
      {
       "output_type": "stream",
       "stream": "stdout",
       "text": [
        " 60.9653307888 53 days, 5:50:00\n",
        "FRM"
       ]
      },
      {
       "output_type": "stream",
       "stream": "stdout",
       "text": [
        " 87.4681933842 76 days, 9:20:00\n",
        "IMT"
       ]
      },
      {
       "output_type": "stream",
       "stream": "stdout",
       "text": [
        " 95.399173028 83 days, 7:34:00\n",
        "CLT"
       ]
      },
      {
       "output_type": "stream",
       "stream": "stdout",
       "text": [
        " 17.5206743003 15 days, 7:14:00\n",
        "SWO"
       ]
      },
      {
       "output_type": "stream",
       "stream": "stdout",
       "text": [
        " 42.243956743 36 days, 21:26:00\n",
        "ADW"
       ]
      },
      {
       "output_type": "stream",
       "stream": "stdout",
       "text": [
        " 38.9980916031 34 days, 1:24:00\n",
        "BPI"
       ]
      },
      {
       "output_type": "stream",
       "stream": "stdout",
       "text": [
        " 87.8506679389 76 days, 17:21:00\n",
        "SWF"
       ]
      },
      {
       "output_type": "stream",
       "stream": "stdout",
       "text": [
        " 64.5539122137 56 days, 9:03:00\n",
        "BPT"
       ]
      },
      {
       "output_type": "stream",
       "stream": "stdout",
       "text": [
        " 4.80200381679 4 days, 4:39:00\n",
        "PAE"
       ]
      },
      {
       "output_type": "stream",
       "stream": "stdout",
       "text": [
        " 13.9042620865 12 days, 3:26:00\n",
        "GYH"
       ]
      },
      {
       "output_type": "stream",
       "stream": "stdout",
       "text": [
        " 13.4064885496 11 days, 17:00:00\n",
        "MLB"
       ]
      },
      {
       "output_type": "stream",
       "stream": "stdout",
       "text": [
        " 0.0477099236641 1:00:00\n",
        "MLC"
       ]
      },
      {
       "output_type": "stream",
       "stream": "stdout",
       "text": [
        " 34.4799618321 30 days, 2:42:00\n",
        "MLF"
       ]
      },
      {
       "output_type": "stream",
       "stream": "stdout",
       "text": [
        " 60.0135178117 52 days, 9:53:00\n",
        "MLI"
       ]
      },
      {
       "output_type": "stream",
       "stream": "stdout",
       "text": [
        " 80.3140903308 70 days, 3:23:00\n",
        "MLP"
       ]
      },
      {
       "output_type": "stream",
       "stream": "stdout",
       "text": [
        " 91.0758587786 79 days, 12:57:00\n",
        "MLT"
       ]
      },
      {
       "output_type": "stream",
       "stream": "stdout",
       "text": [
        " 81.9696246819 71 days, 14:05:00\n",
        "DHT"
       ]
      },
      {
       "output_type": "stream",
       "stream": "stdout",
       "text": [
        " 46.4646946565 40 days, 13:54:00\n",
        "NRB"
       ]
      },
      {
       "output_type": "stream",
       "stream": "stdout",
       "text": [
        " 0.381679389313 8:00:00\n",
        "HSE"
       ]
      },
      {
       "output_type": "stream",
       "stream": "stdout",
       "text": [
        " 7.22169211196 6 days, 7:22:00\n",
        "RIV"
       ]
      },
      {
       "output_type": "stream",
       "stream": "stdout",
       "text": [
        " 0.906488549618 19:00:00\n",
        "RIW"
       ]
      },
      {
       "output_type": "stream",
       "stream": "stdout",
       "text": [
        " 74.0370547074 64 days, 15:49:00\n",
        "HSI"
       ]
      },
      {
       "output_type": "stream",
       "stream": "stdout",
       "text": [
        " 65.3936068702 57 days, 2:39:00\n",
        "HSV"
       ]
      },
      {
       "output_type": "stream",
       "stream": "stdout",
       "text": [
        " 23.6601463104 20 days, 15:55:00\n",
        "GMU"
       ]
      },
      {
       "output_type": "stream",
       "stream": "stdout",
       "text": [
        " 14.8767493639 12 days, 23:49:00\n",
        "RIC"
       ]
      },
      {
       "output_type": "stream",
       "stream": "stdout",
       "text": [
        " 24.4720101781 21 days, 8:56:00\n",
        "PASC"
       ]
      },
      {
       "output_type": "stream",
       "stream": "stdout",
       "text": [
        " 98.8748409669 86 days, 8:25:00\n",
        "PASN"
       ]
      },
      {
       "output_type": "stream",
       "stream": "stdout",
       "text": [
        " 50.5200381679 44 days, 2:54:00\n",
        "PASI"
       ]
      },
      {
       "output_type": "stream",
       "stream": "stdout",
       "text": [
        " 21.2166030534 18 days, 12:42:00\n",
        "PASV"
       ]
      },
      {
       "output_type": "stream",
       "stream": "stdout",
       "text": [
        " 66.1704834606 57 days, 18:56:00\n",
        "PASW"
       ]
      },
      {
       "output_type": "stream",
       "stream": "stdout",
       "text": [
        " 87.2129452926 76 days, 3:59:00\n",
        "BNO"
       ]
      },
      {
       "output_type": "stream",
       "stream": "stdout",
       "text": [
        " 58.9281170483 51 days, 11:08:00\n",
        "BNA"
       ]
      },
      {
       "output_type": "stream",
       "stream": "stdout",
       "text": [
        " 32.3918575064 28 days, 6:56:00\n",
        "PASY"
       ]
      },
      {
       "output_type": "stream",
       "stream": "stdout",
       "text": [
        " 18.008110687 15 days, 17:27:00\n",
        "LXV"
       ]
      },
      {
       "output_type": "stream",
       "stream": "stdout",
       "text": [
        " 89.6596692112 78 days, 7:16:00\n",
        "SYF"
       ]
      },
      {
       "output_type": "stream",
       "stream": "stdout",
       "text": [
        " 53.68956743 46 days, 21:20:00\n",
        "SYR"
       ]
      },
      {
       "output_type": "stream",
       "stream": "stdout",
       "text": [
        " 69.3336513995 60 days, 13:14:00\n",
        "1V4"
       ]
      },
      {
       "output_type": "stream",
       "stream": "stdout",
       "text": [
        " 76.4638994911 66 days, 18:41:00\n",
        "LXN"
       ]
      },
      {
       "output_type": "stream",
       "stream": "stdout",
       "text": [
        " 65.5256043257 57 days, 5:25:00\n",
        "EMP"
       ]
      },
      {
       "output_type": "stream",
       "stream": "stdout",
       "text": [
        " 58.4247773537 51 days, 0:35:00\n",
        "MER"
       ]
      },
      {
       "output_type": "stream",
       "stream": "stdout",
       "text": [
        " 3.76908396947 3 days, 7:00:00\n",
        "FOE"
       ]
      },
      {
       "output_type": "stream",
       "stream": "stdout",
       "text": [
        " 60.3705470738 52 days, 17:22:00\n",
        "FOK"
       ]
      },
      {
       "output_type": "stream",
       "stream": "stdout",
       "text": [
        " 47.8069338422 41 days, 18:02:00\n",
        "ILG"
       ]
      },
      {
       "output_type": "stream",
       "stream": "stdout",
       "text": [
        " 44.7574745547 39 days, 2:07:00\n",
        "COS"
       ]
      },
      {
       "output_type": "stream",
       "stream": "stdout",
       "text": [
        " 51.3175890585 44 days, 19:37:00\n",
        "ILE"
       ]
      },
      {
       "output_type": "stream",
       "stream": "stdout",
       "text": [
        " 18.2092875318 15 days, 21:40:00\n",
        "ILN"
       ]
      },
      {
       "output_type": "stream",
       "stream": "stdout",
       "text": [
        " 61.3263358779 53 days, 13:24:00\n",
        "FSI"
       ]
      },
      {
       "output_type": "stream",
       "stream": "stdout",
       "text": [
        " 35.2870547074 30 days, 19:37:00\n",
        "ILM"
       ]
      },
      {
       "output_type": "stream",
       "stream": "stdout",
       "text": [
        " 10.4397264631 9 days, 2:49:00\n",
        "COE"
       ]
      },
      {
       "output_type": "stream",
       "stream": "stdout",
       "text": [
        " 63.3110687023 55 days, 7:00:00\n",
        "COD"
       ]
      },
      {
       "output_type": "stream",
       "stream": "stdout",
       "text": [
        " 58.3333333333 50 days, 22:40:00\n",
        "CON"
       ]
      },
      {
       "output_type": "stream",
       "stream": "stdout",
       "text": [
        " 74.5698155216 65 days, 2:59:00\n",
        "WAL"
       ]
      },
      {
       "output_type": "stream",
       "stream": "stdout",
       "text": [
        " 23.2228053435 20 days, 6:45:00\n",
        "NQI"
       ]
      },
      {
       "output_type": "stream",
       "stream": "stdout",
       "text": [
        " 0.0954198473282 2:00:00\n",
        "PRX"
       ]
      },
      {
       "output_type": "stream",
       "stream": "stdout",
       "text": [
        " 19.2907124682 16 days, 20:20:00\n",
        "RUT"
       ]
      },
      {
       "output_type": "stream",
       "stream": "stdout",
       "text": [
        " 73.2347328244 63 days, 23:00:00\n",
        "GNR"
       ]
      },
      {
       "output_type": "stream",
       "stream": "stdout",
       "text": [
        " 87.9770992366 76 days, 20:00:00\n",
        "MKE"
       ]
      },
      {
       "output_type": "stream",
       "stream": "stdout",
       "text": [
        " 83.7810114504 73 days, 4:03:00\n",
        "GNV"
       ]
      },
      {
       "output_type": "stream",
       "stream": "stdout",
       "text": [
        " 1.38358778626 1 day, 5:00:00\n",
        "GNT"
       ]
      },
      {
       "output_type": "stream",
       "stream": "stdout",
       "text": [
        " 54.2938931298 47 days, 10:00:00\n",
        "DIK"
       ]
      },
      {
       "output_type": "stream",
       "stream": "stdout",
       "text": [
        " 80.4405216285 70 days, 6:02:00\n",
        "MKO"
       ]
      },
      {
       "output_type": "stream",
       "stream": "stdout",
       "text": [
        " 40.4540394402 35 days, 7:55:00\n",
        "MKL"
       ]
      },
      {
       "output_type": "stream",
       "stream": "stdout",
       "text": [
        " 37.6137086514 32 days, 20:23:00\n",
        "AIO"
       ]
      },
      {
       "output_type": "stream",
       "stream": "stdout",
       "text": [
        " 78.3555979644 68 days, 10:20:00\n",
        "MKT"
       ]
      },
      {
       "output_type": "stream",
       "stream": "stdout",
       "text": [
        " 84.4783715013 73 days, 18:40:00\n",
        "JHW"
       ]
      },
      {
       "output_type": "stream",
       "stream": "stdout",
       "text": [
        " 77.8784987277 68 days, 0:20:00\n",
        "AIA"
       ]
      },
      {
       "output_type": "stream",
       "stream": "stdout",
       "text": [
        " 42.0722010178 36 days, 17:50:00\n",
        "NSE"
       ]
      },
      {
       "output_type": "stream",
       "stream": "stdout",
       "text": [
        " 7.94370229008 6 days, 22:30:00\n",
        "PANT"
       ]
      },
      {
       "output_type": "stream",
       "stream": "stdout",
       "text": [
        " 29.8361959288 26 days, 1:22:00\n",
        "PANC"
       ]
      },
      {
       "output_type": "stream",
       "stream": "stdout",
       "text": [
        " 81.2635178117 70 days, 23:17:00\n",
        "IRK"
       ]
      },
      {
       "output_type": "stream",
       "stream": "stdout",
       "text": [
        " 70.6925890585 61 days, 17:43:00\n",
        "PANI"
       ]
      },
      {
       "output_type": "stream",
       "stream": "stdout",
       "text": [
        " 68.1456743003 59 days, 12:20:00\n",
        "PANN"
       ]
      },
      {
       "output_type": "stream",
       "stream": "stdout",
       "text": [
        " 91.6356552163 80 days, 0:41:00\n",
        "PWT"
       ]
      },
      {
       "output_type": "stream",
       "stream": "stdout",
       "text": [
        " 17.8276081425 15 days, 13:40:00\n",
        "SDY"
       ]
      },
      {
       "output_type": "stream",
       "stream": "stdout",
       "text": [
        " 77.6717557252 67 days, 20:00:00\n",
        "SDF"
       ]
      },
      {
       "output_type": "stream",
       "stream": "stdout",
       "text": [
        " 45.5415076336 39 days, 18:33:00\n",
        "SDB"
       ]
      },
      {
       "output_type": "stream",
       "stream": "stdout",
       "text": [
        " 4.99363867684 4 days, 8:40:00\n",
        "PWM"
       ]
      },
      {
       "output_type": "stream",
       "stream": "stdout",
       "text": [
        " 69.7654262087 60 days, 22:17:00\n",
        "NAK"
       ]
      },
      {
       "output_type": "stream",
       "stream": "stdout",
       "text": [
        " 35.5916030534 31 days, 2:00:00\n",
        "HBG"
       ]
      },
      {
       "output_type": "stream",
       "stream": "stdout",
       "text": [
        " 13.8875636132 12 days, 3:05:00\n",
        "BOI"
       ]
      },
      {
       "output_type": "stream",
       "stream": "stdout",
       "text": [
        " 58.6243638677 51 days, 4:46:00\n",
        "EPH"
       ]
      },
      {
       "output_type": "stream",
       "stream": "stdout",
       "text": [
        " 67.2519083969 58 days, 17:36:00\n",
        "PARY"
       ]
      },
      {
       "output_type": "stream",
       "stream": "stdout",
       "text": [
        " 97.4848918575 85 days, 3:17:00\n",
        "HBR"
       ]
      },
      {
       "output_type": "stream",
       "stream": "stdout",
       "text": [
        " 44.5809478372 38 days, 22:25:00\n",
        "SXT"
       ]
      },
      {
       "output_type": "stream",
       "stream": "stdout",
       "text": [
        " 18.0279898219 15 days, 17:52:00\n",
        "LYH"
       ]
      },
      {
       "output_type": "stream",
       "stream": "stdout",
       "text": [
        " 33.5885814249 29 days, 8:01:00\n",
        "SVN"
       ]
      },
      {
       "output_type": "stream",
       "stream": "stdout",
       "text": [
        " 4.56504452926 3 days, 23:41:00\n",
        "BQK"
       ]
      },
      {
       "output_type": "stream",
       "stream": "stdout",
       "text": [
        " 1.44720101781 1 day, 6:20:00\n",
        "FSM"
       ]
      },
      {
       "output_type": "stream",
       "stream": "stdout",
       "text": [
        " 31.3827926209 27 days, 9:47:00\n",
        "JVL"
       ]
      },
      {
       "output_type": "stream",
       "stream": "stdout",
       "text": [
        " 83.3571882952 72 days, 19:10:00\n",
        "FLP"
       ]
      },
      {
       "output_type": "stream",
       "stream": "stdout",
       "text": [
        " 43.9885496183 38 days, 10:00:00\n",
        "FLO"
       ]
      },
      {
       "output_type": "stream",
       "stream": "stdout",
       "text": [
        " 12.6972010178 11 days, 2:08:00\n",
        "FLG"
       ]
      },
      {
       "output_type": "stream",
       "stream": "stdout",
       "text": [
        " 49.9729643766 43 days, 15:26:00\n",
        "MCB"
       ]
      },
      {
       "output_type": "stream",
       "stream": "stdout",
       "text": [
        " 12.3664122137 10 days, 19:12:00\n",
        "TRI"
       ]
      },
      {
       "output_type": "stream",
       "stream": "stdout",
       "text": [
        " 38.3722964377 33 days, 12:17:00\n",
        "TRK"
       ]
      },
      {
       "output_type": "stream",
       "stream": "stdout",
       "text": [
        " 57.7250318066 50 days, 9:55:00\n",
        "TRM"
       ]
      },
      {
       "output_type": "stream",
       "stream": "stdout",
       "text": [
        " 1.14503816794 1 day, 0:00:00\n",
        "IKW"
       ]
      },
      {
       "output_type": "stream",
       "stream": "stdout",
       "text": [
        " 84.4505407125 73 days, 18:05:00\n",
        "FSD"
       ]
      },
      {
       "output_type": "stream",
       "stream": "stdout",
       "text": [
        " 85.2671755725 74 days, 11:12:00\n",
        "HTS"
       ]
      },
      {
       "output_type": "stream",
       "stream": "stdout",
       "text": [
        " 41.1005089059 35 days, 21:28:00\n",
        "HSP"
       ]
      },
      {
       "output_type": "stream",
       "stream": "stdout",
       "text": [
        " 57.4912531807 50 days, 5:01:00\n",
        "ELN"
       ]
      },
      {
       "output_type": "stream",
       "stream": "stdout",
       "text": [
        " 49.0911259542 42 days, 20:57:00\n",
        "RDR"
       ]
      },
      {
       "output_type": "stream",
       "stream": "stdout",
       "text": [
        " 96.5171755725 84 days, 7:00:00\n",
        "ELD"
       ]
      },
      {
       "output_type": "stream",
       "stream": "stdout",
       "text": [
        " 24.1968829517 21 days, 3:10:00\n",
        "RDD"
       ]
      },
      {
       "output_type": "stream",
       "stream": "stdout",
       "text": [
        " 7.96199109415 6 days, 22:53:00\n",
        "RDG"
       ]
      },
      {
       "output_type": "stream",
       "stream": "stdout",
       "text": [
        " 57.5803117048 50 days, 6:53:00\n",
        "ELY"
       ]
      },
      {
       "output_type": "stream",
       "stream": "stdout",
       "text": [
        " 61.7342557252 53 days, 21:57:00\n",
        "RDM"
       ]
      },
      {
       "output_type": "stream",
       "stream": "stdout",
       "text": [
        " 48.8072519084 42 days, 15:00:00\n",
        "ELP"
       ]
      },
      {
       "output_type": "stream",
       "stream": "stdout",
       "text": [
        " 6.67938931298 5 days, 20:00:00\n",
        "LEB"
       ]
      },
      {
       "output_type": "stream",
       "stream": "stdout",
       "text": [
        " 72.0046119593 62 days, 21:13:00\n",
        "FBG"
       ]
      },
      {
       "output_type": "stream",
       "stream": "stdout",
       "text": [
        " 16.3843829517 14 days, 7:25:00\n",
        "LEX"
       ]
      },
      {
       "output_type": "stream",
       "stream": "stdout",
       "text": [
        " 46.1506043257 40 days, 7:19:00\n",
        "PAMR"
       ]
      },
      {
       "output_type": "stream",
       "stream": "stdout",
       "text": [
        " 81.8885178117 71 days, 12:23:00\n",
        "PAMH"
       ]
      },
      {
       "output_type": "stream",
       "stream": "stdout",
       "text": [
        " 95.4993638677 83 days, 9:40:00\n",
        "PAPT"
       ]
      },
      {
       "output_type": "stream",
       "stream": "stdout",
       "text": [
        " 87.6916348601 76 days, 14:01:00\n",
        "PAMD"
       ]
      },
      {
       "output_type": "stream",
       "stream": "stdout",
       "text": [
        " 18.6545801527 16 days, 7:00:00\n",
        "PAMC"
       ]
      },
      {
       "output_type": "stream",
       "stream": "stdout",
       "text": [
        " 94.8330152672 82 days, 19:42:00\n",
        "SGH"
       ]
      },
      {
       "output_type": "stream",
       "stream": "stdout",
       "text": [
        " 65.1765267176 56 days, 22:06:00\n",
        "SGF"
       ]
      },
      {
       "output_type": "stream",
       "stream": "stdout",
       "text": [
        " 51.3700699746 44 days, 20:43:00\n",
        "CNW"
       ]
      },
      {
       "output_type": "stream",
       "stream": "stdout",
       "text": [
        " 16.445610687 14 days, 8:42:00\n",
        "CNU"
       ]
      },
      {
       "output_type": "stream",
       "stream": "stdout",
       "text": [
        " 54.7288486005 47 days, 19:07:00\n",
        "CNY"
       ]
      },
      {
       "output_type": "stream",
       "stream": "stdout",
       "text": [
        " 67.0356234097 58 days, 13:04:00\n",
        "CNM"
       ]
      },
      {
       "output_type": "stream",
       "stream": "stdout",
       "text": [
        " 23.8247455471 20 days, 19:22:00\n",
        "CNK"
       ]
      },
      {
       "output_type": "stream",
       "stream": "stdout",
       "text": [
        " 60.7530216285 53 days, 1:23:00\n",
        "ICT"
       ]
      },
      {
       "output_type": "stream",
       "stream": "stdout",
       "text": [
        " 53.5965330789 46 days, 19:23:00\n",
        "DXR"
       ]
      },
      {
       "output_type": "stream",
       "stream": "stdout",
       "text": [
        " 64.1356552163 56 days, 0:17:00\n",
        "SIY"
       ]
      },
      {
       "output_type": "stream",
       "stream": "stdout",
       "text": [
        " 44.9904580153 39 days, 7:00:00\n",
        "HMN"
       ]
      },
      {
       "output_type": "stream",
       "stream": "stdout",
       "text": [
        " 20.9947519084 18 days, 8:03:00\n",
        "TAD"
       ]
      },
      {
       "output_type": "stream",
       "stream": "stdout",
       "text": [
        " 49.487913486 43 days, 5:16:00\n",
        "TAN"
       ]
      },
      {
       "output_type": "stream",
       "stream": "stdout",
       "text": [
        " 50.820610687 44 days, 9:12:00\n",
        "PACV"
       ]
      },
      {
       "output_type": "stream",
       "stream": "stdout",
       "text": [
        " 61.1991094148 53 days, 10:44:00\n",
        "CDC"
       ]
      },
      {
       "output_type": "stream",
       "stream": "stdout",
       "text": [
        " 55.0596374046 48 days, 2:03:00\n",
        "AHN"
       ]
      },
      {
       "output_type": "stream",
       "stream": "stdout",
       "text": [
        " 16.0989185751 14 days, 1:26:00\n",
        "PACZ"
       ]
      },
      {
       "output_type": "stream",
       "stream": "stdout",
       "text": [
        " 73.9209605598 64 days, 13:23:00\n",
        "PACD"
       ]
      },
      {
       "output_type": "stream",
       "stream": "stdout",
       "text": [
        " 23.7380725191 20 days, 17:33:00\n",
        "GUC"
       ]
      },
      {
       "output_type": "stream",
       "stream": "stdout",
       "text": [
        " 89.5356234097 78 days, 4:40:00\n",
        "GUS"
       ]
      },
      {
       "output_type": "stream",
       "stream": "stdout",
       "text": [
        " 72.8944020356 63 days, 15:52:00\n",
        "GUP"
       ]
      },
      {
       "output_type": "stream",
       "stream": "stdout",
       "text": [
        " 55.1630089059 48 days, 4:13:00\n",
        "DLF"
       ]
      },
      {
       "output_type": "stream",
       "stream": "stdout",
       "text": [
        " 5.44926844784 4 days, 18:13:00\n",
        "HUF"
       ]
      },
      {
       "output_type": "stream",
       "stream": "stdout",
       "text": [
        " 65.06043257 56 days, 19:40:00\n",
        "HUL"
       ]
      },
      {
       "output_type": "stream",
       "stream": "stdout",
       "text": [
        " 82.0252862595 71 days, 15:15:00\n",
        "HUM"
       ]
      },
      {
       "output_type": "stream",
       "stream": "stdout",
       "text": [
        " 3.86291348601 3 days, 8:58:00\n",
        "HUT"
       ]
      },
      {
       "output_type": "stream",
       "stream": "stdout",
       "text": [
        " 52.6844783715 46 days, 0:16:00\n",
        "AFF"
       ]
      },
      {
       "output_type": "stream",
       "stream": "stdout",
       "text": [
        " 56.6746183206 49 days, 11:54:00\n",
        "NFG"
       ]
      },
      {
       "output_type": "stream",
       "stream": "stdout",
       "text": [
        " 1.39074427481 1 day, 5:09:00\n",
        "BLU"
       ]
      },
      {
       "output_type": "stream",
       "stream": "stdout",
       "text": [
        " 12.4514949109 10 days, 20:59:00\n",
        "NFL"
       ]
      },
      {
       "output_type": "stream",
       "stream": "stdout",
       "text": [
        " 45.5510496183 39 days, 18:45:00\n",
        "BLM"
       ]
      },
      {
       "output_type": "stream",
       "stream": "stdout",
       "text": [
        " 45.0699745547 39 days, 8:40:00\n",
        "BLI"
       ]
      },
      {
       "output_type": "stream",
       "stream": "stdout",
       "text": [
        " 19.1539440204 16 days, 17:28:00\n",
        "BLF"
       ]
      },
      {
       "output_type": "stream",
       "stream": "stdout",
       "text": [
        " 36.1704834606 31 days, 14:08:00\n",
        "EKO"
       ]
      },
      {
       "output_type": "stream",
       "stream": "stdout",
       "text": [
        " 55.594783715 48 days, 13:16:00\n",
        "EKN"
       ]
      },
      {
       "output_type": "stream",
       "stream": "stdout",
       "text": [
        " 56.8598918575 49 days, 15:47:00\n",
        "REO"
       ]
      },
      {
       "output_type": "stream",
       "stream": "stdout",
       "text": [
        " 45.0858778626 39 days, 9:00:00\n",
        "MKC"
       ]
      },
      {
       "output_type": "stream",
       "stream": "stdout",
       "text": [
        " 58.0597964377 50 days, 16:56:00\n",
        "FCS"
       ]
      },
      {
       "output_type": "stream",
       "stream": "stdout",
       "text": [
        " 54.4338422392 47 days, 12:56:00\n",
        "LFI"
       ]
      },
      {
       "output_type": "stream",
       "stream": "stdout",
       "text": [
        " 20.2107188295 17 days, 15:37:00\n",
        "LFK"
       ]
      },
      {
       "output_type": "stream",
       "stream": "stdout",
       "text": [
        " 7.42684478372 6 days, 11:40:00\n",
        "LFT"
       ]
      },
      {
       "output_type": "stream",
       "stream": "stdout",
       "text": [
        " 7.83158396947 6 days, 20:09:00\n",
        "FCI"
       ]
      },
      {
       "output_type": "stream",
       "stream": "stdout",
       "text": [
        " 28.072519084 24 days, 12:24:00\n",
        "LTS"
       ]
      },
      {
       "output_type": "stream",
       "stream": "stdout",
       "text": [
        " 40.9208015267 35 days, 17:42:00\n",
        "FMN"
       ]
      },
      {
       "output_type": "stream",
       "stream": "stdout",
       "text": [
        " 52.7981870229 46 days, 2:39:00\n",
        "PAEH"
       ]
      },
      {
       "output_type": "stream",
       "stream": "stdout",
       "text": [
        " 49.1889312977 42 days, 23:00:00\n",
        "FMH"
       ]
      },
      {
       "output_type": "stream",
       "stream": "stdout",
       "text": [
        " 47.868956743 41 days, 19:20:00\n",
        "VEL"
       ]
      },
      {
       "output_type": "stream",
       "stream": "stdout",
       "text": [
        " 84.7996183206 74 days, 1:24:00\n",
        "FME"
       ]
      },
      {
       "output_type": "stream",
       "stream": "stdout",
       "text": [
        " 43.7404580153 38 days, 4:48:00\n",
        "SVC"
       ]
      },
      {
       "output_type": "stream",
       "stream": "stdout",
       "text": [
        " 17.2709923664 15 days, 2:00:00\n",
        "CAR"
       ]
      },
      {
       "output_type": "stream",
       "stream": "stdout",
       "text": [
        " 86.2468193384 75 days, 7:44:00\n",
        "CAK"
       ]
      },
      {
       "output_type": "stream",
       "stream": "stdout",
       "text": [
        " 67.2057888041 58 days, 16:38:00\n",
        "CAO"
       ]
      },
      {
       "output_type": "stream",
       "stream": "stdout",
       "text": [
        " 41.3652989822 36 days, 3:01:00\n",
        "CAE"
       ]
      },
      {
       "output_type": "stream",
       "stream": "stdout",
       "text": [
        " 11.909192112 10 days, 9:37:00\n",
        "CAD"
       ]
      },
      {
       "output_type": "stream",
       "stream": "stdout",
       "text": [
        " 90.9470419847 79 days, 10:15:00\n",
        "PGA"
       ]
      },
      {
       "output_type": "stream",
       "stream": "stdout",
       "text": [
        " 23.1154580153 20 days, 4:30:00\n",
        "DYR"
       ]
      },
      {
       "output_type": "stream",
       "stream": "stdout",
       "text": [
        " 27.9103053435 24 days, 9:00:00\n",
        "DYS"
       ]
      },
      {
       "output_type": "stream",
       "stream": "stdout",
       "text": [
        " 26.4631043257 23 days, 2:40:00\n",
        "MBL"
       ]
      },
      {
       "output_type": "stream",
       "stream": "stdout",
       "text": [
        " 87.2296437659 76 days, 4:20:00\n",
        "WRI"
       ]
      },
      {
       "output_type": "stream",
       "stream": "stdout",
       "text": [
        " 48.6434478372 42 days, 11:34:00\n",
        "RSL"
       ]
      },
      {
       "output_type": "stream",
       "stream": "stdout",
       "text": [
        " 59.4982506361 51 days, 23:05:00\n",
        "RST"
       ]
      },
      {
       "output_type": "stream",
       "stream": "stdout",
       "text": [
        " 90.6806615776 79 days, 4:40:00\n",
        "OGD"
       ]
      },
      {
       "output_type": "stream",
       "stream": "stdout",
       "text": [
        " 61.4933206107 53 days, 16:54:00\n",
        "JFK"
       ]
      },
      {
       "output_type": "stream",
       "stream": "stdout",
       "text": [
        " 42.2598600509 36 days, 21:46:00\n",
        "MIB"
       ]
      },
      {
       "output_type": "stream",
       "stream": "stdout",
       "text": [
        " 91.2309160305 79 days, 16:12:00\n",
        "MIE"
       ]
      },
      {
       "output_type": "stream",
       "stream": "stdout",
       "text": [
        " 67.6359732824 59 days, 1:39:00\n",
        "DKK"
       ]
      },
      {
       "output_type": "stream",
       "stream": "stdout",
       "text": [
        " 65.9565839695 57 days, 14:27:00\n",
        "MIV"
       ]
      },
      {
       "output_type": "stream",
       "stream": "stdout",
       "text": [
        " 46.1450381679 40 days, 7:12:00\n",
        "PABT"
       ]
      },
      {
       "output_type": "stream",
       "stream": "stdout",
       "text": [
        " 98.7523854962 86 days, 5:51:00\n",
        "PABR"
       ]
      },
      {
       "output_type": "stream",
       "stream": "stdout",
       "text": [
        " 99.3177480916 86 days, 17:42:00\n",
        "AOO"
       ]
      },
      {
       "output_type": "stream",
       "stream": "stdout",
       "text": [
        " 63.572678117 55 days, 12:29:00\n",
        "PABE"
       ]
      },
      {
       "output_type": "stream",
       "stream": "stdout",
       "text": [
        " 70.3156806616 61 days, 9:49:00\n",
        "NQA"
       ]
      },
      {
       "output_type": "stream",
       "stream": "stdout",
       "text": [
        " 34.4847328244 30 days, 2:48:00\n",
        "PABA"
       ]
      },
      {
       "output_type": "stream",
       "stream": "stdout",
       "text": [
        " 99.0728371501 86 days, 12:34:00\n",
        "PABI"
       ]
      },
      {
       "output_type": "stream",
       "stream": "stdout",
       "text": [
        " 92.6359732824 80 days, 21:39:00\n",
        "PALU"
       ]
      },
      {
       "output_type": "stream",
       "stream": "stdout",
       "text": [
        " 86.9950699746 75 days, 23:25:00\n",
        "PALJ"
       ]
      },
      {
       "output_type": "stream",
       "stream": "stdout",
       "text": [
        " 51.8583015267 45 days, 6:57:00\n",
        "IPL"
       ]
      },
      {
       "output_type": "stream",
       "stream": "stdout",
       "text": [
        " 0.0477099236641 1:00:00\n",
        "IPT"
       ]
      },
      {
       "output_type": "stream",
       "stream": "stdout",
       "text": [
        " 69.8886768448 61 days, 0:52:00\n",
        "SFF"
       ]
      },
      {
       "output_type": "stream",
       "stream": "stdout",
       "text": [
        " 58.3691157761 50 days, 23:25:00\n",
        "PAPO"
       ]
      },
      {
       "output_type": "stream",
       "stream": "stdout",
       "text": [
        " 85.9096692112 75 days, 0:40:00\n",
        "PAPH"
       ]
      },
      {
       "output_type": "stream",
       "stream": "stdout",
       "text": [
        " 34.8600508906 30 days, 10:40:00\n",
        "PAPG"
       ]
      },
      {
       "output_type": "stream",
       "stream": "stdout",
       "text": [
        " 36.8249045802 32 days, 3:51:00\n",
        "NGU"
       ]
      },
      {
       "output_type": "stream",
       "stream": "stdout",
       "text": [
        " 16.3167938931 14 days, 6:00:00\n",
        "HDE"
       ]
      },
      {
       "output_type": "stream",
       "stream": "stdout",
       "text": [
        " 62.3338104326 54 days, 10:31:00\n",
        "HDN"
       ]
      },
      {
       "output_type": "stream",
       "stream": "stdout",
       "text": [
        " 84.3193384224 73 days, 15:20:00\n",
        "PAPR"
       ]
      },
      {
       "output_type": "stream",
       "stream": "stdout",
       "text": [
        " 96.3923346056 84 days, 4:23:00\n",
        "BMG"
       ]
      },
      {
       "output_type": "stream",
       "stream": "stdout",
       "text": [
        " 59.996024173 52 days, 9:31:00\n",
        "SZL"
       ]
      },
      {
       "output_type": "stream",
       "stream": "stdout",
       "text": [
        " 61.9696246819 54 days, 2:53:00\n",
        "BML"
       ]
      },
      {
       "output_type": "stream",
       "stream": "stdout",
       "text": [
        " 77.2566793893 67 days, 11:18:00\n",
        "SHR"
       ]
      },
      {
       "output_type": "stream",
       "stream": "stdout",
       "text": [
        " 64.2334605598 56 days, 2:20:00\n",
        "SHV"
       ]
      },
      {
       "output_type": "stream",
       "stream": "stdout",
       "text": [
        " 11.9227099237 10 days, 9:54:00\n",
        "SHD"
       ]
      },
      {
       "output_type": "stream",
       "stream": "stdout",
       "text": [
        " 41.4082379135 36 days, 3:55:00\n",
        "SHN"
       ]
      },
      {
       "output_type": "stream",
       "stream": "stdout",
       "text": [
        " 20.1272264631 17 days, 13:52:00\n",
        "MGE"
       ]
      },
      {
       "output_type": "stream",
       "stream": "stdout",
       "text": [
        " 19.9546755725 17 days, 10:15:00\n",
        "MGM"
       ]
      },
      {
       "output_type": "stream",
       "stream": "stdout",
       "text": [
        " 13.1838422392 11 days, 12:20:00\n",
        "MGR"
       ]
      },
      {
       "output_type": "stream",
       "stream": "stdout",
       "text": [
        " 1.70165394402 1 day, 11:40:00\n",
        "MGW"
       ]
      },
      {
       "output_type": "stream",
       "stream": "stdout",
       "text": [
        " 52.7592239186 46 days, 1:50:00\n",
        "TBN"
       ]
      },
      {
       "output_type": "stream",
       "stream": "stdout",
       "text": [
        " 51.6865458015 45 days, 3:21:00\n",
        "LUK"
       ]
      },
      {
       "output_type": "stream",
       "stream": "stdout",
       "text": [
        " 55.2639949109 48 days, 6:20:00\n",
        "GTB"
       ]
      },
      {
       "output_type": "stream",
       "stream": "stdout",
       "text": [
        " 77.9969783715 68 days, 2:49:00\n",
        "GTF"
       ]
      },
      {
       "output_type": "stream",
       "stream": "stdout",
       "text": [
        " 52.9500636132 46 days, 5:50:00\n",
        "RME"
       ]
      },
      {
       "output_type": "stream",
       "stream": "stdout",
       "text": [
        " 74.491889313 65 days, 1:21:00\n",
        "FTW"
       ]
      },
      {
       "output_type": "stream",
       "stream": "stdout",
       "text": [
        " 14.6389949109 12 days, 18:50:00\n",
        "TLH"
       ]
      },
      {
       "output_type": "stream",
       "stream": "stdout",
       "text": [
        " 3.89869592875 3 days, 9:43:00\n",
        "GCN"
       ]
      },
      {
       "output_type": "stream",
       "stream": "stdout",
       "text": [
        " 57.4451335878 50 days, 4:03:00\n",
        "HVN"
       ]
      },
      {
       "output_type": "stream",
       "stream": "stdout",
       "text": [
        " 51.0448473282 44 days, 13:54:00\n",
        "YKN"
       ]
      },
      {
       "output_type": "stream",
       "stream": "stdout",
       "text": [
        " 76.701653944 66 days, 23:40:00\n",
        "HVR"
       ]
      },
      {
       "output_type": "stream",
       "stream": "stdout",
       "text": [
        " 67.7290076336 59 days, 3:36:00\n",
        "CMX"
       ]
      },
      {
       "output_type": "stream",
       "stream": "stdout",
       "text": [
        " 95.3291984733 83 days, 6:06:00\n",
        "YKM"
       ]
      },
      {
       "output_type": "stream",
       "stream": "stdout",
       "text": [
        " 51.31043257 44 days, 19:28:00\n",
        "UCY"
       ]
      },
      {
       "output_type": "stream",
       "stream": "stdout",
       "text": [
        " 52.703562341 46 days, 0:40:00\n",
        "RBL"
       ]
      },
      {
       "output_type": "stream",
       "stream": "stdout",
       "text": [
        " 4.21676208651 3 days, 16:23:00\n",
        "RBG"
       ]
      },
      {
       "output_type": "stream",
       "stream": "stdout",
       "text": [
        " 9.6731870229 8 days, 10:45:00\n",
        "OTM"
       ]
      },
      {
       "output_type": "stream",
       "stream": "stdout",
       "text": [
        " 77.0825381679 67 days, 7:39:00\n",
        "LGA"
       ]
      },
      {
       "output_type": "stream",
       "stream": "stdout",
       "text": [
        " 44.5555025445 38 days, 21:53:00\n",
        "LGD"
       ]
      },
      {
       "output_type": "stream",
       "stream": "stdout",
       "text": [
        " 39.8377862595 34 days, 19:00:00\n",
        "OTG"
       ]
      },
      {
       "output_type": "stream",
       "stream": "stdout",
       "text": [
        " 85.1622137405 74 days, 9:00:00\n",
        "GSP"
       ]
      },
      {
       "output_type": "stream",
       "stream": "stdout",
       "text": [
        " 17.1723918575 14 days, 23:56:00\n",
        "AXN"
       ]
      },
      {
       "output_type": "stream",
       "stream": "stdout",
       "text": [
        " 94.0807888041 82 days, 3:56:00\n",
        "IWD"
       ]
      },
      {
       "output_type": "stream",
       "stream": "stdout",
       "text": [
        " 94.3543256997 82 days, 9:40:00\n",
        "IWA"
       ]
      },
      {
       "output_type": "stream",
       "stream": "stdout",
       "text": [
        " 0.168575063613 3:32:00\n",
        "BOS"
       ]
      },
      {
       "output_type": "stream",
       "stream": "stdout",
       "text": [
        " 52.4713740458 45 days, 19:48:00\n",
        "OFF"
       ]
      },
      {
       "output_type": "stream",
       "stream": "stdout",
       "text": [
        " 76.141062341 66 days, 11:55:00\n",
        "IAH"
       ]
      },
      {
       "output_type": "stream",
       "stream": "stdout",
       "text": [
        " 3.50429389313 3 days, 1:27:00\n",
        "IAD"
       ]
      },
      {
       "output_type": "stream",
       "stream": "stdout",
       "text": [
        " 45.4874363868 39 days, 17:25:00\n",
        "IAB"
       ]
      },
      {
       "output_type": "stream",
       "stream": "stdout",
       "text": [
        " 51.7040394402 45 days, 3:43:00\n",
        "BOW"
       ]
      },
      {
       "output_type": "stream",
       "stream": "stdout",
       "text": [
        " 0.015903307888 0:20:00\n",
        "PHL"
       ]
      },
      {
       "output_type": "stream",
       "stream": "stdout",
       "text": [
        " 43.3428753181 37 days, 20:28:00\n",
        "PHF"
       ]
      },
      {
       "output_type": "stream",
       "stream": "stdout",
       "text": [
        " 15.5836513995 13 days, 14:38:00\n",
        "PHP"
       ]
      },
      {
       "output_type": "stream",
       "stream": "stdout",
       "text": [
        " 68.8430343511 60 days, 2:57:00\n",
        "SKF"
       ]
      },
      {
       "output_type": "stream",
       "stream": "stdout",
       "text": [
        " 6.21024173028 5 days, 10:10:00\n",
        "SKA"
       ]
      },
      {
       "output_type": "stream",
       "stream": "stdout",
       "text": [
        " 70.2759223919 61 days, 8:59:00\n",
        "MFD"
       ]
      },
      {
       "output_type": "stream",
       "stream": "stdout",
       "text": [
        " 70.3641857506 61 days, 10:50:00\n",
        "TCS"
       ]
      },
      {
       "output_type": "stream",
       "stream": "stdout",
       "text": [
        " 12.5071564885 10 days, 22:09:00\n",
        "MFR"
       ]
      },
      {
       "output_type": "stream",
       "stream": "stdout",
       "text": [
        " 30.2989821883 26 days, 11:04:00\n",
        "TCM"
       ]
      },
      {
       "output_type": "stream",
       "stream": "stdout",
       "text": [
        " 18.6720737913 16 days, 7:22:00\n",
        "GEG"
       ]
      },
      {
       "output_type": "stream",
       "stream": "stdout",
       "text": [
        " 70.2759223919 61 days, 8:59:00\n",
        "TCC"
       ]
      },
      {
       "output_type": "stream",
       "stream": "stdout",
       "text": [
        " 34.179389313 29 days, 20:24:00\n",
        "MHK"
       ]
      },
      {
       "output_type": "stream",
       "stream": "stdout",
       "text": [
        " 62.5477099237 54 days, 15:00:00\n",
        "MHE"
       ]
      },
      {
       "output_type": "stream",
       "stream": "stdout",
       "text": [
        " 80.0166984733 69 days, 21:09:00\n",
        "MHT"
       ]
      },
      {
       "output_type": "stream",
       "stream": "stdout",
       "text": [
        " 67.3616412214 58 days, 19:54:00\n",
        "MHR"
       ]
      },
      {
       "output_type": "stream",
       "stream": "stdout",
       "text": [
        " 5.41428117048 4 days, 17:29:00\n",
        "MHS"
       ]
      },
      {
       "output_type": "stream",
       "stream": "stdout",
       "text": [
        " 32.6677798982 28 days, 12:43:00\n",
        "AND"
       ]
      },
      {
       "output_type": "stream",
       "stream": "stdout",
       "text": [
        " 17.0936704835 14 days, 22:17:00\n",
        "PAAQ"
       ]
      },
      {
       "output_type": "stream",
       "stream": "stdout",
       "text": [
        " 79.9562659033 69 days, 19:53:00\n",
        "ANB"
       ]
      },
      {
       "output_type": "stream",
       "stream": "stdout",
       "text": [
        " 19.0593193384 16 days, 15:29:00\n",
        "ANJ"
       ]
      },
      {
       "output_type": "stream",
       "stream": "stdout",
       "text": [
        " 93.1154580153 81 days, 7:42:00\n",
        "ANW"
       ]
      },
      {
       "output_type": "stream",
       "stream": "stdout",
       "text": [
        " 65.2162849873 56 days, 22:56:00\n",
        "PAAK"
       ]
      },
      {
       "output_type": "stream",
       "stream": "stdout",
       "text": [
        " 14.5038167939 12 days, 16:00:00\n",
        "GWO"
       ]
      },
      {
       "output_type": "stream",
       "stream": "stdout",
       "text": [
        " 22.556456743 19 days, 16:47:00\n",
        "NJK"
       ]
      },
      {
       "output_type": "stream",
       "stream": "stdout",
       "text": [
        " 0.0954198473282 2:00:00\n",
        "HWD"
       ]
      },
      {
       "output_type": "stream",
       "stream": "stdout",
       "text": [
        " 0.429389312977 9:00:00\n",
        "PAWI"
       ]
      },
      {
       "output_type": "stream",
       "stream": "stdout",
       "text": [
        " 85.2639949109 74 days, 11:08:00\n",
        "HEQ"
       ]
      },
      {
       "output_type": "stream",
       "stream": "stdout",
       "text": [
        " 50.5168575064 44 days, 2:50:00\n",
        "PAWD"
       ]
      },
      {
       "output_type": "stream",
       "stream": "stdout",
       "text": [
        " 52.8610050891 46 days, 3:58:00\n",
        "HEZ"
       ]
      },
      {
       "output_type": "stream",
       "stream": "stdout",
       "text": [
        " 16.0941475827 14 days, 1:20:00\n",
        "PAWG"
       ]
      },
      {
       "output_type": "stream",
       "stream": "stdout",
       "text": [
        " 31.0694974555 27 days, 3:13:00\n",
        "PPIZ"
       ]
      },
      {
       "output_type": "stream",
       "stream": "stdout",
       "text": [
        " 97.8419211196 85 days, 10:46:00\n",
        "HYA"
       ]
      },
      {
       "output_type": "stream",
       "stream": "stdout",
       "text": [
        " 44.6541030534 38 days, 23:57:00\n",
        "HYI"
       ]
      },
      {
       "output_type": "stream",
       "stream": "stdout",
       "text": [
        " 10.2313931298 8 days, 22:27:00\n",
        "CBM"
       ]
      },
      {
       "output_type": "stream",
       "stream": "stdout",
       "text": [
        " 23.0128816794 20 days, 2:21:00\n",
        "RCA"
       ]
      },
      {
       "output_type": "stream",
       "stream": "stdout",
       "text": [
        " 63.3977417303 55 days, 8:49:00\n",
        "FAY"
       ]
      },
      {
       "output_type": "stream",
       "stream": "stdout",
       "text": [
        " 15.0135178117 13 days, 2:41:00\n",
        "FAR"
       ]
      },
      {
       "output_type": "stream",
       "stream": "stdout",
       "text": [
        " 95.5224236641 83 days, 10:09:00\n",
        "OWD"
       ]
      },
      {
       "output_type": "stream",
       "stream": "stdout",
       "text": [
        " 57.9468829517 50 days, 14:34:00\n",
        "FAT"
       ]
      },
      {
       "output_type": "stream",
       "stream": "stdout",
       "text": [
        " 1.38358778626 1 day, 5:00:00\n",
        "OWB"
       ]
      },
      {
       "output_type": "stream",
       "stream": "stdout",
       "text": [
        " 54.8258587786 47 days, 21:09:00\n",
        "FAF"
       ]
      },
      {
       "output_type": "stream",
       "stream": "stdout",
       "text": [
        " 19.2453880407 16 days, 19:23:00\n",
        "LVS"
       ]
      },
      {
       "output_type": "stream",
       "stream": "stdout",
       "text": [
        " 41.6706424936 36 days, 9:25:00\n",
        "LVM"
       ]
      },
      {
       "output_type": "stream",
       "stream": "stdout",
       "text": [
        " 46.5760178117 40 days, 16:14:00\n",
        "LVK"
       ]
      },
      {
       "output_type": "stream",
       "stream": "stdout",
       "text": [
        " 2.00381679389 1 day, 18:00:00\n",
        "POU"
       ]
      },
      {
       "output_type": "stream",
       "stream": "stdout",
       "text": [
        " 63.8549618321 55 days, 18:24:00\n",
        "OAK"
       ]
      },
      {
       "output_type": "stream",
       "stream": "stdout",
       "text": [
        " 0.238549618321 5:00:00\n",
        "CCR"
       ]
      },
      {
       "output_type": "stream",
       "stream": "stdout",
       "text": [
        " 2.81488549618 2 days, 11:00:00\n",
        "PIH"
       ]
      },
      {
       "output_type": "stream",
       "stream": "stdout",
       "text": [
        " 60.6615776081 52 days, 23:28:00\n",
        "MYR"
       ]
      },
      {
       "output_type": "stream",
       "stream": "stdout",
       "text": [
        " 8.76033715013 7 days, 15:37:00\n",
        "MYV"
       ]
      },
      {
       "output_type": "stream",
       "stream": "stdout",
       "text": [
        " 4.86084605598 4 days, 5:53:00\n",
        "PIR"
       ]
      },
      {
       "output_type": "stream",
       "stream": "stdout",
       "text": [
        " 78.0438931298 68 days, 3:48:00\n",
        "PIT"
       ]
      },
      {
       "output_type": "stream",
       "stream": "stdout",
       "text": [
        " 59.9928435115 52 days, 9:27:00\n",
        "WMC"
       ]
      },
      {
       "output_type": "stream",
       "stream": "stdout",
       "text": [
        " 54.375 47 days, 11:42:00\n",
        "MWS"
       ]
      },
      {
       "output_type": "stream",
       "stream": "stdout",
       "text": [
        " 3.14885496183 2 days, 18:00:00\n",
        "GJT"
       ]
      },
      {
       "output_type": "stream",
       "stream": "stdout",
       "text": [
        " 73.6299300254 64 days, 7:17:00\n",
        "DET"
       ]
      },
      {
       "output_type": "stream",
       "stream": "stdout",
       "text": [
        " 73.1599872774 63 days, 21:26:00\n",
        "SMF"
       ]
      },
      {
       "output_type": "stream",
       "stream": "stdout",
       "text": [
        " 6.3072519084 5 days, 12:12:00\n",
        "MWN"
       ]
      },
      {
       "output_type": "stream",
       "stream": "stdout",
       "text": [
        " 93.7531806616 81 days, 21:04:00\n",
        "MWL"
       ]
      },
      {
       "output_type": "stream",
       "stream": "stdout",
       "text": [
        " 26.5545483461 23 days, 4:35:00\n",
        "AMA"
       ]
      },
      {
       "output_type": "stream",
       "stream": "stdout",
       "text": [
        " 41.50206743 36 days, 5:53:00\n",
        "AMG"
       ]
      },
      {
       "output_type": "stream",
       "stream": "stdout",
       "text": [
        " 5.11768447837 4 days, 11:16:00\n",
        "ACB"
       ]
      },
      {
       "output_type": "stream",
       "stream": "stdout",
       "text": [
        " 88.2776717557 77 days, 2:18:00\n",
        "NEL"
       ]
      },
      {
       "output_type": "stream",
       "stream": "stdout",
       "text": [
        " 48.7142175573 42 days, 13:03:00\n",
        "ACV"
       ]
      },
      {
       "output_type": "stream",
       "stream": "stdout",
       "text": [
        " 3.64185750636 3 days, 4:20:00\n",
        "ACT"
       ]
      },
      {
       "output_type": "stream",
       "stream": "stdout",
       "text": [
        " 17.2002226463 15 days, 0:31:00\n",
        "NEW"
       ]
      },
      {
       "output_type": "stream",
       "stream": "stdout",
       "text": [
        " 2.29007633588 2 days, 0:00:00\n",
        "ACY"
       ]
      },
      {
       "output_type": "stream",
       "stream": "stdout",
       "text": [
        " 43.5170165394 38 days, 0:07:00\n",
        "HFD"
       ]
      },
      {
       "output_type": "stream",
       "stream": "stdout",
       "text": [
        " 57.2670165394 50 days, 0:19:00\n",
        "BKE"
       ]
      },
      {
       "output_type": "stream",
       "stream": "stdout",
       "text": [
        " 72.8005725191 63 days, 13:54:00\n",
        "BKF"
       ]
      },
      {
       "output_type": "stream",
       "stream": "stdout",
       "text": [
        " 47.7019720102 41 days, 15:50:00\n",
        "BKL"
       ]
      },
      {
       "output_type": "stream",
       "stream": "stdout",
       "text": [
        " 53.1647582697 46 days, 10:20:00\n",
        "GGG"
       ]
      },
      {
       "output_type": "stream",
       "stream": "stdout",
       "text": [
        " 12.3847010178 10 days, 19:35:00\n",
        "BKW"
       ]
      },
      {
       "output_type": "stream",
       "stream": "stdout",
       "text": [
        " 49.4036259542 43 days, 3:30:00\n",
        "COT"
       ]
      },
      {
       "output_type": "stream",
       "stream": "stdout",
       "text": [
        " 1.79945928753 1 day, 13:43:00\n",
        "OTH"
       ]
      },
      {
       "output_type": "stream",
       "stream": "stdout",
       "text": [
        " 3.92811704835 3 days, 10:20:00\n",
        "SJT"
       ]
      },
      {
       "output_type": "stream",
       "stream": "stdout",
       "text": [
        " 21.7414122137 18 days, 23:42:00\n",
        "SJC"
       ]
      },
      {
       "output_type": "stream",
       "stream": "stdout",
       "text": [
        " 0.993956743003 20:50:00\n",
        "GDP"
       ]
      },
      {
       "output_type": "stream",
       "stream": "stdout",
       "text": [
        " 9.61275445293 8 days, 9:29:00\n",
        "GDV"
       ]
      },
      {
       "output_type": "stream",
       "stream": "stdout",
       "text": [
        " 70.9446564885 61 days, 23:00:00\n",
        "MEB"
       ]
      },
      {
       "output_type": "stream",
       "stream": "stdout",
       "text": [
        " 18.7022900763 16 days, 8:00:00\n",
        "MEM"
       ]
      },
      {
       "output_type": "stream",
       "stream": "stdout",
       "text": [
        " 28.723759542 25 days, 2:03:00\n",
        "MEI"
       ]
      },
      {
       "output_type": "stream",
       "stream": "stdout",
       "text": [
        " 20.2663804071 17 days, 16:47:00\n",
        "MEH"
       ]
      },
      {
       "output_type": "stream",
       "stream": "stdout",
       "text": [
        " 52.3926526718 45 days, 18:09:00\n",
        "LWS"
       ]
      },
      {
       "output_type": "stream",
       "stream": "stdout",
       "text": [
        " 38.4104643766 33 days, 13:05:00\n",
        "YNG"
       ]
      },
      {
       "output_type": "stream",
       "stream": "stdout",
       "text": [
        " 68.9845737913 60 days, 5:55:00\n",
        "LWT"
       ]
      },
      {
       "output_type": "stream",
       "stream": "stdout",
       "text": [
        " 62.360846056 54 days, 11:05:00\n",
        "LWB"
       ]
      },
      {
       "output_type": "stream",
       "stream": "stdout",
       "text": [
        " 59.3869274809 51 days, 20:45:00\n",
        "LWD"
       ]
      },
      {
       "output_type": "stream",
       "stream": "stdout",
       "text": [
        " 76.2046755725 66 days, 13:15:00\n",
        "TXK"
       ]
      },
      {
       "output_type": "stream",
       "stream": "stdout",
       "text": [
        " 18.3214058524 16 days, 0:01:00\n",
        "NKT"
       ]
      },
      {
       "output_type": "stream",
       "stream": "stdout",
       "text": [
        " 12.5723600509 10 days, 23:31:00\n",
        "ROC"
       ]
      },
      {
       "output_type": "stream",
       "stream": "stdout",
       "text": [
        " 69.1595101781 60 days, 9:35:00\n",
        "AUW"
       ]
      },
      {
       "output_type": "stream",
       "stream": "stdout",
       "text": [
        " 94.5149491094 82 days, 13:02:00\n",
        "CPR"
       ]
      },
      {
       "output_type": "stream",
       "stream": "stdout",
       "text": [
        " 67.6884541985 59 days, 2:45:00\n",
        "CPW"
       ]
      },
      {
       "output_type": "stream",
       "stream": "stdout",
       "text": [
        " 91.9338422392 80 days, 6:56:00\n",
        "WRB"
       ]
      },
      {
       "output_type": "stream",
       "stream": "stdout",
       "text": [
        " 10.6576017812 9 days, 7:23:00\n",
        "WRL"
       ]
      },
      {
       "output_type": "stream",
       "stream": "stdout",
       "text": [
        " 87.4713740458 76 days, 9:24:00\n",
        "LAN"
       ]
      },
      {
       "output_type": "stream",
       "stream": "stdout",
       "text": [
        " 80.9891857506 70 days, 17:32:00\n",
        "LAF"
       ]
      },
      {
       "output_type": "stream",
       "stream": "stdout",
       "text": [
        " 72.7926208651 63 days, 13:44:00\n",
        "FFO"
       ]
      },
      {
       "output_type": "stream",
       "stream": "stdout",
       "text": [
        " 63.0582061069 55 days, 1:42:00\n",
        "LAR"
       ]
      },
      {
       "output_type": "stream",
       "stream": "stdout",
       "text": [
        " 71.536259542 62 days, 11:24:00\n",
        "LAS"
       ]
      },
      {
       "output_type": "stream",
       "stream": "stdout",
       "text": [
        " 1.62213740458 1 day, 10:00:00\n",
        "PAGS"
       ]
      },
      {
       "output_type": "stream",
       "stream": "stdout",
       "text": [
        " 43.463740458 37 days, 23:00:00\n",
        "NTU"
       ]
      },
      {
       "output_type": "stream",
       "stream": "stdout",
       "text": [
        " 19.0052480916 16 days, 14:21:00\n",
        "UOX"
       ]
      },
      {
       "output_type": "stream",
       "stream": "stdout",
       "text": [
        " 30.5979643766 26 days, 17:20:00\n",
        "DTW"
       ]
      },
      {
       "output_type": "stream",
       "stream": "stdout",
       "text": [
        " 76.3191793893 66 days, 15:39:00\n",
        "SBA"
       ]
      },
      {
       "output_type": "stream",
       "stream": "stdout",
       "text": [
        " 0.143129770992 3:00:00\n",
        "BDL"
       ]
      },
      {
       "output_type": "stream",
       "stream": "stdout",
       "text": [
        " 64.2406170483 56 days, 2:29:00\n",
        "FTY"
       ]
      },
      {
       "output_type": "stream",
       "stream": "stdout",
       "text": [
        " 20.2131043257 17 days, 15:40:00\n",
        "ALW"
       ]
      },
      {
       "output_type": "stream",
       "stream": "stdout",
       "text": [
        " 46.6905216285 40 days, 18:38:00\n",
        "FTK"
       ]
      },
      {
       "output_type": "stream",
       "stream": "stdout",
       "text": [
        " 50.2131043257 43 days, 20:28:00\n",
        "CBK"
       ]
      },
      {
       "output_type": "stream",
       "stream": "stdout",
       "text": [
        " 55.7092875318 48 days, 15:40:00\n",
        "MXF"
       ]
      },
      {
       "output_type": "stream",
       "stream": "stdout",
       "text": [
        " 13.489980916 11 days, 18:45:00\n",
        "SMX"
       ]
      },
      {
       "output_type": "stream",
       "stream": "stdout",
       "text": [
        " 0.858778625954 18:00:00\n",
        "SMP"
       ]
      },
      {
       "output_type": "stream",
       "stream": "stdout",
       "text": [
        " 9.57458651399 8 days, 8:41:00\n",
        "SMN"
       ]
      },
      {
       "output_type": "stream",
       "stream": "stdout",
       "text": [
        " 83.8899491094 73 days, 6:20:00\n",
        "BZN"
       ]
      },
      {
       "output_type": "stream",
       "stream": "stdout",
       "text": [
        " 68.128975827 59 days, 11:59:00\n",
        "GGW"
       ]
      },
      {
       "output_type": "stream",
       "stream": "stdout",
       "text": [
        " 82.503975827 72 days, 1:17:00\n",
        "JST"
       ]
      },
      {
       "output_type": "stream",
       "stream": "stdout",
       "text": [
        " 69.8624363868 61 days, 0:19:00\n",
        "MDT"
       ]
      },
      {
       "output_type": "stream",
       "stream": "stdout",
       "text": [
        " 58.5042938931 51 days, 2:15:00\n",
        "MVY"
       ]
      },
      {
       "output_type": "stream",
       "stream": "stdout",
       "text": [
        " 39.7598600509 34 days, 17:22:00\n",
        "MQY"
       ]
      },
      {
       "output_type": "stream",
       "stream": "stdout",
       "text": [
        " 16.7286895674 14 days, 14:38:00\n",
        "JEF"
       ]
      },
      {
       "output_type": "stream",
       "stream": "stdout",
       "text": [
        " 60.3117048346 52 days, 16:08:00\n",
        "IGM"
       ]
      },
      {
       "output_type": "stream",
       "stream": "stdout",
       "text": [
        " 11.8320610687 10 days, 8:00:00\n",
        "LRD"
       ]
      },
      {
       "output_type": "stream",
       "stream": "stdout",
       "text": [
        " 0.601940203562 12:37:00\n",
        "ALO"
       ]
      },
      {
       "output_type": "stream",
       "stream": "stdout",
       "text": [
        " 88.3015267176 77 days, 2:48:00\n",
        "ALI"
       ]
      },
      {
       "output_type": "stream",
       "stream": "stdout",
       "text": [
        " 0.738708651399 15:29:00\n",
        "ALB"
       ]
      },
      {
       "output_type": "stream",
       "stream": "stdout",
       "text": [
        " 69.431456743 60 days, 15:17:00\n",
        "PAGK"
       ]
      },
      {
       "output_type": "stream",
       "stream": "stdout",
       "text": [
        " 90.3419211196 78 days, 21:34:00\n",
        "PAGM"
       ]
      },
      {
       "output_type": "stream",
       "stream": "stdout",
       "text": [
        " 81.1704834606 70 days, 21:20:00\n",
        "PAGA"
       ]
      },
      {
       "output_type": "stream",
       "stream": "stdout",
       "text": [
        " 95.2075381679 83 days, 3:33:00\n",
        "ALS"
       ]
      },
      {
       "output_type": "stream",
       "stream": "stdout",
       "text": [
        " 85.6917938931 74 days, 20:06:00\n",
        "HTL"
       ]
      },
      {
       "output_type": "stream",
       "stream": "stdout",
       "text": [
        " 90.4134860051 78 days, 23:04:00\n",
        "TOP"
       ]
      },
      {
       "output_type": "stream",
       "stream": "stdout",
       "text": [
        " 59.6731870229 52 days, 2:45:00\n",
        "TOI"
       ]
      },
      {
       "output_type": "stream",
       "stream": "stdout",
       "text": [
        " 13.9678753181 12 days, 4:46:00\n",
        "TOL"
       ]
      },
      {
       "output_type": "stream",
       "stream": "stdout",
       "text": [
        " 75.5916030534 66 days, 0:24:00\n",
        "NHK"
       ]
      },
      {
       "output_type": "stream",
       "stream": "stdout",
       "text": [
        " 31.8821564885 27 days, 20:15:00\n",
        "ERI"
       ]
      },
      {
       "output_type": "stream",
       "stream": "stdout",
       "text": [
        " 67.5691793893 59 days, 0:15:00\n",
        "HIB"
       ]
      },
      {
       "output_type": "stream",
       "stream": "stdout",
       "text": [
        " 95.3856552163 83 days, 7:17:00\n",
        "HIF"
       ]
      },
      {
       "output_type": "stream",
       "stream": "stdout",
       "text": [
        " 61.2372773537 53 days, 11:32:00\n",
        "OFK"
       ]
      },
      {
       "output_type": "stream",
       "stream": "stdout",
       "text": [
        " 72.8530534351 63 days, 15:00:00\n",
        "IAG"
       ]
      },
      {
       "output_type": "stream",
       "stream": "stdout",
       "text": [
        " 73.2967557252 64 days, 0:18:00\n",
        "HIO"
       ]
      },
      {
       "output_type": "stream",
       "stream": "stdout",
       "text": [
        " 27.2153307888 23 days, 18:26:00\n",
        "ABE"
       ]
      },
      {
       "output_type": "stream",
       "stream": "stdout",
       "text": [
        " 62.0610687023 54 days, 4:48:00\n",
        "ABI"
       ]
      },
      {
       "output_type": "stream",
       "stream": "stdout",
       "text": [
        " 24.9554707379 21 days, 19:04:00\n",
        "HGR"
       ]
      },
      {
       "output_type": "stream",
       "stream": "stdout",
       "text": [
        " 53.3707061069 46 days, 14:39:00\n",
        "ABQ"
       ]
      },
      {
       "output_type": "stream",
       "stream": "stdout",
       "text": [
        " 25.022264631 21 days, 20:28:00\n",
        "ABR"
       ]
      },
      {
       "output_type": "stream",
       "stream": "stdout",
       "text": [
        " 90.108937659 78 days, 16:41:00\n",
        "PAUN"
       ]
      },
      {
       "output_type": "stream",
       "stream": "stdout",
       "text": [
        " 84.8282442748 74 days, 2:00:00\n",
        "BHM"
       ]
      },
      {
       "output_type": "stream",
       "stream": "stdout",
       "text": [
        " 18.9066475827 16 days, 12:17:00\n",
        "EGI"
       ]
      },
      {
       "output_type": "stream",
       "stream": "stdout",
       "text": [
        " 9.31695292621 8 days, 3:17:00\n",
        "EGE"
       ]
      },
      {
       "output_type": "stream",
       "stream": "stdout",
       "text": [
        " 75.6218193384 66 days, 1:02:00\n",
        "OQU"
       ]
      },
      {
       "output_type": "stream",
       "stream": "stdout",
       "text": [
        " 52.191475827 45 days, 13:56:00\n",
        "LBT"
       ]
      },
      {
       "output_type": "stream",
       "stream": "stdout",
       "text": [
        " 14.6779580153 12 days, 19:39:00\n",
        "LBB"
       ]
      },
      {
       "output_type": "stream",
       "stream": "stdout",
       "text": [
        " 35.4118956743 30 days, 22:14:00\n",
        "LBE"
       ]
      },
      {
       "output_type": "stream",
       "stream": "stdout",
       "text": [
        " 46.3819974555 40 days, 12:10:00\n",
        "RAP"
       ]
      },
      {
       "output_type": "stream",
       "stream": "stdout",
       "text": [
        " 65.8969465649 57 days, 13:12:00\n",
        "LBF"
       ]
      },
      {
       "output_type": "stream",
       "stream": "stdout",
       "text": [
        " 69.7288486005 60 days, 21:31:00\n",
        "LBL"
       ]
      },
      {
       "output_type": "stream",
       "stream": "stdout",
       "text": [
        " 59.1284987277 51 days, 15:20:00\n",
        "BFF"
       ]
      },
      {
       "output_type": "stream",
       "stream": "stdout",
       "text": [
        " 57.7552480916 50 days, 10:33:00\n",
        "BFI"
       ]
      },
      {
       "output_type": "stream",
       "stream": "stdout",
       "text": [
        " 8.06297709924 7 days, 1:00:00\n",
        "BFM"
       ]
      },
      {
       "output_type": "stream",
       "stream": "stdout",
       "text": [
        " 6.06154580153 5 days, 7:03:00\n",
        "BFL"
       ]
      },
      {
       "output_type": "stream",
       "stream": "stdout",
       "text": [
        " 1.47900763359 1 day, 7:00:00\n",
        "VIH"
       ]
      },
      {
       "output_type": "stream",
       "stream": "stdout",
       "text": [
        " 58.9098282443 51 days, 10:45:00\n",
        "VIS"
       ]
      },
      {
       "output_type": "stream",
       "stream": "stdout",
       "text": [
        " 3.94402035623 3 days, 10:40:00\n",
        "TYR"
       ]
      },
      {
       "output_type": "stream",
       "stream": "stdout",
       "text": [
        " 13.3198155216 11 days, 15:11:00\n",
        "TYS"
       ]
      },
      {
       "output_type": "stream",
       "stream": "stdout",
       "text": [
        " 27.0912849873 23 days, 15:50:00\n",
        "OCF"
       ]
      },
      {
       "output_type": "stream",
       "stream": "stdout",
       "text": [
        " 1.31599872774 1 day, 3:35:00\n",
        "CEF"
       ]
      },
      {
       "output_type": "stream",
       "stream": "stdout",
       "text": [
        " 67.2121501272 58 days, 16:46:00\n",
        "CEC"
       ]
      },
      {
       "output_type": "stream",
       "stream": "stdout",
       "text": [
        " 0.620229007634 13:00:00\n",
        "CEW"
       ]
      },
      {
       "output_type": "stream",
       "stream": "stdout",
       "text": [
        " 10.0532760814 8 days, 18:43:00\n",
        "CEZ"
       ]
      },
      {
       "output_type": "stream",
       "stream": "stdout",
       "text": [
        " 60.6178435115 52 days, 22:33:00\n",
        "CEY"
       ]
      },
      {
       "output_type": "stream",
       "stream": "stdout",
       "text": [
        " 42.6049618321 37 days, 5:00:00\n",
        "CSM"
       ]
      },
      {
       "output_type": "stream",
       "stream": "stdout",
       "text": [
        " 43.1257951654 37 days, 15:55:00\n",
        "CSG"
       ]
      },
      {
       "output_type": "stream",
       "stream": "stdout",
       "text": [
        " 11.4941157761 10 days, 0:55:00\n",
        "CSV"
       ]
      },
      {
       "output_type": "stream",
       "stream": "stdout",
       "text": [
        " 37.8458969466 33 days, 1:15:00\n",
        "JBR"
       ]
      },
      {
       "output_type": "stream",
       "stream": "stdout",
       "text": [
        " 39.3519402036 34 days, 8:49:00\n",
        "MUO"
       ]
      },
      {
       "output_type": "stream",
       "stream": "stdout",
       "text": [
        " 56.2730597964 49 days, 3:29:00\n",
        "AST"
       ]
      },
      {
       "output_type": "stream",
       "stream": "stdout",
       "text": [
        " 11.4416348601 9 days, 23:49:00\n",
        "NUQ"
       ]
      },
      {
       "output_type": "stream",
       "stream": "stdout",
       "text": [
        " 0.286259541985 6:00:00\n",
        "PAFK"
       ]
      },
      {
       "output_type": "stream",
       "stream": "stdout",
       "text": [
        " 70.7888040712 61 days, 19:44:00\n",
        "ASE"
       ]
      },
      {
       "output_type": "stream",
       "stream": "stdout",
       "text": [
        " 81.7835559796 71 days, 10:11:00\n",
        "PAFA"
       ]
      },
      {
       "output_type": "stream",
       "stream": "stdout",
       "text": [
        " 97.6948155216 85 days, 7:41:00\n",
        "DUJ"
       ]
      },
      {
       "output_type": "stream",
       "stream": "stdout",
       "text": [
        " 69.7606552163 60 days, 22:11:00\n",
        "DUG"
       ]
      },
      {
       "output_type": "stream",
       "stream": "stdout",
       "text": [
        " 13.358778626 11 days, 16:00:00\n",
        "UNO"
       ]
      },
      {
       "output_type": "stream",
       "stream": "stdout",
       "text": [
        " 49.5729961832 43 days, 7:03:00\n",
        "OMA"
       ]
      },
      {
       "output_type": "stream",
       "stream": "stdout",
       "text": [
        " 75.6106870229 66 days, 0:48:00\n",
        "ITH"
       ]
      },
      {
       "output_type": "stream",
       "stream": "stdout",
       "text": [
        " 70.1359732824 61 days, 6:03:00\n",
        "OMH"
       ]
      },
      {
       "output_type": "stream",
       "stream": "stdout",
       "text": [
        " 22.0380089059 19 days, 5:55:00\n",
        "RDU"
       ]
      },
      {
       "output_type": "stream",
       "stream": "stdout",
       "text": [
        " 20.5152671756 17 days, 22:00:00\n",
        "AAF"
       ]
      },
      {
       "output_type": "stream",
       "stream": "stdout",
       "text": [
        " 1.46708015267 1 day, 6:45:00\n",
        "PATA"
       ]
      },
      {
       "output_type": "stream",
       "stream": "stdout",
       "text": [
        " 99.0314885496 86 days, 11:42:00\n",
        "PATC"
       ]
      },
      {
       "output_type": "stream",
       "stream": "stdout",
       "text": [
        " 92.6121183206 80 days, 21:09:00\n",
        "PATK"
       ]
      },
      {
       "output_type": "stream",
       "stream": "stdout",
       "text": [
        " 80.4969783715 70 days, 7:13:00\n",
        "PATL"
       ]
      },
      {
       "output_type": "stream",
       "stream": "stdout",
       "text": [
        " 90.3562340967 78 days, 21:52:00\n",
        "BIH"
       ]
      },
      {
       "output_type": "stream",
       "stream": "stdout",
       "text": [
        " 28.5782442748 24 days, 23:00:00\n",
        "BID"
       ]
      },
      {
       "output_type": "stream",
       "stream": "stdout",
       "text": [
        " 38.6609414758 33 days, 18:20:00\n",
        "BIX"
       ]
      },
      {
       "output_type": "stream",
       "stream": "stdout",
       "text": [
        " 6.00747455471 5 days, 5:55:00\n",
        "BIS"
       ]
      },
      {
       "output_type": "stream",
       "stream": "stdout",
       "text": [
        " 86.0082697201 75 days, 2:44:00\n",
        "SLN"
       ]
      },
      {
       "output_type": "stream",
       "stream": "stdout",
       "text": [
        " 58.3691157761 50 days, 23:25:00\n",
        "SLO"
       ]
      },
      {
       "output_type": "stream",
       "stream": "stdout",
       "text": [
        " 55.2798982188 48 days, 6:40:00\n",
        "NCA"
       ]
      },
      {
       "output_type": "stream",
       "stream": "stdout",
       "text": [
        " 10.7617684478 9 days, 9:34:00\n",
        "SLE"
       ]
      },
      {
       "output_type": "stream",
       "stream": "stdout",
       "text": [
        " 17.5445292621 15 days, 7:44:00\n",
        "MCN"
       ]
      },
      {
       "output_type": "stream",
       "stream": "stdout",
       "text": [
        " 14.5555025445 12 days, 17:05:00\n",
        "MCK"
       ]
      },
      {
       "output_type": "stream",
       "stream": "stdout",
       "text": [
        " 61.8010496183 53 days, 23:21:00\n",
        "MCC"
       ]
      },
      {
       "output_type": "stream",
       "stream": "stdout",
       "text": [
        " 3.18066157761 2 days, 18:40:00\n",
        "GFK"
       ]
      },
      {
       "output_type": "stream",
       "stream": "stdout",
       "text": [
        " 97.1954516539 84 days, 21:13:00\n",
        "GFL"
       ]
      },
      {
       "output_type": "stream",
       "stream": "stdout",
       "text": [
        " 74.9840966921 65 days, 11:40:00\n",
        "MCW"
       ]
      },
      {
       "output_type": "stream",
       "stream": "stdout",
       "text": [
        " 89.0108142494 77 days, 17:40:00\n",
        "GFA"
       ]
      },
      {
       "output_type": "stream",
       "stream": "stdout",
       "text": [
        " 51.588740458 45 days, 1:18:00\n",
        "BGM"
       ]
      },
      {
       "output_type": "stream",
       "stream": "stdout",
       "text": [
        " 72.8299936387 63 days, 14:31:00\n",
        "BGR"
       ]
      },
      {
       "output_type": "stream",
       "stream": "stdout",
       "text": [
        " 76.3319020356 66 days, 15:55:00\n",
        "TCL"
       ]
      },
      {
       "output_type": "stream",
       "stream": "stdout",
       "text": [
        " 18.177480916 15 days, 21:00:00\n",
        "W99"
       ]
      },
      {
       "output_type": "stream",
       "stream": "stdout",
       "text": [
        " 28.7849872774 25 days, 3:20:00\n",
        "GPT"
       ]
      },
      {
       "output_type": "stream",
       "stream": "stdout",
       "text": [
        " 5.29580152672 4 days, 15:00:00\n",
        "NID"
       ]
      },
      {
       "output_type": "stream",
       "stream": "stdout",
       "text": [
        " 14.0267175573 12 days, 6:00:00\n",
        "CRP"
       ]
      },
      {
       "output_type": "stream",
       "stream": "stdout",
       "text": [
        " 0.407124681934 8:32:00\n",
        "CRW"
       ]
      },
      {
       "output_type": "stream",
       "stream": "stdout",
       "text": [
        " 43.6824109415 38 days, 3:35:00\n",
        "CRE"
       ]
      },
      {
       "output_type": "stream",
       "stream": "stdout",
       "text": [
        " 9.98886768448 8 days, 17:22:00\n",
        "FDY"
       ]
      },
      {
       "output_type": "stream",
       "stream": "stdout",
       "text": [
        " 72.1326335878 62 days, 23:54:00\n",
        "PQL"
       ]
      },
      {
       "output_type": "stream",
       "stream": "stdout",
       "text": [
        " 8.69672391858 7 days, 14:17:00\n",
        "OZR"
       ]
      },
      {
       "output_type": "stream",
       "stream": "stdout",
       "text": [
        " 8.74045801527 7 days, 15:12:00\n",
        "OSC"
       ]
      },
      {
       "output_type": "stream",
       "stream": "stdout",
       "text": [
        " 85.7331424936 74 days, 20:58:00\n",
        "EFD"
       ]
      },
      {
       "output_type": "stream",
       "stream": "stdout",
       "text": [
        " 1.38358778626 1 day, 5:00:00\n",
        "RNO"
       ]
      },
      {
       "output_type": "stream",
       "stream": "stdout",
       "text": [
        " 38.8358778626 33 days, 22:00:00\n",
        "RNM"
       ]
      },
      {
       "output_type": "stream",
       "stream": "stdout",
       "text": [
        " 2.5858778626 2 days, 6:12:00\n",
        "RND"
       ]
      },
      {
       "output_type": "stream",
       "stream": "stdout",
       "text": [
        " 6.71199109415 5 days, 20:41:00\n",
        "OPF"
       ]
      },
      {
       "output_type": "stream",
       "stream": "stdout",
       "text": [
        " 0.190839694656 4:00:00\n",
        "LCH"
       ]
      },
      {
       "output_type": "stream",
       "stream": "stdout",
       "text": [
        " 6.26669847328 5 days, 11:21:00\n",
        "LCI"
       ]
      },
      {
       "output_type": "stream",
       "stream": "stdout",
       "text": [
        " 72.5667938931 63 days, 9:00:00\n",
        "DVL"
       ]
      },
      {
       "output_type": "stream",
       "stream": "stdout",
       "text": [
        " 95.6106870229 83 days, 12:00:00\n",
        "DDC"
       ]
      },
      {
       "output_type": "stream",
       "stream": "stdout",
       "text": [
        " 55.4731234097 48 days, 10:43:00\n",
        "OLF"
       ]
      },
      {
       "output_type": "stream",
       "stream": "stdout",
       "text": [
        " 83.6561704835 73 days, 1:26:00\n",
        "AZO"
       ]
      },
      {
       "output_type": "stream",
       "stream": "stdout",
       "text": [
        " 76.5855597964 66 days, 21:14:00\n",
        "OLM"
       ]
      },
      {
       "output_type": "stream",
       "stream": "stdout",
       "text": [
        " 17.2336195929 15 days, 1:13:00\n",
        "OLU"
       ]
      },
      {
       "output_type": "stream",
       "stream": "stdout",
       "text": [
        " 73.5050890585 64 days, 4:40:00\n",
        "MSN"
       ]
      },
      {
       "output_type": "stream",
       "stream": "stdout",
       "text": [
        " 86.6706424936 75 days, 16:37:00\n",
        "CDR"
       ]
      },
      {
       "output_type": "stream",
       "stream": "stdout",
       "text": [
        " 64.6222964377 56 days, 10:29:00\n",
        "CDS"
       ]
      },
      {
       "output_type": "stream",
       "stream": "stdout",
       "text": [
        " 33.3961513995 29 days, 3:59:00\n",
        "PLN"
       ]
      },
      {
       "output_type": "stream",
       "stream": "stdout",
       "text": [
        " 91.5052480916 79 days, 21:57:00\n",
        "PAED"
       ]
      },
      {
       "output_type": "stream",
       "stream": "stdout",
       "text": [
        " 83.6537849873 73 days, 1:23:00\n",
        "PAEN"
       ]
      },
      {
       "output_type": "stream",
       "stream": "stdout",
       "text": [
        " 80.4659669211 70 days, 6:34:00\n",
        "PAEI"
       ]
      },
      {
       "output_type": "stream",
       "stream": "stdout",
       "text": [
        " 96.6006679389 84 days, 8:45:00\n",
        "PPA"
       ]
      },
      {
       "output_type": "stream",
       "stream": "stdout",
       "text": [
        " 44.4020356234 38 days, 18:40:00\n",
        "BFD"
       ]
      },
      {
       "output_type": "stream",
       "stream": "stdout",
       "text": [
        " 75.6822519084 66 days, 2:18:00\n",
        "GAO"
       ]
      },
      {
       "output_type": "stream",
       "stream": "stdout",
       "text": [
        " 1.39949109415 1 day, 5:20:00\n",
        "GAG"
       ]
      },
      {
       "output_type": "stream",
       "stream": "stdout",
       "text": [
        " 49.74793257 43 days, 10:43:00\n",
        "GAD"
       ]
      },
      {
       "output_type": "stream",
       "stream": "stdout",
       "text": [
        " 11.1641221374 9 days, 18:00:00\n",
        "MBS"
       ]
      },
      {
       "output_type": "stream",
       "stream": "stdout",
       "text": [
        " 83.9869592875 73 days, 8:22:00\n",
        "JCT"
       ]
      },
      {
       "output_type": "stream",
       "stream": "stdout",
       "text": [
        " 22.4522900763 19 days, 14:36:00\n",
        "MTW"
       ]
      },
      {
       "output_type": "stream",
       "stream": "stdout",
       "text": [
        " 88.1790712468 77 days, 0:14:00\n",
        "MTJ"
       ]
      },
      {
       "output_type": "stream",
       "stream": "stdout",
       "text": [
        " 65.6798664122 57 days, 8:39:00\n",
        "MTN"
       ]
      },
      {
       "output_type": "stream",
       "stream": "stdout",
       "text": [
        " 38.4963422392 33 days, 14:53:00\n",
        "MTC"
       ]
      },
      {
       "output_type": "stream",
       "stream": "stdout",
       "text": [
        " 77.8379452926 67 days, 23:29:00\n",
        "DAA"
       ]
      },
      {
       "output_type": "stream",
       "stream": "stdout",
       "text": [
        " 38.8303117048 33 days, 21:53:00\n",
        "ART"
       ]
      },
      {
       "output_type": "stream",
       "stream": "stdout",
       "text": [
        " 71.9004452926 62 days, 19:02:00\n",
        "ARA"
       ]
      },
      {
       "output_type": "stream",
       "stream": "stdout",
       "text": [
        " 6.15458015267 5 days, 9:00:00\n",
        "ARG"
       ]
      },
      {
       "output_type": "stream",
       "stream": "stdout",
       "text": [
        " 38.9790076336 34 days, 1:00:00\n",
        "TIW"
       ]
      },
      {
       "output_type": "stream",
       "stream": "stdout",
       "text": [
        " 10.1383587786 8 days, 20:30:00\n",
        "GSB"
       ]
      },
      {
       "output_type": "stream",
       "stream": "stdout",
       "text": [
        " 15.3792938931 13 days, 10:21:00\n",
        "TIK"
       ]
      },
      {
       "output_type": "stream",
       "stream": "stdout",
       "text": [
        " 37.8339694656 33 days, 1:00:00\n",
        "GSH"
       ]
      },
      {
       "output_type": "stream",
       "stream": "stdout",
       "text": [
        " 75.6226145038 66 days, 1:03:00\n",
        "GSO"
       ]
      },
      {
       "output_type": "stream",
       "stream": "stdout",
       "text": [
        " 22.3759541985 19 days, 13:00:00\n",
        "HKY"
       ]
      },
      {
       "output_type": "stream",
       "stream": "stdout",
       "text": [
        " 22.1374045802 19 days, 8:00:00\n",
        "HKS"
       ]
      },
      {
       "output_type": "stream",
       "stream": "stdout",
       "text": [
        " 14.3543256997 12 days, 12:52:00\n",
        "PAGY"
       ]
      },
      {
       "output_type": "stream",
       "stream": "stdout",
       "text": [
        " 61.4217557252 53 days, 15:24:00\n",
        "BVE"
       ]
      },
      {
       "output_type": "stream",
       "stream": "stdout",
       "text": [
        " 0.429389312977 9:00:00\n",
        "BVO"
       ]
      },
      {
       "output_type": "stream",
       "stream": "stdout",
       "text": [
        " 51.9243002545 45 days, 8:20:00\n",
        "EEN"
       ]
      },
      {
       "output_type": "stream",
       "stream": "stdout",
       "text": [
        " 67.8117048346 59 days, 5:20:00\n",
        "EED"
       ]
      },
      {
       "output_type": "stream",
       "stream": "stdout",
       "text": [
        " 0.143129770992 3:00:00\n",
        "ROA"
       ]
      },
      {
       "output_type": "stream",
       "stream": "stdout",
       "text": [
        " 30.3220419847 26 days, 11:33:00\n",
        "OSU"
       ]
      },
      {
       "output_type": "stream",
       "stream": "stdout",
       "text": [
        " 65.2457061069 56 days, 23:33:00\n",
        "OSH"
       ]
      },
      {
       "output_type": "stream",
       "stream": "stdout",
       "text": [
        " 89.5714058524 78 days, 5:25:00\n",
        "ROW"
       ]
      },
      {
       "output_type": "stream",
       "stream": "stdout",
       "text": [
        " 29.8918575064 26 days, 2:32:00\n",
        "EWN"
       ]
      },
      {
       "output_type": "stream",
       "stream": "stdout",
       "text": [
        " 13.1846374046 11 days, 12:21:00\n",
        "EWB"
       ]
      },
      {
       "output_type": "stream",
       "stream": "stdout",
       "text": [
        " 51.9449745547 45 days, 8:46:00\n",
        "BDR"
       ]
      },
      {
       "output_type": "stream",
       "stream": "stdout",
       "text": [
        " 49.5873091603 43 days, 7:21:00\n",
        "EWR"
       ]
      },
      {
       "output_type": "stream",
       "stream": "stdout",
       "text": [
        " 48.2530216285 42 days, 3:23:00\n",
        "VTN"
       ]
      },
      {
       "output_type": "stream",
       "stream": "stdout",
       "text": [
        " 67.951653944 59 days, 8:16:00\n",
        "LRF"
       ]
      },
      {
       "output_type": "stream",
       "stream": "stdout",
       "text": [
        " 34.6366094148 30 days, 5:59:00\n",
        "VOK"
       ]
      },
      {
       "output_type": "stream",
       "stream": "stdout",
       "text": [
        " 88.7865776081 77 days, 12:58:00\n",
        "LRU"
       ]
      },
      {
       "output_type": "stream",
       "stream": "stdout",
       "text": [
        " 12.2892811705 10 days, 17:35:00\n",
        "IDA"
       ]
      },
      {
       "output_type": "stream",
       "stream": "stdout",
       "text": [
        " 73.1043256997 63 days, 20:16:00\n",
        "TVL"
       ]
      },
      {
       "output_type": "stream",
       "stream": "stdout",
       "text": [
        " 50.3013676845 43 days, 22:19:00\n",
        "ZZV"
       ]
      },
      {
       "output_type": "stream",
       "stream": "stdout",
       "text": [
        " 60.8619592875 53 days, 3:40:00\n",
        "CGF"
       ]
      },
      {
       "output_type": "stream",
       "stream": "stdout",
       "text": [
        " 68.4025127226 59 days, 17:43:00\n",
        "PMD"
       ]
      },
      {
       "output_type": "stream",
       "stream": "stdout",
       "text": [
        " 5.67748091603 4 days, 23:00:00\n",
        "CIC"
       ]
      },
      {
       "output_type": "stream",
       "stream": "stdout",
       "text": [
        " 3.30868320611 2 days, 21:21:00\n",
        "MSY"
       ]
      },
      {
       "output_type": "stream",
       "stream": "stdout",
       "text": [
        " 3.43511450382 3 days, 0:00:00\n",
        "CID"
       ]
      },
      {
       "output_type": "stream",
       "stream": "stdout",
       "text": [
        " 85.3761132316 74 days, 13:29:00\n",
        "MSS"
       ]
      },
      {
       "output_type": "stream",
       "stream": "stdout",
       "text": [
        " 83.5392811705 72 days, 22:59:00\n",
        "MSP"
       ]
      },
      {
       "output_type": "stream",
       "stream": "stdout",
       "text": [
        " 91.4734414758 79 days, 21:17:00\n",
        "MSO"
       ]
      },
      {
       "output_type": "stream",
       "stream": "stdout",
       "text": [
        " 66.2794211196 57 days, 21:13:00\n",
        "MSL"
       ]
      },
      {
       "output_type": "stream",
       "stream": "stdout",
       "text": [
        " 23.4844147583 20 days, 12:14:00\n",
        "AQW"
       ]
      },
      {
       "output_type": "stream",
       "stream": "stdout",
       "text": [
        " 70.9661259542 61 days, 23:27:00\n",
        "DAG"
       ]
      },
      {
       "output_type": "stream",
       "stream": "stdout",
       "text": [
        " 2.38549618321 2 days, 2:00:00\n",
        "DAB"
       ]
      },
      {
       "output_type": "stream",
       "stream": "stdout",
       "text": [
        " 0.0477099236641 1:00:00\n",
        "DAL"
       ]
      },
      {
       "output_type": "stream",
       "stream": "stdout",
       "text": [
        " 16.7748091603 14 days, 15:36:00\n",
        "DAN"
       ]
      },
      {
       "output_type": "stream",
       "stream": "stdout",
       "text": [
        " 25.1510814249 21 days, 23:10:00\n",
        "DAY"
       ]
      },
      {
       "output_type": "stream",
       "stream": "stdout",
       "text": [
        " 62.9699427481 54 days, 23:51:00\n"
       ]
      }
     ],
     "prompt_number": 7
    },
    {
     "cell_type": "code",
     "collapsed": false,
     "input": [
      "df = pd.DataFrame(rows)\n",
      "from pyiem.plot import MapPlot\n",
      "import numpy as np\n",
      "\n",
      "df2 = df[df.sid != 'BNW']\n",
      "\n",
      "m = MapPlot(sector='conus', title=\"Percent of Time below 32$^\\circ$F \",\n",
      "            subtitle=\"based on automated stations hourly METARs, 1 Dec 2013 thru 8 AM 26 Feb 2014\")\n",
      "m.contourf(np.array(df2.lon), np.array(df2.lat), np.array(df2.val), np.arange(0,101,5), units='%')\n",
      "#m.plot_values(df2.lon, df2.lat, df2.val, fmt='%.0f')\n",
      "m.postprocess(filename='test.png')\n",
      "\n"
     ],
     "language": "python",
     "metadata": {},
     "outputs": [
      {
       "metadata": {},
       "output_type": "display_data",
       "png": "[encoded data removed]",
       "text": [
        "<matplotlib.figure.Figure at 0x5d88e90>"
       ]
      }
     ],
     "prompt_number": 9
    },
    {
     "cell_type": "code",
     "collapsed": false,
     "input": [],
     "language": "python",
     "metadata": {},
     "outputs": []
    }
   ],
   "metadata": {}
  }
 ]
}